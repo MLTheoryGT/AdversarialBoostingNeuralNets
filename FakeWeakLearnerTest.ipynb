{
 "cells": [
  {
   "cell_type": "code",
   "execution_count": 1,
   "metadata": {},
   "outputs": [],
   "source": [
    "import torch\n",
    "from PseudoBoosting import FakeEnsemble, FakeWeakLearner, FakeSchapireMulticlassBoosting, plot_fake_accuracies\n",
    "import numpy as np\n",
    "from torchvision import datasets, transforms"
   ]
  },
  {
   "cell_type": "markdown",
   "metadata": {},
   "source": [
    "## Training an ensemble of fake weak learners"
   ]
  },
  {
   "cell_type": "code",
   "execution_count": 2,
   "metadata": {},
   "outputs": [],
   "source": [
    "# # Original link: https://colab.research.google.com/drive/10QVptDOsqZnh03WzwCL6LFuj_qjed9FA#scrollTo=ZdLhuBKM2MVj\n",
    "\n",
    "# train_y = np.array([])\n",
    "# train_loader_default = torch.utils.data.DataLoader(\n",
    "#     datasets.CIFAR10('./data', train=True, download=True, transform=transforms.Compose([\n",
    "#             transforms.ToTensor(),\n",
    "#             ])),\n",
    "#         batch_size=100, shuffle=False)\n",
    "# for data in train_loader_default:\n",
    "#   train_y = np.concatenate((train_y, data[1]), axis = None)\n",
    "# ensemble = FakeEnsemble(wl, wlweights)\n",
    "# predictions, last_prediction = ensemble.schapirePredict(np.zeros((60000)), 10)\n",
    "# print((last_prediction == train_y).astype(int).sum()/len(last_prediction))"
   ]
  },
  {
   "cell_type": "code",
   "execution_count": 3,
   "metadata": {
    "scrolled": true
   },
   "outputs": [
    {
     "name": "stdout",
     "output_type": "stream",
     "text": [
      "Files already downloaded and verified\n",
      "Files already downloaded and verified\n",
      "Training 0th weak learning\n",
      "current accuracy: 0.180653305980748\n",
      "Training 1th weak learning\n",
      "current accuracy: 0.1820710582880263\n",
      "Training 2th weak learning\n",
      "current accuracy: 0.18204575701882247\n",
      "Training 3th weak learning\n",
      "current accuracy: 0.18192443770533231\n",
      "Training 4th weak learning\n",
      "current accuracy: 0.1807118761625524\n",
      "Training 5th weak learning\n",
      "current accuracy: 0.18112406539095172\n",
      "Training 6th weak learning\n",
      "current accuracy: 0.18150042896634996\n",
      "Training 7th weak learning\n",
      "current accuracy: 0.1808227848101266\n",
      "Training 8th weak learning\n",
      "current accuracy: 0.1815468630937262\n",
      "Training 9th weak learning\n",
      "current accuracy: 0.18078325669890596\n"
     ]
    }
   ],
   "source": [
    "wl, weights = FakeSchapireMulticlassBoosting(FakeWeakLearner, 10, datasets.CIFAR10, advDelta=0, alphaTol=1e-10, adv=False, maxIt=5)\n",
    "# maxIt, adv, alphaTol and advDelta are meaningless here fyi"
   ]
  },
  {
   "cell_type": "code",
   "execution_count": 4,
   "metadata": {},
   "outputs": [
    {
     "name": "stdout",
     "output_type": "stream",
     "text": [
      "Files already downloaded and verified\n"
     ]
    }
   ],
   "source": [
    "train_y = np.array([])\n",
    "train_loader_default = torch.utils.data.DataLoader(\n",
    "    datasets.CIFAR10('./data', train=True, download=True, transform=transforms.Compose([\n",
    "            transforms.ToTensor(),\n",
    "            ])),\n",
    "        batch_size=100, shuffle=False)\n",
    "for data in train_loader_default:\n",
    "  train_y = np.concatenate((train_y, data[1]), axis = None)"
   ]
  },
  {
   "cell_type": "code",
   "execution_count": 5,
   "metadata": {},
   "outputs": [
    {
     "name": "stdout",
     "output_type": "stream",
     "text": [
      "numWeakLearners: 10\n",
      "cur_prediction: [4. 8. 7. ... 1. 5. 1.]\n",
      "numWeakLearners: 10\n",
      "cur_prediction: [4. 8. 7. ... 1. 5. 1.]\n",
      "numWeakLearners: 10\n",
      "cur_prediction: [4. 8. 7. ... 1. 5. 1.]\n",
      "numWeakLearners: 10\n",
      "cur_prediction: [4. 8. 7. ... 1. 5. 1.]\n",
      "numWeakLearners: 10\n",
      "cur_prediction: [4. 8. 7. ... 1. 5. 1.]\n",
      "numWeakLearners: 10\n",
      "cur_prediction: [4. 2. 7. ... 1. 5. 1.]\n",
      "numWeakLearners: 10\n",
      "cur_prediction: [4. 2. 7. ... 9. 5. 6.]\n",
      "numWeakLearners: 10\n",
      "cur_prediction: [4. 2. 7. ... 6. 5. 6.]\n",
      "numWeakLearners: 10\n",
      "cur_prediction: [4. 2. 7. ... 6. 5. 5.]\n",
      "numWeakLearners: 10\n",
      "cur_prediction: [4. 2. 7. ... 9. 5. 1.]\n"
     ]
    },
    {
     "data": {
      "image/png": "[encoded data removed]",
      "text/plain": [
       "<Figure size 432x288 with 1 Axes>"
      ]
     },
     "metadata": {
      "needs_background": "light"
     },
     "output_type": "display_data"
    }
   ],
   "source": [
    "predictions, last_prediction = plot_fake_accuracies(wl, weights, train_y)"
   ]
  },
  {
   "cell_type": "code",
   "execution_count": null,
   "metadata": {},
   "outputs": [],
   "source": []
  }
 ],
 "metadata": {
  "kernelspec": {
   "display_name": "Python 3",
   "language": "python",
   "name": "python3"
  },
  "language_info": {
   "codemirror_mode": {
    "name": "ipython",
    "version": 3
   },
   "file_extension": ".py",
   "mimetype": "text/x-python",
   "name": "python",
   "nbconvert_exporter": "python",
   "pygments_lexer": "ipython3",
   "version": "3.6.8"
  }
 },
 "nbformat": 4,
 "nbformat_minor": 4
}
