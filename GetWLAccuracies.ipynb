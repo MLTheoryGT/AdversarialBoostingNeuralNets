{
 "cells": [
  {
   "cell_type": "code",
   "execution_count": 1,
   "metadata": {},
   "outputs": [],
   "source": [
    "import numpy as np\n",
    "import matplotlib.pyplot as plt\n",
    "import torch\n",
    "from BaseModels import PreActResNet18\n",
    "from Boosting import pytorch_predict\n",
    "from torchvision import datasets, transforms"
   ]
  },
  {
   "cell_type": "code",
   "execution_count": 2,
   "metadata": {},
   "outputs": [],
   "source": [
    "num_weak_learners = 10"
   ]
  },
  {
   "cell_type": "code",
   "execution_count": 3,
   "metadata": {},
   "outputs": [
    {
     "name": "stdout",
     "output_type": "stream",
     "text": [
      "Files already downloaded and verified\n",
      "Files already downloaded and verified\n"
     ]
    }
   ],
   "source": [
    "dataset = datasets.CIFAR10\n",
    "train_loader = torch.utils.data.DataLoader(\n",
    "        dataset('./data', train=True, download=True, transform=transforms.Compose([\n",
    "            transforms.ToTensor(),\n",
    "            ])),\n",
    "        batch_size=100, shuffle=False)\n",
    "test_loader = torch.utils.data.DataLoader(\n",
    "        dataset('./data', train=False, download=True, transform=transforms.Compose([\n",
    "            transforms.ToTensor(),\n",
    "            ])),\n",
    "        batch_size=100, shuffle=False)"
   ]
  },
  {
   "cell_type": "code",
   "execution_count": 4,
   "metadata": {},
   "outputs": [],
   "source": [
    "def evaluate(model, loader):\n",
    "    total = 50000\n",
    "    y_true, y_pred, _ = pytorch_predict(model, loader, torch.device('cuda'))\n",
    "    accuracy= (y_true == y_pred).sum() / total\n",
    "    return accuracy"
   ]
  },
  {
   "cell_type": "code",
   "execution_count": null,
   "metadata": {},
   "outputs": [],
   "source": [
    "weak_learners = list(range(10))\n",
    "val_accuracies = []\n",
    "train_accuracies = []\n",
    "for i in range(num_weak_learners):\n",
    "    model_file = f\"models/cifar10_wl_{i}.pth\"\n",
    "    model = PreActResNet18().cuda()\n",
    "    model.load_state_dict(torch.load(model_file))\n",
    "    model.eval()\n",
    "#     train_predictions = pytorch_predict\n",
    "    train_accuracies.append(evaluate(model, train_loader))\n",
    "    val_accuracies.append(evaluate(model, test_loader))\n",
    "        \n",
    "    \n",
    "    "
   ]
  },
  {
   "cell_type": "code",
   "execution_count": null,
   "metadata": {},
   "outputs": [],
   "source": [
    "plt.subplots()\n",
    "plt.plot(weak_learners, train_accuracies)\n",
    "plt.plot(weak_learners, val_accuracies)\n",
    "plt.xlabel(\"Number of weak learners\")\n",
    "plt.ylabel(\"Accuracy\")\n",
    "plt.legend(['Train accuracy', 'Val accuracy'])"
   ]
  },
  {
   "cell_type": "code",
   "execution_count": null,
   "metadata": {},
   "outputs": [],
   "source": []
  }
 ],
 "metadata": {
  "kernelspec": {
   "display_name": "Python 3",
   "language": "python",
   "name": "python3"
  },
  "language_info": {
   "codemirror_mode": {
    "name": "ipython",
    "version": 3
   },
   "file_extension": ".py",
   "mimetype": "text/x-python",
   "name": "python",
   "nbconvert_exporter": "python",
   "pygments_lexer": "ipython3",
   "version": "3.6.8"
  }
 },
 "nbformat": 4,
 "nbformat_minor": 4
}
