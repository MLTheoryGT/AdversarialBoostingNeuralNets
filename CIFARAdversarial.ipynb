{
 "cells": [
  {
   "cell_type": "code",
   "execution_count": 1,
   "metadata": {
    "scrolled": true
   },
   "outputs": [],
   "source": [
    "from __future__ import print_function\n",
    "import torch\n",
    "from torchvision import datasets, transforms\n",
    "import numpy as np\n",
    "from WeakLearners import WongNeuralNetCIFAR10\n",
    "import matplotlib.pyplot as plt\n",
    "import os\n",
    "from datetime import datetime"
   ]
  },
  {
   "cell_type": "code",
   "execution_count": 2,
   "metadata": {},
   "outputs": [
    {
     "name": "stdout",
     "output_type": "stream",
     "text": [
      "Requirement already satisfied: pytorch_memlab in /usr/local/lib/python3.6/dist-packages (0.2.2)\n",
      "Requirement already satisfied: calmsize in /usr/local/lib/python3.6/dist-packages (from pytorch_memlab) (0.1.3)\n",
      "Requirement already satisfied: setuptools in /usr/local/lib/python3.6/dist-packages (from pytorch_memlab) (41.0.1)\n",
      "Requirement already satisfied: torch>=1.4 in /usr/local/lib/python3.6/dist-packages (from pytorch_memlab) (1.7.0)\n",
      "Requirement already satisfied: pandas>=0.18 in /usr/local/lib/python3.6/dist-packages (from pytorch_memlab) (0.25.0)\n",
      "Requirement already satisfied: numpy in /usr/local/lib/python3.6/dist-packages (from torch>=1.4->pytorch_memlab) (1.17.0)\n",
      "Requirement already satisfied: future in /usr/local/lib/python3.6/dist-packages (from torch>=1.4->pytorch_memlab) (0.17.1)\n",
      "Requirement already satisfied: dataclasses in /usr/local/lib/python3.6/dist-packages (from torch>=1.4->pytorch_memlab) (0.7)\n",
      "Requirement already satisfied: typing-extensions in /usr/local/lib/python3.6/dist-packages (from torch>=1.4->pytorch_memlab) (3.7.4.3)\n",
      "Requirement already satisfied: python-dateutil>=2.6.1 in /usr/local/lib/python3.6/dist-packages (from pandas>=0.18->pytorch_memlab) (2.8.0)\n",
      "Requirement already satisfied: pytz>=2017.2 in /usr/local/lib/python3.6/dist-packages (from pandas>=0.18->pytorch_memlab) (2019.2)\n",
      "Requirement already satisfied: six>=1.5 in /usr/local/lib/python3.6/dist-packages (from python-dateutil>=2.6.1->pandas>=0.18->pytorch_memlab) (1.12.0)\n",
      "\u001b[33mWARNING: You are using pip version 19.2.1, however version 21.0.1 is available.\n",
      "You should consider upgrading via the 'pip install --upgrade pip' command.\u001b[0m\n"
     ]
    }
   ],
   "source": [
    "!pip install pytorch_memlab"
   ]
  },
  {
   "cell_type": "code",
   "execution_count": 3,
   "metadata": {},
   "outputs": [],
   "source": [
    "from Boosting import Ensemble, runBoosting\n",
    "from AdversarialAttacks import attack_fgsm, attack_pgd\n",
    "from pytorch_memlab import LineProfiler"
   ]
  },
  {
   "cell_type": "code",
   "execution_count": 4,
   "metadata": {},
   "outputs": [],
   "source": [
    "import utils"
   ]
  },
  {
   "cell_type": "code",
   "execution_count": 5,
   "metadata": {},
   "outputs": [],
   "source": [
    "cuda = torch.device('cuda:0')"
   ]
  },
  {
   "cell_type": "code",
   "execution_count": 6,
   "metadata": {},
   "outputs": [],
   "source": [
    "%load_ext autoreload\n",
    "%autoreload 2"
   ]
  },
  {
   "cell_type": "markdown",
   "metadata": {},
   "source": [
    "## CIFAR10 Boosting (Adversarial)"
   ]
  },
  {
   "cell_type": "code",
   "execution_count": 7,
   "metadata": {},
   "outputs": [],
   "source": [
    "# maxSamples_vals = [100000, 200000, 500000]\n",
    "maxSamples_vals = [750006]\n",
    "# maxSamples_vals = [30003]\n",
    "# maxSamples_vals = [500000, 1000000]\n",
    "# done for 50K, 100K\n",
    "# maxSamples_vals = [1000000, 2000000]\n",
    "# maxSamples_vals = [123456]\n",
    "batch_size=100\n",
    "# maxSamples_vals = [batch_size + 1]"
   ]
  },
  {
   "cell_type": "code",
   "execution_count": 8,
   "metadata": {},
   "outputs": [],
   "source": [
    "num_wl = 6 # maybe around 100? #later: maybe change this to an array?\n",
    "num_epochs = 1"
   ]
  },
  {
   "cell_type": "code",
   "execution_count": 9,
   "metadata": {},
   "outputs": [],
   "source": [
    "ensembles = []\n",
    "# epsilons = [0.0, 0.01, 0.02, 0.03, 0.05, 0.1]\n",
    "epsilons = [0.127]\n",
    "train_eps_nn = 8\n",
    "# epsilons = []\n",
    "# epsilons = [0.0, 0.01]"
   ]
  },
  {
   "cell_type": "code",
   "execution_count": 10,
   "metadata": {
    "scrolled": true
   },
   "outputs": [
    {
     "name": "stdout",
     "output_type": "stream",
     "text": [
      "Files already downloaded and verified\n",
      "Files already downloaded and verified\n",
      "Files already downloaded and verified\n",
      "Weak Learner  0 .  Time Elapsed (s):  0\n",
      "weights before opt: [0.3465735902799726]\n",
      "tensor before opt: tensor([[0.3466]], device='cuda:0')\n",
      "weights after opt: [0.3575606346130371]\n",
      "tensor after opt: tensor([[0.3576]], device='cuda:0')\n",
      "{'val': 0.73, <function attack_pgd at 0x7f62f7b7f840>: [0.48]}\n",
      "{'val': 0.7, <function attack_pgd at 0x7f62f7b7f840>: [0.42]}\n",
      "{'val': 0.62, <function attack_pgd at 0x7f62f7b7f840>: [0.43]}\n",
      "{'val': 0.69, <function attack_pgd at 0x7f62f7b7f840>: [0.46]}\n",
      "{'val': 0.67, <function attack_pgd at 0x7f62f7b7f840>: [0.41]}\n",
      "{'val': 0.68, <function attack_pgd at 0x7f62f7b7f840>: [0.41]}\n",
      "{'val': 0.73, <function attack_pgd at 0x7f62f7b7f840>: [0.43]}\n",
      "{'val': 0.63, <function attack_pgd at 0x7f62f7b7f840>: [0.41]}\n",
      "{'val': 0.68, <function attack_pgd at 0x7f62f7b7f840>: [0.45]}\n",
      "{'val': 0.69, <function attack_pgd at 0x7f62f7b7f840>: [0.5]}\n",
      "{'val': 0.74, <function attack_pgd at 0x7f62f7b7f840>: [0.46]}\n",
      "{'val': 0.73, <function attack_pgd at 0x7f62f7b7f840>: [0.51]}\n",
      "{'val': 0.73, <function attack_pgd at 0x7f62f7b7f840>: [0.49]}\n",
      "{'val': 0.65, <function attack_pgd at 0x7f62f7b7f840>: [0.41]}\n",
      "ensemble accuracies: {'train': [0.62], 'val': [0.6907142857142858], 'attack_fgsm': [], 'attack_pgd': [[0.4478571428571429]], 'wl_train': [], 'wl_val': []}\n",
      "Weak Learner  1 .  Time Elapsed (s):  127\n",
      "weights before opt: [0.3575606346130371, 0.2141886394353441]\n",
      "tensor before opt: tensor([[0.3576],\n",
      "        [0.2142]], device='cuda:0')\n",
      "{'val': 0.78, <function attack_pgd at 0x7f62f7b7f840>: [0.47]}\n",
      "{'val': 0.73, <function attack_pgd at 0x7f62f7b7f840>: [0.52]}\n",
      "{'val': 0.79, <function attack_pgd at 0x7f62f7b7f840>: [0.47]}\n",
      "{'val': 0.72, <function attack_pgd at 0x7f62f7b7f840>: [0.48]}\n",
      "{'val': 0.68, <function attack_pgd at 0x7f62f7b7f840>: [0.42]}\n",
      "{'val': 0.73, <function attack_pgd at 0x7f62f7b7f840>: [0.47]}\n",
      "{'val': 0.68, <function attack_pgd at 0x7f62f7b7f840>: [0.35]}\n",
      "{'val': 0.77, <function attack_pgd at 0x7f62f7b7f840>: [0.44]}\n",
      "{'val': 0.73, <function attack_pgd at 0x7f62f7b7f840>: [0.45]}\n",
      "{'val': 0.69, <function attack_pgd at 0x7f62f7b7f840>: [0.44]}\n",
      "{'val': 0.75, <function attack_pgd at 0x7f62f7b7f840>: [0.5]}\n",
      "{'val': 0.77, <function attack_pgd at 0x7f62f7b7f840>: [0.35]}\n",
      "{'val': 0.69, <function attack_pgd at 0x7f62f7b7f840>: [0.45]}\n",
      "{'val': 0.75, <function attack_pgd at 0x7f62f7b7f840>: [0.46]}\n",
      "ensemble accuracies: {'train': [0.62, 0.76], 'val': [0.6907142857142858, 0.7328571428571428], 'attack_fgsm': [], 'attack_pgd': [[0.4478571428571429, 0.4478571428571429]], 'wl_train': [], 'wl_val': []}\n",
      "Weak Learner  2 .  Time Elapsed (s):  370\n",
      "weights before opt: [0.3685837388038635, 0.22516289353370667, 0.17923944868862554]\n",
      "tensor before opt: tensor([[0.3686],\n",
      "        [0.2252],\n",
      "        [0.1792]], device='cuda:0')\n",
      "weights after opt: [0.37955668568611145, 0.23611406981945038, 0.1901555061340332]\n",
      "tensor after opt: tensor([[0.3796],\n",
      "        [0.2361],\n",
      "        [0.1902]], device='cuda:0')\n",
      "{'val': 0.73, <function attack_pgd at 0x7f62f7b7f840>: [0.4]}\n",
      "{'val': 0.79, <function attack_pgd at 0x7f62f7b7f840>: [0.45]}\n",
      "{'val': 0.71, <function attack_pgd at 0x7f62f7b7f840>: [0.48]}\n",
      "{'val': 0.77, <function attack_pgd at 0x7f62f7b7f840>: [0.45]}\n",
      "{'val': 0.76, <function attack_pgd at 0x7f62f7b7f840>: [0.47]}\n",
      "{'val': 0.78, <function attack_pgd at 0x7f62f7b7f840>: [0.5]}\n",
      "{'val': 0.76, <function attack_pgd at 0x7f62f7b7f840>: [0.49]}\n",
      "{'val': 0.74, <function attack_pgd at 0x7f62f7b7f840>: [0.43]}\n",
      "{'val': 0.71, <function attack_pgd at 0x7f62f7b7f840>: [0.39]}\n",
      "{'val': 0.77, <function attack_pgd at 0x7f62f7b7f840>: [0.45]}\n",
      "{'val': 0.73, <function attack_pgd at 0x7f62f7b7f840>: [0.51]}\n",
      "{'val': 0.72, <function attack_pgd at 0x7f62f7b7f840>: [0.38]}\n",
      "{'val': 0.76, <function attack_pgd at 0x7f62f7b7f840>: [0.4]}\n",
      "{'val': 0.76, <function attack_pgd at 0x7f62f7b7f840>: [0.46]}\n",
      "ensemble accuracies: {'train': [0.62, 0.76, 0.74], 'val': [0.6907142857142858, 0.7328571428571428, 0.7492857142857143], 'attack_fgsm': [], 'attack_pgd': [[0.4478571428571429, 0.4478571428571429, 0.4471428571428572]], 'wl_train': [], 'wl_val': []}\n",
      "Weak Learner  3 .  Time Elapsed (s):  734\n",
      "weights before opt: [0.37955668568611145, 0.23611406981945038, 0.1901555061340332, 0.16705332648219723]\n",
      "tensor before opt: tensor([[0.3796],\n",
      "        [0.2361],\n",
      "        [0.1902],\n",
      "        [0.1671]], device='cuda:0')\n",
      "weights after opt: [0.390545129776001, 0.2470678985118866, 0.20114614069461823, 0.1779312938451767]\n",
      "tensor after opt: tensor([[0.3905],\n",
      "        [0.2471],\n",
      "        [0.2011],\n",
      "        [0.1779]], device='cuda:0')\n",
      "{'val': 0.66, <function attack_pgd at 0x7f62f7b7f840>: [0.34]}\n",
      "{'val': 0.8, <function attack_pgd at 0x7f62f7b7f840>: [0.47]}\n",
      "{'val': 0.71, <function attack_pgd at 0x7f62f7b7f840>: [0.43]}\n",
      "{'val': 0.77, <function attack_pgd at 0x7f62f7b7f840>: [0.39]}\n",
      "{'val': 0.69, <function attack_pgd at 0x7f62f7b7f840>: [0.46]}\n",
      "{'val': 0.73, <function attack_pgd at 0x7f62f7b7f840>: [0.49]}\n",
      "{'val': 0.69, <function attack_pgd at 0x7f62f7b7f840>: [0.35]}\n",
      "{'val': 0.79, <function attack_pgd at 0x7f62f7b7f840>: [0.55]}\n",
      "{'val': 0.65, <function attack_pgd at 0x7f62f7b7f840>: [0.37]}\n",
      "{'val': 0.78, <function attack_pgd at 0x7f62f7b7f840>: [0.43]}\n",
      "{'val': 0.77, <function attack_pgd at 0x7f62f7b7f840>: [0.46]}\n",
      "{'val': 0.76, <function attack_pgd at 0x7f62f7b7f840>: [0.4]}\n",
      "{'val': 0.6, <function attack_pgd at 0x7f62f7b7f840>: [0.35]}\n",
      "{'val': 0.77, <function attack_pgd at 0x7f62f7b7f840>: [0.49]}\n",
      "ensemble accuracies: {'train': [0.62, 0.76, 0.74, 0.76], 'val': [0.6907142857142858, 0.7328571428571428, 0.7492857142857143, 0.7264285714285713], 'attack_fgsm': [], 'attack_pgd': [[0.4478571428571429, 0.4478571428571429, 0.4471428571428572, 0.42714285714285716]], 'wl_train': [], 'wl_val': []}\n",
      "Weak Learner  4 .  Time Elapsed (s):  1216\n",
      "weights before opt: [0.390545129776001, 0.2470678985118866, 0.20114614069461823, 0.1779312938451767, 0.14276824944769614]\n",
      "tensor before opt: tensor([[0.3905],\n",
      "        [0.2471],\n",
      "        [0.2011],\n",
      "        [0.1779],\n",
      "        [0.1428]], device='cuda:0')\n",
      "weights after opt: [0.4015175998210907, 0.25797516107559204, 0.21199838817119598, 0.1888880580663681, 0.15361738204956055]\n",
      "tensor after opt: tensor([[0.4015],\n",
      "        [0.2580],\n",
      "        [0.2120],\n",
      "        [0.1889],\n",
      "        [0.1536]], device='cuda:0')\n",
      "{'val': 0.81, <function attack_pgd at 0x7f62f7b7f840>: [0.43]}\n",
      "{'val': 0.81, <function attack_pgd at 0x7f62f7b7f840>: [0.46]}\n",
      "{'val': 0.72, <function attack_pgd at 0x7f62f7b7f840>: [0.5]}\n",
      "{'val': 0.75, <function attack_pgd at 0x7f62f7b7f840>: [0.44]}\n",
      "{'val': 0.68, <function attack_pgd at 0x7f62f7b7f840>: [0.41]}\n",
      "{'val': 0.65, <function attack_pgd at 0x7f62f7b7f840>: [0.37]}\n",
      "{'val': 0.71, <function attack_pgd at 0x7f62f7b7f840>: [0.31]}\n",
      "{'val': 0.67, <function attack_pgd at 0x7f62f7b7f840>: [0.41]}\n",
      "{'val': 0.8, <function attack_pgd at 0x7f62f7b7f840>: [0.37]}\n",
      "{'val': 0.8, <function attack_pgd at 0x7f62f7b7f840>: [0.47]}\n",
      "{'val': 0.72, <function attack_pgd at 0x7f62f7b7f840>: [0.37]}\n",
      "{'val': 0.74, <function attack_pgd at 0x7f62f7b7f840>: [0.43]}\n",
      "{'val': 0.7, <function attack_pgd at 0x7f62f7b7f840>: [0.37]}\n",
      "{'val': 0.72, <function attack_pgd at 0x7f62f7b7f840>: [0.34]}\n",
      "ensemble accuracies: {'train': [0.62, 0.76, 0.74, 0.76, 0.68], 'val': [0.6907142857142858, 0.7328571428571428, 0.7492857142857143, 0.7264285714285713, 0.7342857142857142], 'attack_fgsm': [], 'attack_pgd': [[0.4478571428571429, 0.4478571428571429, 0.4471428571428572, 0.42714285714285716, 0.40571428571428575]], 'wl_train': [], 'wl_val': []}\n",
      "Weak Learner  5 .  Time Elapsed (s):  1815\n",
      "weights before opt: [0.4015175998210907, 0.25797516107559204, 0.21199838817119598, 0.1888880580663681, 0.15361738204956055, 0.10931882825271347]\n",
      "tensor before opt: tensor([[0.4015],\n",
      "        [0.2580],\n",
      "        [0.2120],\n",
      "        [0.1889],\n",
      "        [0.1536],\n",
      "        [0.1093]], device='cuda:0')\n",
      "weights after opt: [0.4123426675796509, 0.26885926723480225, 0.22287553548812866, 0.1996614933013916, 0.16444382071495056, 0.12012011557817459]\n",
      "tensor after opt: tensor([[0.4123],\n",
      "        [0.2689],\n",
      "        [0.2229],\n",
      "        [0.1997],\n",
      "        [0.1644],\n",
      "        [0.1201]], device='cuda:0')\n",
      "{'val': 0.71, <function attack_pgd at 0x7f62f7b7f840>: [0.38]}\n",
      "{'val': 0.78, <function attack_pgd at 0x7f62f7b7f840>: [0.46]}\n",
      "{'val': 0.77, <function attack_pgd at 0x7f62f7b7f840>: [0.54]}\n",
      "{'val': 0.78, <function attack_pgd at 0x7f62f7b7f840>: [0.43]}\n",
      "{'val': 0.77, <function attack_pgd at 0x7f62f7b7f840>: [0.47]}\n",
      "{'val': 0.74, <function attack_pgd at 0x7f62f7b7f840>: [0.46]}\n",
      "{'val': 0.69, <function attack_pgd at 0x7f62f7b7f840>: [0.42]}\n",
      "{'val': 0.66, <function attack_pgd at 0x7f62f7b7f840>: [0.43]}\n",
      "{'val': 0.77, <function attack_pgd at 0x7f62f7b7f840>: [0.45]}\n",
      "{'val': 0.63, <function attack_pgd at 0x7f62f7b7f840>: [0.31]}\n",
      "{'val': 0.7, <function attack_pgd at 0x7f62f7b7f840>: [0.32]}\n",
      "{'val': 0.7, <function attack_pgd at 0x7f62f7b7f840>: [0.36]}\n",
      "{'val': 0.78, <function attack_pgd at 0x7f62f7b7f840>: [0.38]}\n",
      "{'val': 0.64, <function attack_pgd at 0x7f62f7b7f840>: [0.35]}\n",
      "ensemble accuracies: {'train': [0.62, 0.76, 0.74, 0.76, 0.68, 0.73], 'val': [0.6907142857142858, 0.7328571428571428, 0.7492857142857143, 0.7264285714285713, 0.7342857142857142, 0.7228571428571428], 'attack_fgsm': [], 'attack_pgd': [[0.4478571428571429, 0.4478571428571429, 0.4471428571428572, 0.42714285714285716, 0.40571428571428575, 0.4114285714285714]], 'wl_train': [], 'wl_val': []}\n"
     ]
    }
   ],
   "source": [
    "from Testing import testEnsemble\n",
    "path = f'./models/{maxSamples_vals[0]}Eps{train_eps_nn}/'\n",
    "attack=attack_pgd\n",
    "attackStr=\"attack_pgd\"\n",
    "ensemble = testEnsemble(path, [attack], num_wl, numsamples_train=200, numsamples_val=1500, attack_eps_ensemble=epsilons, gradOptWeights=True) "
   ]
  },
  {
   "cell_type": "code",
   "execution_count": 11,
   "metadata": {
    "scrolled": true
   },
   "outputs": [
    {
     "data": {
      "image/png": "[encoded data removed]",
      "text/plain": [
       "<Figure size 432x288 with 1 Axes>"
      ]
     },
     "metadata": {
      "needs_background": "light"
     },
     "output_type": "display_data"
    },
    {
     "data": {
      "image/png": "[encoded data removed]",
      "text/plain": [
       "<Figure size 432x288 with 1 Axes>"
      ]
     },
     "metadata": {
      "needs_background": "light"
     },
     "output_type": "display_data"
    },
    {
     "data": {
      "image/png": "[encoded data removed]",
      "text/plain": [
       "<Figure size 432x288 with 1 Axes>"
      ]
     },
     "metadata": {
      "needs_background": "light"
     },
     "output_type": "display_data"
    }
   ],
   "source": [
    "maxSamples = maxSamples_vals[0]\n",
    "resultsPath = f'results/plots/cifar10/train_eps_{train_eps_nn}/{attackStr}/'\n",
    "acc_file = resultsPath + f'acc_maxSamples_{maxSamples}.png'\n",
    "adv_acc_file = resultsPath + f'adv_acc_maxSamples_{maxSamples}.png'\n",
    "loss_file = resultsPath + f'loss_maxSamples_{maxSamples}.png'\n",
    "# wl_train_acc_file = resultsPath + f'wl_train_acc_maxSamples_{maxSamples}.png'\n",
    "ensemble.plot_accuracies(acc_file)\n",
    "ensemble.plot_loss(loss_file)\n",
    "ensemble.plot_adversarial_accuracies(adv_acc_file)\n",
    "# ensemble.plot_wl_acc(wl_train_acc_file)\n"
   ]
  },
  {
   "cell_type": "code",
   "execution_count": null,
   "metadata": {
    "scrolled": true
   },
   "outputs": [],
   "source": [
    "# from Boosting import SchapireWongMulticlassBoosting\n",
    "from AdversarialAttacks import attack_fgsm, attack_pgd\n",
    "import gc\n",
    "# Ensemble.record_accuracies, Ensemble.calc_accuracies, attack_fgsm, Ensemble.schapireContinuousPredict\n",
    "for i in range(len(maxSamples_vals)):\n",
    "    print(\"len(maxSamples_vals):\", len(maxSamples_vals))\n",
    "    maxSamples = maxSamples_vals[i]\n",
    "    print(\"maxSamples:\", maxSamples)\n",
    "    ensemble = runBoosting(num_wl, maxSamples, dataset=datasets.CIFAR10, weakLearnerType = WongNeuralNetCIFAR10, val_attacks = [], \n",
    "                               attack_eps_nn=epsilons, attack_eps_ensemble=epsilons, train_eps_nn=train_eps_nn, adv_train_prefix=num_wl, batch_size=batch_size, val_flag=False)\n",
    "    print(\"number of wl in ensemble:\", len(ensemble.weakLearners))\n",
    "    ensembles.append(ensemble)\n",
    "    gc.collect()\n",
    "#     for obj in gc.get_objects():\n",
    "#         try:\n",
    "#             if torch.is_tensor(obj) or (hasattr(obj, 'data') and torch.is_tensor(obj.data)):\n",
    "#                 print(type(obj), obj.size())\n",
    "#         except:\n",
    "#             pass\n",
    "    \n",
    "#     path_head = f'results/plots/cifar10/train_eps_{train_eps_nn}/'\n",
    "#     try:\n",
    "#         os.mkdir(path_head)\n",
    "#     except OSError:\n",
    "#         pass\n",
    "#     acc_file = path_head + f'acc_maxSamples_{maxSamples}.png'\n",
    "#     adv_acc_file = path_head + f'adv_acc_maxSamples_{maxSamples}.png'\n",
    "#     loss_file = path_head + f'loss_maxSamples_{maxSamples}.png'\n",
    "#     wl_train_acc_file = path_head + f'wl_train_acc_maxSamples_{maxSamples}.png'\n",
    "#     ensemble.plot_accuracies(acc_file)\n",
    "#     ensemble.plot_loss(loss_file)\n",
    "#     ensemble.plot_adversarial_accuracies(adv_acc_file)\n",
    "#     ensemble.plot_wl_acc(wl_train_acc_file)\n",
    "#0.3445499534706232, 0.35256058576867955, 0.3492509840145725"
   ]
  },
  {
   "cell_type": "markdown",
   "metadata": {},
   "source": [
    "## Sanity Checking PGD Attack"
   ]
  },
  {
   "cell_type": "code",
   "execution_count": 11,
   "metadata": {},
   "outputs": [],
   "source": [
    "TestNN = WongNeuralNetCIFAR10(attack_eps=[0.127])"
   ]
  },
  {
   "cell_type": "code",
   "execution_count": 12,
   "metadata": {},
   "outputs": [
    {
     "name": "stdout",
     "output_type": "stream",
     "text": [
      "\n"
     ]
    }
   ],
   "source": [
    "TestNN.model.load_state_dict(torch.load(\"./models/750004Eps8/wl_0.pth\"))\n",
    "TestNN.model.cuda()\n",
    "TestNN.model.eval()\n",
    "print(\"\")"
   ]
  },
  {
   "cell_type": "code",
   "execution_count": 13,
   "metadata": {},
   "outputs": [
    {
     "name": "stdout",
     "output_type": "stream",
     "text": [
      "Files already downloaded and verified\n",
      "Files already downloaded and verified\n"
     ]
    }
   ],
   "source": [
    "transform_train = transforms.Compose([\n",
    "    transforms.RandomCrop(32, padding=4),\n",
    "    transforms.RandomHorizontalFlip(),\n",
    "    transforms.ToTensor(),\n",
    "    transforms.Normalize((0.4914, 0.4822, 0.4465), (0.2471, 0.2435, 0.2616)),\n",
    "])\n",
    "\n",
    "# Normalize the test set same as training set without augmentation\n",
    "transform_test = transforms.Compose([\n",
    "    transforms.ToTensor(),\n",
    "    transforms.Normalize((0.4914, 0.4822, 0.4465), (0.2471, 0.2435, 0.2616)),\n",
    "])\n",
    "\n",
    "trainset = datasets.CIFAR10(\n",
    "    root=\"./data\", train=True, download=True, transform=transform_train)\n",
    "train_loader = torch.utils.data.DataLoader(\n",
    "    trainset, batch_size=100, shuffle=True, num_workers=2)\n",
    "\n",
    "testset = datasets.CIFAR10(\n",
    "    root=\"./data\", train=False, download=True, transform=transform_test)\n",
    "test_loader = torch.utils.data.DataLoader(\n",
    "    testset, batch_size=1000, shuffle=True, num_workers=2)"
   ]
  },
  {
   "cell_type": "markdown",
   "metadata": {},
   "source": [
    "### Check a single WL"
   ]
  },
  {
   "cell_type": "code",
   "execution_count": 14,
   "metadata": {},
   "outputs": [
    {
     "name": "stdout",
     "output_type": "stream",
     "text": [
      "0.387\n",
      "0.379\n",
      "0.402\n",
      "0.389\n",
      "0.38\n",
      "0.396\n",
      "0.394\n",
      "0.378\n",
      "0.414\n",
      "0.403\n",
      "Overall acc:  0.39220000000000005\n"
     ]
    }
   ],
   "source": [
    "i = 0\n",
    "accs = []\n",
    "for data in test_loader:\n",
    "    X = data[0]\n",
    "    y = data[1]\n",
    "    losses, acc = TestNN.calc_accuracies(X.cuda(), y.cuda(), val_attacks=[attack_pgd], attack_iters=20)\n",
    "    print(acc[attack_pgd][0])\n",
    "    accs.append(acc[attack_pgd][0])\n",
    "    \n",
    "    if i>20:\n",
    "        break\n",
    "    i+=1\n",
    "print(\"Overall acc: \", sum(accs)/len(accs))"
   ]
  },
  {
   "cell_type": "markdown",
   "metadata": {},
   "source": [
    "## Sanity check for PGD (single weak learner and ensemble)"
   ]
  },
  {
   "cell_type": "code",
   "execution_count": 23,
   "metadata": {},
   "outputs": [],
   "source": [
    "pgd_steps = [20, 40, 60, 80, 100]\n",
    "# pgd_steps = [20]\n",
    "attack_eps = [0.03]\n",
    "num_wl = 1\n",
    "from Testing import testEnsemble"
   ]
  },
  {
   "cell_type": "code",
   "execution_count": 24,
   "metadata": {},
   "outputs": [
    {
     "name": "stdout",
     "output_type": "stream",
     "text": [
      "Files already downloaded and verified\n",
      "Files already downloaded and verified\n"
     ]
    }
   ],
   "source": [
    "transform_train = transforms.Compose([\n",
    "    transforms.RandomCrop(32, padding=4),\n",
    "    transforms.RandomHorizontalFlip(),\n",
    "    transforms.ToTensor(),\n",
    "    transforms.Normalize((0.4914, 0.4822, 0.4465), (0.2471, 0.2435, 0.2616)),\n",
    "])\n",
    "\n",
    "# Normalize the test set same as training set without augmentation\n",
    "transform_test = transforms.Compose([\n",
    "    transforms.ToTensor(),\n",
    "    transforms.Normalize((0.4914, 0.4822, 0.4465), (0.2471, 0.2435, 0.2616)),\n",
    "])\n",
    "\n",
    "trainset = datasets.CIFAR10(\n",
    "    root=\"./data\", train=True, download=True, transform=transform_train)\n",
    "train_loader = torch.utils.data.DataLoader(\n",
    "    trainset, batch_size=100, shuffle=True, num_workers=2)\n",
    "\n",
    "testset = datasets.CIFAR10(\n",
    "    root=\"./data\", train=False, download=True, transform=transform_test)\n",
    "test_loader = torch.utils.data.DataLoader(\n",
    "    testset, batch_size=1000, shuffle=True, num_workers=2)"
   ]
  },
  {
   "cell_type": "code",
   "execution_count": 19,
   "metadata": {},
   "outputs": [
    {
     "name": "stdout",
     "output_type": "stream",
     "text": [
      "\n"
     ]
    },
    {
     "ename": "RuntimeError",
     "evalue": "CUDA out of memory. Tried to allocate 126.00 MiB (GPU 0; 15.90 GiB total capacity; 14.80 GiB already allocated; 9.50 MiB free; 15.23 GiB reserved in total by PyTorch)",
     "output_type": "error",
     "traceback": [
      "\u001b[0;31m---------------------------------------------------------------------------\u001b[0m",
      "\u001b[0;31mRuntimeError\u001b[0m                              Traceback (most recent call last)",
      "\u001b[0;32m<ipython-input-19-6ef666d733a7>\u001b[0m in \u001b[0;36m<module>\u001b[0;34m\u001b[0m\n\u001b[1;32m     13\u001b[0m         \u001b[0mX\u001b[0m \u001b[0;34m=\u001b[0m \u001b[0mdata\u001b[0m\u001b[0;34m[\u001b[0m\u001b[0;36m0\u001b[0m\u001b[0;34m]\u001b[0m\u001b[0;34m\u001b[0m\u001b[0;34m\u001b[0m\u001b[0m\n\u001b[1;32m     14\u001b[0m         \u001b[0my\u001b[0m \u001b[0;34m=\u001b[0m \u001b[0mdata\u001b[0m\u001b[0;34m[\u001b[0m\u001b[0;36m1\u001b[0m\u001b[0;34m]\u001b[0m\u001b[0;34m\u001b[0m\u001b[0;34m\u001b[0m\u001b[0m\n\u001b[0;32m---> 15\u001b[0;31m         \u001b[0mlosses\u001b[0m\u001b[0;34m,\u001b[0m \u001b[0macc\u001b[0m \u001b[0;34m=\u001b[0m \u001b[0mTestNN\u001b[0m\u001b[0;34m.\u001b[0m\u001b[0mcalc_accuracies\u001b[0m\u001b[0;34m(\u001b[0m\u001b[0mX\u001b[0m\u001b[0;34m.\u001b[0m\u001b[0mcuda\u001b[0m\u001b[0;34m(\u001b[0m\u001b[0;34m)\u001b[0m\u001b[0;34m,\u001b[0m \u001b[0my\u001b[0m\u001b[0;34m.\u001b[0m\u001b[0mcuda\u001b[0m\u001b[0;34m(\u001b[0m\u001b[0;34m)\u001b[0m\u001b[0;34m,\u001b[0m \u001b[0mval_attacks\u001b[0m\u001b[0;34m=\u001b[0m\u001b[0;34m[\u001b[0m\u001b[0mattack_pgd\u001b[0m\u001b[0;34m]\u001b[0m\u001b[0;34m,\u001b[0m \u001b[0mattack_iters\u001b[0m\u001b[0;34m=\u001b[0m\u001b[0mattack_iters\u001b[0m\u001b[0;34m)\u001b[0m\u001b[0;34m\u001b[0m\u001b[0;34m\u001b[0m\u001b[0m\n\u001b[0m\u001b[1;32m     16\u001b[0m         \u001b[0mprint\u001b[0m\u001b[0;34m(\u001b[0m\u001b[0macc\u001b[0m\u001b[0;34m)\u001b[0m\u001b[0;34m\u001b[0m\u001b[0;34m\u001b[0m\u001b[0m\n\u001b[1;32m     17\u001b[0m         \u001b[0mwl_accuracies\u001b[0m\u001b[0;34m.\u001b[0m\u001b[0mappend\u001b[0m\u001b[0;34m(\u001b[0m\u001b[0macc\u001b[0m\u001b[0;34m[\u001b[0m\u001b[0mattack_pgd\u001b[0m\u001b[0;34m]\u001b[0m\u001b[0;34m)\u001b[0m\u001b[0;34m\u001b[0m\u001b[0;34m\u001b[0m\u001b[0m\n",
      "\u001b[0;32m/storage/AdversarialBoostingNeuralNets/BaseModels.py\u001b[0m in \u001b[0;36mcalc_accuracies\u001b[0;34m(self, X, y, data_type, val_attacks, alpha, attack_iters, restarts, y_pred)\u001b[0m\n\u001b[1;32m    245\u001b[0m         \u001b[0;31m# accuracy on clean examples\u001b[0m\u001b[0;34m\u001b[0m\u001b[0;34m\u001b[0m\u001b[0;34m\u001b[0m\u001b[0m\n\u001b[1;32m    246\u001b[0m         \u001b[0;32mif\u001b[0m \u001b[0my_pred\u001b[0m \u001b[0;32mis\u001b[0m \u001b[0;32mNone\u001b[0m\u001b[0;34m:\u001b[0m\u001b[0;34m\u001b[0m\u001b[0;34m\u001b[0m\u001b[0m\n\u001b[0;32m--> 247\u001b[0;31m             \u001b[0my_pred\u001b[0m \u001b[0;34m=\u001b[0m \u001b[0mself\u001b[0m\u001b[0;34m.\u001b[0m\u001b[0mpredict\u001b[0m\u001b[0;34m(\u001b[0m\u001b[0mX\u001b[0m\u001b[0;34m)\u001b[0m\u001b[0;34m.\u001b[0m\u001b[0mdetach\u001b[0m\u001b[0;34m(\u001b[0m\u001b[0;34m)\u001b[0m \u001b[0;31m# did this to debug memory issues (1 / 18)\u001b[0m\u001b[0;34m\u001b[0m\u001b[0;34m\u001b[0m\u001b[0m\n\u001b[0m\u001b[1;32m    248\u001b[0m             \u001b[0my_pred\u001b[0m\u001b[0;34m.\u001b[0m\u001b[0mrequires_grad\u001b[0m\u001b[0;34m=\u001b[0m\u001b[0;32mFalse\u001b[0m\u001b[0;34m\u001b[0m\u001b[0;34m\u001b[0m\u001b[0m\n\u001b[1;32m    249\u001b[0m \u001b[0;34m\u001b[0m\u001b[0m\n",
      "\u001b[0;32m/storage/AdversarialBoostingNeuralNets/WeakLearners.py\u001b[0m in \u001b[0;36mpredict\u001b[0;34m(self, X)\u001b[0m\n\u001b[1;32m    371\u001b[0m \u001b[0;34m\u001b[0m\u001b[0m\n\u001b[1;32m    372\u001b[0m     \u001b[0;32mdef\u001b[0m \u001b[0mpredict\u001b[0m\u001b[0;34m(\u001b[0m\u001b[0mself\u001b[0m\u001b[0;34m,\u001b[0m \u001b[0mX\u001b[0m\u001b[0;34m)\u001b[0m\u001b[0;34m:\u001b[0m\u001b[0;34m\u001b[0m\u001b[0;34m\u001b[0m\u001b[0m\n\u001b[0;32m--> 373\u001b[0;31m         \u001b[0;32mreturn\u001b[0m \u001b[0mself\u001b[0m\u001b[0;34m.\u001b[0m\u001b[0mmodel\u001b[0m\u001b[0;34m(\u001b[0m\u001b[0mX\u001b[0m\u001b[0;34m)\u001b[0m\u001b[0;34m\u001b[0m\u001b[0;34m\u001b[0m\u001b[0m\n\u001b[0m\u001b[1;32m    374\u001b[0m \u001b[0;34m\u001b[0m\u001b[0m\n\u001b[1;32m    375\u001b[0m \u001b[0;31m# class FreeNeuralNetCIFAR10(BaseNeuralNet):\u001b[0m\u001b[0;34m\u001b[0m\u001b[0;34m\u001b[0m\u001b[0;34m\u001b[0m\u001b[0m\n",
      "\u001b[0;32m/usr/local/lib/python3.6/dist-packages/torch/nn/modules/module.py\u001b[0m in \u001b[0;36m_call_impl\u001b[0;34m(self, *input, **kwargs)\u001b[0m\n\u001b[1;32m    725\u001b[0m             \u001b[0mresult\u001b[0m \u001b[0;34m=\u001b[0m \u001b[0mself\u001b[0m\u001b[0;34m.\u001b[0m\u001b[0m_slow_forward\u001b[0m\u001b[0;34m(\u001b[0m\u001b[0;34m*\u001b[0m\u001b[0minput\u001b[0m\u001b[0;34m,\u001b[0m \u001b[0;34m**\u001b[0m\u001b[0mkwargs\u001b[0m\u001b[0;34m)\u001b[0m\u001b[0;34m\u001b[0m\u001b[0;34m\u001b[0m\u001b[0m\n\u001b[1;32m    726\u001b[0m         \u001b[0;32melse\u001b[0m\u001b[0;34m:\u001b[0m\u001b[0;34m\u001b[0m\u001b[0;34m\u001b[0m\u001b[0m\n\u001b[0;32m--> 727\u001b[0;31m             \u001b[0mresult\u001b[0m \u001b[0;34m=\u001b[0m \u001b[0mself\u001b[0m\u001b[0;34m.\u001b[0m\u001b[0mforward\u001b[0m\u001b[0;34m(\u001b[0m\u001b[0;34m*\u001b[0m\u001b[0minput\u001b[0m\u001b[0;34m,\u001b[0m \u001b[0;34m**\u001b[0m\u001b[0mkwargs\u001b[0m\u001b[0;34m)\u001b[0m\u001b[0;34m\u001b[0m\u001b[0;34m\u001b[0m\u001b[0m\n\u001b[0m\u001b[1;32m    728\u001b[0m         for hook in itertools.chain(\n\u001b[1;32m    729\u001b[0m                 \u001b[0m_global_forward_hooks\u001b[0m\u001b[0;34m.\u001b[0m\u001b[0mvalues\u001b[0m\u001b[0;34m(\u001b[0m\u001b[0;34m)\u001b[0m\u001b[0;34m,\u001b[0m\u001b[0;34m\u001b[0m\u001b[0;34m\u001b[0m\u001b[0m\n",
      "\u001b[0;32m/storage/AdversarialBoostingNeuralNets/BaseModels.py\u001b[0m in \u001b[0;36mforward\u001b[0;34m(self, x)\u001b[0m\n\u001b[1;32m    112\u001b[0m         \u001b[0mout\u001b[0m \u001b[0;34m=\u001b[0m \u001b[0mself\u001b[0m\u001b[0;34m.\u001b[0m\u001b[0mconv1\u001b[0m\u001b[0;34m(\u001b[0m\u001b[0mx\u001b[0m\u001b[0;34m)\u001b[0m\u001b[0;34m\u001b[0m\u001b[0;34m\u001b[0m\u001b[0m\n\u001b[1;32m    113\u001b[0m         \u001b[0mout\u001b[0m \u001b[0;34m=\u001b[0m \u001b[0mself\u001b[0m\u001b[0;34m.\u001b[0m\u001b[0mlayer1\u001b[0m\u001b[0;34m(\u001b[0m\u001b[0mout\u001b[0m\u001b[0;34m)\u001b[0m\u001b[0;34m\u001b[0m\u001b[0;34m\u001b[0m\u001b[0m\n\u001b[0;32m--> 114\u001b[0;31m         \u001b[0mout\u001b[0m \u001b[0;34m=\u001b[0m \u001b[0mself\u001b[0m\u001b[0;34m.\u001b[0m\u001b[0mlayer2\u001b[0m\u001b[0;34m(\u001b[0m\u001b[0mout\u001b[0m\u001b[0;34m)\u001b[0m\u001b[0;34m\u001b[0m\u001b[0;34m\u001b[0m\u001b[0m\n\u001b[0m\u001b[1;32m    115\u001b[0m         \u001b[0mout\u001b[0m \u001b[0;34m=\u001b[0m \u001b[0mself\u001b[0m\u001b[0;34m.\u001b[0m\u001b[0mlayer3\u001b[0m\u001b[0;34m(\u001b[0m\u001b[0mout\u001b[0m\u001b[0;34m)\u001b[0m\u001b[0;34m\u001b[0m\u001b[0;34m\u001b[0m\u001b[0m\n\u001b[1;32m    116\u001b[0m         \u001b[0mout\u001b[0m \u001b[0;34m=\u001b[0m \u001b[0mself\u001b[0m\u001b[0;34m.\u001b[0m\u001b[0mlayer4\u001b[0m\u001b[0;34m(\u001b[0m\u001b[0mout\u001b[0m\u001b[0;34m)\u001b[0m\u001b[0;34m\u001b[0m\u001b[0;34m\u001b[0m\u001b[0m\n",
      "\u001b[0;32m/usr/local/lib/python3.6/dist-packages/torch/nn/modules/module.py\u001b[0m in \u001b[0;36m_call_impl\u001b[0;34m(self, *input, **kwargs)\u001b[0m\n\u001b[1;32m    725\u001b[0m             \u001b[0mresult\u001b[0m \u001b[0;34m=\u001b[0m \u001b[0mself\u001b[0m\u001b[0;34m.\u001b[0m\u001b[0m_slow_forward\u001b[0m\u001b[0;34m(\u001b[0m\u001b[0;34m*\u001b[0m\u001b[0minput\u001b[0m\u001b[0;34m,\u001b[0m \u001b[0;34m**\u001b[0m\u001b[0mkwargs\u001b[0m\u001b[0;34m)\u001b[0m\u001b[0;34m\u001b[0m\u001b[0;34m\u001b[0m\u001b[0m\n\u001b[1;32m    726\u001b[0m         \u001b[0;32melse\u001b[0m\u001b[0;34m:\u001b[0m\u001b[0;34m\u001b[0m\u001b[0;34m\u001b[0m\u001b[0m\n\u001b[0;32m--> 727\u001b[0;31m             \u001b[0mresult\u001b[0m \u001b[0;34m=\u001b[0m \u001b[0mself\u001b[0m\u001b[0;34m.\u001b[0m\u001b[0mforward\u001b[0m\u001b[0;34m(\u001b[0m\u001b[0;34m*\u001b[0m\u001b[0minput\u001b[0m\u001b[0;34m,\u001b[0m \u001b[0;34m**\u001b[0m\u001b[0mkwargs\u001b[0m\u001b[0;34m)\u001b[0m\u001b[0;34m\u001b[0m\u001b[0;34m\u001b[0m\u001b[0m\n\u001b[0m\u001b[1;32m    728\u001b[0m         for hook in itertools.chain(\n\u001b[1;32m    729\u001b[0m                 \u001b[0m_global_forward_hooks\u001b[0m\u001b[0;34m.\u001b[0m\u001b[0mvalues\u001b[0m\u001b[0;34m(\u001b[0m\u001b[0;34m)\u001b[0m\u001b[0;34m,\u001b[0m\u001b[0;34m\u001b[0m\u001b[0;34m\u001b[0m\u001b[0m\n",
      "\u001b[0;32m/usr/local/lib/python3.6/dist-packages/torch/nn/modules/container.py\u001b[0m in \u001b[0;36mforward\u001b[0;34m(self, input)\u001b[0m\n\u001b[1;32m    115\u001b[0m     \u001b[0;32mdef\u001b[0m \u001b[0mforward\u001b[0m\u001b[0;34m(\u001b[0m\u001b[0mself\u001b[0m\u001b[0;34m,\u001b[0m \u001b[0minput\u001b[0m\u001b[0;34m)\u001b[0m\u001b[0;34m:\u001b[0m\u001b[0;34m\u001b[0m\u001b[0;34m\u001b[0m\u001b[0m\n\u001b[1;32m    116\u001b[0m         \u001b[0;32mfor\u001b[0m \u001b[0mmodule\u001b[0m \u001b[0;32min\u001b[0m \u001b[0mself\u001b[0m\u001b[0;34m:\u001b[0m\u001b[0;34m\u001b[0m\u001b[0;34m\u001b[0m\u001b[0m\n\u001b[0;32m--> 117\u001b[0;31m             \u001b[0minput\u001b[0m \u001b[0;34m=\u001b[0m \u001b[0mmodule\u001b[0m\u001b[0;34m(\u001b[0m\u001b[0minput\u001b[0m\u001b[0;34m)\u001b[0m\u001b[0;34m\u001b[0m\u001b[0;34m\u001b[0m\u001b[0m\n\u001b[0m\u001b[1;32m    118\u001b[0m         \u001b[0;32mreturn\u001b[0m \u001b[0minput\u001b[0m\u001b[0;34m\u001b[0m\u001b[0;34m\u001b[0m\u001b[0m\n\u001b[1;32m    119\u001b[0m \u001b[0;34m\u001b[0m\u001b[0m\n",
      "\u001b[0;32m/usr/local/lib/python3.6/dist-packages/torch/nn/modules/module.py\u001b[0m in \u001b[0;36m_call_impl\u001b[0;34m(self, *input, **kwargs)\u001b[0m\n\u001b[1;32m    725\u001b[0m             \u001b[0mresult\u001b[0m \u001b[0;34m=\u001b[0m \u001b[0mself\u001b[0m\u001b[0;34m.\u001b[0m\u001b[0m_slow_forward\u001b[0m\u001b[0;34m(\u001b[0m\u001b[0;34m*\u001b[0m\u001b[0minput\u001b[0m\u001b[0;34m,\u001b[0m \u001b[0;34m**\u001b[0m\u001b[0mkwargs\u001b[0m\u001b[0;34m)\u001b[0m\u001b[0;34m\u001b[0m\u001b[0;34m\u001b[0m\u001b[0m\n\u001b[1;32m    726\u001b[0m         \u001b[0;32melse\u001b[0m\u001b[0;34m:\u001b[0m\u001b[0;34m\u001b[0m\u001b[0;34m\u001b[0m\u001b[0m\n\u001b[0;32m--> 727\u001b[0;31m             \u001b[0mresult\u001b[0m \u001b[0;34m=\u001b[0m \u001b[0mself\u001b[0m\u001b[0;34m.\u001b[0m\u001b[0mforward\u001b[0m\u001b[0;34m(\u001b[0m\u001b[0;34m*\u001b[0m\u001b[0minput\u001b[0m\u001b[0;34m,\u001b[0m \u001b[0;34m**\u001b[0m\u001b[0mkwargs\u001b[0m\u001b[0;34m)\u001b[0m\u001b[0;34m\u001b[0m\u001b[0;34m\u001b[0m\u001b[0m\n\u001b[0m\u001b[1;32m    728\u001b[0m         for hook in itertools.chain(\n\u001b[1;32m    729\u001b[0m                 \u001b[0m_global_forward_hooks\u001b[0m\u001b[0;34m.\u001b[0m\u001b[0mvalues\u001b[0m\u001b[0;34m(\u001b[0m\u001b[0;34m)\u001b[0m\u001b[0;34m,\u001b[0m\u001b[0;34m\u001b[0m\u001b[0;34m\u001b[0m\u001b[0m\n",
      "\u001b[0;32m/storage/AdversarialBoostingNeuralNets/BaseModels.py\u001b[0m in \u001b[0;36mforward\u001b[0;34m(self, x)\u001b[0m\n\u001b[1;32m     53\u001b[0m         \u001b[0mshortcut\u001b[0m \u001b[0;34m=\u001b[0m \u001b[0mself\u001b[0m\u001b[0;34m.\u001b[0m\u001b[0mshortcut\u001b[0m\u001b[0;34m(\u001b[0m\u001b[0mx\u001b[0m\u001b[0;34m)\u001b[0m \u001b[0;32mif\u001b[0m \u001b[0mhasattr\u001b[0m\u001b[0;34m(\u001b[0m\u001b[0mself\u001b[0m\u001b[0;34m,\u001b[0m \u001b[0;34m'shortcut'\u001b[0m\u001b[0;34m)\u001b[0m \u001b[0;32melse\u001b[0m \u001b[0mx\u001b[0m\u001b[0;34m\u001b[0m\u001b[0;34m\u001b[0m\u001b[0m\n\u001b[1;32m     54\u001b[0m         \u001b[0mout\u001b[0m \u001b[0;34m=\u001b[0m \u001b[0mself\u001b[0m\u001b[0;34m.\u001b[0m\u001b[0mconv1\u001b[0m\u001b[0;34m(\u001b[0m\u001b[0mout\u001b[0m\u001b[0;34m)\u001b[0m\u001b[0;34m\u001b[0m\u001b[0;34m\u001b[0m\u001b[0m\n\u001b[0;32m---> 55\u001b[0;31m         \u001b[0mout\u001b[0m \u001b[0;34m=\u001b[0m \u001b[0mself\u001b[0m\u001b[0;34m.\u001b[0m\u001b[0mconv2\u001b[0m\u001b[0;34m(\u001b[0m\u001b[0mF\u001b[0m\u001b[0;34m.\u001b[0m\u001b[0mrelu\u001b[0m\u001b[0;34m(\u001b[0m\u001b[0mself\u001b[0m\u001b[0;34m.\u001b[0m\u001b[0mbn2\u001b[0m\u001b[0;34m(\u001b[0m\u001b[0mout\u001b[0m\u001b[0;34m)\u001b[0m\u001b[0;34m)\u001b[0m\u001b[0;34m)\u001b[0m\u001b[0;34m\u001b[0m\u001b[0;34m\u001b[0m\u001b[0m\n\u001b[0m\u001b[1;32m     56\u001b[0m         \u001b[0mout\u001b[0m \u001b[0;34m+=\u001b[0m \u001b[0mshortcut\u001b[0m\u001b[0;34m\u001b[0m\u001b[0;34m\u001b[0m\u001b[0m\n\u001b[1;32m     57\u001b[0m         \u001b[0;32mreturn\u001b[0m \u001b[0mout\u001b[0m\u001b[0;34m\u001b[0m\u001b[0;34m\u001b[0m\u001b[0m\n",
      "\u001b[0;32m/usr/local/lib/python3.6/dist-packages/torch/nn/modules/module.py\u001b[0m in \u001b[0;36m_call_impl\u001b[0;34m(self, *input, **kwargs)\u001b[0m\n\u001b[1;32m    725\u001b[0m             \u001b[0mresult\u001b[0m \u001b[0;34m=\u001b[0m \u001b[0mself\u001b[0m\u001b[0;34m.\u001b[0m\u001b[0m_slow_forward\u001b[0m\u001b[0;34m(\u001b[0m\u001b[0;34m*\u001b[0m\u001b[0minput\u001b[0m\u001b[0;34m,\u001b[0m \u001b[0;34m**\u001b[0m\u001b[0mkwargs\u001b[0m\u001b[0;34m)\u001b[0m\u001b[0;34m\u001b[0m\u001b[0;34m\u001b[0m\u001b[0m\n\u001b[1;32m    726\u001b[0m         \u001b[0;32melse\u001b[0m\u001b[0;34m:\u001b[0m\u001b[0;34m\u001b[0m\u001b[0;34m\u001b[0m\u001b[0m\n\u001b[0;32m--> 727\u001b[0;31m             \u001b[0mresult\u001b[0m \u001b[0;34m=\u001b[0m \u001b[0mself\u001b[0m\u001b[0;34m.\u001b[0m\u001b[0mforward\u001b[0m\u001b[0;34m(\u001b[0m\u001b[0;34m*\u001b[0m\u001b[0minput\u001b[0m\u001b[0;34m,\u001b[0m \u001b[0;34m**\u001b[0m\u001b[0mkwargs\u001b[0m\u001b[0;34m)\u001b[0m\u001b[0;34m\u001b[0m\u001b[0;34m\u001b[0m\u001b[0m\n\u001b[0m\u001b[1;32m    728\u001b[0m         for hook in itertools.chain(\n\u001b[1;32m    729\u001b[0m                 \u001b[0m_global_forward_hooks\u001b[0m\u001b[0;34m.\u001b[0m\u001b[0mvalues\u001b[0m\u001b[0;34m(\u001b[0m\u001b[0;34m)\u001b[0m\u001b[0;34m,\u001b[0m\u001b[0;34m\u001b[0m\u001b[0;34m\u001b[0m\u001b[0m\n",
      "\u001b[0;32m/usr/local/lib/python3.6/dist-packages/torch/nn/modules/batchnorm.py\u001b[0m in \u001b[0;36mforward\u001b[0;34m(self, input)\u001b[0m\n\u001b[1;32m    134\u001b[0m             \u001b[0mself\u001b[0m\u001b[0;34m.\u001b[0m\u001b[0mrunning_mean\u001b[0m \u001b[0;32mif\u001b[0m \u001b[0;32mnot\u001b[0m \u001b[0mself\u001b[0m\u001b[0;34m.\u001b[0m\u001b[0mtraining\u001b[0m \u001b[0;32mor\u001b[0m \u001b[0mself\u001b[0m\u001b[0;34m.\u001b[0m\u001b[0mtrack_running_stats\u001b[0m \u001b[0;32melse\u001b[0m \u001b[0;32mNone\u001b[0m\u001b[0;34m,\u001b[0m\u001b[0;34m\u001b[0m\u001b[0;34m\u001b[0m\u001b[0m\n\u001b[1;32m    135\u001b[0m             \u001b[0mself\u001b[0m\u001b[0;34m.\u001b[0m\u001b[0mrunning_var\u001b[0m \u001b[0;32mif\u001b[0m \u001b[0;32mnot\u001b[0m \u001b[0mself\u001b[0m\u001b[0;34m.\u001b[0m\u001b[0mtraining\u001b[0m \u001b[0;32mor\u001b[0m \u001b[0mself\u001b[0m\u001b[0;34m.\u001b[0m\u001b[0mtrack_running_stats\u001b[0m \u001b[0;32melse\u001b[0m \u001b[0;32mNone\u001b[0m\u001b[0;34m,\u001b[0m\u001b[0;34m\u001b[0m\u001b[0;34m\u001b[0m\u001b[0m\n\u001b[0;32m--> 136\u001b[0;31m             self.weight, self.bias, bn_training, exponential_average_factor, self.eps)\n\u001b[0m\u001b[1;32m    137\u001b[0m \u001b[0;34m\u001b[0m\u001b[0m\n\u001b[1;32m    138\u001b[0m \u001b[0;34m\u001b[0m\u001b[0m\n",
      "\u001b[0;32m/usr/local/lib/python3.6/dist-packages/torch/nn/functional.py\u001b[0m in \u001b[0;36mbatch_norm\u001b[0;34m(input, running_mean, running_var, weight, bias, training, momentum, eps)\u001b[0m\n\u001b[1;32m   2056\u001b[0m     return torch.batch_norm(\n\u001b[1;32m   2057\u001b[0m         \u001b[0minput\u001b[0m\u001b[0;34m,\u001b[0m \u001b[0mweight\u001b[0m\u001b[0;34m,\u001b[0m \u001b[0mbias\u001b[0m\u001b[0;34m,\u001b[0m \u001b[0mrunning_mean\u001b[0m\u001b[0;34m,\u001b[0m \u001b[0mrunning_var\u001b[0m\u001b[0;34m,\u001b[0m\u001b[0;34m\u001b[0m\u001b[0;34m\u001b[0m\u001b[0m\n\u001b[0;32m-> 2058\u001b[0;31m         \u001b[0mtraining\u001b[0m\u001b[0;34m,\u001b[0m \u001b[0mmomentum\u001b[0m\u001b[0;34m,\u001b[0m \u001b[0meps\u001b[0m\u001b[0;34m,\u001b[0m \u001b[0mtorch\u001b[0m\u001b[0;34m.\u001b[0m\u001b[0mbackends\u001b[0m\u001b[0;34m.\u001b[0m\u001b[0mcudnn\u001b[0m\u001b[0;34m.\u001b[0m\u001b[0menabled\u001b[0m\u001b[0;34m\u001b[0m\u001b[0;34m\u001b[0m\u001b[0m\n\u001b[0m\u001b[1;32m   2059\u001b[0m     )\n\u001b[1;32m   2060\u001b[0m \u001b[0;34m\u001b[0m\u001b[0m\n",
      "\u001b[0;31mRuntimeError\u001b[0m: CUDA out of memory. Tried to allocate 126.00 MiB (GPU 0; 15.90 GiB total capacity; 14.80 GiB already allocated; 9.50 MiB free; 15.23 GiB reserved in total by PyTorch)"
     ]
    }
   ],
   "source": [
    "#Test pgd on weak learners\n",
    "wl_accuracies = []\n",
    "for attack_iters in pgd_steps:\n",
    "    TestNN = WongNeuralNetCIFAR10(attack_eps=attack_eps)\n",
    "    TestNN.model.load_state_dict(torch.load(\"./models/750000Eps8/wl_0.pth\"))\n",
    "    TestNN.model.cuda()\n",
    "    TestNN.model.eval()\n",
    "    print(\"\")\n",
    "    \n",
    "    i = 0\n",
    "#     accs = []\n",
    "    for data in test_loader:\n",
    "        X = data[0]\n",
    "        y = data[1]\n",
    "        losses, acc = TestNN.calc_accuracies(X.cuda(), y.cuda(), val_attacks=[attack_pgd], attack_iters=attack_iters)\n",
    "        print(acc)\n",
    "        wl_accuracies.append(acc[attack_pgd])\n",
    "\n",
    "    #     if i>5:\n",
    "        break\n",
    "        i+=1\n",
    "print(\"pgd_steps:\", pgd_steps)\n",
    "print(\"wl_accuracies:\", wl_accuracies)\n",
    "plt.subplots()\n",
    "plt.plot(pgd_steps, wl_accuracies)\n",
    "plt.xlabel('PGD iterations')\n",
    "plt.ylabel('Accuracy')\n",
    "plt.title('Weak learner accuracy vs PGD iterations')\n",
    "plt.show()"
   ]
  },
  {
   "cell_type": "code",
   "execution_count": 18,
   "metadata": {
    "scrolled": true
   },
   "outputs": [
    {
     "ename": "KeyError",
     "evalue": "'val'",
     "output_type": "error",
     "traceback": [
      "\u001b[0;31m---------------------------------------------------------------------------\u001b[0m",
      "\u001b[0;31mKeyError\u001b[0m                                  Traceback (most recent call last)",
      "\u001b[0;32m<ipython-input-18-7c3dce3759fc>\u001b[0m in \u001b[0;36m<module>\u001b[0;34m\u001b[0m\n\u001b[1;32m      7\u001b[0m \u001b[0;31m#         print(\"before ens acc\", ensemble.accuracies)\u001b[0m\u001b[0;34m\u001b[0m\u001b[0;34m\u001b[0m\u001b[0;34m\u001b[0m\u001b[0m\n\u001b[1;32m      8\u001b[0m \u001b[0;34m\u001b[0m\u001b[0m\n\u001b[0;32m----> 9\u001b[0;31m         \u001b[0mensemble\u001b[0m\u001b[0;34m.\u001b[0m\u001b[0mrecord_accuracies\u001b[0m\u001b[0;34m(\u001b[0m\u001b[0mi\u001b[0m\u001b[0;34m,\u001b[0m \u001b[0mtrain_loader\u001b[0m\u001b[0;34m,\u001b[0m \u001b[0mtest_loader\u001b[0m\u001b[0;34m,\u001b[0m \u001b[0;36m1000\u001b[0m\u001b[0;34m,\u001b[0m \u001b[0;36m1000\u001b[0m\u001b[0;34m,\u001b[0m \u001b[0mval_attacks\u001b[0m\u001b[0;34m=\u001b[0m\u001b[0;34m[\u001b[0m\u001b[0mattack_pgd\u001b[0m\u001b[0;34m]\u001b[0m\u001b[0;34m,\u001b[0m \u001b[0mattack_iters\u001b[0m\u001b[0;34m=\u001b[0m\u001b[0mattack_iters\u001b[0m\u001b[0;34m)\u001b[0m\u001b[0;34m\u001b[0m\u001b[0;34m\u001b[0m\u001b[0m\n\u001b[0m\u001b[1;32m     10\u001b[0m         \u001b[0mprint\u001b[0m\u001b[0;34m(\u001b[0m\u001b[0;34m\"ensemble accuracies:\"\u001b[0m\u001b[0;34m,\u001b[0m \u001b[0mensemble\u001b[0m\u001b[0;34m.\u001b[0m\u001b[0maccuracies\u001b[0m\u001b[0;34m)\u001b[0m\u001b[0;34m\u001b[0m\u001b[0;34m\u001b[0m\u001b[0m\n",
      "\u001b[0;32m/storage/AdversarialBoostingNeuralNets/Ensemble.py\u001b[0m in \u001b[0;36mrecord_accuracies\u001b[0;34m(self, progress, train_loader, test_loader, numsamples_train, numsamples_val, val_attacks, attack_iters)\u001b[0m\n\u001b[1;32m    235\u001b[0m         \u001b[0mval_loss_dict\u001b[0m \u001b[0;34m=\u001b[0m \u001b[0mself\u001b[0m\u001b[0;34m.\u001b[0m\u001b[0mget_sum\u001b[0m\u001b[0;34m(\u001b[0m\u001b[0mval_loss_dicts\u001b[0m\u001b[0;34m)\u001b[0m\u001b[0;34m\u001b[0m\u001b[0;34m\u001b[0m\u001b[0m\n\u001b[1;32m    236\u001b[0m         \u001b[0mval_acc_dict\u001b[0m \u001b[0;34m=\u001b[0m \u001b[0mself\u001b[0m\u001b[0;34m.\u001b[0m\u001b[0mget_mean\u001b[0m\u001b[0;34m(\u001b[0m\u001b[0mval_acc_dicts\u001b[0m\u001b[0;34m)\u001b[0m\u001b[0;34m\u001b[0m\u001b[0;34m\u001b[0m\u001b[0m\n\u001b[0;32m--> 237\u001b[0;31m         \u001b[0mself\u001b[0m\u001b[0;34m.\u001b[0m\u001b[0mlosses\u001b[0m\u001b[0;34m[\u001b[0m\u001b[0;34m'val'\u001b[0m\u001b[0;34m]\u001b[0m\u001b[0;34m.\u001b[0m\u001b[0mappend\u001b[0m\u001b[0;34m(\u001b[0m\u001b[0mval_loss_dict\u001b[0m\u001b[0;34m[\u001b[0m\u001b[0;34m'val'\u001b[0m\u001b[0;34m]\u001b[0m\u001b[0;34m)\u001b[0m\u001b[0;34m\u001b[0m\u001b[0;34m\u001b[0m\u001b[0m\n\u001b[0m\u001b[1;32m    238\u001b[0m         \u001b[0mself\u001b[0m\u001b[0;34m.\u001b[0m\u001b[0maccuracies\u001b[0m\u001b[0;34m[\u001b[0m\u001b[0;34m'val'\u001b[0m\u001b[0;34m]\u001b[0m\u001b[0;34m.\u001b[0m\u001b[0mappend\u001b[0m\u001b[0;34m(\u001b[0m\u001b[0mval_acc_dict\u001b[0m\u001b[0;34m[\u001b[0m\u001b[0;34m'val'\u001b[0m\u001b[0;34m]\u001b[0m\u001b[0;34m)\u001b[0m\u001b[0;34m\u001b[0m\u001b[0;34m\u001b[0m\u001b[0m\n\u001b[1;32m    239\u001b[0m         \u001b[0;32mfor\u001b[0m \u001b[0mk\u001b[0m \u001b[0;32min\u001b[0m \u001b[0mval_loss_dict\u001b[0m\u001b[0;34m:\u001b[0m\u001b[0;34m\u001b[0m\u001b[0;34m\u001b[0m\u001b[0m\n",
      "\u001b[0;31mKeyError\u001b[0m: 'val'"
     ]
    }
   ],
   "source": [
    "# Test pgd on ensemble (1 wl)\n",
    "for attack_iters in pgd_steps:\n",
    "    ensemble = Ensemble(weakLearners=[], weakLearnerWeights=[], weakLearnerType=WongNeuralNetCIFAR10, attack_eps=[0.03])\n",
    "    ensemble.losses[\"val\"]\n",
    "    for i in range(1):\n",
    "        ensemble.addWeakLearner(\"./models/750000Eps8/wl_0.pth\", 1)\n",
    "#         print(\"before ens acc\", ensemble.accuracies)\n",
    "\n",
    "        ensemble.record_accuracies(i, train_loader, test_loader, 1000, 1000, val_attacks=[attack_pgd], attack_iters=attack_iters)\n",
    "        print(\"ensemble accuracies:\", ensemble.accuracies)"
   ]
  },
  {
   "cell_type": "code",
   "execution_count": 16,
   "metadata": {},
   "outputs": [],
   "source": [
    "accuracies = []"
   ]
  },
  {
   "cell_type": "code",
   "execution_count": 25,
   "metadata": {},
   "outputs": [
    {
     "name": "stdout",
     "output_type": "stream",
     "text": [
      "Files already downloaded and verified\n",
      "Files already downloaded and verified\n",
      "Files already downloaded and verified\n",
      "Weak Learner  0 .  Time Elapsed (s):  0\n",
      "Weak Learner  1 .  Time Elapsed (s):  0\n",
      "Weak Learner  2 .  Time Elapsed (s):  0\n",
      "Weak Learner  3 .  Time Elapsed (s):  0\n",
      "pgd called with 0.127 0.01 20 1\n",
      "{'val': 0.71, <function attack_pgd at 0x7f20b4390400>: [0.39]}\n",
      "pgd called with 0.127 0.01 20 1\n",
      "{'val': 0.73, <function attack_pgd at 0x7f20b4390400>: [0.41]}\n",
      "pgd called with 0.127 0.01 20 1\n",
      "{'val': 0.74, <function attack_pgd at 0x7f20b4390400>: [0.47]}\n",
      "ensemble accuracies: {'train': [0.7466666666666667], 'val': [0.7266666666666666], 'attack_fgsm': [], 'attack_pgd': [[0.42333333333333334]], 'wl_train': [], 'wl_val': []}\n",
      "Weak Learner  4 .  Time Elapsed (s):  60\n",
      "Weak Learner  5 .  Time Elapsed (s):  60\n",
      "Weak Learner  6 .  Time Elapsed (s):  60\n",
      "Weak Learner  7 .  Time Elapsed (s):  60\n",
      "Weak Learner  8 .  Time Elapsed (s):  60\n",
      "Weak Learner  9 .  Time Elapsed (s):  60\n",
      "Weak Learner  10 .  Time Elapsed (s):  60\n",
      "Weak Learner  11 .  Time Elapsed (s):  60\n",
      "Weak Learner  12 .  Time Elapsed (s):  60\n",
      "Weak Learner  13 .  Time Elapsed (s):  60\n",
      "Weak Learner  14 .  Time Elapsed (s):  60\n"
     ]
    },
    {
     "ename": "NameError",
     "evalue": "name 'accuracies' is not defined",
     "output_type": "error",
     "traceback": [
      "\u001b[0;31m---------------------------------------------------------------------------\u001b[0m",
      "\u001b[0;31mNameError\u001b[0m                                 Traceback (most recent call last)",
      "\u001b[0;32m<ipython-input-25-e6563a780e5e>\u001b[0m in \u001b[0;36m<module>\u001b[0;34m\u001b[0m\n\u001b[1;32m      7\u001b[0m     \u001b[0mattackStr\u001b[0m\u001b[0;34m=\u001b[0m\u001b[0;34m\"attack_pgd\"\u001b[0m\u001b[0;34m\u001b[0m\u001b[0;34m\u001b[0m\u001b[0m\n\u001b[1;32m      8\u001b[0m     \u001b[0mensemble\u001b[0m \u001b[0;34m=\u001b[0m \u001b[0mtestEnsemble\u001b[0m\u001b[0;34m(\u001b[0m\u001b[0mpath\u001b[0m\u001b[0;34m,\u001b[0m \u001b[0;34m[\u001b[0m\u001b[0mattack\u001b[0m\u001b[0;34m]\u001b[0m\u001b[0;34m,\u001b[0m \u001b[0mnum_wl\u001b[0m\u001b[0;34m,\u001b[0m \u001b[0mnumsamples_train\u001b[0m\u001b[0;34m=\u001b[0m\u001b[0;36m400\u001b[0m\u001b[0;34m,\u001b[0m \u001b[0mnumsamples_val\u001b[0m\u001b[0;34m=\u001b[0m\u001b[0;36m400\u001b[0m\u001b[0;34m,\u001b[0m \u001b[0mattack_eps_ensemble\u001b[0m\u001b[0;34m=\u001b[0m\u001b[0mepsilons\u001b[0m\u001b[0;34m,\u001b[0m \u001b[0mattack_iters\u001b[0m\u001b[0;34m=\u001b[0m\u001b[0mattack_iters\u001b[0m\u001b[0;34m)\u001b[0m\u001b[0;34m\u001b[0m\u001b[0;34m\u001b[0m\u001b[0m\n\u001b[0;32m----> 9\u001b[0;31m     \u001b[0maccuracies\u001b[0m\u001b[0;34m.\u001b[0m\u001b[0mappend\u001b[0m\u001b[0;34m(\u001b[0m\u001b[0mensemble\u001b[0m\u001b[0;34m.\u001b[0m\u001b[0maccuracies\u001b[0m\u001b[0;34m[\u001b[0m\u001b[0mattackStr\u001b[0m\u001b[0;34m]\u001b[0m\u001b[0;34m)\u001b[0m\u001b[0;34m\u001b[0m\u001b[0;34m\u001b[0m\u001b[0m\n\u001b[0m\u001b[1;32m     10\u001b[0m     \u001b[0mprint\u001b[0m\u001b[0;34m(\u001b[0m\u001b[0;34m\"cur acc:\"\u001b[0m\u001b[0;34m,\u001b[0m \u001b[0maccuracies\u001b[0m\u001b[0;34m[\u001b[0m\u001b[0;34m-\u001b[0m\u001b[0;36m1\u001b[0m\u001b[0;34m]\u001b[0m\u001b[0;34m)\u001b[0m\u001b[0;34m\u001b[0m\u001b[0;34m\u001b[0m\u001b[0m\n\u001b[1;32m     11\u001b[0m \u001b[0;34m\u001b[0m\u001b[0m\n",
      "\u001b[0;31mNameError\u001b[0m: name 'accuracies' is not defined"
     ]
    }
   ],
   "source": [
    "# test pgd on ensemble (more wl)\n",
    "num_wl = 15\n",
    "train_eps_nn = 8\n",
    "for attack_iters in pgd_steps:\n",
    "    path = f'./models/{maxSamples_vals[0]}Eps{train_eps_nn}/'\n",
    "    attack=attack_pgd\n",
    "    attackStr=\"attack_pgd\"\n",
    "    ensemble = testEnsemble(path, [attack], num_wl, numsamples_train=400, numsamples_val=400, attack_eps_ensemble=epsilons, attack_iters=attack_iters)\n",
    "    accuracies.append(ensemble.accuracies[attackStr])\n",
    "    print(\"cur acc:\", accuracies[-1])\n",
    "    \n",
    "    \n",
    "#     maxSamples = maxSamples_vals[0]\n",
    "#     resultsPath = f'results/plots/cifar10/train_eps_{train_eps_nn}_iter_{attack_iters}/{attackStr}/'\n",
    "#     acc_file = resultsPath + f'acc_maxSamples_{maxSamples}.png'\n",
    "#     adv_acc_file = resultsPath + f'adv_acc_maxSamples_{maxSamples}.png'\n",
    "#     loss_file = resultsPath + f'loss_maxSamples_{maxSamples}.png'\n",
    "#     # wl_train_acc_file = resultsPath + f'wl_train_acc_maxSamples_{maxSamples}.png'\n",
    "#     ensemble.plot_accuracies(acc_file)\n",
    "#     ensemble.plot_loss(loss_file)\n",
    "#     ensemble.plot_adversarial_accuracies(adv_acc_file)\n",
    "    # ensemble.plot_wl_acc(wl_train_acc_file)"
   ]
  },
  {
   "cell_type": "code",
   "execution_count": null,
   "metadata": {},
   "outputs": [],
   "source": [
    "print(accuracies)"
   ]
  },
  {
   "cell_type": "code",
   "execution_count": null,
   "metadata": {},
   "outputs": [],
   "source": []
  }
 ],
 "metadata": {
  "kernelspec": {
   "display_name": "Python 3",
   "language": "python",
   "name": "python3"
  },
  "language_info": {
   "codemirror_mode": {
    "name": "ipython",
    "version": 3
   },
   "file_extension": ".py",
   "mimetype": "text/x-python",
   "name": "python",
   "nbconvert_exporter": "python",
   "pygments_lexer": "ipython3",
   "version": "3.6.8"
  }
 },
 "nbformat": 4,
 "nbformat_minor": 4
}
