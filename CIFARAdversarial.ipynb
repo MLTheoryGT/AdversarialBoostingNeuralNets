{
 "cells": [
  {
   "cell_type": "code",
   "execution_count": 1,
   "metadata": {
    "scrolled": true
   },
   "outputs": [],
   "source": [
    "from __future__ import print_function\n",
    "import torch\n",
    "from torchvision import datasets, transforms\n",
    "import numpy as np\n",
    "from WeakLearners import WongNeuralNetCIFAR10\n",
    "import matplotlib.pyplot as plt\n",
    "import os"
   ]
  },
  {
   "cell_type": "code",
   "execution_count": 2,
   "metadata": {},
   "outputs": [
    {
     "name": "stdout",
     "output_type": "stream",
     "text": [
      "Requirement already satisfied: pytorch_memlab in /usr/local/lib/python3.6/dist-packages (0.2.2)\n",
      "Requirement already satisfied: calmsize in /usr/local/lib/python3.6/dist-packages (from pytorch_memlab) (0.1.3)\n",
      "Requirement already satisfied: torch>=1.4 in /usr/local/lib/python3.6/dist-packages (from pytorch_memlab) (1.7.0)\n",
      "Requirement already satisfied: setuptools in /usr/local/lib/python3.6/dist-packages (from pytorch_memlab) (41.0.1)\n",
      "Requirement already satisfied: pandas>=0.18 in /usr/local/lib/python3.6/dist-packages (from pytorch_memlab) (0.25.0)\n",
      "Requirement already satisfied: typing-extensions in /usr/local/lib/python3.6/dist-packages (from torch>=1.4->pytorch_memlab) (3.7.4.3)\n",
      "Requirement already satisfied: future in /usr/local/lib/python3.6/dist-packages (from torch>=1.4->pytorch_memlab) (0.17.1)\n",
      "Requirement already satisfied: dataclasses in /usr/local/lib/python3.6/dist-packages (from torch>=1.4->pytorch_memlab) (0.7)\n",
      "Requirement already satisfied: numpy in /usr/local/lib/python3.6/dist-packages (from torch>=1.4->pytorch_memlab) (1.17.0)\n",
      "Requirement already satisfied: python-dateutil>=2.6.1 in /usr/local/lib/python3.6/dist-packages (from pandas>=0.18->pytorch_memlab) (2.8.0)\n",
      "Requirement already satisfied: pytz>=2017.2 in /usr/local/lib/python3.6/dist-packages (from pandas>=0.18->pytorch_memlab) (2019.2)\n",
      "Requirement already satisfied: six>=1.5 in /usr/local/lib/python3.6/dist-packages (from python-dateutil>=2.6.1->pandas>=0.18->pytorch_memlab) (1.12.0)\n",
      "\u001b[33mWARNING: You are using pip version 19.2.1, however version 21.0.1 is available.\n",
      "You should consider upgrading via the 'pip install --upgrade pip' command.\u001b[0m\n"
     ]
    }
   ],
   "source": [
    "!pip install pytorch_memlab"
   ]
  },
  {
   "cell_type": "code",
   "execution_count": 3,
   "metadata": {},
   "outputs": [],
   "source": [
    "from Boosting import Ensemble, runBoosting\n",
    "from AdversarialAttacks import attack_fgsm, attack_pgd\n",
    "from pytorch_memlab import LineProfiler"
   ]
  },
  {
   "cell_type": "code",
   "execution_count": 4,
   "metadata": {},
   "outputs": [],
   "source": [
    "import utils"
   ]
  },
  {
   "cell_type": "code",
   "execution_count": 5,
   "metadata": {},
   "outputs": [],
   "source": [
    "cuda = torch.device('cuda:0')"
   ]
  },
  {
   "cell_type": "code",
   "execution_count": 6,
   "metadata": {},
   "outputs": [],
   "source": [
    "%load_ext autoreload\n",
    "%autoreload 2"
   ]
  },
  {
   "cell_type": "markdown",
   "metadata": {},
   "source": [
    "## CIFAR10 Boosting (Adversarial)"
   ]
  },
  {
   "cell_type": "code",
   "execution_count": 7,
   "metadata": {},
   "outputs": [],
   "source": [
    "# maxSamples_vals = [100000, 200000, 500000]\n",
    "maxSamples_vals = [750000]\n",
    "# maxSamples_vals = [30001]\n",
    "# maxSamples_vals = [500000, 1000000]\n",
    "# done for 50K, 100K\n",
    "# maxSamples_vals = [1000000, 2000000]\n",
    "# maxSamples_vals = [123456]\n",
    "batch_size=100\n",
    "# maxSamples_vals = [batch_size + 1]"
   ]
  },
  {
   "cell_type": "code",
   "execution_count": 8,
   "metadata": {},
   "outputs": [],
   "source": [
    "num_wl = 2 # maybe around 100? #later: maybe change this to an array?\n",
    "num_epochs = 1"
   ]
  },
  {
   "cell_type": "code",
   "execution_count": 9,
   "metadata": {},
   "outputs": [],
   "source": [
    "ensembles = []\n",
    "# epsilons = [0.0, 0.01, 0.02, 0.03, 0.05, 0.1]\n",
    "epsilons = [0.01, 0.02, 0.03]\n",
    "train_eps_nn = 0\n",
    "# epsilons = []\n",
    "# epsilons = [0.0, 0.01]"
   ]
  },
  {
   "cell_type": "code",
   "execution_count": 12,
   "metadata": {
    "scrolled": true
   },
   "outputs": [
    {
     "name": "stdout",
     "output_type": "stream",
     "text": [
      "len(maxSamples_vals): 1\n",
      "maxSamples: 750000\n",
      "Files already downloaded and verified\n",
      "Files already downloaded and verified\n",
      "Files already downloaded and verified\n",
      "Files already downloaded and verified\n",
      "Files already downloaded and verified\n",
      "attack eps ens [0.01, 0.02, 0.03]\n",
      "path_head: ./models/750000Eps0/\n",
      "----------------------------------------------------------------------------------------------------\n",
      "Training weak learner 0\n",
      "Epoch 0\n"
     ]
    },
    {
     "name": "stderr",
     "output_type": "stream",
     "text": [
      "/usr/local/lib/python3.6/dist-packages/torchvision/datasets/cifar.py:118: UserWarning: The given NumPy array is not writeable, and PyTorch does not support non-writeable tensors. This means you can write to the underlying (supposedly non-writeable) NumPy array using the tensor. You may want to copy the array to protect its data or make it writeable before converting it to a tensor. This type of warning will be suppressed for the rest of this program. (Triggered internally at  /pytorch/torch/csrc/utils/tensor_numpy.cpp:141.)\n",
      "  img, target = self.data[index], self.targets[index]\n"
     ]
    },
    {
     "name": "stdout",
     "output_type": "stream",
     "text": [
      "Progress: 10000,  val accuracy: 0.3200\n",
      "Progress: 20000,  val accuracy: 0.4200\n",
      "Progress: 30000,  val accuracy: 0.5000\n",
      "Progress: 40000,  val accuracy: 0.4800\n",
      "Progress: 50000,  val accuracy: 0.5300\n"
     ]
    },
    {
     "name": "stderr",
     "output_type": "stream",
     "text": [
      "/usr/local/lib/python3.6/dist-packages/torch/optim/lr_scheduler.py:893: UserWarning: To get the last learning rate computed by the scheduler, please use `get_last_lr()`.\n",
      "  \"please use `get_last_lr()`.\", UserWarning)\n"
     ]
    },
    {
     "name": "stdout",
     "output_type": "stream",
     "text": [
      "Epoch 1\n",
      "Progress: 60000,  val accuracy: 0.5800\n",
      "Progress: 70000,  val accuracy: 0.5800\n",
      "Progress: 80000,  val accuracy: 0.6800\n",
      "Progress: 90000,  val accuracy: 0.6900\n",
      "Progress: 100000,  val accuracy: 0.7000\n",
      "Epoch 2\n",
      "Progress: 110000,  val accuracy: 0.7300\n",
      "Progress: 120000,  val accuracy: 0.7300\n",
      "Progress: 130000,  val accuracy: 0.7500\n",
      "Progress: 140000,  val accuracy: 0.7500\n",
      "Progress: 150000,  val accuracy: 0.7300\n",
      "Epoch 3\n",
      "Progress: 160000,  val accuracy: 0.7600\n",
      "Progress: 170000,  val accuracy: 0.7300\n",
      "Progress: 180000,  val accuracy: 0.7700\n",
      "Progress: 190000,  val accuracy: 0.7400\n",
      "Progress: 200000,  val accuracy: 0.7500\n",
      "Epoch 4\n",
      "Progress: 210000,  val accuracy: 0.7500\n",
      "Progress: 220000,  val accuracy: 0.8300\n",
      "Progress: 230000,  val accuracy: 0.7900\n",
      "Progress: 240000,  val accuracy: 0.8000\n",
      "Progress: 250000,  val accuracy: 0.8200\n",
      "Epoch 5\n",
      "Progress: 260000,  val accuracy: 0.8000\n",
      "Progress: 270000,  val accuracy: 0.8200\n",
      "Progress: 280000,  val accuracy: 0.8600\n",
      "Progress: 290000,  val accuracy: 0.8500\n",
      "Progress: 300000,  val accuracy: 0.7900\n",
      "Epoch 6\n",
      "Progress: 310000,  val accuracy: 0.8300\n",
      "Progress: 320000,  val accuracy: 0.8200\n",
      "Progress: 330000,  val accuracy: 0.8000\n",
      "Progress: 340000,  val accuracy: 0.8500\n",
      "Progress: 350000,  val accuracy: 0.8700\n",
      "Epoch 7\n",
      "Progress: 360000,  val accuracy: 0.8200\n",
      "Progress: 370000,  val accuracy: 0.8200\n",
      "Progress: 380000,  val accuracy: 0.8400\n",
      "Progress: 390000,  val accuracy: 0.8500\n",
      "Progress: 400000,  val accuracy: 0.8100\n",
      "Epoch 8\n",
      "Progress: 410000,  val accuracy: 0.8900\n",
      "Progress: 420000,  val accuracy: 0.8300\n",
      "Progress: 430000,  val accuracy: 0.8400\n",
      "Progress: 440000,  val accuracy: 0.8500\n",
      "Progress: 450000,  val accuracy: 0.8700\n",
      "Epoch 9\n",
      "Progress: 460000,  val accuracy: 0.8800\n",
      "Progress: 470000,  val accuracy: 0.8900\n",
      "Progress: 480000,  val accuracy: 0.8100\n",
      "Progress: 490000,  val accuracy: 0.8600\n",
      "Progress: 500000,  val accuracy: 0.8500\n",
      "Epoch 10\n",
      "Progress: 510000,  val accuracy: 0.9200\n",
      "Progress: 520000,  val accuracy: 0.8500\n",
      "Progress: 530000,  val accuracy: 0.8000\n",
      "Progress: 540000,  val accuracy: 0.8700\n",
      "Progress: 550000,  val accuracy: 0.9000\n",
      "Epoch 11\n",
      "Progress: 560000,  val accuracy: 0.8500\n",
      "Progress: 570000,  val accuracy: 0.9100\n",
      "Progress: 580000,  val accuracy: 0.8600\n",
      "Progress: 590000,  val accuracy: 0.8900\n",
      "Progress: 600000,  val accuracy: 0.8700\n",
      "Epoch 12\n",
      "Progress: 610000,  val accuracy: 0.8700\n",
      "Progress: 620000,  val accuracy: 0.8800\n",
      "Progress: 630000,  val accuracy: 0.8500\n",
      "Progress: 640000,  val accuracy: 0.8000\n",
      "Progress: 650000,  val accuracy: 0.8900\n",
      "Epoch 13\n",
      "Progress: 660000,  val accuracy: 0.8900\n",
      "Progress: 670000,  val accuracy: 0.8800\n",
      "Progress: 680000,  val accuracy: 0.8900\n",
      "Progress: 690000,  val accuracy: 0.8800\n",
      "Progress: 700000,  val accuracy: 0.8400\n",
      "Epoch 14\n",
      "Progress: 710000,  val accuracy: 0.8900\n",
      "Progress: 720000,  val accuracy: 0.8600\n",
      "Progress: 730000,  val accuracy: 0.8700\n",
      "Progress: 740000,  val accuracy: 0.8600\n",
      "Total training time1366.7505249977112\n",
      "Test accuracy of weak learner:  0.8459\n",
      "Training accuracy of weak learner:  0.88066\n",
      "Alpha:  1.3224826451490315\n",
      "t:  0 memory allocated: 139611648\n",
      "After WL  0  time elapsed(s):  1384\n",
      "----------------------------------------------------------------------------------------------------\n",
      "Training weak learner 1\n",
      "Epoch 0\n",
      "Progress: 10000,  val accuracy: 0.1400\n",
      "Progress: 20000,  val accuracy: 0.2500\n",
      "Progress: 30000,  val accuracy: 0.3200\n",
      "Progress: 40000,  val accuracy: 0.3900\n",
      "Progress: 50000,  val accuracy: 0.4800\n",
      "Epoch 1\n",
      "Progress: 60000,  val accuracy: 0.4800\n",
      "Progress: 70000,  val accuracy: 0.5200\n",
      "Progress: 80000,  val accuracy: 0.5700\n",
      "Progress: 90000,  val accuracy: 0.6000\n",
      "Progress: 100000,  val accuracy: 0.6500\n",
      "Epoch 2\n",
      "Progress: 110000,  val accuracy: 0.6100\n",
      "Progress: 120000,  val accuracy: 0.7000\n",
      "Progress: 130000,  val accuracy: 0.6900\n",
      "Progress: 140000,  val accuracy: 0.6800\n",
      "Progress: 150000,  val accuracy: 0.6500\n",
      "Epoch 3\n",
      "Progress: 160000,  val accuracy: 0.7100\n",
      "Progress: 170000,  val accuracy: 0.7200\n",
      "Progress: 180000,  val accuracy: 0.7000\n",
      "Progress: 190000,  val accuracy: 0.7700\n",
      "Progress: 200000,  val accuracy: 0.7700\n",
      "Epoch 4\n",
      "Progress: 210000,  val accuracy: 0.6800\n",
      "Progress: 220000,  val accuracy: 0.7500\n",
      "Progress: 230000,  val accuracy: 0.7200\n",
      "Progress: 240000,  val accuracy: 0.7000\n",
      "Progress: 250000,  val accuracy: 0.8100\n",
      "Epoch 5\n",
      "Progress: 320000,  val accuracy: 0.7800\n",
      "Progress: 330000,  val accuracy: 0.8000\n",
      "Progress: 340000,  val accuracy: 0.7800\n",
      "Progress: 350000,  val accuracy: 0.8600\n",
      "Epoch 7\n",
      "Progress: 360000,  val accuracy: 0.7600\n",
      "Progress: 370000,  val accuracy: 0.8200\n",
      "Progress: 380000,  val accuracy: 0.7800\n",
      "Progress: 390000,  val accuracy: 0.8000\n",
      "Progress: 400000,  val accuracy: 0.8000\n",
      "Epoch 8\n",
      "Progress: 410000,  val accuracy: 0.7700\n",
      "Progress: 420000,  val accuracy: 0.7900\n",
      "Progress: 430000,  val accuracy: 0.8400\n",
      "Progress: 440000,  val accuracy: 0.8800\n",
      "Progress: 450000,  val accuracy: 0.7900\n",
      "Epoch 9\n",
      "Progress: 460000,  val accuracy: 0.7700\n",
      "Progress: 470000,  val accuracy: 0.7600\n",
      "Progress: 480000,  val accuracy: 0.8600\n",
      "Progress: 490000,  val accuracy: 0.8000\n",
      "Progress: 500000,  val accuracy: 0.8200\n",
      "Epoch 10\n",
      "Progress: 510000,  val accuracy: 0.7800\n",
      "Progress: 520000,  val accuracy: 0.8100\n",
      "Progress: 530000,  val accuracy: 0.8300\n",
      "Progress: 540000,  val accuracy: 0.8300\n",
      "Progress: 550000,  val accuracy: 0.8600\n",
      "Epoch 11\n",
      "Progress: 560000,  val accuracy: 0.7800\n",
      "Progress: 570000,  val accuracy: 0.8300\n",
      "Progress: 580000,  val accuracy: 0.8300\n",
      "Progress: 590000,  val accuracy: 0.7700\n",
      "Progress: 600000,  val accuracy: 0.8500\n",
      "Epoch 12\n",
      "Progress: 610000,  val accuracy: 0.7800\n",
      "Progress: 620000,  val accuracy: 0.8200\n",
      "Progress: 630000,  val accuracy: 0.8000\n",
      "Progress: 640000,  val accuracy: 0.8300\n",
      "Progress: 650000,  val accuracy: 0.8500\n",
      "Epoch 13\n",
      "Progress: 660000,  val accuracy: 0.8200\n",
      "Progress: 670000,  val accuracy: 0.7000\n",
      "Progress: 680000,  val accuracy: 0.8800\n",
      "Progress: 690000,  val accuracy: 0.8300\n",
      "Progress: 700000,  val accuracy: 0.8000\n",
      "Epoch 14\n",
      "Progress: 710000,  val accuracy: 0.8500\n",
      "Progress: 720000,  val accuracy: 0.7500\n",
      "Progress: 730000,  val accuracy: 0.8400\n",
      "Progress: 740000,  val accuracy: 0.8600\n",
      "Total training time1377.9691891670227\n",
      "Test accuracy of weak learner:  0.8285\n",
      "Training accuracy of weak learner:  0.8692\n",
      "Alpha:  1.11663777034178\n",
      "t:  1 memory allocated: 138137088\n",
      "After WL  1  time elapsed(s):  2780\n",
      "----------------------------------------------------------------------------------------------------\n",
      "Training weak learner 2\n",
      "Epoch 0\n",
      "Progress: 10000,  val accuracy: 0.1500\n",
      "Progress: 20000,  val accuracy: 0.1900\n",
      "Progress: 30000,  val accuracy: 0.2500\n",
      "Progress: 40000,  val accuracy: 0.2800\n",
      "Progress: 50000,  val accuracy: 0.3200\n",
      "Epoch 1\n",
      "Progress: 60000,  val accuracy: 0.4200\n",
      "Progress: 70000,  val accuracy: 0.4900\n",
      "Progress: 80000,  val accuracy: 0.4500\n",
      "Progress: 90000,  val accuracy: 0.5300\n",
      "Progress: 100000,  val accuracy: 0.4900\n",
      "Epoch 2\n",
      "Progress: 110000,  val accuracy: 0.5200\n",
      "Progress: 120000,  val accuracy: 0.5000\n",
      "Progress: 130000,  val accuracy: 0.5500\n",
      "Progress: 140000,  val accuracy: 0.5600\n",
      "Progress: 150000,  val accuracy: 0.5700\n",
      "Epoch 3\n",
      "Progress: 160000,  val accuracy: 0.6600\n",
      "Progress: 170000,  val accuracy: 0.6200\n",
      "Progress: 180000,  val accuracy: 0.6200\n",
      "Progress: 190000,  val accuracy: 0.5800\n",
      "Progress: 200000,  val accuracy: 0.6300\n",
      "Epoch 4\n",
      "Progress: 210000,  val accuracy: 0.6300\n",
      "Progress: 220000,  val accuracy: 0.7200\n",
      "Progress: 230000,  val accuracy: 0.6900\n",
      "Progress: 240000,  val accuracy: 0.6300\n",
      "Progress: 250000,  val accuracy: 0.7000\n",
      "Epoch 5\n",
      "Progress: 260000,  val accuracy: 0.6900\n",
      "Progress: 270000,  val accuracy: 0.6700\n",
      "Progress: 280000,  val accuracy: 0.7000\n",
      "Progress: 290000,  val accuracy: 0.7300\n",
      "Progress: 300000,  val accuracy: 0.6800\n",
      "Epoch 6\n",
      "Progress: 310000,  val accuracy: 0.6700\n",
      "Progress: 320000,  val accuracy: 0.6700\n",
      "Progress: 330000,  val accuracy: 0.6900\n",
      "Progress: 340000,  val accuracy: 0.7600\n",
      "Progress: 350000,  val accuracy: 0.7300\n",
      "Epoch 7\n",
      "Progress: 360000,  val accuracy: 0.7200\n",
      "Progress: 370000,  val accuracy: 0.7200\n",
      "Progress: 380000,  val accuracy: 0.7200\n",
      "Progress: 390000,  val accuracy: 0.7300\n",
      "Progress: 400000,  val accuracy: 0.7500\n",
      "Epoch 8\n",
      "Progress: 410000,  val accuracy: 0.7400\n",
      "Progress: 420000,  val accuracy: 0.6700\n",
      "Progress: 430000,  val accuracy: 0.6800\n",
      "Progress: 440000,  val accuracy: 0.6400\n",
      "Progress: 450000,  val accuracy: 0.7000\n",
      "Epoch 9\n",
      "Progress: 460000,  val accuracy: 0.7500\n",
      "Progress: 470000,  val accuracy: 0.7600\n",
      "Progress: 480000,  val accuracy: 0.7200\n",
      "Progress: 490000,  val accuracy: 0.7300\n",
      "Progress: 500000,  val accuracy: 0.7800\n",
      "Epoch 10\n",
      "Progress: 510000,  val accuracy: 0.7500\n",
      "Progress: 520000,  val accuracy: 0.6800\n",
      "Progress: 530000,  val accuracy: 0.7700\n",
      "Progress: 540000,  val accuracy: 0.7500\n",
      "Progress: 550000,  val accuracy: 0.7500\n",
      "Epoch 11\n",
      "Progress: 560000,  val accuracy: 0.8200\n",
      "Progress: 570000,  val accuracy: 0.6900\n",
      "Progress: 580000,  val accuracy: 0.7500\n",
      "Progress: 590000,  val accuracy: 0.7600\n",
      "Progress: 600000,  val accuracy: 0.8100\n",
      "Epoch 12\n",
      "Progress: 610000,  val accuracy: 0.7900\n",
      "Progress: 620000,  val accuracy: 0.7800\n",
      "Progress: 630000,  val accuracy: 0.8000\n",
      "Progress: 640000,  val accuracy: 0.7300\n",
      "Progress: 650000,  val accuracy: 0.7800\n",
      "Epoch 13\n",
      "Progress: 660000,  val accuracy: 0.7700\n",
      "Progress: 670000,  val accuracy: 0.7700\n",
      "Progress: 680000,  val accuracy: 0.8200\n",
      "Progress: 690000,  val accuracy: 0.7700\n",
      "Progress: 700000,  val accuracy: 0.8300\n",
      "Epoch 14\n",
      "Progress: 710000,  val accuracy: 0.6900\n",
      "Progress: 720000,  val accuracy: 0.7900\n",
      "Progress: 730000,  val accuracy: 0.8500\n",
      "Progress: 740000,  val accuracy: 0.7400\n",
      "Total training time1364.5673153400421\n",
      "Test accuracy of weak learner:  0.8179\n",
      "Training accuracy of weak learner:  0.87914\n",
      "Alpha:  1.1435983915454326\n",
      "t:  2 memory allocated: 140545536\n",
      "After WL  2  time elapsed(s):  4162\n",
      "----------------------------------------------------------------------------------------------------\n",
      "Training weak learner 3\n",
      "Epoch 0\n",
      "Progress: 10000,  val accuracy: 0.1600\n",
      "Progress: 20000,  val accuracy: 0.1800\n",
      "Progress: 30000,  val accuracy: 0.2600\n",
      "Progress: 40000,  val accuracy: 0.2900\n",
      "Progress: 50000,  val accuracy: 0.3300\n",
      "Epoch 1\n",
      "Progress: 60000,  val accuracy: 0.4300\n",
      "Progress: 70000,  val accuracy: 0.3800\n",
      "Progress: 80000,  val accuracy: 0.4700\n",
      "Progress: 90000,  val accuracy: 0.4500\n",
      "Progress: 100000,  val accuracy: 0.4300\n",
      "Epoch 2\n",
      "Progress: 110000,  val accuracy: 0.5200\n",
      "Progress: 120000,  val accuracy: 0.5100\n",
      "Progress: 130000,  val accuracy: 0.4600\n",
      "Progress: 140000,  val accuracy: 0.5000\n",
      "Progress: 150000,  val accuracy: 0.5400\n",
      "Epoch 3\n",
      "Progress: 160000,  val accuracy: 0.5000\n",
      "Progress: 170000,  val accuracy: 0.5100\n",
      "Progress: 180000,  val accuracy: 0.5600\n",
      "Progress: 190000,  val accuracy: 0.5800\n",
      "Progress: 200000,  val accuracy: 0.5700\n",
      "Epoch 4\n",
      "Progress: 210000,  val accuracy: 0.5900\n",
      "Progress: 220000,  val accuracy: 0.6400\n",
      "Progress: 230000,  val accuracy: 0.5800\n",
      "Progress: 240000,  val accuracy: 0.5900\n",
      "Progress: 250000,  val accuracy: 0.6100\n",
      "Epoch 5\n",
      "Progress: 260000,  val accuracy: 0.7000\n",
      "Progress: 270000,  val accuracy: 0.6700\n",
      "Progress: 280000,  val accuracy: 0.6300\n",
      "Progress: 290000,  val accuracy: 0.6500\n",
      "Progress: 300000,  val accuracy: 0.6400\n",
      "Epoch 6\n",
      "Progress: 310000,  val accuracy: 0.6700\n",
      "Progress: 320000,  val accuracy: 0.6800\n",
      "Progress: 330000,  val accuracy: 0.6800\n",
      "Progress: 340000,  val accuracy: 0.6200\n",
      "Progress: 350000,  val accuracy: 0.6200\n",
      "Epoch 7\n",
      "Progress: 360000,  val accuracy: 0.6600\n",
      "Progress: 370000,  val accuracy: 0.6700\n",
      "Progress: 380000,  val accuracy: 0.6600\n",
      "Progress: 390000,  val accuracy: 0.6700\n",
      "Progress: 400000,  val accuracy: 0.7000\n",
      "Epoch 8\n",
      "Progress: 410000,  val accuracy: 0.6800\n",
      "Progress: 420000,  val accuracy: 0.6800\n",
      "Progress: 430000,  val accuracy: 0.7000\n",
      "Progress: 440000,  val accuracy: 0.7000\n",
      "Progress: 450000,  val accuracy: 0.6800\n",
      "Epoch 9\n",
      "Progress: 460000,  val accuracy: 0.6900\n",
      "Progress: 470000,  val accuracy: 0.6600\n",
      "Progress: 480000,  val accuracy: 0.6800\n",
      "Progress: 490000,  val accuracy: 0.6900\n",
      "Progress: 500000,  val accuracy: 0.6300\n",
      "Epoch 10\n",
      "Progress: 510000,  val accuracy: 0.7300\n",
      "Progress: 520000,  val accuracy: 0.6800\n",
      "Progress: 530000,  val accuracy: 0.7200\n",
      "Progress: 540000,  val accuracy: 0.6700\n",
      "Progress: 550000,  val accuracy: 0.7300\n",
      "Epoch 11\n",
      "Progress: 560000,  val accuracy: 0.7300\n",
      "Progress: 570000,  val accuracy: 0.7300\n",
      "Progress: 580000,  val accuracy: 0.7400\n",
      "Progress: 590000,  val accuracy: 0.7400\n",
      "Progress: 600000,  val accuracy: 0.7400\n",
      "Epoch 12\n",
      "Progress: 610000,  val accuracy: 0.7800\n",
      "Progress: 620000,  val accuracy: 0.7300\n",
      "Progress: 630000,  val accuracy: 0.7700\n",
      "Progress: 640000,  val accuracy: 0.7400\n",
      "Progress: 650000,  val accuracy: 0.7100\n",
      "Epoch 13\n",
      "Progress: 660000,  val accuracy: 0.7200\n",
      "Progress: 670000,  val accuracy: 0.7600\n",
      "Progress: 680000,  val accuracy: 0.7200\n",
      "Progress: 690000,  val accuracy: 0.7600\n",
      "Progress: 700000,  val accuracy: 0.7100\n",
      "Epoch 14\n",
      "Progress: 710000,  val accuracy: 0.7000\n",
      "Progress: 720000,  val accuracy: 0.7400\n",
      "Progress: 730000,  val accuracy: 0.7700\n",
      "Progress: 740000,  val accuracy: 0.7600\n",
      "Total training time1355.8129103183746\n",
      "Test accuracy of weak learner:  0.8109\n",
      "Training accuracy of weak learner:  0.86594\n",
      "Alpha:  1.119649430590053\n",
      "t:  3 memory allocated: 138939904\n",
      "After WL  3  time elapsed(s):  5536\n",
      "----------------------------------------------------------------------------------------------------\n",
      "Training weak learner 4\n",
      "Epoch 0\n",
      "Progress: 10000,  val accuracy: 0.1400\n",
      "Progress: 20000,  val accuracy: 0.1500\n",
      "Progress: 30000,  val accuracy: 0.1600\n",
      "Progress: 40000,  val accuracy: 0.2700\n",
      "Progress: 50000,  val accuracy: 0.2800\n",
      "Epoch 1\n",
      "Progress: 60000,  val accuracy: 0.2600\n",
      "Progress: 70000,  val accuracy: 0.3300\n",
      "Progress: 80000,  val accuracy: 0.3300\n",
      "Progress: 90000,  val accuracy: 0.3900\n",
      "Progress: 100000,  val accuracy: 0.4200\n",
      "Epoch 2\n",
      "Progress: 110000,  val accuracy: 0.3700\n",
      "Progress: 120000,  val accuracy: 0.4300\n",
      "Progress: 130000,  val accuracy: 0.3500\n",
      "Progress: 140000,  val accuracy: 0.5400\n",
      "Progress: 150000,  val accuracy: 0.4700\n",
      "Epoch 3\n",
      "Progress: 160000,  val accuracy: 0.4700\n",
      "Progress: 170000,  val accuracy: 0.5600\n",
      "Progress: 180000,  val accuracy: 0.4700\n",
      "Progress: 190000,  val accuracy: 0.4800\n",
      "Progress: 200000,  val accuracy: 0.5400\n",
      "Epoch 4\n",
      "Progress: 210000,  val accuracy: 0.5100\n",
      "Progress: 220000,  val accuracy: 0.5500\n",
      "Progress: 230000,  val accuracy: 0.5300\n",
      "Progress: 240000,  val accuracy: 0.5200\n",
      "Progress: 250000,  val accuracy: 0.5700\n",
      "Epoch 5\n",
      "Progress: 260000,  val accuracy: 0.5600\n",
      "Progress: 270000,  val accuracy: 0.5500\n",
      "Progress: 280000,  val accuracy: 0.6400\n",
      "Progress: 290000,  val accuracy: 0.5700\n",
      "Progress: 300000,  val accuracy: 0.6100\n",
      "Epoch 6\n",
      "Progress: 310000,  val accuracy: 0.5200\n",
      "Progress: 320000,  val accuracy: 0.5400\n",
      "Progress: 330000,  val accuracy: 0.5800\n",
      "Progress: 340000,  val accuracy: 0.5400\n",
      "Progress: 350000,  val accuracy: 0.5900\n",
      "Epoch 7\n",
      "Progress: 360000,  val accuracy: 0.6500\n",
      "Progress: 370000,  val accuracy: 0.6900\n",
      "Progress: 380000,  val accuracy: 0.6500\n",
      "Progress: 390000,  val accuracy: 0.6800\n",
      "Progress: 400000,  val accuracy: 0.6500\n",
      "Epoch 8\n",
      "Progress: 410000,  val accuracy: 0.6100\n",
      "Progress: 420000,  val accuracy: 0.5600\n",
      "Progress: 430000,  val accuracy: 0.6100\n",
      "Progress: 440000,  val accuracy: 0.5800\n",
      "Progress: 450000,  val accuracy: 0.6000\n",
      "Epoch 9\n",
      "Progress: 460000,  val accuracy: 0.6700\n",
      "Progress: 470000,  val accuracy: 0.6600\n",
      "Progress: 480000,  val accuracy: 0.6100\n",
      "Progress: 490000,  val accuracy: 0.6500\n",
      "Progress: 500000,  val accuracy: 0.6300\n",
      "Epoch 10\n",
      "Progress: 510000,  val accuracy: 0.6500\n",
      "Progress: 520000,  val accuracy: 0.6500\n",
      "Progress: 530000,  val accuracy: 0.6900\n",
      "Progress: 540000,  val accuracy: 0.6400\n",
      "Progress: 550000,  val accuracy: 0.6700\n",
      "Epoch 11\n",
      "Progress: 560000,  val accuracy: 0.7100\n",
      "Progress: 570000,  val accuracy: 0.6200\n",
      "Progress: 580000,  val accuracy: 0.6400\n",
      "Progress: 590000,  val accuracy: 0.6800\n",
      "Progress: 600000,  val accuracy: 0.7000\n",
      "Epoch 12\n",
      "Progress: 610000,  val accuracy: 0.6700\n",
      "Progress: 620000,  val accuracy: 0.6300\n",
      "Progress: 630000,  val accuracy: 0.6900\n",
      "Progress: 640000,  val accuracy: 0.6600\n",
      "Progress: 650000,  val accuracy: 0.7500\n",
      "Epoch 13\n",
      "Progress: 660000,  val accuracy: 0.6600\n",
      "Progress: 670000,  val accuracy: 0.7000\n",
      "Progress: 680000,  val accuracy: 0.6600\n",
      "Progress: 690000,  val accuracy: 0.6900\n",
      "Progress: 700000,  val accuracy: 0.6700\n",
      "Epoch 14\n",
      "Progress: 710000,  val accuracy: 0.7000\n",
      "Progress: 720000,  val accuracy: 0.7500\n",
      "Progress: 730000,  val accuracy: 0.6500\n",
      "Progress: 740000,  val accuracy: 0.6700\n",
      "Total training time1357.2422380447388\n",
      "Test accuracy of weak learner:  0.7652\n",
      "Training accuracy of weak learner:  0.83196\n",
      "Alpha:  1.024730594920111\n",
      "t:  4 memory allocated: 138939904\n",
      "After WL  4  time elapsed(s):  6911\n",
      "----------------------------------------------------------------------------------------------------\n",
      "Training weak learner 5\n",
      "Epoch 0\n",
      "Progress: 10000,  val accuracy: 0.1500\n",
      "Progress: 20000,  val accuracy: 0.1300\n",
      "Progress: 30000,  val accuracy: 0.1900\n",
      "Progress: 40000,  val accuracy: 0.2800\n",
      "Progress: 50000,  val accuracy: 0.2600\n",
      "Epoch 1\n",
      "Progress: 60000,  val accuracy: 0.3500\n",
      "Progress: 70000,  val accuracy: 0.2800\n",
      "Progress: 80000,  val accuracy: 0.3600\n",
      "Progress: 90000,  val accuracy: 0.4100\n",
      "Progress: 100000,  val accuracy: 0.4300\n",
      "Epoch 2\n",
      "Progress: 110000,  val accuracy: 0.4500\n",
      "Progress: 120000,  val accuracy: 0.4100\n",
      "Progress: 130000,  val accuracy: 0.5000\n",
      "Progress: 140000,  val accuracy: 0.3600\n",
      "Progress: 150000,  val accuracy: 0.4400\n",
      "Epoch 3\n",
      "Progress: 160000,  val accuracy: 0.4600\n",
      "Progress: 170000,  val accuracy: 0.4900\n",
      "Progress: 180000,  val accuracy: 0.4800\n",
      "Progress: 190000,  val accuracy: 0.5100\n",
      "Progress: 200000,  val accuracy: 0.4300\n",
      "Epoch 4\n",
      "Progress: 210000,  val accuracy: 0.5300\n",
      "Progress: 220000,  val accuracy: 0.4500\n",
      "Progress: 230000,  val accuracy: 0.4600\n",
      "Progress: 240000,  val accuracy: 0.5300\n",
      "Progress: 250000,  val accuracy: 0.4900\n",
      "Epoch 5\n",
      "Progress: 260000,  val accuracy: 0.4100\n",
      "Progress: 270000,  val accuracy: 0.4800\n",
      "Progress: 280000,  val accuracy: 0.5900\n",
      "Progress: 290000,  val accuracy: 0.5000\n",
      "Progress: 300000,  val accuracy: 0.5800\n",
      "Epoch 6\n",
      "Progress: 380000,  val accuracy: 0.5200\n",
      "Progress: 390000,  val accuracy: 0.6400\n",
      "Progress: 400000,  val accuracy: 0.6100\n",
      "Epoch 8\n",
      "Progress: 410000,  val accuracy: 0.6100\n",
      "Progress: 420000,  val accuracy: 0.6100\n",
      "Progress: 430000,  val accuracy: 0.6200\n",
      "Progress: 440000,  val accuracy: 0.5800\n",
      "Progress: 450000,  val accuracy: 0.6600\n",
      "Epoch 9\n",
      "Progress: 460000,  val accuracy: 0.5600\n",
      "Progress: 470000,  val accuracy: 0.6400\n",
      "Progress: 480000,  val accuracy: 0.6400\n",
      "Progress: 490000,  val accuracy: 0.6400\n",
      "Progress: 500000,  val accuracy: 0.6400\n",
      "Epoch 10\n",
      "Progress: 510000,  val accuracy: 0.6800\n",
      "Progress: 520000,  val accuracy: 0.6200\n",
      "Progress: 530000,  val accuracy: 0.6400\n",
      "Progress: 540000,  val accuracy: 0.6500\n",
      "Progress: 550000,  val accuracy: 0.6500\n",
      "Epoch 11\n",
      "Progress: 560000,  val accuracy: 0.6900\n",
      "Progress: 570000,  val accuracy: 0.6700\n",
      "Progress: 580000,  val accuracy: 0.7100\n",
      "Progress: 590000,  val accuracy: 0.7200\n",
      "Progress: 600000,  val accuracy: 0.7600\n",
      "Epoch 12\n",
      "Progress: 610000,  val accuracy: 0.6400\n",
      "Progress: 620000,  val accuracy: 0.7100\n",
      "Progress: 630000,  val accuracy: 0.6600\n",
      "Progress: 640000,  val accuracy: 0.7000\n",
      "Progress: 650000,  val accuracy: 0.6700\n",
      "Epoch 13\n",
      "Progress: 660000,  val accuracy: 0.7000\n",
      "Progress: 670000,  val accuracy: 0.6600\n",
      "Progress: 680000,  val accuracy: 0.7200\n",
      "Progress: 690000,  val accuracy: 0.6400\n",
      "Progress: 700000,  val accuracy: 0.6400\n",
      "Epoch 14\n",
      "Progress: 710000,  val accuracy: 0.6400\n",
      "Progress: 720000,  val accuracy: 0.6900\n",
      "Progress: 730000,  val accuracy: 0.6000\n",
      "Progress: 740000,  val accuracy: 0.6500\n",
      "Total training time1355.1478605270386\n",
      "Test accuracy of weak learner:  0.7464\n",
      "Training accuracy of weak learner:  0.81662\n",
      "Alpha:  0.9900527175695273\n",
      "t:  5 memory allocated: 138939904\n",
      "After WL  5  time elapsed(s):  8284\n",
      "----------------------------------------------------------------------------------------------------\n",
      "Training weak learner 6\n",
      "Epoch 0\n",
      "Progress: 10000,  val accuracy: 0.1400\n",
      "Progress: 20000,  val accuracy: 0.1600\n",
      "Progress: 30000,  val accuracy: 0.1900\n",
      "Progress: 40000,  val accuracy: 0.1900\n",
      "Progress: 50000,  val accuracy: 0.2500\n",
      "Epoch 1\n",
      "Progress: 60000,  val accuracy: 0.2800\n",
      "Progress: 70000,  val accuracy: 0.3300\n",
      "Progress: 80000,  val accuracy: 0.3700\n",
      "Progress: 90000,  val accuracy: 0.3100\n",
      "Progress: 100000,  val accuracy: 0.3700\n",
      "Epoch 2\n",
      "Progress: 110000,  val accuracy: 0.4300\n",
      "Progress: 120000,  val accuracy: 0.4100\n",
      "Progress: 130000,  val accuracy: 0.4600\n",
      "Progress: 140000,  val accuracy: 0.3600\n",
      "Progress: 150000,  val accuracy: 0.4600\n",
      "Epoch 3\n",
      "Progress: 160000,  val accuracy: 0.4400\n",
      "Progress: 170000,  val accuracy: 0.4800\n",
      "Progress: 180000,  val accuracy: 0.5300\n",
      "Progress: 190000,  val accuracy: 0.4300\n",
      "Progress: 200000,  val accuracy: 0.3600\n",
      "Epoch 4\n",
      "Progress: 210000,  val accuracy: 0.4500\n",
      "Progress: 220000,  val accuracy: 0.4700\n",
      "Progress: 230000,  val accuracy: 0.4800\n",
      "Progress: 240000,  val accuracy: 0.4900\n",
      "Progress: 250000,  val accuracy: 0.4600\n",
      "Epoch 5\n",
      "Progress: 260000,  val accuracy: 0.4700\n",
      "Progress: 270000,  val accuracy: 0.5000\n",
      "Progress: 280000,  val accuracy: 0.5300\n",
      "Progress: 290000,  val accuracy: 0.5000\n",
      "Progress: 300000,  val accuracy: 0.6200\n",
      "Epoch 6\n",
      "Progress: 310000,  val accuracy: 0.5000\n",
      "Progress: 320000,  val accuracy: 0.5600\n",
      "Progress: 330000,  val accuracy: 0.5400\n",
      "Progress: 340000,  val accuracy: 0.4900\n",
      "Progress: 350000,  val accuracy: 0.5200\n",
      "Epoch 7\n",
      "Progress: 360000,  val accuracy: 0.5900\n",
      "Progress: 370000,  val accuracy: 0.6100\n",
      "Progress: 380000,  val accuracy: 0.5400\n",
      "Progress: 390000,  val accuracy: 0.6000\n",
      "Progress: 400000,  val accuracy: 0.5900\n",
      "Epoch 8\n",
      "Progress: 410000,  val accuracy: 0.5400\n",
      "Progress: 420000,  val accuracy: 0.5600\n",
      "Progress: 430000,  val accuracy: 0.4900\n",
      "Progress: 440000,  val accuracy: 0.5200\n",
      "Progress: 450000,  val accuracy: 0.5500\n",
      "Epoch 9\n",
      "Progress: 460000,  val accuracy: 0.5200\n",
      "Progress: 470000,  val accuracy: 0.6100\n",
      "Progress: 480000,  val accuracy: 0.5600\n",
      "Progress: 490000,  val accuracy: 0.5200\n",
      "Progress: 500000,  val accuracy: 0.6200\n",
      "Epoch 10\n",
      "Progress: 510000,  val accuracy: 0.5700\n",
      "Progress: 520000,  val accuracy: 0.6200\n",
      "Progress: 530000,  val accuracy: 0.5600\n",
      "Progress: 540000,  val accuracy: 0.6200\n",
      "Progress: 550000,  val accuracy: 0.5700\n",
      "Epoch 11\n",
      "Progress: 560000,  val accuracy: 0.5700\n",
      "Progress: 570000,  val accuracy: 0.5900\n",
      "Progress: 580000,  val accuracy: 0.6100\n",
      "Progress: 590000,  val accuracy: 0.5900\n",
      "Progress: 600000,  val accuracy: 0.6500\n",
      "Epoch 12\n",
      "Progress: 610000,  val accuracy: 0.6600\n",
      "Progress: 620000,  val accuracy: 0.6500\n",
      "Progress: 630000,  val accuracy: 0.6300\n",
      "Progress: 640000,  val accuracy: 0.6900\n",
      "Progress: 650000,  val accuracy: 0.6700\n",
      "Epoch 13\n",
      "Progress: 660000,  val accuracy: 0.7100\n",
      "Progress: 670000,  val accuracy: 0.6400\n",
      "Progress: 680000,  val accuracy: 0.6100\n",
      "Progress: 690000,  val accuracy: 0.6900\n",
      "Progress: 700000,  val accuracy: 0.7000\n",
      "Epoch 14\n",
      "Progress: 710000,  val accuracy: 0.7100\n",
      "Progress: 720000,  val accuracy: 0.7000\n",
      "Progress: 730000,  val accuracy: 0.6800\n",
      "Progress: 740000,  val accuracy: 0.6600\n",
      "Total training time1355.8011376857758\n",
      "Test accuracy of weak learner:  0.7354\n",
      "Training accuracy of weak learner:  0.80928\n",
      "Alpha:  0.9757069329370579\n",
      "t:  6 memory allocated: 138939904\n",
      "After WL  6  time elapsed(s):  9657\n",
      "----------------------------------------------------------------------------------------------------\n",
      "Training weak learner 7\n",
      "Epoch 0\n",
      "Progress: 10000,  val accuracy: 0.1300\n",
      "Progress: 20000,  val accuracy: 0.1700\n",
      "Progress: 30000,  val accuracy: 0.2100\n",
      "Progress: 40000,  val accuracy: 0.1700\n",
      "Progress: 50000,  val accuracy: 0.2300\n",
      "Epoch 1\n",
      "Progress: 60000,  val accuracy: 0.2000\n",
      "Progress: 70000,  val accuracy: 0.2700\n",
      "Progress: 80000,  val accuracy: 0.2200\n",
      "Progress: 90000,  val accuracy: 0.4100\n",
      "Progress: 100000,  val accuracy: 0.3700\n",
      "Epoch 2\n",
      "Progress: 110000,  val accuracy: 0.3300\n",
      "Progress: 120000,  val accuracy: 0.3800\n",
      "Progress: 130000,  val accuracy: 0.4300\n",
      "Progress: 140000,  val accuracy: 0.3500\n",
      "Progress: 150000,  val accuracy: 0.4400\n",
      "Epoch 3\n",
      "Progress: 160000,  val accuracy: 0.5300\n",
      "Progress: 170000,  val accuracy: 0.3600\n",
      "Progress: 180000,  val accuracy: 0.4300\n",
      "Progress: 190000,  val accuracy: 0.3800\n",
      "Progress: 200000,  val accuracy: 0.3800\n",
      "Epoch 4\n",
      "Progress: 210000,  val accuracy: 0.4500\n",
      "Progress: 220000,  val accuracy: 0.3800\n",
      "Progress: 230000,  val accuracy: 0.4600\n",
      "Progress: 240000,  val accuracy: 0.3800\n",
      "Progress: 250000,  val accuracy: 0.4100\n",
      "Epoch 5\n",
      "Progress: 260000,  val accuracy: 0.4800\n",
      "Progress: 270000,  val accuracy: 0.4300\n",
      "Progress: 280000,  val accuracy: 0.4500\n",
      "Progress: 290000,  val accuracy: 0.4800\n",
      "Progress: 300000,  val accuracy: 0.4800\n",
      "Epoch 6\n",
      "Progress: 310000,  val accuracy: 0.5100\n",
      "Progress: 320000,  val accuracy: 0.5000\n",
      "Progress: 330000,  val accuracy: 0.4700\n",
      "Progress: 340000,  val accuracy: 0.4800\n",
      "Progress: 350000,  val accuracy: 0.4600\n",
      "Epoch 7\n",
      "Progress: 360000,  val accuracy: 0.5500\n",
      "Progress: 370000,  val accuracy: 0.5200\n",
      "Progress: 380000,  val accuracy: 0.5300\n",
      "Progress: 390000,  val accuracy: 0.6300\n",
      "Progress: 400000,  val accuracy: 0.5000\n",
      "Epoch 8\n",
      "Progress: 410000,  val accuracy: 0.5100\n",
      "Progress: 420000,  val accuracy: 0.5800\n",
      "Progress: 430000,  val accuracy: 0.6200\n",
      "Progress: 440000,  val accuracy: 0.5100\n",
      "Progress: 450000,  val accuracy: 0.5000\n",
      "Epoch 9\n",
      "Progress: 460000,  val accuracy: 0.5800\n",
      "Progress: 470000,  val accuracy: 0.6400\n",
      "Progress: 480000,  val accuracy: 0.6000\n",
      "Progress: 490000,  val accuracy: 0.5100\n",
      "Progress: 500000,  val accuracy: 0.5600\n",
      "Epoch 10\n",
      "Progress: 510000,  val accuracy: 0.5700\n",
      "Progress: 520000,  val accuracy: 0.6200\n",
      "Progress: 530000,  val accuracy: 0.6100\n",
      "Progress: 540000,  val accuracy: 0.6200\n",
      "Progress: 550000,  val accuracy: 0.5500\n",
      "Epoch 11\n",
      "Progress: 560000,  val accuracy: 0.6700\n",
      "Progress: 570000,  val accuracy: 0.6400\n",
      "Progress: 580000,  val accuracy: 0.6200\n",
      "Progress: 590000,  val accuracy: 0.6200\n",
      "Progress: 600000,  val accuracy: 0.6100\n",
      "Epoch 12\n",
      "Progress: 610000,  val accuracy: 0.6400\n",
      "Progress: 620000,  val accuracy: 0.6800\n",
      "Progress: 630000,  val accuracy: 0.6500\n",
      "Progress: 640000,  val accuracy: 0.6800\n",
      "Progress: 650000,  val accuracy: 0.6700\n",
      "Epoch 13\n",
      "Progress: 660000,  val accuracy: 0.6900\n",
      "Progress: 670000,  val accuracy: 0.6400\n",
      "Progress: 680000,  val accuracy: 0.6400\n",
      "Progress: 690000,  val accuracy: 0.6500\n",
      "Progress: 700000,  val accuracy: 0.6700\n",
      "Epoch 14\n",
      "Progress: 20000,  val accuracy: 0.1500\n",
      "Progress: 30000,  val accuracy: 0.2500\n",
      "Progress: 40000,  val accuracy: 0.2500\n",
      "Progress: 50000,  val accuracy: 0.3100\n",
      "Epoch 1\n",
      "Progress: 60000,  val accuracy: 0.2900\n",
      "Progress: 70000,  val accuracy: 0.3100\n",
      "Progress: 80000,  val accuracy: 0.2500\n",
      "Progress: 90000,  val accuracy: 0.3000\n",
      "Progress: 100000,  val accuracy: 0.3600\n",
      "Epoch 2\n",
      "Progress: 110000,  val accuracy: 0.4200\n",
      "Progress: 120000,  val accuracy: 0.3800\n",
      "Progress: 130000,  val accuracy: 0.3300\n",
      "Progress: 140000,  val accuracy: 0.4100\n",
      "Progress: 150000,  val accuracy: 0.4400\n",
      "Epoch 3\n",
      "Progress: 160000,  val accuracy: 0.4500\n",
      "Progress: 170000,  val accuracy: 0.3700\n",
      "Progress: 180000,  val accuracy: 0.4400\n",
      "Progress: 190000,  val accuracy: 0.4000\n",
      "Progress: 200000,  val accuracy: 0.4000\n",
      "Epoch 4\n",
      "Progress: 210000,  val accuracy: 0.4400\n",
      "Progress: 220000,  val accuracy: 0.4100\n",
      "Progress: 230000,  val accuracy: 0.3900\n",
      "Progress: 240000,  val accuracy: 0.4800\n",
      "Progress: 250000,  val accuracy: 0.4500\n",
      "Epoch 5\n",
      "Progress: 260000,  val accuracy: 0.5000\n",
      "Progress: 270000,  val accuracy: 0.4300\n",
      "Progress: 280000,  val accuracy: 0.4200\n",
      "Progress: 290000,  val accuracy: 0.4600\n",
      "Progress: 300000,  val accuracy: 0.5300\n",
      "Epoch 6\n",
      "Progress: 310000,  val accuracy: 0.5000\n",
      "Progress: 320000,  val accuracy: 0.4600\n",
      "Progress: 330000,  val accuracy: 0.4600\n",
      "Progress: 340000,  val accuracy: 0.5100\n",
      "Progress: 350000,  val accuracy: 0.4500\n",
      "Epoch 7\n",
      "Progress: 360000,  val accuracy: 0.4500\n",
      "Progress: 370000,  val accuracy: 0.5200\n",
      "Progress: 380000,  val accuracy: 0.4900\n",
      "Progress: 390000,  val accuracy: 0.5600\n",
      "Progress: 400000,  val accuracy: 0.4800\n",
      "Epoch 8\n",
      "Progress: 410000,  val accuracy: 0.5600\n",
      "Progress: 420000,  val accuracy: 0.5300\n",
      "Progress: 430000,  val accuracy: 0.5200\n",
      "Progress: 440000,  val accuracy: 0.5300\n",
      "Progress: 450000,  val accuracy: 0.4300\n",
      "Epoch 9\n",
      "Progress: 460000,  val accuracy: 0.5500\n",
      "Progress: 470000,  val accuracy: 0.5100\n",
      "Progress: 480000,  val accuracy: 0.5700\n",
      "Progress: 490000,  val accuracy: 0.5200\n",
      "Progress: 500000,  val accuracy: 0.5300\n",
      "Epoch 10\n",
      "Progress: 510000,  val accuracy: 0.5900\n",
      "Progress: 520000,  val accuracy: 0.5500\n",
      "Progress: 530000,  val accuracy: 0.5700\n",
      "Progress: 540000,  val accuracy: 0.5800\n",
      "Progress: 550000,  val accuracy: 0.6000\n",
      "Epoch 11\n",
      "Progress: 560000,  val accuracy: 0.5600\n",
      "Progress: 570000,  val accuracy: 0.6100\n",
      "Progress: 580000,  val accuracy: 0.5300\n",
      "Progress: 590000,  val accuracy: 0.5700\n",
      "Progress: 600000,  val accuracy: 0.5200\n",
      "Epoch 12\n",
      "Progress: 610000,  val accuracy: 0.5500\n",
      "Progress: 620000,  val accuracy: 0.6000\n",
      "Progress: 630000,  val accuracy: 0.6300\n",
      "Progress: 640000,  val accuracy: 0.5900\n",
      "Progress: 650000,  val accuracy: 0.6000\n",
      "Epoch 13\n",
      "Progress: 660000,  val accuracy: 0.5300\n",
      "Progress: 670000,  val accuracy: 0.5700\n",
      "Progress: 680000,  val accuracy: 0.6600\n",
      "Progress: 690000,  val accuracy: 0.5500\n",
      "Progress: 700000,  val accuracy: 0.6100\n",
      "Epoch 14\n",
      "Progress: 710000,  val accuracy: 0.6700\n",
      "Progress: 720000,  val accuracy: 0.5600\n",
      "Progress: 730000,  val accuracy: 0.6300\n",
      "Progress: 740000,  val accuracy: 0.6400\n",
      "Total training time1356.3067350387573\n",
      "Test accuracy of weak learner:  0.6897\n",
      "Training accuracy of weak learner:  0.74876\n",
      "Alpha:  0.8423935012825927\n",
      "t:  8 memory allocated: 138939904\n",
      "After WL  8  time elapsed(s):  12404\n",
      "----------------------------------------------------------------------------------------------------\n",
      "Training weak learner 9\n",
      "Epoch 0\n",
      "Progress: 10000,  val accuracy: 0.0900\n",
      "Progress: 20000,  val accuracy: 0.2000\n",
      "Progress: 30000,  val accuracy: 0.2300\n",
      "Progress: 40000,  val accuracy: 0.3300\n",
      "Progress: 50000,  val accuracy: 0.2800\n",
      "Epoch 1\n",
      "Progress: 60000,  val accuracy: 0.2700\n",
      "Progress: 70000,  val accuracy: 0.3200\n",
      "Progress: 80000,  val accuracy: 0.4000\n",
      "Progress: 90000,  val accuracy: 0.3200\n",
      "Progress: 100000,  val accuracy: 0.4400\n",
      "Epoch 2\n",
      "Progress: 110000,  val accuracy: 0.4600\n",
      "Progress: 120000,  val accuracy: 0.3700\n",
      "Progress: 130000,  val accuracy: 0.4100\n",
      "Progress: 140000,  val accuracy: 0.3400\n",
      "Progress: 150000,  val accuracy: 0.4600\n",
      "Epoch 3\n",
      "Progress: 160000,  val accuracy: 0.4900\n",
      "Progress: 170000,  val accuracy: 0.4400\n",
      "Progress: 180000,  val accuracy: 0.4400\n",
      "Progress: 190000,  val accuracy: 0.4200\n",
      "Progress: 200000,  val accuracy: 0.4100\n",
      "Epoch 4\n",
      "Progress: 210000,  val accuracy: 0.4300\n",
      "Progress: 220000,  val accuracy: 0.4800\n",
      "Progress: 230000,  val accuracy: 0.5800\n",
      "Progress: 240000,  val accuracy: 0.5100\n",
      "Progress: 250000,  val accuracy: 0.5300\n",
      "Epoch 5\n",
      "Progress: 260000,  val accuracy: 0.5500\n",
      "Progress: 270000,  val accuracy: 0.5700\n",
      "Progress: 280000,  val accuracy: 0.6000\n",
      "Progress: 290000,  val accuracy: 0.4600\n",
      "Progress: 300000,  val accuracy: 0.5100\n",
      "Epoch 6\n",
      "Progress: 310000,  val accuracy: 0.6200\n",
      "Progress: 320000,  val accuracy: 0.5300\n",
      "Progress: 330000,  val accuracy: 0.5800\n",
      "Progress: 340000,  val accuracy: 0.5100\n",
      "Progress: 350000,  val accuracy: 0.4900\n",
      "Epoch 7\n",
      "Progress: 360000,  val accuracy: 0.5200\n",
      "Progress: 370000,  val accuracy: 0.5300\n",
      "Progress: 380000,  val accuracy: 0.5000\n",
      "Progress: 390000,  val accuracy: 0.5700\n",
      "Progress: 400000,  val accuracy: 0.6000\n",
      "Epoch 8\n",
      "Progress: 410000,  val accuracy: 0.6300\n",
      "Progress: 420000,  val accuracy: 0.5400\n",
      "Progress: 430000,  val accuracy: 0.5800\n",
      "Progress: 440000,  val accuracy: 0.5700\n",
      "Progress: 450000,  val accuracy: 0.5900\n",
      "Epoch 9\n",
      "Progress: 460000,  val accuracy: 0.6000\n",
      "Progress: 470000,  val accuracy: 0.6000\n",
      "Progress: 480000,  val accuracy: 0.6200\n",
      "Progress: 490000,  val accuracy: 0.5600\n",
      "Progress: 500000,  val accuracy: 0.6200\n",
      "Epoch 10\n",
      "Progress: 510000,  val accuracy: 0.6100\n",
      "Progress: 520000,  val accuracy: 0.6000\n",
      "Progress: 530000,  val accuracy: 0.6100\n",
      "Progress: 540000,  val accuracy: 0.5400\n",
      "Progress: 550000,  val accuracy: 0.6700\n",
      "Epoch 11\n",
      "Progress: 560000,  val accuracy: 0.5900\n",
      "Progress: 570000,  val accuracy: 0.6200\n",
      "Progress: 580000,  val accuracy: 0.6000\n",
      "Progress: 590000,  val accuracy: 0.6100\n",
      "Progress: 600000,  val accuracy: 0.6800\n",
      "Epoch 12\n",
      "Progress: 610000,  val accuracy: 0.6000\n",
      "Progress: 620000,  val accuracy: 0.6300\n",
      "Progress: 630000,  val accuracy: 0.6300\n",
      "Progress: 640000,  val accuracy: 0.6500\n",
      "Progress: 650000,  val accuracy: 0.6500\n",
      "Epoch 13\n",
      "Progress: 660000,  val accuracy: 0.6500\n",
      "Progress: 670000,  val accuracy: 0.5700\n",
      "Progress: 680000,  val accuracy: 0.6100\n",
      "Progress: 690000,  val accuracy: 0.6700\n",
      "Progress: 700000,  val accuracy: 0.6200\n",
      "Epoch 14\n",
      "Progress: 710000,  val accuracy: 0.6200\n",
      "Progress: 720000,  val accuracy: 0.6500\n",
      "Progress: 730000,  val accuracy: 0.7000\n",
      "Progress: 740000,  val accuracy: 0.6300\n",
      "Total training time1356.6948845386505\n",
      "Test accuracy of weak learner:  0.7394\n",
      "Training accuracy of weak learner:  0.80894\n",
      "Alpha:  1.008164542833036\n",
      "t:  9 memory allocated: 138939904\n",
      "After WL  9  time elapsed(s):  13778\n",
      "----------------------------------------------------------------------------------------------------\n",
      "Training weak learner 10\n",
      "Epoch 0\n",
      "Progress: 10000,  val accuracy: 0.0900\n",
      "Progress: 20000,  val accuracy: 0.1900\n",
      "Progress: 30000,  val accuracy: 0.2300\n",
      "Progress: 40000,  val accuracy: 0.2600\n",
      "Progress: 50000,  val accuracy: 0.2800\n",
      "Epoch 1\n",
      "Progress: 60000,  val accuracy: 0.3000\n",
      "Progress: 70000,  val accuracy: 0.3100\n",
      "Progress: 80000,  val accuracy: 0.3500\n",
      "Progress: 90000,  val accuracy: 0.4200\n",
      "Progress: 100000,  val accuracy: 0.3900\n",
      "Epoch 2\n",
      "Progress: 110000,  val accuracy: 0.4400\n",
      "Progress: 120000,  val accuracy: 0.4300\n",
      "Progress: 130000,  val accuracy: 0.4600\n",
      "Progress: 140000,  val accuracy: 0.4300\n",
      "Progress: 150000,  val accuracy: 0.3300\n",
      "Epoch 3\n",
      "Progress: 160000,  val accuracy: 0.3900\n",
      "Progress: 170000,  val accuracy: 0.4400\n",
      "Progress: 180000,  val accuracy: 0.4500\n",
      "Progress: 190000,  val accuracy: 0.4600\n",
      "Progress: 200000,  val accuracy: 0.4400\n",
      "Epoch 4\n",
      "Progress: 210000,  val accuracy: 0.4300\n",
      "Progress: 220000,  val accuracy: 0.4900\n",
      "Progress: 230000,  val accuracy: 0.5100\n",
      "Progress: 240000,  val accuracy: 0.4600\n",
      "Progress: 250000,  val accuracy: 0.4900\n",
      "Epoch 5\n",
      "Progress: 260000,  val accuracy: 0.5200\n",
      "Progress: 270000,  val accuracy: 0.4900\n",
      "Progress: 280000,  val accuracy: 0.4600\n",
      "Progress: 290000,  val accuracy: 0.4800\n",
      "Progress: 300000,  val accuracy: 0.5200\n",
      "Epoch 6\n",
      "Progress: 310000,  val accuracy: 0.5800\n",
      "Progress: 320000,  val accuracy: 0.5100\n",
      "Progress: 330000,  val accuracy: 0.5100\n",
      "Progress: 340000,  val accuracy: 0.5200\n",
      "Progress: 350000,  val accuracy: 0.5400\n",
      "Epoch 7\n",
      "Progress: 360000,  val accuracy: 0.5400\n",
      "Progress: 370000,  val accuracy: 0.5600\n",
      "Progress: 380000,  val accuracy: 0.5000\n",
      "Progress: 390000,  val accuracy: 0.5500\n",
      "Progress: 400000,  val accuracy: 0.5300\n",
      "Epoch 8\n",
      "Progress: 410000,  val accuracy: 0.5500\n",
      "Progress: 420000,  val accuracy: 0.6200\n",
      "Progress: 430000,  val accuracy: 0.5600\n",
      "Progress: 440000,  val accuracy: 0.6700\n",
      "Progress: 450000,  val accuracy: 0.5500\n",
      "Epoch 9\n",
      "Progress: 460000,  val accuracy: 0.5900\n",
      "Progress: 470000,  val accuracy: 0.5800\n",
      "Progress: 480000,  val accuracy: 0.5500\n",
      "Progress: 490000,  val accuracy: 0.5400\n",
      "Progress: 500000,  val accuracy: 0.4900\n",
      "Epoch 10\n",
      "Progress: 510000,  val accuracy: 0.5800\n",
      "Progress: 520000,  val accuracy: 0.5600\n",
      "Progress: 530000,  val accuracy: 0.5400\n",
      "Progress: 540000,  val accuracy: 0.5600\n",
      "Progress: 550000,  val accuracy: 0.6500\n",
      "Epoch 11\n",
      "Progress: 560000,  val accuracy: 0.5900\n",
      "Progress: 570000,  val accuracy: 0.6000\n",
      "Progress: 580000,  val accuracy: 0.5700\n",
      "Progress: 590000,  val accuracy: 0.5600\n",
      "Progress: 600000,  val accuracy: 0.6200\n",
      "Epoch 12\n",
      "Progress: 610000,  val accuracy: 0.5600\n",
      "Progress: 620000,  val accuracy: 0.5900\n",
      "Progress: 630000,  val accuracy: 0.6200\n",
      "Progress: 640000,  val accuracy: 0.6500\n",
      "Progress: 650000,  val accuracy: 0.6200\n",
      "Epoch 13\n",
      "Progress: 660000,  val accuracy: 0.6200\n",
      "Progress: 670000,  val accuracy: 0.6500\n",
      "Progress: 680000,  val accuracy: 0.6000\n",
      "Progress: 690000,  val accuracy: 0.6700\n",
      "Progress: 700000,  val accuracy: 0.6200\n",
      "Epoch 14\n",
      "Progress: 710000,  val accuracy: 0.6100\n",
      "Progress: 720000,  val accuracy: 0.6900\n",
      "Progress: 730000,  val accuracy: 0.6700\n",
      "Progress: 740000,  val accuracy: 0.7000\n",
      "Total training time1353.7826659679413\n",
      "Test accuracy of weak learner:  0.6887\n",
      "Training accuracy of weak learner:  0.75306\n",
      "Alpha:  0.8626579794854958\n",
      "t:  10 memory allocated: 138939904\n",
      "After WL  10  time elapsed(s):  15151\n",
      "----------------------------------------------------------------------------------------------------\n",
      "Training weak learner 11\n",
      "Epoch 0\n",
      "Progress: 10000,  val accuracy: 0.1600\n",
      "Progress: 20000,  val accuracy: 0.1900\n",
      "Progress: 30000,  val accuracy: 0.2300\n",
      "Progress: 40000,  val accuracy: 0.2500\n",
      "Progress: 50000,  val accuracy: 0.2700\n",
      "Epoch 1\n",
      "Progress: 60000,  val accuracy: 0.3100\n",
      "Progress: 70000,  val accuracy: 0.2700\n",
      "Progress: 80000,  val accuracy: 0.2700\n",
      "Progress: 90000,  val accuracy: 0.3600\n",
      "Progress: 100000,  val accuracy: 0.3900\n",
      "Epoch 2\n",
      "Progress: 110000,  val accuracy: 0.3500\n",
      "Progress: 120000,  val accuracy: 0.4300\n",
      "Progress: 130000,  val accuracy: 0.4300\n",
      "Progress: 140000,  val accuracy: 0.4500\n",
      "Progress: 150000,  val accuracy: 0.4000\n",
      "Epoch 3\n",
      "Progress: 160000,  val accuracy: 0.4500\n",
      "Progress: 170000,  val accuracy: 0.4900\n",
      "Progress: 180000,  val accuracy: 0.5100\n",
      "Progress: 190000,  val accuracy: 0.4400\n",
      "Progress: 200000,  val accuracy: 0.5300\n",
      "Epoch 4\n",
      "Progress: 210000,  val accuracy: 0.3900\n",
      "Progress: 220000,  val accuracy: 0.4300\n",
      "Progress: 230000,  val accuracy: 0.5400\n",
      "Progress: 240000,  val accuracy: 0.5000\n",
      "Progress: 250000,  val accuracy: 0.4300\n",
      "Epoch 5\n",
      "Progress: 260000,  val accuracy: 0.5100\n",
      "Progress: 270000,  val accuracy: 0.4200\n",
      "Progress: 280000,  val accuracy: 0.5600\n",
      "Progress: 290000,  val accuracy: 0.4900\n",
      "Progress: 300000,  val accuracy: 0.4800\n",
      "Epoch 6\n",
      "Progress: 310000,  val accuracy: 0.4800\n",
      "Progress: 320000,  val accuracy: 0.4900\n",
      "Progress: 330000,  val accuracy: 0.4700\n",
      "Progress: 340000,  val accuracy: 0.5300\n",
      "Progress: 350000,  val accuracy: 0.4700\n",
      "Epoch 7\n",
      "Progress: 360000,  val accuracy: 0.5200\n",
      "Progress: 370000,  val accuracy: 0.6000\n",
      "Progress: 380000,  val accuracy: 0.5600\n",
      "Progress: 390000,  val accuracy: 0.6000\n",
      "Progress: 400000,  val accuracy: 0.5100\n",
      "Epoch 8\n",
      "Progress: 410000,  val accuracy: 0.5500\n",
      "Progress: 420000,  val accuracy: 0.5500\n",
      "Progress: 430000,  val accuracy: 0.5900\n",
      "Progress: 440000,  val accuracy: 0.5900\n",
      "Progress: 450000,  val accuracy: 0.6600\n",
      "Epoch 9\n",
      "Progress: 460000,  val accuracy: 0.5300\n",
      "Progress: 470000,  val accuracy: 0.6100\n",
      "Progress: 480000,  val accuracy: 0.5500\n",
      "Progress: 490000,  val accuracy: 0.5700\n",
      "Progress: 500000,  val accuracy: 0.6100\n",
      "Epoch 10\n",
      "Progress: 510000,  val accuracy: 0.6100\n",
      "Progress: 520000,  val accuracy: 0.5500\n",
      "Progress: 530000,  val accuracy: 0.6100\n",
      "Progress: 540000,  val accuracy: 0.6200\n",
      "Progress: 550000,  val accuracy: 0.5900\n",
      "Epoch 11\n",
      "Progress: 560000,  val accuracy: 0.5700\n",
      "Progress: 570000,  val accuracy: 0.5800\n",
      "Progress: 580000,  val accuracy: 0.5800\n",
      "Progress: 590000,  val accuracy: 0.6100\n",
      "Progress: 600000,  val accuracy: 0.6200\n",
      "Epoch 12\n",
      "Progress: 610000,  val accuracy: 0.6300\n",
      "Progress: 620000,  val accuracy: 0.6000\n",
      "Progress: 630000,  val accuracy: 0.6400\n",
      "Progress: 640000,  val accuracy: 0.6400\n",
      "Progress: 650000,  val accuracy: 0.6700\n",
      "Epoch 13\n",
      "Progress: 660000,  val accuracy: 0.6500\n",
      "Progress: 670000,  val accuracy: 0.6400\n",
      "Progress: 680000,  val accuracy: 0.6800\n",
      "Progress: 690000,  val accuracy: 0.5900\n",
      "Progress: 700000,  val accuracy: 0.6800\n",
      "Epoch 14\n",
      "Progress: 710000,  val accuracy: 0.6100\n",
      "Progress: 720000,  val accuracy: 0.6500\n",
      "Progress: 730000,  val accuracy: 0.6500\n",
      "Progress: 740000,  val accuracy: 0.6600\n",
      "Total training time1355.8200676441193\n",
      "Test accuracy of weak learner:  0.7234\n",
      "Training accuracy of weak learner:  0.79338\n",
      "Alpha:  0.9267152053219956\n",
      "t:  11 memory allocated: 138939904\n",
      "After WL  11  time elapsed(s):  16524\n",
      "----------------------------------------------------------------------------------------------------\n",
      "Training weak learner 12\n",
      "Epoch 0\n",
      "Progress: 10000,  val accuracy: 0.1500\n",
      "Progress: 20000,  val accuracy: 0.1700\n",
      "Progress: 30000,  val accuracy: 0.1600\n",
      "Progress: 40000,  val accuracy: 0.1900\n",
      "Progress: 50000,  val accuracy: 0.1900\n",
      "Epoch 1\n",
      "Progress: 60000,  val accuracy: 0.2400\n",
      "Progress: 70000,  val accuracy: 0.2300\n",
      "Progress: 80000,  val accuracy: 0.2700\n",
      "Progress: 90000,  val accuracy: 0.2700\n",
      "Progress: 100000,  val accuracy: 0.2800\n",
      "Epoch 2\n",
      "Progress: 110000,  val accuracy: 0.4000\n",
      "Progress: 120000,  val accuracy: 0.3700\n",
      "Progress: 130000,  val accuracy: 0.3500\n",
      "Progress: 140000,  val accuracy: 0.3400\n",
      "Progress: 150000,  val accuracy: 0.3700\n",
      "Epoch 3\n",
      "Progress: 160000,  val accuracy: 0.3900\n",
      "Progress: 170000,  val accuracy: 0.3800\n",
      "Progress: 180000,  val accuracy: 0.3700\n",
      "Progress: 190000,  val accuracy: 0.3600\n",
      "Progress: 200000,  val accuracy: 0.3200\n",
      "Epoch 4\n",
      "Progress: 210000,  val accuracy: 0.4100\n",
      "Progress: 220000,  val accuracy: 0.4500\n",
      "Progress: 230000,  val accuracy: 0.5300\n",
      "Progress: 240000,  val accuracy: 0.4400\n",
      "Progress: 250000,  val accuracy: 0.3400\n",
      "Epoch 5\n",
      "Progress: 260000,  val accuracy: 0.4200\n",
      "Progress: 270000,  val accuracy: 0.3500\n",
      "Progress: 280000,  val accuracy: 0.4000\n",
      "Progress: 290000,  val accuracy: 0.4400\n",
      "Progress: 300000,  val accuracy: 0.4300\n",
      "Epoch 6\n",
      "Progress: 310000,  val accuracy: 0.4300\n",
      "Progress: 320000,  val accuracy: 0.4500\n",
      "Progress: 330000,  val accuracy: 0.4200\n",
      "Progress: 340000,  val accuracy: 0.4400\n",
      "Progress: 350000,  val accuracy: 0.5300\n",
      "Epoch 7\n",
      "Progress: 360000,  val accuracy: 0.4800\n",
      "Progress: 370000,  val accuracy: 0.4500\n",
      "Progress: 380000,  val accuracy: 0.5200\n",
      "Progress: 390000,  val accuracy: 0.5100\n",
      "Progress: 400000,  val accuracy: 0.5000\n",
      "Epoch 8\n",
      "Progress: 410000,  val accuracy: 0.4100\n",
      "Progress: 420000,  val accuracy: 0.5500\n",
      "Progress: 430000,  val accuracy: 0.4700\n",
      "Progress: 440000,  val accuracy: 0.4700\n",
      "Progress: 450000,  val accuracy: 0.5000\n",
      "Epoch 9\n",
      "Progress: 460000,  val accuracy: 0.5500\n",
      "Progress: 470000,  val accuracy: 0.5100\n",
      "Progress: 480000,  val accuracy: 0.5900\n",
      "Progress: 490000,  val accuracy: 0.5100\n",
      "Progress: 500000,  val accuracy: 0.5400\n",
      "Epoch 10\n",
      "Progress: 510000,  val accuracy: 0.5100\n",
      "Progress: 520000,  val accuracy: 0.6300\n",
      "Progress: 530000,  val accuracy: 0.5200\n",
      "Progress: 540000,  val accuracy: 0.6000\n",
      "Progress: 550000,  val accuracy: 0.5300\n",
      "Epoch 11\n",
      "Progress: 560000,  val accuracy: 0.6100\n",
      "Progress: 570000,  val accuracy: 0.5600\n",
      "Progress: 580000,  val accuracy: 0.5200\n",
      "Progress: 590000,  val accuracy: 0.5600\n",
      "Progress: 600000,  val accuracy: 0.5500\n",
      "Epoch 12\n",
      "Progress: 610000,  val accuracy: 0.5600\n",
      "Progress: 620000,  val accuracy: 0.5700\n",
      "Progress: 630000,  val accuracy: 0.6300\n",
      "Progress: 640000,  val accuracy: 0.5800\n",
      "Progress: 650000,  val accuracy: 0.5600\n",
      "Epoch 13\n",
      "Progress: 660000,  val accuracy: 0.6300\n",
      "Progress: 670000,  val accuracy: 0.4900\n",
      "Progress: 680000,  val accuracy: 0.5000\n",
      "Progress: 690000,  val accuracy: 0.5800\n",
      "Progress: 700000,  val accuracy: 0.5800\n",
      "Epoch 14\n",
      "Progress: 710000,  val accuracy: 0.6400\n",
      "Progress: 720000,  val accuracy: 0.5600\n",
      "Progress: 730000,  val accuracy: 0.5800\n",
      "Progress: 740000,  val accuracy: 0.6400\n",
      "Total training time1356.5144515037537\n",
      "Test accuracy of weak learner:  0.6759\n",
      "Training accuracy of weak learner:  0.74262\n",
      "Alpha:  0.8442232278485775\n",
      "t:  12 memory allocated: 138939904\n",
      "After WL  12  time elapsed(s):  17898\n",
      "----------------------------------------------------------------------------------------------------\n",
      "Training weak learner 13\n",
      "Epoch 0\n",
      "Progress: 10000,  val accuracy: 0.1200\n",
      "Progress: 20000,  val accuracy: 0.1600\n",
      "Progress: 30000,  val accuracy: 0.2100\n",
      "Progress: 40000,  val accuracy: 0.2800\n",
      "Progress: 50000,  val accuracy: 0.2300\n",
      "Epoch 1\n",
      "Progress: 60000,  val accuracy: 0.2800\n",
      "Progress: 70000,  val accuracy: 0.2100\n",
      "Progress: 80000,  val accuracy: 0.2800\n",
      "Progress: 90000,  val accuracy: 0.3000\n",
      "Progress: 100000,  val accuracy: 0.3000\n",
      "Epoch 2\n",
      "Progress: 110000,  val accuracy: 0.4200\n",
      "Progress: 120000,  val accuracy: 0.3700\n",
      "Progress: 130000,  val accuracy: 0.3500\n",
      "Progress: 140000,  val accuracy: 0.3500\n",
      "Progress: 150000,  val accuracy: 0.4200\n",
      "Epoch 3\n",
      "Progress: 160000,  val accuracy: 0.3600\n",
      "Progress: 170000,  val accuracy: 0.3800\n",
      "Progress: 180000,  val accuracy: 0.3100\n",
      "Progress: 190000,  val accuracy: 0.4000\n",
      "Progress: 200000,  val accuracy: 0.3900\n",
      "Epoch 4\n",
      "Progress: 210000,  val accuracy: 0.4300\n",
      "Progress: 220000,  val accuracy: 0.4400\n",
      "Progress: 230000,  val accuracy: 0.4300\n",
      "Progress: 240000,  val accuracy: 0.4100\n",
      "Progress: 250000,  val accuracy: 0.4300\n",
      "Epoch 5\n",
      "Progress: 260000,  val accuracy: 0.4500\n",
      "Progress: 270000,  val accuracy: 0.3600\n",
      "Progress: 280000,  val accuracy: 0.4400\n",
      "Progress: 290000,  val accuracy: 0.4200\n",
      "Progress: 300000,  val accuracy: 0.3800\n",
      "Epoch 6\n",
      "Progress: 310000,  val accuracy: 0.3400\n",
      "Progress: 320000,  val accuracy: 0.4000\n",
      "Progress: 330000,  val accuracy: 0.4400\n",
      "Progress: 340000,  val accuracy: 0.3800\n",
      "Progress: 350000,  val accuracy: 0.4700\n",
      "Epoch 7\n",
      "Progress: 360000,  val accuracy: 0.4400\n",
      "Progress: 370000,  val accuracy: 0.4500\n",
      "Progress: 380000,  val accuracy: 0.4800\n",
      "Progress: 460000,  val accuracy: 0.4900\n",
      "Progress: 470000,  val accuracy: 0.4300\n",
      "Progress: 480000,  val accuracy: 0.4300\n",
      "Progress: 490000,  val accuracy: 0.5000\n",
      "Progress: 500000,  val accuracy: 0.4900\n",
      "Epoch 10\n",
      "Progress: 510000,  val accuracy: 0.5000\n",
      "Progress: 520000,  val accuracy: 0.4500\n",
      "Progress: 530000,  val accuracy: 0.5300\n",
      "Progress: 540000,  val accuracy: 0.5600\n",
      "Progress: 550000,  val accuracy: 0.4800\n",
      "Epoch 11\n",
      "Progress: 560000,  val accuracy: 0.4800\n",
      "Progress: 570000,  val accuracy: 0.5300\n",
      "Progress: 580000,  val accuracy: 0.5400\n",
      "Progress: 590000,  val accuracy: 0.5400\n",
      "Progress: 600000,  val accuracy: 0.5600\n",
      "Epoch 12\n",
      "Progress: 610000,  val accuracy: 0.5500\n",
      "Progress: 620000,  val accuracy: 0.5700\n",
      "Progress: 630000,  val accuracy: 0.5700\n",
      "Progress: 640000,  val accuracy: 0.5200\n",
      "Progress: 650000,  val accuracy: 0.5000\n",
      "Epoch 13\n",
      "Progress: 660000,  val accuracy: 0.6300\n",
      "Progress: 730000,  val accuracy: 0.5200\n",
      "Progress: 740000,  val accuracy: 0.5700\n",
      "Progress: 60000,  val accuracy: 0.2400\n",
      "Progress: 70000,  val accuracy: 0.3300\n",
      "Progress: 80000,  val accuracy: 0.3300\n",
      "Progress: 90000,  val accuracy: 0.3600\n",
      "Progress: 100000,  val accuracy: 0.2700\n",
      "Epoch 2\n",
      "Progress: 110000,  val accuracy: 0.3700\n",
      "Progress: 120000,  val accuracy: 0.3500\n",
      "Progress: 130000,  val accuracy: 0.3500\n",
      "Progress: 140000,  val accuracy: 0.4000\n",
      "Progress: 150000,  val accuracy: 0.4700\n",
      "Epoch 3\n",
      "Progress: 160000,  val accuracy: 0.3900\n",
      "Progress: 170000,  val accuracy: 0.3200\n",
      "Progress: 180000,  val accuracy: 0.2700\n",
      "Progress: 190000,  val accuracy: 0.3800\n",
      "Progress: 200000,  val accuracy: 0.3400\n",
      "Epoch 4\n",
      "Progress: 210000,  val accuracy: 0.4700\n",
      "Progress: 220000,  val accuracy: 0.4300\n",
      "Progress: 230000,  val accuracy: 0.3400\n",
      "Progress: 240000,  val accuracy: 0.5000\n",
      "Progress: 250000,  val accuracy: 0.3500\n",
      "Epoch 5\n",
      "Progress: 260000,  val accuracy: 0.4100\n",
      "Progress: 270000,  val accuracy: 0.3800\n",
      "Progress: 280000,  val accuracy: 0.4500\n",
      "Progress: 290000,  val accuracy: 0.4700\n",
      "Progress: 300000,  val accuracy: 0.3900\n",
      "Epoch 6\n",
      "Progress: 310000,  val accuracy: 0.5100\n",
      "Progress: 320000,  val accuracy: 0.4700\n",
      "Progress: 330000,  val accuracy: 0.5000\n",
      "Progress: 340000,  val accuracy: 0.4600\n",
      "Progress: 350000,  val accuracy: 0.4600\n",
      "Epoch 7\n",
      "Progress: 360000,  val accuracy: 0.4800\n",
      "Progress: 370000,  val accuracy: 0.4800\n",
      "Progress: 380000,  val accuracy: 0.4000\n",
      "Progress: 390000,  val accuracy: 0.4300\n",
      "Progress: 400000,  val accuracy: 0.4900\n",
      "Epoch 8\n",
      "Progress: 410000,  val accuracy: 0.4900\n",
      "Progress: 420000,  val accuracy: 0.5200\n",
      "Progress: 430000,  val accuracy: 0.5100\n",
      "Progress: 440000,  val accuracy: 0.5000\n",
      "Progress: 450000,  val accuracy: 0.4200\n",
      "Epoch 9\n",
      "Progress: 460000,  val accuracy: 0.5300\n",
      "Progress: 470000,  val accuracy: 0.5000\n",
      "Progress: 480000,  val accuracy: 0.5400\n",
      "Progress: 490000,  val accuracy: 0.5200\n",
      "Progress: 500000,  val accuracy: 0.5400\n",
      "Epoch 10\n",
      "Progress: 510000,  val accuracy: 0.5300\n",
      "Progress: 520000,  val accuracy: 0.5000\n",
      "Progress: 530000,  val accuracy: 0.5800\n",
      "Progress: 540000,  val accuracy: 0.5400\n",
      "Progress: 550000,  val accuracy: 0.6000\n",
      "Epoch 11\n",
      "Progress: 560000,  val accuracy: 0.5900\n",
      "Progress: 570000,  val accuracy: 0.5600\n",
      "Progress: 580000,  val accuracy: 0.6000\n",
      "Progress: 590000,  val accuracy: 0.5600\n",
      "Progress: 600000,  val accuracy: 0.5500\n",
      "Epoch 12\n",
      "Progress: 610000,  val accuracy: 0.5500\n",
      "Progress: 620000,  val accuracy: 0.6000\n",
      "Progress: 630000,  val accuracy: 0.5300\n",
      "Progress: 640000,  val accuracy: 0.5700\n",
      "Progress: 650000,  val accuracy: 0.6000\n",
      "Epoch 13\n",
      "Progress: 660000,  val accuracy: 0.6300\n",
      "Progress: 670000,  val accuracy: 0.6600\n",
      "Progress: 680000,  val accuracy: 0.6200\n",
      "Progress: 690000,  val accuracy: 0.5900\n",
      "Progress: 700000,  val accuracy: 0.6000\n",
      "Epoch 14\n",
      "Progress: 710000,  val accuracy: 0.6300\n",
      "Progress: 720000,  val accuracy: 0.6100\n",
      "Progress: 730000,  val accuracy: 0.6300\n",
      "Progress: 740000,  val accuracy: 0.6800\n",
      "Total training time1355.6450636386871\n",
      "Test accuracy of weak learner:  0.7024\n",
      "Training accuracy of weak learner:  0.77166\n",
      "Alpha:  0.9125175304522232\n",
      "t:  14 memory allocated: 138939904\n",
      "After WL  14  time elapsed(s):  20646\n",
      "weights: [1.3224826451490315, 1.11663777034178, 1.1435983915454326, 1.119649430590053, 1.024730594920111, 0.9900527175695273, 0.9757069329370579, 0.9938688878450913, 0.8423935012825927, 1.008164542833036, 0.8626579794854958, 0.9267152053219956, 0.8442232278485775, 0.8436457960247531, 0.9125175304522232]\n",
      "Finished in 20650.532253  s\n",
      "number of wl in ensemble: 15\n"
     ]
    }
   ],
   "source": [
    "# from Boosting import SchapireWongMulticlassBoosting\n",
    "from AdversarialAttacks import attack_fgsm, attack_pgd\n",
    "import gc\n",
    "# Ensemble.record_accuracies, Ensemble.calc_accuracies, attack_fgsm, Ensemble.schapireContinuousPredict\n",
    "for i in range(len(maxSamples_vals)):\n",
    "    print(\"len(maxSamples_vals):\", len(maxSamples_vals))\n",
    "    maxSamples = maxSamples_vals[i]\n",
    "    print(\"maxSamples:\", maxSamples)\n",
    "    ensemble = runBoosting(num_wl, maxSamples, dataset=datasets.CIFAR10, weakLearnerType = WongNeuralNetCIFAR10, val_attacks = [], \n",
    "                               attack_eps_nn=epsilons, attack_eps_ensemble=epsilons, train_eps_nn=train_eps_nn, adv_train_prefix=num_wl, batch_size=batch_size, val_flag=False)\n",
    "    print(\"number of wl in ensemble:\", len(ensemble.weakLearners))\n",
    "    ensembles.append(ensemble)\n",
    "    gc.collect()\n",
    "#     for obj in gc.get_objects():\n",
    "#         try:\n",
    "#             if torch.is_tensor(obj) or (hasattr(obj, 'data') and torch.is_tensor(obj.data)):\n",
    "#                 print(type(obj), obj.size())\n",
    "#         except:\n",
    "#             pass\n",
    "    \n",
    "#     path_head = f'results/plots/cifar10/train_eps_{train_eps_nn}/'\n",
    "#     try:\n",
    "#         os.mkdir(path_head)\n",
    "#     except OSError:\n",
    "#         pass\n",
    "#     acc_file = path_head + f'acc_maxSamples_{maxSamples}.png'\n",
    "#     adv_acc_file = path_head + f'adv_acc_maxSamples_{maxSamples}.png'\n",
    "#     loss_file = path_head + f'loss_maxSamples_{maxSamples}.png'\n",
    "#     wl_train_acc_file = path_head + f'wl_train_acc_maxSamples_{maxSamples}.png'\n",
    "#     ensemble.plot_accuracies(acc_file)\n",
    "#     ensemble.plot_loss(loss_file)\n",
    "#     ensemble.plot_adversarial_accuracies(adv_acc_file)\n",
    "#     ensemble.plot_wl_acc(wl_train_acc_file)\n"
   ]
  },
  {
   "cell_type": "code",
   "execution_count": null,
   "metadata": {
    "scrolled": true
   },
   "outputs": [
    {
     "name": "stdout",
     "output_type": "stream",
     "text": [
      "./models/750000Eps0/\n",
      "Files already downloaded and verified\n",
      "Files already downloaded and verified\n",
      "Files already downloaded and verified\n",
      "Weak Learner  0 .  Time Elapsed (s):  0\n",
      "pgd called with 0.0313 0.01 20 1\n",
      "[-0.00380964 -0.02499999 -0.0128318  ... -0.02402604  0.01226771\n",
      "  0.00929559]\n"
     ]
    },
    {
     "data": {
      "image/png": "[encoded data removed]",
      "text/plain": [
       "<Figure size 432x288 with 1 Axes>"
      ]
     },
     "metadata": {
      "needs_background": "light"
     },
     "output_type": "display_data"
    },
    {
     "name": "stdout",
     "output_type": "stream",
     "text": [
      "acc:  0.0\n",
      "{'val': 0.6, <function attack_pgd at 0x7fabaa1e2400>: [0.0]}\n",
      "pgd called with 0.0313 0.01 20 1\n",
      "[-0.0213      0.01636825  0.0013     ... -0.00641724  0.00201746\n",
      " -0.0313    ]\n"
     ]
    },
    {
     "data": {
      "image/png": "[encoded data removed]",
      "text/plain": [
       "<Figure size 432x288 with 1 Axes>"
      ]
     },
     "metadata": {
      "needs_background": "light"
     },
     "output_type": "display_data"
    },
    {
     "name": "stdout",
     "output_type": "stream",
     "text": [
      "acc:  0.0\n",
      "{'val': 0.9, <function attack_pgd at 0x7fabaa1e2400>: [0.0]}\n",
      "pgd called with 0.0313 0.01 20 1\n",
      "[-0.02361442 -0.0313     -0.0113     ...  0.00510184 -0.02973661\n",
      " -0.0008908 ]\n"
     ]
    },
    {
     "data": {
      "image/png": "[encoded data removed]",
      "text/plain": [
       "<Figure size 432x288 with 1 Axes>"
      ]
     },
     "metadata": {
      "needs_background": "light"
     },
     "output_type": "display_data"
    },
    {
     "name": "stdout",
     "output_type": "stream",
     "text": [
      "acc:  0.1\n",
      "{'val': 0.7, <function attack_pgd at 0x7fabaa1e2400>: [0.1]}\n",
      "pgd called with 0.0313 0.01 20 1\n",
      "[ 0.02295329 -0.00260223  0.00948877 ...  0.0313      0.0313\n",
      " -0.0313    ]\n"
     ]
    },
    {
     "data": {
      "image/png": "[encoded data removed]",
      "text/plain": [
       "<Figure size 432x288 with 1 Axes>"
      ]
     },
     "metadata": {
      "needs_background": "light"
     },
     "output_type": "display_data"
    },
    {
     "name": "stdout",
     "output_type": "stream",
     "text": [
      "acc:  0.2\n",
      "{'val': 1.0, <function attack_pgd at 0x7fabaa1e2400>: [0.2]}\n",
      "pgd called with 0.0313 0.01 20 1\n",
      "[ 0.01972936  0.01863387 -0.0313     ... -0.01657873  0.00808161\n",
      " -0.0006427 ]\n"
     ]
    },
    {
     "data": {
      "image/png": "[encoded data removed]",
      "text/plain": [
       "<Figure size 432x288 with 1 Axes>"
      ]
     },
     "metadata": {
      "needs_background": "light"
     },
     "output_type": "display_data"
    },
    {
     "name": "stdout",
     "output_type": "stream",
     "text": [
      "acc:  0.0\n",
      "{'val': 0.9, <function attack_pgd at 0x7fabaa1e2400>: [0.0]}\n",
      "pgd called with 0.0313 0.01 20 1\n",
      "[ 0.0313      0.0213      0.0313     ... -0.0313     -0.00064772\n",
      " -0.0313    ]\n"
     ]
    },
    {
     "data": {
      "image/png": "[encoded data removed]",
      "text/plain": [
       "<Figure size 432x288 with 1 Axes>"
      ]
     },
     "metadata": {
      "needs_background": "light"
     },
     "output_type": "display_data"
    },
    {
     "name": "stdout",
     "output_type": "stream",
     "text": [
      "acc:  0.1\n",
      "{'val': 0.9, <function attack_pgd at 0x7fabaa1e2400>: [0.1]}\n",
      "pgd called with 0.0313 0.01 20 1\n",
      "[ 0.0313      0.00033279  0.00708841 ...  0.01325084 -0.01438987\n",
      "  0.0313    ]\n"
     ]
    },
    {
     "data": {
      "image/png": "[encoded data removed]",
      "text/plain": [
       "<Figure size 432x288 with 1 Axes>"
      ]
     },
     "metadata": {
      "needs_background": "light"
     },
     "output_type": "display_data"
    },
    {
     "name": "stdout",
     "output_type": "stream",
     "text": [
      "acc:  0.1\n",
      "{'val': 0.9, <function attack_pgd at 0x7fabaa1e2400>: [0.1]}\n",
      "pgd called with 0.0313 0.01 20 1\n",
      "[ 0.01774409  0.01044007 -0.01194807 ...  0.01964177 -0.02334314\n",
      "  0.02678871]\n"
     ]
    },
    {
     "data": {
      "image/png": "[encoded data removed]",
      "text/plain": [
       "<Figure size 432x288 with 1 Axes>"
      ]
     },
     "metadata": {
      "needs_background": "light"
     },
     "output_type": "display_data"
    },
    {
     "name": "stdout",
     "output_type": "stream",
     "text": [
      "acc:  0.0\n",
      "{'val': 0.9, <function attack_pgd at 0x7fabaa1e2400>: [0.0]}\n",
      "pgd called with 0.0313 0.01 20 1\n",
      "[-0.0313      0.01059083  0.0313     ...  0.01250306 -0.00092354\n",
      " -0.02264344]\n"
     ]
    },
    {
     "data": {
      "image/png": "[encoded data removed]",
      "text/plain": [
       "<Figure size 432x288 with 1 Axes>"
      ]
     },
     "metadata": {
      "needs_background": "light"
     },
     "output_type": "display_data"
    },
    {
     "name": "stdout",
     "output_type": "stream",
     "text": [
      "acc:  0.1\n",
      "{'val': 0.9, <function attack_pgd at 0x7fabaa1e2400>: [0.1]}\n",
      "pgd called with 0.0313 0.01 20 1\n",
      "[-0.0313      0.0213     -0.00669508 ... -0.0313     -0.0313\n",
      " -0.02724603]\n"
     ]
    },
    {
     "data": {
      "image/png": "[encoded data removed]",
      "text/plain": [
       "<Figure size 432x288 with 1 Axes>"
      ]
     },
     "metadata": {
      "needs_background": "light"
     },
     "output_type": "display_data"
    },
    {
     "name": "stdout",
     "output_type": "stream",
     "text": [
      "acc:  0.2\n",
      "{'val': 0.9, <function attack_pgd at 0x7fabaa1e2400>: [0.2]}\n",
      "pgd called with 0.0313 0.01 20 1\n",
      "[ 0.01245343 -0.03017336 -0.02695802 ...  0.03097932 -0.0313\n",
      " -0.02525222]\n"
     ]
    },
    {
     "data": {
      "image/png": "[encoded data removed]",
      "text/plain": [
       "<Figure size 432x288 with 1 Axes>"
      ]
     },
     "metadata": {
      "needs_background": "light"
     },
     "output_type": "display_data"
    },
    {
     "name": "stdout",
     "output_type": "stream",
     "text": [
      "acc:  0.1\n",
      "{'val': 0.8, <function attack_pgd at 0x7fabaa1e2400>: [0.1]}\n",
      "pgd called with 0.0313 0.01 20 1\n",
      "[ 0.0313     -0.0313      0.0313     ...  0.00325318 -0.01330633\n",
      " -0.00600584]\n"
     ]
    },
    {
     "data": {
      "image/png": "[encoded data removed]",
      "text/plain": [
       "<Figure size 432x288 with 1 Axes>"
      ]
     },
     "metadata": {
      "needs_background": "light"
     },
     "output_type": "display_data"
    },
    {
     "name": "stdout",
     "output_type": "stream",
     "text": [
      "acc:  0.2\n",
      "{'val': 1.0, <function attack_pgd at 0x7fabaa1e2400>: [0.2]}\n",
      "pgd called with 0.0313 0.01 20 1\n",
      "[-0.02838392 -0.02538171 -0.0313     ...  0.01281731 -0.02664747\n",
      " -0.0313    ]\n"
     ]
    },
    {
     "data": {
      "image/png": "[encoded data removed]",
      "text/plain": [
       "<Figure size 432x288 with 1 Axes>"
      ]
     },
     "metadata": {
      "needs_background": "light"
     },
     "output_type": "display_data"
    },
    {
     "name": "stdout",
     "output_type": "stream",
     "text": [
      "acc:  0.0\n",
      "{'val': 0.7, <function attack_pgd at 0x7fabaa1e2400>: [0.0]}\n",
      "pgd called with 0.0313 0.01 20 1\n",
      "[ 0.00756906 -0.02301119 -0.01079254 ... -0.00728987 -0.00320453\n",
      " -0.03126217]\n"
     ]
    },
    {
     "data": {
      "image/png": "[encoded data removed]",
      "text/plain": [
       "<Figure size 432x288 with 1 Axes>"
      ]
     },
     "metadata": {
      "needs_background": "light"
     },
     "output_type": "display_data"
    },
    {
     "name": "stdout",
     "output_type": "stream",
     "text": [
      "acc:  0.1\n",
      "{'val': 0.7, <function attack_pgd at 0x7fabaa1e2400>: [0.1]}\n",
      "pgd called with 0.0313 0.01 20 1\n",
      "[ 0.02721254 -0.00292562  0.01266597 ...  0.02925364 -0.01442528\n",
      " -0.0313    ]\n"
     ]
    },
    {
     "data": {
      "image/png": "[encoded data removed]",
      "text/plain": [
       "<Figure size 432x288 with 1 Axes>"
      ]
     },
     "metadata": {
      "needs_background": "light"
     },
     "output_type": "display_data"
    },
    {
     "name": "stdout",
     "output_type": "stream",
     "text": [
      "acc:  0.0\n",
      "{'val': 0.7, <function attack_pgd at 0x7fabaa1e2400>: [0.0]}\n",
      "pgd called with 0.0313 0.01 20 1\n",
      "[-0.0313      0.03051418 -0.0286695  ... -0.00494892  0.0313\n",
      " -0.0263001 ]\n"
     ]
    },
    {
     "data": {
      "image/png": "[encoded data removed]",
      "text/plain": [
       "<Figure size 432x288 with 1 Axes>"
      ]
     },
     "metadata": {
      "needs_background": "light"
     },
     "output_type": "display_data"
    },
    {
     "name": "stdout",
     "output_type": "stream",
     "text": [
      "acc:  0.1\n",
      "{'val': 0.9, <function attack_pgd at 0x7fabaa1e2400>: [0.1]}\n",
      "pgd called with 0.0313 0.01 20 1\n",
      "[-0.0313     -0.02389741  0.02739155 ...  0.00050322 -0.01863889\n",
      " -0.0313    ]\n"
     ]
    },
    {
     "data": {
      "image/png": "[encoded data removed]",
      "text/plain": [
       "<Figure size 432x288 with 1 Axes>"
      ]
     },
     "metadata": {
      "needs_background": "light"
     },
     "output_type": "display_data"
    },
    {
     "name": "stdout",
     "output_type": "stream",
     "text": [
      "acc:  0.0\n",
      "{'val': 0.5, <function attack_pgd at 0x7fabaa1e2400>: [0.0]}\n",
      "pgd called with 0.0313 0.01 20 1\n",
      "[-0.0313      0.         -0.0313     ...  0.00282899  0.02896719\n",
      "  0.01394522]\n"
     ]
    },
    {
     "data": {
      "image/png": "[encoded data removed]",
      "text/plain": [
       "<Figure size 432x288 with 1 Axes>"
      ]
     },
     "metadata": {
      "needs_background": "light"
     },
     "output_type": "display_data"
    },
    {
     "name": "stdout",
     "output_type": "stream",
     "text": [
      "acc:  0.1\n",
      "{'val': 0.7, <function attack_pgd at 0x7fabaa1e2400>: [0.1]}\n",
      "pgd called with 0.0313 0.01 20 1\n",
      "[ 0.02157088  0.0313     -0.0313     ...  0.02186851  0.0313\n",
      " -0.01382727]\n"
     ]
    },
    {
     "data": {
      "image/png": "[encoded data removed]",
      "text/plain": [
       "<Figure size 432x288 with 1 Axes>"
      ]
     },
     "metadata": {
      "needs_background": "light"
     },
     "output_type": "display_data"
    },
    {
     "name": "stdout",
     "output_type": "stream",
     "text": [
      "acc:  0.1\n",
      "{'val': 0.9, <function attack_pgd at 0x7fabaa1e2400>: [0.1]}\n",
      "pgd called with 0.0313 0.01 20 1\n",
      "[ 0.0313     -0.03075399  0.0313     ... -0.02731356  0.00016503\n",
      "  0.00577159]\n"
     ]
    },
    {
     "data": {
      "image/png": "[encoded data removed]",
      "text/plain": [
       "<Figure size 432x288 with 1 Axes>"
      ]
     },
     "metadata": {
      "needs_background": "light"
     },
     "output_type": "display_data"
    },
    {
     "name": "stdout",
     "output_type": "stream",
     "text": [
      "acc:  0.1\n",
      "{'val': 0.8, <function attack_pgd at 0x7fabaa1e2400>: [0.1]}\n",
      "pgd called with 0.0313 0.01 20 1\n",
      "[-0.01964548 -0.00529842 -0.0313     ...  0.021191   -0.01519609\n",
      " -0.0247797 ]\n"
     ]
    },
    {
     "data": {
      "image/png": "[encoded data removed]",
      "text/plain": [
       "<Figure size 432x288 with 1 Axes>"
      ]
     },
     "metadata": {
      "needs_background": "light"
     },
     "output_type": "display_data"
    },
    {
     "name": "stdout",
     "output_type": "stream",
     "text": [
      "acc:  0.1\n",
      "{'val': 1.0, <function attack_pgd at 0x7fabaa1e2400>: [0.1]}\n",
      "pgd called with 0.0313 0.01 20 1\n",
      "[-0.006411    0.0088423   0.01083731 ...  0.0213      0.01901373\n",
      "  0.0313    ]\n"
     ]
    },
    {
     "data": {
      "image/png": "[encoded data removed]",
      "text/plain": [
       "<Figure size 432x288 with 1 Axes>"
      ]
     },
     "metadata": {
      "needs_background": "light"
     },
     "output_type": "display_data"
    },
    {
     "name": "stdout",
     "output_type": "stream",
     "text": [
      "acc:  0.5\n",
      "{'val': 1.0, <function attack_pgd at 0x7fabaa1e2400>: [0.5]}\n",
      "pgd called with 0.0313 0.01 20 1\n",
      "[ 0.0313      0.00158214  0.00396233 ...  0.0313      0.01109804\n",
      " -0.0313    ]\n"
     ]
    },
    {
     "data": {
      "image/png": "[encoded data removed]",
      "text/plain": [
       "<Figure size 432x288 with 1 Axes>"
      ]
     },
     "metadata": {
      "needs_background": "light"
     },
     "output_type": "display_data"
    },
    {
     "name": "stdout",
     "output_type": "stream",
     "text": [
      "acc:  0.0\n",
      "{'val': 0.9, <function attack_pgd at 0x7fabaa1e2400>: [0.0]}\n",
      "pgd called with 0.0313 0.01 20 1\n",
      "[ 0.02814692  0.0313      0.         ... -0.0313     -0.0213\n",
      " -0.0087    ]\n"
     ]
    },
    {
     "data": {
      "image/png": "[encoded data removed]",
      "text/plain": [
       "<Figure size 432x288 with 1 Axes>"
      ]
     },
     "metadata": {
      "needs_background": "light"
     },
     "output_type": "display_data"
    },
    {
     "name": "stdout",
     "output_type": "stream",
     "text": [
      "acc:  0.0\n",
      "{'val': 0.8, <function attack_pgd at 0x7fabaa1e2400>: [0.0]}\n",
      "pgd called with 0.0313 0.01 20 1\n",
      "[ 0.0313     -0.0313     -0.0313     ...  0.01454155 -0.0313\n",
      " -0.02568906]\n"
     ]
    },
    {
     "data": {
      "image/png": "[encoded data removed]",
      "text/plain": [
       "<Figure size 432x288 with 1 Axes>"
      ]
     },
     "metadata": {
      "needs_background": "light"
     },
     "output_type": "display_data"
    },
    {
     "name": "stdout",
     "output_type": "stream",
     "text": [
      "acc:  0.1\n",
      "{'val': 1.0, <function attack_pgd at 0x7fabaa1e2400>: [0.1]}\n",
      "pgd called with 0.0313 0.01 20 1\n",
      "[-0.02108638 -0.0287226   0.001356   ... -0.0313      0.0313\n",
      " -0.0313    ]\n"
     ]
    },
    {
     "data": {
      "image/png": "[encoded data removed]",
      "text/plain": [
       "<Figure size 432x288 with 1 Axes>"
      ]
     },
     "metadata": {
      "needs_background": "light"
     },
     "output_type": "display_data"
    },
    {
     "name": "stdout",
     "output_type": "stream",
     "text": [
      "acc:  0.2\n",
      "{'val': 0.9, <function attack_pgd at 0x7fabaa1e2400>: [0.2]}\n",
      "pgd called with 0.0313 0.01 20 1\n",
      "[-0.0313     -0.0313     -0.0313     ...  0.02220487  0.02757149\n",
      "  0.00711817]\n"
     ]
    },
    {
     "data": {
      "image/png": "[encoded data removed]",
      "text/plain": [
       "<Figure size 432x288 with 1 Axes>"
      ]
     },
     "metadata": {
      "needs_background": "light"
     },
     "output_type": "display_data"
    },
    {
     "name": "stdout",
     "output_type": "stream",
     "text": [
      "acc:  0.1\n",
      "{'val': 0.7, <function attack_pgd at 0x7fabaa1e2400>: [0.1]}\n",
      "pgd called with 0.0313 0.01 20 1\n",
      "[-2.5503099e-02  3.1300001e-02  9.0508256e-03 ... -2.9806048e-05\n",
      " -1.0232955e-02 -2.5393441e-04]\n"
     ]
    },
    {
     "data": {
      "image/png": "[encoded data removed]",
      "text/plain": [
       "<Figure size 432x288 with 1 Axes>"
      ]
     },
     "metadata": {
      "needs_background": "light"
     },
     "output_type": "display_data"
    },
    {
     "name": "stdout",
     "output_type": "stream",
     "text": [
      "acc:  0.3\n",
      "{'val': 1.0, <function attack_pgd at 0x7fabaa1e2400>: [0.3]}\n",
      "pgd called with 0.0313 0.01 20 1\n",
      "[-0.0200728   0.0161519   0.02849825 ... -0.00315804  0.00921494\n",
      " -0.02009472]\n"
     ]
    },
    {
     "data": {
      "image/png": "[encoded data removed]",
      "text/plain": [
       "<Figure size 432x288 with 1 Axes>"
      ]
     },
     "metadata": {
      "needs_background": "light"
     },
     "output_type": "display_data"
    },
    {
     "name": "stdout",
     "output_type": "stream",
     "text": [
      "acc:  0.1\n",
      "{'val': 0.9, <function attack_pgd at 0x7fabaa1e2400>: [0.1]}\n",
      "pgd called with 0.0313 0.01 20 1\n",
      "[ 0.00491125 -0.00622312 -0.01082507 ... -0.0313      0.0313\n",
      " -0.0313    ]\n"
     ]
    },
    {
     "data": {
      "image/png": "[encoded data removed]",
      "text/plain": [
       "<Figure size 432x288 with 1 Axes>"
      ]
     },
     "metadata": {
      "needs_background": "light"
     },
     "output_type": "display_data"
    },
    {
     "name": "stdout",
     "output_type": "stream",
     "text": [
      "acc:  0.1\n",
      "{'val': 1.0, <function attack_pgd at 0x7fabaa1e2400>: [0.1]}\n",
      "pgd called with 0.0313 0.01 20 1\n",
      "[ 0.00327797  0.01824705  0.         ...  0.01575284  0.00962255\n",
      " -0.00601405]\n"
     ]
    },
    {
     "data": {
      "image/png": "[encoded data removed]",
      "text/plain": [
       "<Figure size 432x288 with 1 Axes>"
      ]
     },
     "metadata": {
      "needs_background": "light"
     },
     "output_type": "display_data"
    },
    {
     "name": "stdout",
     "output_type": "stream",
     "text": [
      "acc:  0.0\n",
      "{'val': 0.7, <function attack_pgd at 0x7fabaa1e2400>: [0.0]}\n",
      "pgd called with 0.0313 0.01 20 1\n",
      "[-0.0313     -0.0313     -0.01666032 ... -0.0213      0.02962053\n",
      "  0.0313    ]\n"
     ]
    },
    {
     "data": {
      "image/png": "[encoded data removed]",
      "text/plain": [
       "<Figure size 432x288 with 1 Axes>"
      ]
     },
     "metadata": {
      "needs_background": "light"
     },
     "output_type": "display_data"
    },
    {
     "name": "stdout",
     "output_type": "stream",
     "text": [
      "acc:  0.1\n",
      "{'val': 0.9, <function attack_pgd at 0x7fabaa1e2400>: [0.1]}\n",
      "pgd called with 0.0313 0.01 20 1\n",
      "[-0.01392233 -0.00866668  0.02129918 ... -0.00713307  0.0313\n",
      " -0.020269  ]\n"
     ]
    },
    {
     "data": {
      "image/png": "[encoded data removed]",
      "text/plain": [
       "<Figure size 432x288 with 1 Axes>"
      ]
     },
     "metadata": {
      "needs_background": "light"
     },
     "output_type": "display_data"
    },
    {
     "name": "stdout",
     "output_type": "stream",
     "text": [
      "acc:  0.0\n",
      "{'val': 1.0, <function attack_pgd at 0x7fabaa1e2400>: [0.0]}\n",
      "pgd called with 0.0313 0.01 20 1\n"
     ]
    }
   ],
   "source": [
    "from Testing import testEnsemble\n",
    "path = f'./models/{maxSamples_vals[0]}Eps{train_eps_nn}/'\n",
    "attack=attack_pgd\n",
    "attackStr=\"attack_pgd\"\n",
    "print(path)\n",
    "ensemble = testEnsemble(path, [attack], 1, numsamples_train=500, numsamples_val=500, attack_eps_ensemble=[0.0313]) "
   ]
  },
  {
   "cell_type": "code",
   "execution_count": 10,
   "metadata": {
    "collapsed": true,
    "jupyter": {
     "outputs_hidden": true
    }
   },
   "outputs": [
    {
     "name": "stdout",
     "output_type": "stream",
     "text": [
      "Files already downloaded and verified\n",
      "Files already downloaded and verified\n",
      "Files already downloaded and verified\n",
      "Weak Learner  0 .  Time Elapsed (s):  0\n",
      "ensemble accuracies: {'train': [0.8795918367346934], 'val': [0.8448979591836732], 'attack_fgsm': [], 'attack_pgd': [[0.5755102040816324], [0.2755102040816326], [0.09591836734693877]], 'wl_train': [], 'wl_val': []}\n",
      "Weak Learner  1 .  Time Elapsed (s):  488\n",
      "ensemble accuracies: {'train': [0.8795918367346934, 0.9040816326530609], 'val': [0.8448979591836732, 0.8816326530612241], 'attack_fgsm': [], 'attack_pgd': [[0.5755102040816324, 0.6326530612244898], [0.2755102040816326, 0.3122448979591837], [0.09591836734693877, 0.1326530612244898]], 'wl_train': [], 'wl_val': []}\n",
      "Weak Learner  2 .  Time Elapsed (s):  1496\n",
      "ensemble accuracies: {'train': [0.8795918367346934, 0.9040816326530609, 0.9530612244897956], 'val': [0.8448979591836732, 0.8816326530612241, 0.9122448979591833], 'attack_fgsm': [], 'attack_pgd': [[0.5755102040816324, 0.6326530612244898, 0.6979591836734694], [0.2755102040816326, 0.3122448979591837, 0.40408163265306124], [0.09591836734693877, 0.1326530612244898, 0.18571428571428567]], 'wl_train': [], 'wl_val': []}\n",
      "Weak Learner  3 .  Time Elapsed (s):  3049\n",
      "ensemble accuracies: {'train': [0.8795918367346934, 0.9040816326530609, 0.9530612244897956, 0.9693877551020407], 'val': [0.8448979591836732, 0.8816326530612241, 0.9122448979591833, 0.9102040816326527], 'attack_fgsm': [], 'attack_pgd': [[0.5755102040816324, 0.6326530612244898, 0.6979591836734694, 0.7265306122448981], [0.2755102040816326, 0.3122448979591837, 0.40408163265306124, 0.46326530612244904], [0.09591836734693877, 0.1326530612244898, 0.18571428571428567, 0.2387755102040815]], 'wl_train': [], 'wl_val': []}\n",
      "Weak Learner  4 .  Time Elapsed (s):  5191\n",
      "ensemble accuracies: {'train': [0.8795918367346934, 0.9040816326530609, 0.9530612244897956, 0.9693877551020407, 0.9693877551020406], 'val': [0.8448979591836732, 0.8816326530612241, 0.9122448979591833, 0.9102040816326527, 0.9061224489795914], 'attack_fgsm': [], 'attack_pgd': [[0.5755102040816324, 0.6326530612244898, 0.6979591836734694, 0.7265306122448981, 0.7489795918367343], [0.2755102040816326, 0.3122448979591837, 0.40408163265306124, 0.46326530612244904, 0.4938775510204082], [0.09591836734693877, 0.1326530612244898, 0.18571428571428567, 0.2387755102040815, 0.2612244897959184]], 'wl_train': [], 'wl_val': []}\n",
      "Weak Learner  5 .  Time Elapsed (s):  7865\n",
      "ensemble accuracies: {'train': [0.8795918367346934, 0.9040816326530609, 0.9530612244897956, 0.9693877551020407, 0.9693877551020406, 0.9795918367346937], 'val': [0.8448979591836732, 0.8816326530612241, 0.9122448979591833, 0.9102040816326527, 0.9061224489795914, 0.9244897959183669], 'attack_fgsm': [], 'attack_pgd': [[0.5755102040816324, 0.6326530612244898, 0.6979591836734694, 0.7265306122448981, 0.7489795918367343, 0.7244897959183674], [0.2755102040816326, 0.3122448979591837, 0.40408163265306124, 0.46326530612244904, 0.4938775510204082, 0.5061224489795918], [0.09591836734693877, 0.1326530612244898, 0.18571428571428567, 0.2387755102040815, 0.2612244897959184, 0.30408163265306126]], 'wl_train': [], 'wl_val': []}\n",
      "Weak Learner  6 .  Time Elapsed (s):  11060\n",
      "ensemble accuracies: {'train': [0.8795918367346934, 0.9040816326530609, 0.9530612244897956, 0.9693877551020407, 0.9693877551020406, 0.9795918367346937, 0.9795918367346937], 'val': [0.8448979591836732, 0.8816326530612241, 0.9122448979591833, 0.9102040816326527, 0.9061224489795914, 0.9244897959183669, 0.9142857142857138], 'attack_fgsm': [], 'attack_pgd': [[0.5755102040816324, 0.6326530612244898, 0.6979591836734694, 0.7265306122448981, 0.7489795918367343, 0.7244897959183674, 0.7306122448979593], [0.2755102040816326, 0.3122448979591837, 0.40408163265306124, 0.46326530612244904, 0.4938775510204082, 0.5061224489795918, 0.49183673469387756], [0.09591836734693877, 0.1326530612244898, 0.18571428571428567, 0.2387755102040815, 0.2612244897959184, 0.30408163265306126, 0.2979591836734693]], 'wl_train': [], 'wl_val': []}\n",
      "Weak Learner  7 .  Time Elapsed (s):  14813\n",
      "ensemble accuracies: {'train': [0.8795918367346934, 0.9040816326530609, 0.9530612244897956, 0.9693877551020407, 0.9693877551020406, 0.9795918367346937, 0.9795918367346937, 0.9897959183673469], 'val': [0.8448979591836732, 0.8816326530612241, 0.9122448979591833, 0.9102040816326527, 0.9061224489795914, 0.9244897959183669, 0.9142857142857138, 0.9183673469387751], 'attack_fgsm': [], 'attack_pgd': [[0.5755102040816324, 0.6326530612244898, 0.6979591836734694, 0.7265306122448981, 0.7489795918367343, 0.7244897959183674, 0.7306122448979593, 0.7653061224489796], [0.2755102040816326, 0.3122448979591837, 0.40408163265306124, 0.46326530612244904, 0.4938775510204082, 0.5061224489795918, 0.49183673469387756, 0.5551020408163266], [0.09591836734693877, 0.1326530612244898, 0.18571428571428567, 0.2387755102040815, 0.2612244897959184, 0.30408163265306126, 0.2979591836734693, 0.3448979591836736]], 'wl_train': [], 'wl_val': []}\n",
      "Weak Learner  8 .  Time Elapsed (s):  19100\n",
      "ensemble accuracies: {'train': [0.8795918367346934, 0.9040816326530609, 0.9530612244897956, 0.9693877551020407, 0.9693877551020406, 0.9795918367346937, 0.9795918367346937, 0.9897959183673469, 0.9897959183673468], 'val': [0.8448979591836732, 0.8816326530612241, 0.9122448979591833, 0.9102040816326527, 0.9061224489795914, 0.9244897959183669, 0.9142857142857138, 0.9183673469387751, 0.9224489795918365], 'attack_fgsm': [], 'attack_pgd': [[0.5755102040816324, 0.6326530612244898, 0.6979591836734694, 0.7265306122448981, 0.7489795918367343, 0.7244897959183674, 0.7306122448979593, 0.7653061224489796, 0.7714285714285714], [0.2755102040816326, 0.3122448979591837, 0.40408163265306124, 0.46326530612244904, 0.4938775510204082, 0.5061224489795918, 0.49183673469387756, 0.5551020408163266, 0.5571428571428574], [0.09591836734693877, 0.1326530612244898, 0.18571428571428567, 0.2387755102040815, 0.2612244897959184, 0.30408163265306126, 0.2979591836734693, 0.3448979591836736, 0.3244897959183673]], 'wl_train': [], 'wl_val': []}\n",
      "Weak Learner  9 .  Time Elapsed (s):  23987\n",
      "ensemble accuracies: {'train': [0.8795918367346934, 0.9040816326530609, 0.9530612244897956, 0.9693877551020407, 0.9693877551020406, 0.9795918367346937, 0.9795918367346937, 0.9897959183673469, 0.9897959183673468, 0.9938775510204081], 'val': [0.8448979591836732, 0.8816326530612241, 0.9122448979591833, 0.9102040816326527, 0.9061224489795914, 0.9244897959183669, 0.9142857142857138, 0.9183673469387751, 0.9224489795918365, 0.9122448979591836], 'attack_fgsm': [], 'attack_pgd': [[0.5755102040816324, 0.6326530612244898, 0.6979591836734694, 0.7265306122448981, 0.7489795918367343, 0.7244897959183674, 0.7306122448979593, 0.7653061224489796, 0.7714285714285714, 0.7959183673469384], [0.2755102040816326, 0.3122448979591837, 0.40408163265306124, 0.46326530612244904, 0.4938775510204082, 0.5061224489795918, 0.49183673469387756, 0.5551020408163266, 0.5571428571428574, 0.5306122448979593], [0.09591836734693877, 0.1326530612244898, 0.18571428571428567, 0.2387755102040815, 0.2612244897959184, 0.30408163265306126, 0.2979591836734693, 0.3448979591836736, 0.3244897959183673, 0.3448979591836735]], 'wl_train': [], 'wl_val': []}\n",
      "Weak Learner  10 .  Time Elapsed (s):  29451\n",
      "ensemble accuracies: {'train': [0.8795918367346934, 0.9040816326530609, 0.9530612244897956, 0.9693877551020407, 0.9693877551020406, 0.9795918367346937, 0.9795918367346937, 0.9897959183673469, 0.9897959183673468, 0.9938775510204081, 0.9979591836734694], 'val': [0.8448979591836732, 0.8816326530612241, 0.9122448979591833, 0.9102040816326527, 0.9061224489795914, 0.9244897959183669, 0.9142857142857138, 0.9183673469387751, 0.9224489795918365, 0.9122448979591836, 0.9183673469387752], 'attack_fgsm': [], 'attack_pgd': [[0.5755102040816324, 0.6326530612244898, 0.6979591836734694, 0.7265306122448981, 0.7489795918367343, 0.7244897959183674, 0.7306122448979593, 0.7653061224489796, 0.7714285714285714, 0.7959183673469384, 0.7979591836734695], [0.2755102040816326, 0.3122448979591837, 0.40408163265306124, 0.46326530612244904, 0.4938775510204082, 0.5061224489795918, 0.49183673469387756, 0.5551020408163266, 0.5571428571428574, 0.5306122448979593, 0.5551020408163266], [0.09591836734693877, 0.1326530612244898, 0.18571428571428567, 0.2387755102040815, 0.2612244897959184, 0.30408163265306126, 0.2979591836734693, 0.3448979591836736, 0.3244897959183673, 0.3448979591836735, 0.346938775510204]], 'wl_train': [], 'wl_val': []}\n",
      "Weak Learner  11 .  Time Elapsed (s):  35443\n",
      "ensemble accuracies: {'train': [0.8795918367346934, 0.9040816326530609, 0.9530612244897956, 0.9693877551020407, 0.9693877551020406, 0.9795918367346937, 0.9795918367346937, 0.9897959183673469, 0.9897959183673468, 0.9938775510204081, 0.9979591836734694, 1.0], 'val': [0.8448979591836732, 0.8816326530612241, 0.9122448979591833, 0.9102040816326527, 0.9061224489795914, 0.9244897959183669, 0.9142857142857138, 0.9183673469387751, 0.9224489795918365, 0.9122448979591836, 0.9183673469387752, 0.9122448979591833], 'attack_fgsm': [], 'attack_pgd': [[0.5755102040816324, 0.6326530612244898, 0.6979591836734694, 0.7265306122448981, 0.7489795918367343, 0.7244897959183674, 0.7306122448979593, 0.7653061224489796, 0.7714285714285714, 0.7959183673469384, 0.7979591836734695, 0.757142857142857], [0.2755102040816326, 0.3122448979591837, 0.40408163265306124, 0.46326530612244904, 0.4938775510204082, 0.5061224489795918, 0.49183673469387756, 0.5551020408163266, 0.5571428571428574, 0.5306122448979593, 0.5551020408163266, 0.5918367346938774], [0.09591836734693877, 0.1326530612244898, 0.18571428571428567, 0.2387755102040815, 0.2612244897959184, 0.30408163265306126, 0.2979591836734693, 0.3448979591836736, 0.3244897959183673, 0.3448979591836735, 0.346938775510204, 0.4204081632653062]], 'wl_train': [], 'wl_val': []}\n",
      "Weak Learner  12 .  Time Elapsed (s):  41985\n",
      "ensemble accuracies: {'train': [0.8795918367346934, 0.9040816326530609, 0.9530612244897956, 0.9693877551020407, 0.9693877551020406, 0.9795918367346937, 0.9795918367346937, 0.9897959183673469, 0.9897959183673468, 0.9938775510204081, 0.9979591836734694, 1.0, 0.9979591836734694], 'val': [0.8448979591836732, 0.8816326530612241, 0.9122448979591833, 0.9102040816326527, 0.9061224489795914, 0.9244897959183669, 0.9142857142857138, 0.9183673469387751, 0.9224489795918365, 0.9122448979591836, 0.9183673469387752, 0.9122448979591833, 0.9224489795918367], 'attack_fgsm': [], 'attack_pgd': [[0.5755102040816324, 0.6326530612244898, 0.6979591836734694, 0.7265306122448981, 0.7489795918367343, 0.7244897959183674, 0.7306122448979593, 0.7653061224489796, 0.7714285714285714, 0.7959183673469384, 0.7979591836734695, 0.757142857142857, 0.8061224489795917], [0.2755102040816326, 0.3122448979591837, 0.40408163265306124, 0.46326530612244904, 0.4938775510204082, 0.5061224489795918, 0.49183673469387756, 0.5551020408163266, 0.5571428571428574, 0.5306122448979593, 0.5551020408163266, 0.5918367346938774, 0.6285714285714287], [0.09591836734693877, 0.1326530612244898, 0.18571428571428567, 0.2387755102040815, 0.2612244897959184, 0.30408163265306126, 0.2979591836734693, 0.3448979591836736, 0.3244897959183673, 0.3448979591836735, 0.346938775510204, 0.4204081632653062, 0.424489795918367]], 'wl_train': [], 'wl_val': []}\n",
      "Weak Learner  13 .  Time Elapsed (s):  49323\n",
      "ensemble accuracies: {'train': [0.8795918367346934, 0.9040816326530609, 0.9530612244897956, 0.9693877551020407, 0.9693877551020406, 0.9795918367346937, 0.9795918367346937, 0.9897959183673469, 0.9897959183673468, 0.9938775510204081, 0.9979591836734694, 1.0, 0.9979591836734694, 0.9938775510204081], 'val': [0.8448979591836732, 0.8816326530612241, 0.9122448979591833, 0.9102040816326527, 0.9061224489795914, 0.9244897959183669, 0.9142857142857138, 0.9183673469387751, 0.9224489795918365, 0.9122448979591836, 0.9183673469387752, 0.9122448979591833, 0.9224489795918367, 0.9326530612244894], 'attack_fgsm': [], 'attack_pgd': [[0.5755102040816324, 0.6326530612244898, 0.6979591836734694, 0.7265306122448981, 0.7489795918367343, 0.7244897959183674, 0.7306122448979593, 0.7653061224489796, 0.7714285714285714, 0.7959183673469384, 0.7979591836734695, 0.757142857142857, 0.8061224489795917, 0.7836734693877551], [0.2755102040816326, 0.3122448979591837, 0.40408163265306124, 0.46326530612244904, 0.4938775510204082, 0.5061224489795918, 0.49183673469387756, 0.5551020408163266, 0.5571428571428574, 0.5306122448979593, 0.5551020408163266, 0.5918367346938774, 0.6285714285714287, 0.5653061224489796], [0.09591836734693877, 0.1326530612244898, 0.18571428571428567, 0.2387755102040815, 0.2612244897959184, 0.30408163265306126, 0.2979591836734693, 0.3448979591836736, 0.3244897959183673, 0.3448979591836735, 0.346938775510204, 0.4204081632653062, 0.424489795918367, 0.4040816326530613]], 'wl_train': [], 'wl_val': []}\n",
      "Weak Learner  14 .  Time Elapsed (s):  57170\n",
      "ensemble accuracies: {'train': [0.8795918367346934, 0.9040816326530609, 0.9530612244897956, 0.9693877551020407, 0.9693877551020406, 0.9795918367346937, 0.9795918367346937, 0.9897959183673469, 0.9897959183673468, 0.9938775510204081, 0.9979591836734694, 1.0, 0.9979591836734694, 0.9938775510204081, 0.9979591836734694], 'val': [0.8448979591836732, 0.8816326530612241, 0.9122448979591833, 0.9102040816326527, 0.9061224489795914, 0.9244897959183669, 0.9142857142857138, 0.9183673469387751, 0.9224489795918365, 0.9122448979591836, 0.9183673469387752, 0.9122448979591833, 0.9224489795918367, 0.9326530612244894, 0.8999999999999997], 'attack_fgsm': [], 'attack_pgd': [[0.5755102040816324, 0.6326530612244898, 0.6979591836734694, 0.7265306122448981, 0.7489795918367343, 0.7244897959183674, 0.7306122448979593, 0.7653061224489796, 0.7714285714285714, 0.7959183673469384, 0.7979591836734695, 0.757142857142857, 0.8061224489795917, 0.7836734693877551, 0.7755102040816325], [0.2755102040816326, 0.3122448979591837, 0.40408163265306124, 0.46326530612244904, 0.4938775510204082, 0.5061224489795918, 0.49183673469387756, 0.5551020408163266, 0.5571428571428574, 0.5306122448979593, 0.5551020408163266, 0.5918367346938774, 0.6285714285714287, 0.5653061224489796, 0.5938775510204081], [0.09591836734693877, 0.1326530612244898, 0.18571428571428567, 0.2387755102040815, 0.2612244897959184, 0.30408163265306126, 0.2979591836734693, 0.3448979591836736, 0.3244897959183673, 0.3448979591836735, 0.346938775510204, 0.4204081632653062, 0.424489795918367, 0.4040816326530613, 0.4551020408163265]], 'wl_train': [], 'wl_val': []}\n"
     ]
    }
   ],
   "source": [
    "from Testing import testEnsemble\n",
    "path = f'./models/{maxSamples_vals[0]}Eps{train_eps_nn}/'\n",
    "attack=attack_pgd\n",
    "attackStr=\"attack_pgd\"\n",
    "ensemble = testEnsemble(path, [attack], num_wl, numsamples_train=500, numsamples_val=500, attack_eps_ensemble=epsilons) "
   ]
  },
  {
   "cell_type": "code",
   "execution_count": 11,
   "metadata": {},
   "outputs": [
    {
     "data": {
      "image/png": "[encoded data removed]",
      "text/plain": [
       "<Figure size 432x288 with 1 Axes>"
      ]
     },
     "metadata": {
      "needs_background": "light"
     },
     "output_type": "display_data"
    },
    {
     "data": {
      "image/png": "[encoded data removed]",
      "text/plain": [
       "<Figure size 432x288 with 1 Axes>"
      ]
     },
     "metadata": {
      "needs_background": "light"
     },
     "output_type": "display_data"
    },
    {
     "data": {
      "image/png": "[encoded data removed]",
      "text/plain": [
       "<Figure size 432x288 with 1 Axes>"
      ]
     },
     "metadata": {
      "needs_background": "light"
     },
     "output_type": "display_data"
    }
   ],
   "source": [
    "maxSamples = maxSamples_vals[0]\n",
    "resultsPath = f'results/plots/cifar10/train_eps_{train_eps_nn}/{attackStr}/'\n",
    "acc_file = resultsPath + f'acc_maxSamples_{maxSamples}.png'\n",
    "adv_acc_file = resultsPath + f'adv_acc_maxSamples_{maxSamples}.png'\n",
    "loss_file = resultsPath + f'loss_maxSamples_{maxSamples}.png'\n",
    "# wl_train_acc_file = resultsPath + f'wl_train_acc_maxSamples_{maxSamples}.png'\n",
    "ensemble.plot_accuracies(acc_file)\n",
    "ensemble.plot_loss(loss_file)\n",
    "ensemble.plot_adversarial_accuracies(adv_acc_file)\n",
    "# ensemble.plot_wl_acc(wl_train_acc_file)\n"
   ]
  },
  {
   "cell_type": "code",
   "execution_count": null,
   "metadata": {
    "scrolled": true
   },
   "outputs": [],
   "source": [
    "# for maxSamples in maxSamples_vals:\n",
    "#         ensemble = runBoosting(num_wl, maxSamples, dataset=datasets.CIFAR10, weakLearnerType = WongNeuralNetCIFAR10, val_attacks = [attack_fgsm], \n",
    "#                                attack_eps_nn=epsilons, attack_eps_ensemble=epsilons, train_eps_nn=8, adv_train=True)\n",
    "#         ensembles.append(ensemble)"
   ]
  },
  {
   "cell_type": "code",
   "execution_count": null,
   "metadata": {},
   "outputs": [],
   "source": [
    "print(ensemble.accuracies)"
   ]
  },
  {
   "cell_type": "code",
   "execution_count": null,
   "metadata": {},
   "outputs": [],
   "source": [
    "ensembles[0].plot_train_loss()\n",
    "ensembles[0].plot_val_loss()\n",
    "ensembles[0].plot_train_accuracies()\n",
    "ensembles[0].plot_val_accuracies()"
   ]
  },
  {
   "cell_type": "code",
   "execution_count": null,
   "metadata": {},
   "outputs": [],
   "source": [
    "ensembles[0].attack_eps"
   ]
  },
  {
   "cell_type": "code",
   "execution_count": null,
   "metadata": {},
   "outputs": [],
   "source": [
    "ensembles[0].plot_wl_acc()"
   ]
  },
  {
   "cell_type": "code",
   "execution_count": null,
   "metadata": {},
   "outputs": [],
   "source": [
    "ensemble"
   ]
  },
  {
   "cell_type": "markdown",
   "metadata": {},
   "source": [
    "## Sanity Checking PGD Attack"
   ]
  },
  {
   "cell_type": "code",
   "execution_count": 17,
   "metadata": {},
   "outputs": [],
   "source": [
    "TestNN = WongNeuralNetCIFAR10(attack_eps=[0.03])"
   ]
  },
  {
   "cell_type": "code",
   "execution_count": 18,
   "metadata": {},
   "outputs": [
    {
     "name": "stdout",
     "output_type": "stream",
     "text": [
      "\n"
     ]
    }
   ],
   "source": [
    "TestNN.model.load_state_dict(torch.load(\"./models/750000Eps0/wl_0.pth\"))\n",
    "TestNN.model.cuda()\n",
    "TestNN.model.eval()\n",
    "print(\"\")"
   ]
  },
  {
   "cell_type": "code",
   "execution_count": 19,
   "metadata": {},
   "outputs": [
    {
     "name": "stdout",
     "output_type": "stream",
     "text": [
      "Files already downloaded and verified\n",
      "Files already downloaded and verified\n"
     ]
    }
   ],
   "source": [
    "transform_train = transforms.Compose([\n",
    "    transforms.RandomCrop(32, padding=4),\n",
    "    transforms.RandomHorizontalFlip(),\n",
    "    transforms.ToTensor(),\n",
    "    transforms.Normalize((0.4914, 0.4822, 0.4465), (0.2471, 0.2435, 0.2616)),\n",
    "])\n",
    "\n",
    "# Normalize the test set same as training set without augmentation\n",
    "transform_test = transforms.Compose([\n",
    "    transforms.ToTensor(),\n",
    "    transforms.Normalize((0.4914, 0.4822, 0.4465), (0.2471, 0.2435, 0.2616)),\n",
    "])\n",
    "\n",
    "trainset = datasets.CIFAR10(\n",
    "    root=\"./data\", train=True, download=True, transform=transform_train)\n",
    "train_loader = torch.utils.data.DataLoader(\n",
    "    trainset, batch_size=100, shuffle=True, num_workers=2)\n",
    "\n",
    "testset = datasets.CIFAR10(\n",
    "    root=\"./data\", train=False, download=True, transform=transform_test)\n",
    "test_loader = torch.utils.data.DataLoader(\n",
    "    testset, batch_size=100, shuffle=True, num_workers=2)"
   ]
  },
  {
   "cell_type": "code",
   "execution_count": 20,
   "metadata": {},
   "outputs": [
    {
     "name": "stdout",
     "output_type": "stream",
     "text": [
      "pgd called with 0.03 0.01 20 1\n",
      "[-0.00984019 -0.00649809 -0.00305522 ... -0.03        0.03\n",
      "  0.03      ]\n"
     ]
    },
    {
     "data": {
      "image/png": "[encoded data removed]",
      "text/plain": [
       "<Figure size 432x288 with 1 Axes>"
      ]
     },
     "metadata": {
      "needs_background": "light"
     },
     "output_type": "display_data"
    },
    {
     "name": "stdout",
     "output_type": "stream",
     "text": [
      "acc:  0.14\n",
      "{'val': 0.86, <function attack_pgd at 0x7fc4e2b87400>: [0.14]}\n"
     ]
    }
   ],
   "source": [
    "i = 0\n",
    "accs = []\n",
    "for data in test_loader:\n",
    "    X = data[0]\n",
    "    y = data[1]\n",
    "    losses, acc = TestNN.calc_accuracies(X.cuda(), y.cuda(), val_attacks=[attack_pgd], attack_iters=20)\n",
    "    print(acc)\n",
    "    \n",
    "#     if i>5:\n",
    "    break\n",
    "    i+=1"
   ]
  },
  {
   "cell_type": "code",
   "execution_count": 14,
   "metadata": {
    "scrolled": true
   },
   "outputs": [
    {
     "name": "stdout",
     "output_type": "stream",
     "text": [
      "pgd called with 0.03 0.01 20 1\n",
      "[-0.02856857 -0.0021916  -0.01201383 ... -0.01790334  0.02073131\n",
      " -0.03      ]\n"
     ]
    },
    {
     "data": {
      "image/png": "[encoded data removed]",
      "text/plain": [
       "<Figure size 432x288 with 1 Axes>"
      ]
     },
     "metadata": {
      "needs_background": "light"
     },
     "output_type": "display_data"
    },
    {
     "name": "stdout",
     "output_type": "stream",
     "text": [
      "acc:  0.11\n",
      "{'val': 0.86, <function attack_pgd at 0x7fc4e2b87400>: [0.11]}\n",
      "pgd called with 0.03 0.01 20 1\n",
      "[-0.00827936 -0.02992373  0.01021506 ... -0.01654182 -0.00104857\n",
      "  0.01855921]\n"
     ]
    },
    {
     "data": {
      "image/png": "[encoded data removed]",
      "text/plain": [
       "<Figure size 432x288 with 1 Axes>"
      ]
     },
     "metadata": {
      "needs_background": "light"
     },
     "output_type": "display_data"
    },
    {
     "name": "stdout",
     "output_type": "stream",
     "text": [
      "acc:  0.09\n",
      "{'val': 0.87, <function attack_pgd at 0x7fc4e2b87400>: [0.09]}\n",
      "pgd called with 0.03 0.01 20 1\n",
      "[-0.01923274 -0.02139034  0.03       ...  0.         -0.03\n",
      "  0.        ]\n"
     ]
    },
    {
     "data": {
      "image/png": "[encoded data removed]",
      "text/plain": [
       "<Figure size 432x288 with 1 Axes>"
      ]
     },
     "metadata": {
      "needs_background": "light"
     },
     "output_type": "display_data"
    },
    {
     "name": "stdout",
     "output_type": "stream",
     "text": [
      "acc:  0.06\n",
      "{'val': 0.84, <function attack_pgd at 0x7fc4e2b87400>: [0.06]}\n",
      "pgd called with 0.03 0.01 20 1\n",
      "[-0.01744878 -0.01610704  0.00393204 ... -0.01542993 -0.03\n",
      " -0.00423794]\n"
     ]
    },
    {
     "data": {
      "image/png": "[encoded data removed]",
      "text/plain": [
       "<Figure size 432x288 with 1 Axes>"
      ]
     },
     "metadata": {
      "needs_background": "light"
     },
     "output_type": "display_data"
    },
    {
     "name": "stdout",
     "output_type": "stream",
     "text": [
      "acc:  0.13\n",
      "{'val': 0.9, <function attack_pgd at 0x7fc4e2b87400>: [0.13]}\n",
      "pgd called with 0.03 0.01 20 1\n",
      "[ 0.03       -0.01925849 -0.01494525 ...  0.01248405 -0.03\n",
      " -0.01672453]\n"
     ]
    },
    {
     "data": {
      "image/png": "[encoded data removed]",
      "text/plain": [
       "<Figure size 432x288 with 1 Axes>"
      ]
     },
     "metadata": {
      "needs_background": "light"
     },
     "output_type": "display_data"
    },
    {
     "name": "stdout",
     "output_type": "stream",
     "text": [
      "acc:  0.14\n",
      "{'val': 0.86, <function attack_pgd at 0x7fc4e2b87400>: [0.14]}\n",
      "pgd called with 0.03 0.01 20 1\n",
      "[ 0.02128275  0.01869717  0.03       ... -0.03        0.03\n",
      " -0.03      ]\n"
     ]
    },
    {
     "data": {
      "image/png": "[encoded data removed]",
      "text/plain": [
       "<Figure size 432x288 with 1 Axes>"
      ]
     },
     "metadata": {
      "needs_background": "light"
     },
     "output_type": "display_data"
    },
    {
     "name": "stdout",
     "output_type": "stream",
     "text": [
      "acc:  0.07\n",
      "{'val': 0.88, <function attack_pgd at 0x7fc4e2b87400>: [0.07]}\n",
      "pgd called with 0.03 0.01 20 1\n",
      "[ 0.00836762  0.01230096  0.02       ...  0.03       -0.01226729\n",
      "  0.03      ]\n"
     ]
    },
    {
     "data": {
      "image/png": "[encoded data removed]",
      "text/plain": [
       "<Figure size 432x288 with 1 Axes>"
      ]
     },
     "metadata": {
      "needs_background": "light"
     },
     "output_type": "display_data"
    },
    {
     "name": "stdout",
     "output_type": "stream",
     "text": [
      "acc:  0.14\n",
      "{'val': 0.81, <function attack_pgd at 0x7fc4e2b87400>: [0.14]}\n",
      "pgd called with 0.03 0.01 20 1\n",
      "[ 0.02398189  0.01916029 -0.00195976 ...  0.03        0.01751919\n",
      " -0.03      ]\n"
     ]
    },
    {
     "data": {
      "image/png": "[encoded data removed]",
      "text/plain": [
       "<Figure size 432x288 with 1 Axes>"
      ]
     },
     "metadata": {
      "needs_background": "light"
     },
     "output_type": "display_data"
    },
    {
     "name": "stdout",
     "output_type": "stream",
     "text": [
      "acc:  0.1\n",
      "{'val': 0.83, <function attack_pgd at 0x7fc4e2b87400>: [0.1]}\n",
      "pgd called with 0.03 0.01 20 1\n",
      "[-0.03        0.03       -0.03       ... -0.03       -0.00548702\n",
      " -0.01308539]\n"
     ]
    },
    {
     "data": {
      "image/png": "[encoded data removed]",
      "text/plain": [
       "<Figure size 432x288 with 1 Axes>"
      ]
     },
     "metadata": {
      "needs_background": "light"
     },
     "output_type": "display_data"
    },
    {
     "name": "stdout",
     "output_type": "stream",
     "text": [
      "acc:  0.09\n",
      "{'val': 0.83, <function attack_pgd at 0x7fc4e2b87400>: [0.09]}\n",
      "ensemble accuracies: {'train': [0.8599999999999999], 'val': [0.8533333333333333], 'attack_fgsm': [], 'attack_pgd': [[0.10333333333333333]], 'wl_train': [], 'wl_val': []}\n"
     ]
    }
   ],
   "source": [
    "ensemble = Ensemble(weakLearners=[], weakLearnerWeights=[], weakLearnerType=WongNeuralNetCIFAR10, attack_eps=[0.03])\n",
    "ensemble.losses[\"val\"]\n",
    "for i in range(1):\n",
    "    ensemble.addWeakLearner(\"./models/750000Eps0/wl_0.pth\", 1)\n",
    "#         print(\"before ens acc\", ensemble.accuracies)\n",
    "\n",
    "    ensemble.record_accuracies(i, train_loader, test_loader, 1000, 1000, val_attacks=[attack_pgd])\n",
    "    print(\"ensemble accuracies:\", ensemble.accuracies)"
   ]
  },
  {
   "cell_type": "markdown",
   "metadata": {},
   "source": [
    "## Sanity check for PGD (single weak learner and ensemble)"
   ]
  },
  {
   "cell_type": "code",
   "execution_count": 10,
   "metadata": {},
   "outputs": [],
   "source": [
    "# pgd_steps = [20, 40, 60, 80, 100]\n",
    "pgd_steps = [20]\n",
    "attack_eps = [0.3]\n",
    "num_wl = 1\n",
    "from Testing import testEnsemble"
   ]
  },
  {
   "cell_type": "code",
   "execution_count": 11,
   "metadata": {
    "scrolled": true
   },
   "outputs": [
    {
     "name": "stdout",
     "output_type": "stream",
     "text": [
      "\n",
      "Files already downloaded and verified\n",
      "pgd called with 0.3 0.01 20 1\n",
      "[ 0.          0.         -0.298182   ... -0.11172536  0.26904547\n",
      "  0.10823703]\n"
     ]
    },
    {
     "data": {
      "image/png": "[encoded data removed]",
      "text/plain": [
       "<Figure size 432x288 with 1 Axes>"
      ]
     },
     "metadata": {
      "needs_background": "light"
     },
     "output_type": "display_data"
    },
    {
     "name": "stdout",
     "output_type": "stream",
     "text": [
      "acc:  0.0\n",
      "{'val': 0.86, <function attack_pgd at 0x7f74fc95e400>: [0.0]}\n"
     ]
    }
   ],
   "source": [
    "#Test pgd on weak learners\n",
    "for attack_iters in pgd_steps:\n",
    "    TestNN = WongNeuralNetCIFAR10(attack_eps=attack_eps)\n",
    "    TestNN.model.load_state_dict(torch.load(\"./models/750000Eps0/wl_0.pth\"))\n",
    "    TestNN.model.cuda()\n",
    "    TestNN.model.eval()\n",
    "    print(\"\")\n",
    "\n",
    "    # Normalize the test set same as training set without augmentation\n",
    "    transform_test = transforms.Compose([\n",
    "        transforms.ToTensor(),\n",
    "        transforms.Normalize((0.4914, 0.4822, 0.4465), (0.2471, 0.2435, 0.2616)),\n",
    "    ])\n",
    "\n",
    "    testset = datasets.CIFAR10(\n",
    "        root=\"./data\", train=False, download=True, transform=transform_test)\n",
    "    test_loader = torch.utils.data.DataLoader(\n",
    "        testset, batch_size=100, shuffle=True, num_workers=2)\n",
    "    i = 0\n",
    "    accs = []\n",
    "    for data in test_loader:\n",
    "        X = data[0]\n",
    "        y = data[1]\n",
    "        losses, acc = TestNN.calc_accuracies(X.cuda(), y.cuda(), val_attacks=[attack_pgd], attack_iters=attack_iters)\n",
    "        print(acc)\n",
    "\n",
    "    #     if i>5:\n",
    "        break\n",
    "        i+=1"
   ]
  },
  {
   "cell_type": "code",
   "execution_count": null,
   "metadata": {},
   "outputs": [],
   "source": [
    "# Test pgd on ensemble\n",
    "for attack_iters in pgd_steps:\n",
    "        path = f'./models/{maxSamples_vals[0]}Eps{train_eps_nn}/'\n",
    "    attack=attack_pgd\n",
    "    attackStr=\"attack_pgd\"\n",
    "    ensemble = testEnsemble(path, [attack], num_wl, numsamples_train=500, numsamples_val=500, attack_eps_ensemble=epsilons)\n",
    "    maxSamples = maxSamples_vals[0]\n",
    "    resultsPath = f'results/plots/cifar10/train_eps_{train_eps_nn}_iter_{attack_iters}/{attackStr}/'\n",
    "    acc_file = resultsPath + f'acc_maxSamples_{maxSamples}.png'\n",
    "    adv_acc_file = resultsPath + f'adv_acc_maxSamples_{maxSamples}.png'\n",
    "    loss_file = resultsPath + f'loss_maxSamples_{maxSamples}.png'\n",
    "    # wl_train_acc_file = resultsPath + f'wl_train_acc_maxSamples_{maxSamples}.png'\n",
    "    ensemble.plot_accuracies(acc_file)\n",
    "    ensemble.plot_loss(loss_file)\n",
    "    ensemble.plot_adversarial_accuracies(adv_acc_file)\n",
    "    # ensemble.plot_wl_acc(wl_train_acc_file)"
   ]
  }
 ],
 "metadata": {
  "kernelspec": {
   "display_name": "Python 3",
   "language": "python",
   "name": "python3"
  },
  "language_info": {
   "codemirror_mode": {
    "name": "ipython",
    "version": 3
   },
   "file_extension": ".py",
   "mimetype": "text/x-python",
   "name": "python",
   "nbconvert_exporter": "python",
   "pygments_lexer": "ipython3",
   "version": "3.6.8"
  }
 },
 "nbformat": 4,
 "nbformat_minor": 4
}
