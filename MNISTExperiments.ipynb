{
 "cells": [
  {
   "cell_type": "code",
   "execution_count": 1,
   "metadata": {},
   "outputs": [],
   "source": [
    "from __future__ import print_function\n",
    "import torch\n",
    "from torchvision import datasets, transforms\n",
    "import numpy as np\n",
    "from WeakLearners import WongNeuralNetMNIST\n",
    "import matplotlib.pyplot as plt"
   ]
  },
  {
   "cell_type": "code",
   "execution_count": 2,
   "metadata": {},
   "outputs": [],
   "source": [
    "from Boosting import Ensemble, runBoosting"
   ]
  },
  {
   "cell_type": "code",
   "execution_count": 3,
   "metadata": {},
   "outputs": [],
   "source": [
    "import utils"
   ]
  },
  {
   "cell_type": "code",
   "execution_count": 4,
   "metadata": {},
   "outputs": [],
   "source": [
    "cuda = torch.device('cuda:0')"
   ]
  },
  {
   "cell_type": "code",
   "execution_count": 5,
   "metadata": {},
   "outputs": [],
   "source": [
    "%load_ext autoreload\n",
    "%autoreload 2"
   ]
  },
  {
   "cell_type": "markdown",
   "metadata": {},
   "source": [
    "## MNIST Boosting"
   ]
  },
  {
   "cell_type": "code",
   "execution_count": 6,
   "metadata": {},
   "outputs": [],
   "source": [
    "maxSamples_vals = [1500]\n",
    "# maxSamples_vals = [200]"
   ]
  },
  {
   "cell_type": "code",
   "execution_count": 7,
   "metadata": {},
   "outputs": [],
   "source": [
    "num_wl = 10 # maybe around 100? #later: maybe change this to an array?\n",
    "num_epochs = 1"
   ]
  },
  {
   "cell_type": "code",
   "execution_count": 8,
   "metadata": {},
   "outputs": [],
   "source": [
    "ensembles = []"
   ]
  },
  {
   "cell_type": "code",
   "execution_count": 9,
   "metadata": {
    "scrolled": true
   },
   "outputs": [
    {
     "name": "stdout",
     "output_type": "stream",
     "text": [
      "----------------------------------------------------------------------------------------------------\n",
      "Training weak learner 0\n",
      "adv_train: False\n",
      "Epoch: 0\n",
      "Num samples: 200,  val accuracy: 0.1550\n"
     ]
    },
    {
     "name": "stderr",
     "output_type": "stream",
     "text": [
      "/usr/local/lib/python3.6/dist-packages/torchvision/datasets/mnist.py:88: UserWarning: The given NumPy array is not writeable, and PyTorch does not support non-writeable tensors. This means you can write to the underlying (supposedly non-writeable) NumPy array using the tensor. You may want to copy the array to protect its data or make it writeable before converting it to a tensor. This type of warning will be suppressed for the rest of this program. (Triggered internally at  /pytorch/torch/csrc/utils/tensor_numpy.cpp:141.)\n",
      "  img, target = self.data[index], int(self.targets[index])\n"
     ]
    },
    {
     "name": "stdout",
     "output_type": "stream",
     "text": [
      "Num samples: 1200,  val accuracy: 0.7600\n",
      "Num samples: 1600,  val accuracy: 0.7850\n",
      "Training accuracy of weak learner:  0.7975\n",
      "Alpha:  1.032727649852548\n",
      "After newest WL, the ensemble's validation score is:  0.809375\n",
      "After newest WL, the ensemble's training score is:  0.8031250000000001\n",
      "----------------------------------------------------------------------------------------------------\n",
      "Training weak learner 1\n",
      "adv_train: False\n",
      "Epoch: 0\n",
      "Num samples: 200,  val accuracy: 0.0800\n",
      "Num samples: 1200,  val accuracy: 0.7550\n",
      "Num samples: 1600,  val accuracy: 0.7300\n",
      "Training accuracy of weak learner:  0.7398\n",
      "Alpha:  0.7263613508268761\n",
      "After newest WL, the ensemble's validation score is:  0.7912500000000001\n",
      "After newest WL, the ensemble's training score is:  0.806875\n",
      "----------------------------------------------------------------------------------------------------\n",
      "Training weak learner 2\n",
      "adv_train: False\n",
      "Epoch: 0\n",
      "Num samples: 200,  val accuracy: 0.1050\n",
      "Num samples: 1200,  val accuracy: 0.5700\n",
      "Num samples: 1600,  val accuracy: 0.7850\n",
      "Training accuracy of weak learner:  0.7168\n",
      "Alpha:  0.4673488232966571\n",
      "After newest WL, the ensemble's validation score is:  0.8125\n",
      "After newest WL, the ensemble's training score is:  0.8168749999999999\n",
      "----------------------------------------------------------------------------------------------------\n",
      "Training weak learner 3\n",
      "adv_train: False\n",
      "Epoch: 0\n",
      "Num samples: 200,  val accuracy: 0.1000\n",
      "Num samples: 1200,  val accuracy: 0.3200\n",
      "Num samples: 1600,  val accuracy: 0.6400\n",
      "Training accuracy of weak learner:  0.6786166666666666\n",
      "Alpha:  0.3999341144880037\n",
      "After newest WL, the ensemble's validation score is:  0.8375000000000001\n",
      "After newest WL, the ensemble's training score is:  0.8556250000000002\n",
      "----------------------------------------------------------------------------------------------------\n",
      "Training weak learner 4\n",
      "adv_train: False\n",
      "Epoch: 0\n",
      "Num samples: 200,  val accuracy: 0.1000\n",
      "Num samples: 1200,  val accuracy: 0.3950\n",
      "Num samples: 1600,  val accuracy: 0.5500\n",
      "Training accuracy of weak learner:  0.5475\n",
      "Alpha:  0.40964027490146643\n",
      "After newest WL, the ensemble's validation score is:  0.8512500000000001\n",
      "After newest WL, the ensemble's training score is:  0.85875\n",
      "----------------------------------------------------------------------------------------------------\n",
      "Training weak learner 5\n",
      "adv_train: False\n",
      "Epoch: 0\n",
      "Num samples: 200,  val accuracy: 0.1400\n",
      "Num samples: 1200,  val accuracy: 0.3850\n",
      "Num samples: 1600,  val accuracy: 0.7700\n",
      "Training accuracy of weak learner:  0.7536166666666667\n",
      "Alpha:  0.3721917656679893\n",
      "After newest WL, the ensemble's validation score is:  0.8624999999999999\n",
      "After newest WL, the ensemble's training score is:  0.8543750000000001\n",
      "----------------------------------------------------------------------------------------------------\n",
      "Training weak learner 6\n",
      "adv_train: False\n",
      "Epoch: 0\n",
      "Num samples: 200,  val accuracy: 0.0950\n",
      "Num samples: 1200,  val accuracy: 0.3500\n",
      "Num samples: 1600,  val accuracy: 0.7250\n",
      "Training accuracy of weak learner:  0.6421333333333333\n",
      "Alpha:  0.21766450197088377\n",
      "After newest WL, the ensemble's validation score is:  0.8681249999999999\n",
      "After newest WL, the ensemble's training score is:  0.8793749999999999\n",
      "----------------------------------------------------------------------------------------------------\n",
      "Training weak learner 7\n",
      "adv_train: False\n",
      "Epoch: 0\n",
      "Num samples: 200,  val accuracy: 0.1050\n",
      "Num samples: 1200,  val accuracy: 0.4150\n",
      "Num samples: 1600,  val accuracy: 0.7850\n",
      "Training accuracy of weak learner:  0.7668333333333334\n",
      "Alpha:  0.2336016070660199\n",
      "After newest WL, the ensemble's validation score is:  0.864375\n",
      "After newest WL, the ensemble's training score is:  0.8856250000000001\n",
      "----------------------------------------------------------------------------------------------------\n",
      "Training weak learner 8\n",
      "adv_train: False\n",
      "Epoch: 0\n",
      "Num samples: 200,  val accuracy: 0.0500\n",
      "Num samples: 1200,  val accuracy: 0.3150\n",
      "Num samples: 1600,  val accuracy: 0.7750\n",
      "Training accuracy of weak learner:  0.7419833333333333\n",
      "Alpha:  0.17308677911583\n",
      "After newest WL, the ensemble's validation score is:  0.868125\n",
      "After newest WL, the ensemble's training score is:  0.88125\n",
      "----------------------------------------------------------------------------------------------------\n",
      "Training weak learner 9\n",
      "adv_train: False\n",
      "Epoch: 0\n",
      "Num samples: 200,  val accuracy: 0.0500\n",
      "Num samples: 1200,  val accuracy: 0.0500\n",
      "Num samples: 1600,  val accuracy: 0.2750\n",
      "Training accuracy of weak learner:  0.3044\n",
      "Alpha:  0.02414188805725276\n",
      "After newest WL, the ensemble's validation score is:  0.8781250000000002\n",
      "After newest WL, the ensemble's training score is:  0.8775\n",
      "Finished in 220.531069  s\n"
     ]
    }
   ],
   "source": [
    "for maxSamples in maxSamples_vals:\n",
    "        ensemble = runBoosting(num_wl, maxSamples, dataset=datasets.MNIST, weakLearnerType = WongNeuralNetMNIST)\n",
    "        ensembles.append(ensemble)"
   ]
  },
  {
   "cell_type": "markdown",
   "metadata": {},
   "source": [
    "\n"
   ]
  },
  {
   "cell_type": "code",
   "execution_count": 10,
   "metadata": {},
   "outputs": [],
   "source": [
    "import csv\n",
    "\n",
    "data_dir = 'mnist_data'\n",
    "\n",
    "for i in range(len(maxSamples_vals)):\n",
    "    maxSamples = maxSamples_vals[i]\n",
    "    wl = all_wl[i]\n",
    "    wl_weights = all_wl_weights[i]\n",
    "    val_accuracies_ensemble = all_val_accuracies_ensemble[i]\n",
    "    train_accuracies_ensemble = all_train_accuracies_ensemble[i]\n",
    "    train_accuracies_wl = all_train_accuracies[i]\n",
    "#     val_accuracies = all_val_accuracies[i]\n",
    "    wl_file = f\"./results/{data_dir}/wl_maxSamples_{maxSamples}.csv\"\n",
    "    wl_weights_file = f\"./results/{data_dir}/wl_weights_maxSamples_{maxSamples}.csv\"\n",
    "    wl_train_acc_file = f\"./results/{data_dir}/wl_train_accuracy_{maxSamples}.csv\"\n",
    "    ensemble_train_acc_file = f\"./results/{data_dir}/ensemble_train_accuracy_{maxSamples}.csv\"\n",
    "    ensemble_val_acc_file = f\"./results/{data_dir}/ensemble_val_accuracy_{maxSamples}.csv\"\n",
    "    with open(wl_file, 'w') as csvfile:\n",
    "        writer = csv.writer(csvfile)\n",
    "        writer.writerow(wl)\n",
    "    with open(wl_weights_file, 'w') as csvfile:\n",
    "        writer = csv.writer(csvfile)\n",
    "        writer.writerow(wl_weights)\n",
    "    with open(wl_train_acc_file, 'w') as csvfile:\n",
    "        writer = csv.writer(csvfile)\n",
    "        writer.writerow(train_accuracies_wl)\n",
    "    with open(ensemble_train_acc_file, 'w') as csvfile:\n",
    "        writer = csv.writer(csvfile)\n",
    "        writer.writerow(train_accuracies_ensemble)\n",
    "    with open(ensemble_val_acc_file, 'w') as csvfile:\n",
    "        writer = csv.writer(csvfile)\n",
    "        writer.writerow(val_accuracies_ensemble)\n",
    "    "
   ]
  },
  {
   "cell_type": "code",
   "execution_count": 11,
   "metadata": {},
   "outputs": [],
   "source": [
    "def generate_plots():\n",
    "    from numpy import genfromtxt\n",
    "    dataset_name = 'mnist'\n",
    "    dataset_path = 'mnist_data'\n",
    "    for i in range(len(maxSamples_vals)):\n",
    "        maxSamples = maxSamples_vals[i]\n",
    "        print(\"maxSamples:\", maxSamples)\n",
    "        wl_train_acc_file = f\"./results/{dataset_path}/wl_train_accuracy_{maxSamples}.csv\"\n",
    "        ensemble_train_acc_file = f\"./results/{dataset_path}/ensemble_train_accuracy_{maxSamples}.csv\"\n",
    "        ensemble_val_acc_file = f\"./results/{dataset_path}/ensemble_val_accuracy_{maxSamples}.csv\"\n",
    "        \n",
    "        # plot for wl train accuracies\n",
    "        plt.subplots()\n",
    "        wl_train_accuracies = genfromtxt(wl_train_acc_file, delimiter = ',')\n",
    "        wl_range = np.arange(len(wl_train_accuracies))\n",
    "        plt.plot(wl_range, wl_train_accuracies)\n",
    "        plt_path = f'results/plots/{dataset_name}/wl_train_accuracies_maxSamples_{maxSamples}.png'\n",
    "        plt.xlabel(\"Num weak learners\")\n",
    "        plt.ylabel(\"Weak learner train accuracy\")\n",
    "        plt.title(f\"Weak learner train accuracy. Samples: {maxSamples}\")\n",
    "        plt.savefig(plt_path)\n",
    "        \n",
    "        # plot for ensemble train + val accuracies\n",
    "        plt.subplots()\n",
    "        train_accuracies_ensemble = genfromtxt(ensemble_train_acc_file, delimiter = ',')\n",
    "#         print(\"wl train accuracies:\", wl_train_accuracies)\n",
    "#         print(\"train_accuracies_ensemble:\", train_accuracies_ensemble)\n",
    "        val_accuracies_ensemble = genfromtxt(ensemble_val_acc_file, delimiter = ',')\n",
    "        wl_range = [10 * i + 1 for i in range(len(train_accuracies_ensemble))]\n",
    "        plt.plot(wl_range, train_accuracies_ensemble)\n",
    "        plt.plot(wl_range, val_accuracies_ensemble)\n",
    "        plt.xlabel(\"Num weak learners\")\n",
    "        plt.ylabel(\"Accuracy\")\n",
    "        plt.legend([\"Ensemble train accuracy\", \"Ensemble val accuracy\"])\n",
    "        plt_path = f'results/plots/{dataset_name}/wl_ensemble_accuracies_maxSamples_{maxSamples}.png'\n",
    "        plt.title(f\"Ensemble accuracy vs # weak learners. Samples: {maxSamples}\")\n",
    "        plt.savefig(plt_path)"
   ]
  },
  {
   "cell_type": "code",
   "execution_count": 12,
   "metadata": {},
   "outputs": [
    {
     "name": "stdout",
     "output_type": "stream",
     "text": [
      "maxSamples: 1500\n"
     ]
    },
    {
     "data": {
      "image/png": "[encoded data removed]",
      "text/plain": [
       "<Figure size 432x288 with 1 Axes>"
      ]
     },
     "metadata": {
      "needs_background": "light"
     },
     "output_type": "display_data"
    },
    {
     "data": {
      "image/png": "[encoded data removed]",
      "text/plain": [
       "<Figure size 432x288 with 1 Axes>"
      ]
     },
     "metadata": {
      "needs_background": "light"
     },
     "output_type": "display_data"
    }
   ],
   "source": [
    "generate_plots()"
   ]
  },
  {
   "cell_type": "code",
   "execution_count": null,
   "metadata": {},
   "outputs": [],
   "source": []
  }
 ],
 "metadata": {
  "kernelspec": {
   "display_name": "Python 3",
   "language": "python",
   "name": "python3"
  },
  "language_info": {
   "codemirror_mode": {
    "name": "ipython",
    "version": 3
   },
   "file_extension": ".py",
   "mimetype": "text/x-python",
   "name": "python",
   "nbconvert_exporter": "python",
   "pygments_lexer": "ipython3",
   "version": "3.6.8"
  }
 },
 "nbformat": 4,
 "nbformat_minor": 4
}
