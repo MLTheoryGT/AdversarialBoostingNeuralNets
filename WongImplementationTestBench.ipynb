{
 "cells": [
  {
   "cell_type": "code",
   "execution_count": 1,
   "metadata": {
    "scrolled": true
   },
   "outputs": [
    {
     "name": "stdout",
     "output_type": "stream",
     "text": [
      "Requirement already satisfied: pytorch_memlab in /usr/local/lib/python3.6/dist-packages (from -r requirements.txt (line 1)) (0.2.2)\n",
      "Requirement already satisfied: torch>=1.4 in /usr/local/lib/python3.6/dist-packages (from pytorch_memlab->-r requirements.txt (line 1)) (1.7.0)\n",
      "Requirement already satisfied: setuptools in /usr/local/lib/python3.6/dist-packages (from pytorch_memlab->-r requirements.txt (line 1)) (41.0.1)\n",
      "Requirement already satisfied: pandas>=0.18 in /usr/local/lib/python3.6/dist-packages (from pytorch_memlab->-r requirements.txt (line 1)) (0.25.0)\n",
      "Requirement already satisfied: calmsize in /usr/local/lib/python3.6/dist-packages (from pytorch_memlab->-r requirements.txt (line 1)) (0.1.3)\n",
      "Requirement already satisfied: future in /usr/local/lib/python3.6/dist-packages (from torch>=1.4->pytorch_memlab->-r requirements.txt (line 1)) (0.17.1)\n",
      "Requirement already satisfied: typing-extensions in /usr/local/lib/python3.6/dist-packages (from torch>=1.4->pytorch_memlab->-r requirements.txt (line 1)) (3.7.4.3)\n",
      "Requirement already satisfied: dataclasses in /usr/local/lib/python3.6/dist-packages (from torch>=1.4->pytorch_memlab->-r requirements.txt (line 1)) (0.7)\n",
      "Requirement already satisfied: numpy in /usr/local/lib/python3.6/dist-packages (from torch>=1.4->pytorch_memlab->-r requirements.txt (line 1)) (1.17.0)\n",
      "Requirement already satisfied: pytz>=2017.2 in /usr/local/lib/python3.6/dist-packages (from pandas>=0.18->pytorch_memlab->-r requirements.txt (line 1)) (2019.2)\n",
      "Requirement already satisfied: python-dateutil>=2.6.1 in /usr/local/lib/python3.6/dist-packages (from pandas>=0.18->pytorch_memlab->-r requirements.txt (line 1)) (2.8.0)\n",
      "Requirement already satisfied: six>=1.5 in /usr/local/lib/python3.6/dist-packages (from python-dateutil>=2.6.1->pandas>=0.18->pytorch_memlab->-r requirements.txt (line 1)) (1.12.0)\n",
      "\u001b[33mWARNING: You are using pip version 19.2.1, however version 20.3.1 is available.\n",
      "You should consider upgrading via the 'pip install --upgrade pip' command.\u001b[0m\n"
     ]
    }
   ],
   "source": [
    "!pip install -r requirements.txt"
   ]
  },
  {
   "cell_type": "code",
   "execution_count": 2,
   "metadata": {
    "colab": {
     "base_uri": "https://localhost:8080/"
    },
    "executionInfo": {
     "elapsed": 319162,
     "status": "ok",
     "timestamp": 1604006410629,
     "user": {
      "displayName": "Arvind Ramaswami",
      "photoUrl": "https://lh3.googleusercontent.com/a-/AOh14GhCToZz1V7dN1-PL412MOUMJZmjfc2ByI1f8fvFCg=s64",
      "userId": "09700302051413106294"
     },
     "user_tz": 240
    },
    "id": "fg6wp4fR2zCb",
    "outputId": "d8fe823b-400d-4768-89e5-ac133020375f"
   },
   "outputs": [],
   "source": [
    "from __future__ import print_function\n",
    "import torch\n",
    "import torch.nn as nn\n",
    "import torch.nn.functional as F\n",
    "import torch.optim as optim\n",
    "from torchvision import datasets, transforms\n",
    "import numpy as np\n",
    "import matplotlib.pyplot as plt\n",
    "import torch.cuda as cutorch\n",
    "from WeakLearners import WongNeuralNet, Net, WongNeuralNetCIFAR10\n",
    "from Boosting import BoostedWongNeuralNet, SchapireWongMulticlassBoosting, SchapireWongMulticlassBoostingMemoryLess, Ensemble, pytorch_predict, BoostingSampler\n",
    "# from apex import amp\n",
    "# !pip3 uninstall apex && git clone https://www.github.com/nvidia/apex && cd apex && python3 setup.py install && rm -rf ../apex\n",
    "# !git clone https://github.com/NVIDIA/apex && cd apex && pip install -v --no-cache-dir --global-option=\"--cpp_ext\" --global-option=\"--cuda_ext\" ./"
   ]
  },
  {
   "cell_type": "code",
   "execution_count": 3,
   "metadata": {
    "executionInfo": {
     "elapsed": 12208,
     "status": "ok",
     "timestamp": 1604006441901,
     "user": {
      "displayName": "Arvind Ramaswami",
      "photoUrl": "https://lh3.googleusercontent.com/a-/AOh14GhCToZz1V7dN1-PL412MOUMJZmjfc2ByI1f8fvFCg=s64",
      "userId": "09700302051413106294"
     },
     "user_tz": 240
    },
    "id": "h7plMJVjPIMk"
   },
   "outputs": [],
   "source": [
    "import utils"
   ]
  },
  {
   "cell_type": "code",
   "execution_count": 4,
   "metadata": {
    "executionInfo": {
     "elapsed": 952,
     "status": "ok",
     "timestamp": 1604006442871,
     "user": {
      "displayName": "Arvind Ramaswami",
      "photoUrl": "https://lh3.googleusercontent.com/a-/AOh14GhCToZz1V7dN1-PL412MOUMJZmjfc2ByI1f8fvFCg=s64",
      "userId": "09700302051413106294"
     },
     "user_tz": 240
    },
    "id": "UIldLQ72CRJ5"
   },
   "outputs": [],
   "source": [
    "cuda = torch.device('cuda:0')"
   ]
  },
  {
   "cell_type": "code",
   "execution_count": 5,
   "metadata": {},
   "outputs": [],
   "source": [
    "%load_ext autoreload\n",
    "%autoreload 2"
   ]
  },
  {
   "cell_type": "markdown",
   "metadata": {
    "id": "g28CwBMNIr52"
   },
   "source": [
    "# Testing Our Implementation"
   ]
  },
  {
   "cell_type": "code",
   "execution_count": 6,
   "metadata": {
    "id": "nwN4L5dx8rA0"
   },
   "outputs": [],
   "source": [
    "train_loader = torch.utils.data.DataLoader(\n",
    "    datasets.MNIST('./data', train=True, download=True, transform=transforms.Compose([\n",
    "            transforms.ToTensor(),\n",
    "            ])),\n",
    "        batch_size=100, shuffle=True)\n",
    "test_loader = torch.utils.data.DataLoader(\n",
    "    datasets.MNIST('./data', train=False, download=True, transform=transforms.Compose([\n",
    "            transforms.ToTensor(),\n",
    "            ])),\n",
    "        batch_size=2000, shuffle=False)"
   ]
  },
  {
   "cell_type": "markdown",
   "metadata": {
    "id": "Jm5J7X13uwRO"
   },
   "source": [
    "### Adversarial training (Wong et al. 2020)"
   ]
  },
  {
   "cell_type": "code",
   "execution_count": 12,
   "metadata": {
    "colab": {
     "base_uri": "https://localhost:8080/",
     "height": 341
    },
    "executionInfo": {
     "elapsed": 10059,
     "status": "error",
     "timestamp": 1602795026391,
     "user": {
      "displayName": "Simar Kareer",
      "photoUrl": "https://lh3.googleusercontent.com/a-/AOh14GhT7uQQF_HHOptvhPuZJBBiEVStcLM15FJ26EXpuA=s64",
      "userId": "12701387480218186870"
     },
     "user_tz": 360
    },
    "id": "rBNV2MwFlg27",
    "outputId": "252f73be-34e3-41a7-af9e-18f807b57447"
   },
   "outputs": [
    {
     "name": "stdout",
     "output_type": "stream",
     "text": [
      "imported\n",
      "nn2\n",
      "Starting fit\n",
      "Epoch: 0\n"
     ]
    }
   ],
   "source": [
    "from WeakLearners import WongNeuralNet\n",
    "print(\"imported\")\n",
    "neural_net2 = WongNeuralNet()\n",
    "print(\"nn2\")\n",
    "neural_net2.fit(train_loader, test_loader, epochs = 1)"
   ]
  },
  {
   "cell_type": "code",
   "execution_count": 13,
   "metadata": {
    "colab": {
     "base_uri": "https://localhost:8080/",
     "height": 295
    },
    "executionInfo": {
     "elapsed": 810,
     "status": "ok",
     "timestamp": 1602794667447,
     "user": {
      "displayName": "Simar Kareer",
      "photoUrl": "https://lh3.googleusercontent.com/a-/AOh14GhT7uQQF_HHOptvhPuZJBBiEVStcLM15FJ26EXpuA=s64",
      "userId": "12701387480218186870"
     },
     "user_tz": 360
    },
    "id": "7VIFbnilsEk0",
    "outputId": "65e429f1-849b-47f2-e59b-2df91b40ba66"
   },
   "outputs": [
    {
     "data": {
      "image/png": "[encoded data removed]",
      "text/plain": [
       "<Figure size 432x288 with 1 Axes>"
      ]
     },
     "metadata": {
      "needs_background": "light"
     },
     "output_type": "display_data"
    }
   ],
   "source": [
    "neural_net2.plot_train()"
   ]
  },
  {
   "cell_type": "code",
   "execution_count": 14,
   "metadata": {
    "colab": {
     "base_uri": "https://localhost:8080/",
     "height": 295
    },
    "executionInfo": {
     "elapsed": 763,
     "status": "ok",
     "timestamp": 1602794669994,
     "user": {
      "displayName": "Simar Kareer",
      "photoUrl": "https://lh3.googleusercontent.com/a-/AOh14GhT7uQQF_HHOptvhPuZJBBiEVStcLM15FJ26EXpuA=s64",
      "userId": "12701387480218186870"
     },
     "user_tz": 360
    },
    "id": "ZDIQKdyjsIoJ",
    "outputId": "1cca47ab-e7e9-4935-e380-3942b019f5ce"
   },
   "outputs": [
    {
     "data": {
      "image/png": "[encoded data removed]",
      "text/plain": [
       "<Figure size 432x288 with 1 Axes>"
      ]
     },
     "metadata": {
      "needs_background": "light"
     },
     "output_type": "display_data"
    }
   ],
   "source": [
    "neural_net2.plot_val()"
   ]
  },
  {
   "cell_type": "code",
   "execution_count": 15,
   "metadata": {
    "colab": {
     "base_uri": "https://localhost:8080/",
     "height": 295
    },
    "executionInfo": {
     "elapsed": 717,
     "status": "ok",
     "timestamp": 1602794679570,
     "user": {
      "displayName": "Simar Kareer",
      "photoUrl": "https://lh3.googleusercontent.com/a-/AOh14GhT7uQQF_HHOptvhPuZJBBiEVStcLM15FJ26EXpuA=s64",
      "userId": "12701387480218186870"
     },
     "user_tz": 360
    },
    "id": "0iSC_0dEugtZ",
    "outputId": "b9064eba-d107-4004-967c-2bafd414f190"
   },
   "outputs": [
    {
     "data": {
      "image/png": "[encoded data removed]",
      "text/plain": [
       "<Figure size 432x288 with 1 Axes>"
      ]
     },
     "metadata": {
      "needs_background": "light"
     },
     "output_type": "display_data"
    }
   ],
   "source": [
    "neural_net2.plot_val_accuracies()"
   ]
  },
  {
   "cell_type": "code",
   "execution_count": 16,
   "metadata": {
    "colab": {
     "base_uri": "https://localhost:8080/",
     "height": 295
    },
    "executionInfo": {
     "elapsed": 919,
     "status": "ok",
     "timestamp": 1602794681536,
     "user": {
      "displayName": "Simar Kareer",
      "photoUrl": "https://lh3.googleusercontent.com/a-/AOh14GhT7uQQF_HHOptvhPuZJBBiEVStcLM15FJ26EXpuA=s64",
      "userId": "12701387480218186870"
     },
     "user_tz": 360
    },
    "id": "kOUofsIzwvAt",
    "outputId": "b4111cc3-380c-40a8-a782-19f855c131e9"
   },
   "outputs": [
    {
     "data": {
      "image/png": "[encoded data removed]",
      "text/plain": [
       "<Figure size 432x288 with 1 Axes>"
      ]
     },
     "metadata": {
      "needs_background": "light"
     },
     "output_type": "display_data"
    }
   ],
   "source": [
    "neural_net2.plot_adversarial_accuracies()"
   ]
  },
  {
   "cell_type": "code",
   "execution_count": 17,
   "metadata": {
    "colab": {
     "base_uri": "https://localhost:8080/",
     "height": 295
    },
    "executionInfo": {
     "elapsed": 711,
     "status": "ok",
     "timestamp": 1602794684196,
     "user": {
      "displayName": "Simar Kareer",
      "photoUrl": "https://lh3.googleusercontent.com/a-/AOh14GhT7uQQF_HHOptvhPuZJBBiEVStcLM15FJ26EXpuA=s64",
      "userId": "12701387480218186870"
     },
     "user_tz": 360
    },
    "id": "fh0N9kjkUKOq",
    "outputId": "00b5e94a-4588-488b-9928-2e2fff79bbdf"
   },
   "outputs": [
    {
     "data": {
      "image/png": "[encoded data removed]",
      "text/plain": [
       "<Figure size 432x288 with 1 Axes>"
      ]
     },
     "metadata": {
      "needs_background": "light"
     },
     "output_type": "display_data"
    }
   ],
   "source": [
    "neural_net2.plot_memory_usage()"
   ]
  },
  {
   "cell_type": "code",
   "execution_count": 18,
   "metadata": {
    "colab": {
     "base_uri": "https://localhost:8080/",
     "height": 85
    },
    "executionInfo": {
     "elapsed": 727,
     "status": "ok",
     "timestamp": 1602794688129,
     "user": {
      "displayName": "Simar Kareer",
      "photoUrl": "https://lh3.googleusercontent.com/a-/AOh14GhT7uQQF_HHOptvhPuZJBBiEVStcLM15FJ26EXpuA=s64",
      "userId": "12701387480218186870"
     },
     "user_tz": 360
    },
    "id": "qmGQ5zc8W_jj",
    "outputId": "3ce6ddb4-52dc-4e85-a235-8701fe86e49d"
   },
   "outputs": [
    {
     "name": "stdout",
     "output_type": "stream",
     "text": [
      "7885824\n",
      "31457280\n"
     ]
    },
    {
     "name": "stderr",
     "output_type": "stream",
     "text": [
      "/usr/local/lib/python3.6/dist-packages/torch/cuda/memory.py:346: FutureWarning: torch.cuda.memory_cached has been renamed to torch.cuda.memory_reserved\n",
      "  FutureWarning)\n"
     ]
    }
   ],
   "source": [
    "print(torch.cuda.memory_allocated(0))\n",
    "print(torch.cuda.memory_cached(0))"
   ]
  },
  {
   "cell_type": "markdown",
   "metadata": {
    "id": "imijRSgoulc2"
   },
   "source": [
    "### Vanilla Training (Wong)"
   ]
  },
  {
   "cell_type": "code",
   "execution_count": 22,
   "metadata": {
    "colab": {
     "base_uri": "https://localhost:8080/",
     "height": 102
    },
    "executionInfo": {
     "elapsed": 49166,
     "status": "ok",
     "timestamp": 1602794768349,
     "user": {
      "displayName": "Simar Kareer",
      "photoUrl": "https://lh3.googleusercontent.com/a-/AOh14GhT7uQQF_HHOptvhPuZJBBiEVStcLM15FJ26EXpuA=s64",
      "userId": "12701387480218186870"
     },
     "user_tz": 360
    },
    "id": "D6BrbentuADC",
    "outputId": "3433ddb7-b1e1-4af7-d13d-4f65778da234"
   },
   "outputs": [
    {
     "name": "stdout",
     "output_type": "stream",
     "text": [
      "Starting fit\n",
      "Epoch: 0\n"
     ]
    }
   ],
   "source": [
    "# testing with alpha = 0\n",
    "neural_net_vanilla = WongNeuralNet()\n",
    "neural_net_vanilla.fit(train_loader, test_loader, alpha=0, epochs=1)"
   ]
  },
  {
   "cell_type": "code",
   "execution_count": 23,
   "metadata": {
    "colab": {
     "base_uri": "https://localhost:8080/",
     "height": 295
    },
    "executionInfo": {
     "elapsed": 817,
     "status": "ok",
     "timestamp": 1602794775984,
     "user": {
      "displayName": "Simar Kareer",
      "photoUrl": "https://lh3.googleusercontent.com/a-/AOh14GhT7uQQF_HHOptvhPuZJBBiEVStcLM15FJ26EXpuA=s64",
      "userId": "12701387480218186870"
     },
     "user_tz": 360
    },
    "id": "VMkyGSX0uVMK",
    "outputId": "0c0d12a8-0d65-4aba-ea90-7d77779656eb"
   },
   "outputs": [
    {
     "data": {
      "image/png": "[encoded data removed]",
      "text/plain": [
       "<Figure size 432x288 with 1 Axes>"
      ]
     },
     "metadata": {
      "needs_background": "light"
     },
     "output_type": "display_data"
    }
   ],
   "source": [
    "neural_net_vanilla.plot_train()"
   ]
  },
  {
   "cell_type": "code",
   "execution_count": 24,
   "metadata": {
    "colab": {
     "base_uri": "https://localhost:8080/",
     "height": 295
    },
    "executionInfo": {
     "elapsed": 748,
     "status": "ok",
     "timestamp": 1602794777768,
     "user": {
      "displayName": "Simar Kareer",
      "photoUrl": "https://lh3.googleusercontent.com/a-/AOh14GhT7uQQF_HHOptvhPuZJBBiEVStcLM15FJ26EXpuA=s64",
      "userId": "12701387480218186870"
     },
     "user_tz": 360
    },
    "id": "-l01aD9vuaId",
    "outputId": "5dd237be-b53f-4f1d-fca6-da26a736b693"
   },
   "outputs": [
    {
     "data": {
      "image/png": "[encoded data removed]",
      "text/plain": [
       "<Figure size 432x288 with 1 Axes>"
      ]
     },
     "metadata": {
      "needs_background": "light"
     },
     "output_type": "display_data"
    }
   ],
   "source": [
    "neural_net_vanilla.plot_val()"
   ]
  },
  {
   "cell_type": "code",
   "execution_count": 25,
   "metadata": {
    "colab": {
     "base_uri": "https://localhost:8080/",
     "height": 295
    },
    "executionInfo": {
     "elapsed": 815,
     "status": "ok",
     "timestamp": 1602794779262,
     "user": {
      "displayName": "Simar Kareer",
      "photoUrl": "https://lh3.googleusercontent.com/a-/AOh14GhT7uQQF_HHOptvhPuZJBBiEVStcLM15FJ26EXpuA=s64",
      "userId": "12701387480218186870"
     },
     "user_tz": 360
    },
    "id": "tdUPesGUB45w",
    "outputId": "d915e892-6a3d-4e3e-fa86-030ec9e0a062"
   },
   "outputs": [
    {
     "data": {
      "image/png": "[encoded data removed]",
      "text/plain": [
       "<Figure size 432x288 with 1 Axes>"
      ]
     },
     "metadata": {
      "needs_background": "light"
     },
     "output_type": "display_data"
    }
   ],
   "source": [
    "neural_net_vanilla.plot_val_accuracies()"
   ]
  },
  {
   "cell_type": "code",
   "execution_count": 26,
   "metadata": {
    "colab": {
     "base_uri": "https://localhost:8080/",
     "height": 295
    },
    "executionInfo": {
     "elapsed": 928,
     "status": "ok",
     "timestamp": 1602794781046,
     "user": {
      "displayName": "Simar Kareer",
      "photoUrl": "https://lh3.googleusercontent.com/a-/AOh14GhT7uQQF_HHOptvhPuZJBBiEVStcLM15FJ26EXpuA=s64",
      "userId": "12701387480218186870"
     },
     "user_tz": 360
    },
    "id": "tTNcMT6t22Z6",
    "outputId": "50237f4a-0bfd-4363-f484-e2d4e4479d59"
   },
   "outputs": [
    {
     "data": {
      "image/png": "[encoded data removed]",
      "text/plain": [
       "<Figure size 432x288 with 1 Axes>"
      ]
     },
     "metadata": {
      "needs_background": "light"
     },
     "output_type": "display_data"
    }
   ],
   "source": [
    "neural_net_vanilla.plot_adversarial_accuracies()"
   ]
  },
  {
   "cell_type": "code",
   "execution_count": 27,
   "metadata": {
    "colab": {
     "base_uri": "https://localhost:8080/",
     "height": 295
    },
    "executionInfo": {
     "elapsed": 729,
     "status": "ok",
     "timestamp": 1602794783059,
     "user": {
      "displayName": "Simar Kareer",
      "photoUrl": "https://lh3.googleusercontent.com/a-/AOh14GhT7uQQF_HHOptvhPuZJBBiEVStcLM15FJ26EXpuA=s64",
      "userId": "12701387480218186870"
     },
     "user_tz": 360
    },
    "id": "1ojlyoZSZQrA",
    "outputId": "4ac302bf-4e57-45ef-9532-f7e81312c1cc"
   },
   "outputs": [
    {
     "data": {
      "image/png": "[encoded data removed]",
      "text/plain": [
       "<Figure size 432x288 with 1 Axes>"
      ]
     },
     "metadata": {
      "needs_background": "light"
     },
     "output_type": "display_data"
    }
   ],
   "source": [
    "neural_net_vanilla.plot_memory_usage()"
   ]
  },
  {
   "cell_type": "markdown",
   "metadata": {
    "id": "DZNkmyo_6sBu"
   },
   "source": [
    "## Vanilla Training PreActResNet"
   ]
  },
  {
   "cell_type": "code",
   "execution_count": 17,
   "metadata": {
    "colab": {
     "base_uri": "https://localhost:8080/"
    },
    "executionInfo": {
     "elapsed": 2212,
     "status": "ok",
     "timestamp": 1604006809916,
     "user": {
      "displayName": "Arvind Ramaswami",
      "photoUrl": "https://lh3.googleusercontent.com/a-/AOh14GhCToZz1V7dN1-PL412MOUMJZmjfc2ByI1f8fvFCg=s64",
      "userId": "09700302051413106294"
     },
     "user_tz": 240
    },
    "id": "Q-Qe6W-w61hg",
    "outputId": "240957c9-fdb5-4834-8ab3-cde6c8029466"
   },
   "outputs": [
    {
     "name": "stdout",
     "output_type": "stream",
     "text": [
      "Files already downloaded and verified\n",
      "Files already downloaded and verified\n"
     ]
    }
   ],
   "source": [
    "transform_train = transforms.Compose([\n",
    "    transforms.RandomCrop(32, padding=4),\n",
    "    transforms.RandomHorizontalFlip(),\n",
    "    transforms.ToTensor(),\n",
    "    transforms.Normalize((0.4914, 0.4822, 0.4465), (0.2023, 0.1994, 0.2010)),\n",
    "])\n",
    "\n",
    "# Normalize the test set same as training set without augmentation\n",
    "transform_test = transforms.Compose([\n",
    "    transforms.ToTensor(),\n",
    "    transforms.Normalize((0.4914, 0.4822, 0.4465), (0.2023, 0.1994, 0.2010)),\n",
    "])\n",
    "\n",
    "trainset = datasets.CIFAR10(\n",
    "    root=\"./data\", train=True, download=True, transform=transform_train)\n",
    "train_loader = torch.utils.data.DataLoader(\n",
    "    trainset, batch_size=100, shuffle=True, num_workers=2)\n",
    "\n",
    "testset = datasets.CIFAR10(\n",
    "    root=\"./data\", train=False, download=True, transform=transform_test)\n",
    "test_loader = torch.utils.data.DataLoader(\n",
    "    testset, batch_size=300, shuffle=True, num_workers=2)"
   ]
  },
  {
   "cell_type": "code",
   "execution_count": 7,
   "metadata": {
    "colab": {
     "base_uri": "https://localhost:8080/",
     "height": 1000
    },
    "executionInfo": {
     "elapsed": 88829,
     "status": "ok",
     "timestamp": 1604006897164,
     "user": {
      "displayName": "Arvind Ramaswami",
      "photoUrl": "https://lh3.googleusercontent.com/a-/AOh14GhCToZz1V7dN1-PL412MOUMJZmjfc2ByI1f8fvFCg=s64",
      "userId": "09700302051413106294"
     },
     "user_tz": 240
    },
    "id": "FEmcEXTP9Bcf",
    "outputId": "3e33cb19-7374-45a2-d183-b7bbe0116b16",
    "scrolled": true
   },
   "outputs": [
    {
     "name": "stdout",
     "output_type": "stream",
     "text": [
      "adv: False\n",
      "maxIt: None\n",
      "Iteration:  1\n",
      "memory usage: 300009472\n",
      "in validation\n",
      "val accuracy: 0.09666666666666666\n",
      "Iteration:  11\n",
      "memory usage: 300013056\n",
      "in validation\n",
      "val accuracy: 0.23666666666666666\n",
      "Iteration:  21\n",
      "memory usage: 300016640\n",
      "in validation\n",
      "val accuracy: 0.3\n",
      "Iteration:  31\n",
      "memory usage: 300020224\n",
      "in validation\n",
      "val accuracy: 0.29\n",
      "Iteration:  41\n",
      "memory usage: 300023808\n",
      "in validation\n",
      "val accuracy: 0.3466666666666667\n",
      "Iteration:  51\n",
      "memory usage: 300027392\n",
      "in validation\n",
      "val accuracy: 0.31666666666666665\n",
      "Iteration:  61\n",
      "memory usage: 300030976\n",
      "in validation\n",
      "val accuracy: 0.3933333333333333\n",
      "Iteration:  71\n",
      "memory usage: 300034560\n",
      "in validation\n",
      "val accuracy: 0.42\n",
      "Iteration:  81\n",
      "memory usage: 300038144\n",
      "in validation\n",
      "val accuracy: 0.36\n",
      "Iteration:  91\n",
      "memory usage: 300041728\n",
      "in validation\n",
      "val accuracy: 0.43666666666666665\n",
      "Iteration:  101\n",
      "memory usage: 300045312\n",
      "in validation\n",
      "val accuracy: 0.37\n",
      "Iteration:  111\n",
      "memory usage: 300048896\n",
      "in validation\n",
      "val accuracy: 0.37666666666666665\n",
      "Iteration:  121\n",
      "memory usage: 300052480\n",
      "in validation\n",
      "val accuracy: 0.42\n",
      "Iteration:  131\n",
      "memory usage: 300056064\n",
      "in validation\n",
      "val accuracy: 0.3466666666666667\n",
      "Iteration:  141\n",
      "memory usage: 300059648\n",
      "in validation\n",
      "val accuracy: 0.4666666666666667\n",
      "Iteration:  151\n",
      "memory usage: 300063232\n",
      "in validation\n",
      "val accuracy: 0.4066666666666667\n",
      "Iteration:  161\n",
      "memory usage: 300066816\n",
      "in validation\n",
      "val accuracy: 0.45\n",
      "Iteration:  171\n",
      "memory usage: 300070400\n",
      "in validation\n",
      "val accuracy: 0.44666666666666666\n",
      "Iteration:  181\n",
      "memory usage: 300073984\n",
      "in validation\n",
      "val accuracy: 0.42333333333333334\n",
      "Iteration:  191\n",
      "memory usage: 300077568\n",
      "in validation\n",
      "val accuracy: 0.37666666666666665\n",
      "Iteration:  201\n",
      "memory usage: 300081152\n",
      "in validation\n",
      "val accuracy: 0.4633333333333333\n",
      "Iteration:  211\n",
      "memory usage: 300084736\n",
      "in validation\n",
      "val accuracy: 0.44666666666666666\n",
      "Iteration:  221\n",
      "memory usage: 300088320\n",
      "in validation\n",
      "val accuracy: 0.44333333333333336\n",
      "Iteration:  231\n",
      "memory usage: 300091904\n",
      "in validation\n",
      "val accuracy: 0.47\n",
      "Iteration:  241\n",
      "memory usage: 300095488\n",
      "in validation\n",
      "val accuracy: 0.45666666666666667\n",
      "Iteration:  251\n",
      "memory usage: 300099072\n",
      "in validation\n",
      "val accuracy: 0.49333333333333335\n",
      "Iteration:  261\n",
      "memory usage: 300102656\n",
      "in validation\n",
      "val accuracy: 0.5166666666666667\n",
      "Iteration:  271\n",
      "memory usage: 300106240\n",
      "in validation\n",
      "val accuracy: 0.5466666666666666\n",
      "Iteration:  281\n",
      "memory usage: 300109824\n",
      "in validation\n",
      "val accuracy: 0.5066666666666667\n",
      "Iteration:  291\n",
      "memory usage: 300113408\n",
      "in validation\n",
      "val accuracy: 0.55\n",
      "Iteration:  301\n",
      "memory usage: 300116992\n",
      "in validation\n",
      "val accuracy: 0.5633333333333334\n",
      "Iteration:  311\n",
      "memory usage: 300120576\n",
      "in validation\n",
      "val accuracy: 0.55\n",
      "Iteration:  321\n",
      "memory usage: 300124160\n",
      "in validation\n",
      "val accuracy: 0.5566666666666666\n",
      "Iteration:  331\n",
      "memory usage: 300127744\n",
      "in validation\n",
      "val accuracy: 0.55\n",
      "Iteration:  341\n",
      "memory usage: 300131328\n",
      "in validation\n",
      "val accuracy: 0.5466666666666666\n",
      "Iteration:  351\n",
      "memory usage: 300134912\n",
      "in validation\n",
      "val accuracy: 0.6066666666666667\n",
      "Iteration:  361\n",
      "memory usage: 300138496\n",
      "in validation\n",
      "val accuracy: 0.5633333333333334\n",
      "Iteration:  371\n",
      "memory usage: 300142080\n",
      "in validation\n",
      "val accuracy: 0.61\n",
      "Iteration:  381\n",
      "memory usage: 300145664\n",
      "in validation\n",
      "val accuracy: 0.6166666666666667\n",
      "Iteration:  391\n",
      "memory usage: 300149248\n",
      "in validation\n",
      "val accuracy: 0.6166666666666667\n",
      "Iteration:  401\n",
      "memory usage: 300152832\n",
      "in validation\n",
      "val accuracy: 0.6566666666666666\n",
      "Iteration:  411\n",
      "memory usage: 300156416\n",
      "in validation\n",
      "val accuracy: 0.64\n",
      "Iteration:  421\n",
      "memory usage: 300160000\n",
      "in validation\n",
      "val accuracy: 0.6566666666666666\n",
      "Iteration:  431\n",
      "memory usage: 300163584\n",
      "in validation\n",
      "val accuracy: 0.6633333333333333\n",
      "Iteration:  441\n",
      "memory usage: 300167168\n",
      "in validation\n",
      "val accuracy: 0.6866666666666666\n",
      "Iteration:  451\n",
      "memory usage: 300170752\n",
      "in validation\n",
      "val accuracy: 0.68\n",
      "Iteration:  461\n",
      "memory usage: 300174336\n",
      "in validation\n",
      "val accuracy: 0.6266666666666667\n",
      "Iteration:  471\n",
      "memory usage: 300177920\n",
      "in validation\n",
      "val accuracy: 0.67\n",
      "Iteration:  481\n",
      "memory usage: 300181504\n",
      "in validation\n",
      "val accuracy: 0.6566666666666666\n",
      "Iteration:  491\n",
      "memory usage: 300185088\n",
      "in validation\n",
      "val accuracy: 0.6733333333333333\n"
     ]
    },
    {
     "name": "stderr",
     "output_type": "stream",
     "text": [
      "/usr/local/lib/python3.6/dist-packages/torch/optim/lr_scheduler.py:893: UserWarning: To get the last learning rate computed by the scheduler, please use `get_last_lr()`.\n",
      "  \"please use `get_last_lr()`.\", UserWarning)\n"
     ]
    }
   ],
   "source": [
    "cifar10_vanilla = WongNeuralNetCIFAR10()\n",
    "\n",
    "from pytorch_memlab import LineProfiler\n",
    "\n",
    "# with LineProfiler(cifar10_vanilla.fit) as prof:\n",
    "cifar10_vanilla.fit(train_loader, test_loader, alpha = 0, epochs = 1, adv=False, epsilon=0)\n",
    "\n",
    "# prof.display()"
   ]
  },
  {
   "cell_type": "code",
   "execution_count": 8,
   "metadata": {
    "colab": {
     "base_uri": "https://localhost:8080/",
     "height": 295
    },
    "executionInfo": {
     "elapsed": 746,
     "status": "ok",
     "timestamp": 1603393698295,
     "user": {
      "displayName": "Arvind Ramaswami",
      "photoUrl": "https://lh3.googleusercontent.com/a-/AOh14GhCToZz1V7dN1-PL412MOUMJZmjfc2ByI1f8fvFCg=s64",
      "userId": "09700302051413106294"
     },
     "user_tz": 240
    },
    "id": "ZJsgnZQ1s2Z4",
    "outputId": "52d37f56-7259-4839-83e8-14c6f0d46d6d"
   },
   "outputs": [
    {
     "data": {
      "image/png": "[encoded data removed]",
      "text/plain": [
       "<Figure size 432x288 with 1 Axes>"
      ]
     },
     "metadata": {
      "needs_background": "light"
     },
     "output_type": "display_data"
    }
   ],
   "source": [
    "cifar10_vanilla.plot_train()"
   ]
  },
  {
   "cell_type": "code",
   "execution_count": 9,
   "metadata": {
    "colab": {
     "base_uri": "https://localhost:8080/",
     "height": 295
    },
    "executionInfo": {
     "elapsed": 907,
     "status": "ok",
     "timestamp": 1603393703037,
     "user": {
      "displayName": "Arvind Ramaswami",
      "photoUrl": "https://lh3.googleusercontent.com/a-/AOh14GhCToZz1V7dN1-PL412MOUMJZmjfc2ByI1f8fvFCg=s64",
      "userId": "09700302051413106294"
     },
     "user_tz": 240
    },
    "id": "vAapIUYVtYcd",
    "outputId": "d253454d-0b47-4e43-f514-af6e0294f731"
   },
   "outputs": [
    {
     "data": {
      "image/png": "[encoded data removed]",
      "text/plain": [
       "<Figure size 432x288 with 1 Axes>"
      ]
     },
     "metadata": {
      "needs_background": "light"
     },
     "output_type": "display_data"
    }
   ],
   "source": [
    "cifar10_vanilla.plot_val()"
   ]
  },
  {
   "cell_type": "code",
   "execution_count": 10,
   "metadata": {
    "colab": {
     "base_uri": "https://localhost:8080/",
     "height": 295
    },
    "executionInfo": {
     "elapsed": 760,
     "status": "ok",
     "timestamp": 1603393727394,
     "user": {
      "displayName": "Arvind Ramaswami",
      "photoUrl": "https://lh3.googleusercontent.com/a-/AOh14GhCToZz1V7dN1-PL412MOUMJZmjfc2ByI1f8fvFCg=s64",
      "userId": "09700302051413106294"
     },
     "user_tz": 240
    },
    "id": "p-K6bzBDtZn_",
    "outputId": "a36b67f9-2cbc-418f-edf3-3188fc9e1b3d"
   },
   "outputs": [
    {
     "data": {
      "image/png": "[encoded data removed]",
      "text/plain": [
       "<Figure size 432x288 with 1 Axes>"
      ]
     },
     "metadata": {
      "needs_background": "light"
     },
     "output_type": "display_data"
    }
   ],
   "source": [
    "cifar10_vanilla.plot_val_accuracies()"
   ]
  },
  {
   "cell_type": "markdown",
   "metadata": {
    "id": "IYrMwNKXsWqj"
   },
   "source": [
    "## Boosted Training MNIST"
   ]
  },
  {
   "cell_type": "code",
   "execution_count": 11,
   "metadata": {
    "colab": {
     "base_uri": "https://localhost:8080/",
     "height": 1000
    },
    "executionInfo": {
     "elapsed": 131202,
     "status": "error",
     "timestamp": 1603396146397,
     "user": {
      "displayName": "Arvind Ramaswami",
      "photoUrl": "https://lh3.googleusercontent.com/a-/AOh14GhCToZz1V7dN1-PL412MOUMJZmjfc2ByI1f8fvFCg=s64",
      "userId": "09700302051413106294"
     },
     "user_tz": 240
    },
    "id": "C_c7BqohsZHf",
    "outputId": "e32c407f-7e1a-4a21-aaac-3012ed146f8b",
    "scrolled": true
   },
   "outputs": [
    {
     "ename": "NameError",
     "evalue": "name 'SchapireWongMulticlassBoosting' is not defined",
     "output_type": "error",
     "traceback": [
      "\u001b[0;31m---------------------------------------------------------------------------\u001b[0m",
      "\u001b[0;31mNameError\u001b[0m                                 Traceback (most recent call last)",
      "\u001b[0;32m<ipython-input-11-ff0d0c7cd5e6>\u001b[0m in \u001b[0;36m<module>\u001b[0;34m\u001b[0m\n\u001b[1;32m     12\u001b[0m \u001b[0;34m\u001b[0m\u001b[0m\n\u001b[1;32m     13\u001b[0m \u001b[0msmallerdataset\u001b[0m \u001b[0;34m=\u001b[0m \u001b[0mtorch\u001b[0m\u001b[0;34m.\u001b[0m\u001b[0mutils\u001b[0m\u001b[0;34m.\u001b[0m\u001b[0mdata\u001b[0m\u001b[0;34m.\u001b[0m\u001b[0mSubset\u001b[0m\u001b[0;34m(\u001b[0m\u001b[0mdatasets\u001b[0m\u001b[0;34m.\u001b[0m\u001b[0mMNIST\u001b[0m\u001b[0;34m,\u001b[0m \u001b[0mrange\u001b[0m\u001b[0;34m(\u001b[0m\u001b[0;36m5000\u001b[0m\u001b[0;34m)\u001b[0m\u001b[0;34m)\u001b[0m\u001b[0;34m\u001b[0m\u001b[0;34m\u001b[0m\u001b[0m\n\u001b[0;32m---> 14\u001b[0;31m \u001b[0mwl\u001b[0m\u001b[0;34m,\u001b[0m \u001b[0mwlweights\u001b[0m \u001b[0;34m=\u001b[0m \u001b[0mSchapireWongMulticlassBoosting\u001b[0m\u001b[0;34m(\u001b[0m\u001b[0mBoostedWongNeuralNet\u001b[0m\u001b[0;34m,\u001b[0m \u001b[0;36m50\u001b[0m\u001b[0;34m,\u001b[0m \u001b[0mdatasets\u001b[0m\u001b[0;34m.\u001b[0m\u001b[0mMNIST\u001b[0m\u001b[0;34m,\u001b[0m \u001b[0madvDelta\u001b[0m\u001b[0;34m=\u001b[0m\u001b[0;36m0\u001b[0m\u001b[0;34m,\u001b[0m \u001b[0malphaTol\u001b[0m\u001b[0;34m=\u001b[0m\u001b[0;36m1e-10\u001b[0m\u001b[0;34m,\u001b[0m \u001b[0madv\u001b[0m\u001b[0;34m=\u001b[0m\u001b[0;32mFalse\u001b[0m\u001b[0;34m,\u001b[0m \u001b[0mmaxIt\u001b[0m\u001b[0;34m=\u001b[0m\u001b[0;36m5\u001b[0m\u001b[0;34m,\u001b[0m \u001b[0mpredictionWeights\u001b[0m\u001b[0;34m=\u001b[0m\u001b[0;32mFalse\u001b[0m\u001b[0;34m)\u001b[0m\u001b[0;34m\u001b[0m\u001b[0;34m\u001b[0m\u001b[0m\n\u001b[0m\u001b[1;32m     15\u001b[0m \u001b[0;32mfor\u001b[0m \u001b[0mdata\u001b[0m \u001b[0;32min\u001b[0m \u001b[0mtest_loader\u001b[0m\u001b[0;34m:\u001b[0m\u001b[0;34m\u001b[0m\u001b[0;34m\u001b[0m\u001b[0m\n\u001b[1;32m     16\u001b[0m     \u001b[0mval_X\u001b[0m \u001b[0;34m=\u001b[0m \u001b[0mdata\u001b[0m\u001b[0;34m[\u001b[0m\u001b[0;36m0\u001b[0m\u001b[0;34m]\u001b[0m\u001b[0;34m\u001b[0m\u001b[0;34m\u001b[0m\u001b[0m\n",
      "\u001b[0;31mNameError\u001b[0m: name 'SchapireWongMulticlassBoosting' is not defined"
     ]
    }
   ],
   "source": [
    "train_dataset = datasets.MNIST('./data', train=True, download=True, transform=transforms.Compose([\n",
    "            transforms.ToTensor(),\n",
    "            ]))\n",
    "\n",
    "test_dataset = datasets.MNIST('./data', train=False, download=True, transform=transforms.Compose([\n",
    "            transforms.ToTensor(),\n",
    "            ]))\n",
    "\n",
    "\n",
    "# train_loader = torch.utils.data.DataLoader(train_dataset,batch_size=100, shuffle=True)\n",
    "test_loader = torch.utils.data.DataLoader(test_dataset,batch_size=2000, shuffle=False)\n",
    "\n",
    "smallerdataset = torch.utils.data.Subset(datasets.MNIST, range(5000))\n",
    "wl, wlweights = SchapireWongMulticlassBoosting(BoostedWongNeuralNet, 50, datasets.MNIST, advDelta=0, alphaTol=1e-10, adv=False, maxIt=5, predictionWeights=False)\n",
    "for data in test_loader:\n",
    "    val_X = data[0]\n",
    "    val_y = data[1]\n",
    "    break\n",
    "\n",
    "\n",
    "ensemble = Ensemble(wl, wlweights)\n",
    "predictions = ensemble.schapirePredict(val_X.to(cuda), 10)\n",
    "print((predictions == val_y.numpy()).astype(int).sum()/len(predictions))"
   ]
  },
  {
   "cell_type": "code",
   "execution_count": null,
   "metadata": {
    "colab": {
     "base_uri": "https://localhost:8080/",
     "height": 51
    },
    "executionInfo": {
     "elapsed": 1684,
     "status": "ok",
     "timestamp": 1602199039120,
     "user": {
      "displayName": "Simar Kareer",
      "photoUrl": "https://lh3.googleusercontent.com/a-/AOh14GhT7uQQF_HHOptvhPuZJBBiEVStcLM15FJ26EXpuA=s64",
      "userId": "12701387480218186870"
     },
     "user_tz": 360
    },
    "id": "P7dfX4CJfBLI",
    "outputId": "ef10b790-2275-4d0d-9d9c-94572283ce64"
   },
   "outputs": [
    {
     "name": "stdout",
     "output_type": "stream",
     "text": [
      "Prediciton shape:  torch.Size([2000])\n",
      "0.411\n"
     ]
    }
   ],
   "source": [
    "ensemble = Ensemble(wl, [1, 1, 1])\n",
    "predictions = ensemble.schapirePredict(val_X.to(cuda), 10)\n",
    "print((predictions == val_y.numpy()).astype(int).sum()/len(predictions))"
   ]
  },
  {
   "cell_type": "markdown",
   "metadata": {
    "id": "y2cae9FbuaQl"
   },
   "source": [
    "## Boosted Training CIFAR-10\n"
   ]
  },
  {
   "cell_type": "code",
   "execution_count": 27,
   "metadata": {
    "colab": {
     "base_uri": "https://localhost:8080/",
     "height": 1000
    },
    "executionInfo": {
     "elapsed": 31810,
     "status": "error",
     "timestamp": 1604004123129,
     "user": {
      "displayName": "Arvind Ramaswami",
      "photoUrl": "https://lh3.googleusercontent.com/a-/AOh14GhCToZz1V7dN1-PL412MOUMJZmjfc2ByI1f8fvFCg=s64",
      "userId": "09700302051413106294"
     },
     "user_tz": 240
    },
    "id": "klONQuYmuZFJ",
    "outputId": "7735cb9e-d3c8-4d81-c9e7-adb6962d22cd",
    "scrolled": true
   },
   "outputs": [
    {
     "name": "stdout",
     "output_type": "stream",
     "text": [
      "Files already downloaded and verified\n",
      "Files already downloaded and verified\n",
      "Files already downloaded and verified\n",
      "Files already downloaded and verified\n",
      "Files already downloaded and verified\n",
      "----------------------------------------------------------------------------------------------------\n",
      "Training 0th weak learning\n",
      "Files already downloaded and verified\n",
      "adv: False\n",
      "maxIt: 60\n",
      "Iteration:  1\n",
      "memory usage: 286445056\n",
      "val accuracy: 0.115\n",
      "Iteration:  11\n",
      "memory usage: 286448640\n",
      "val accuracy: 0.14\n",
      "Iteration:  21\n",
      "memory usage: 286452224\n",
      "val accuracy: 0.24\n",
      "Iteration:  31\n",
      "memory usage: 286455808\n",
      "val accuracy: 0.295\n",
      "Iteration:  41\n",
      "memory usage: 286459392\n",
      "val accuracy: 0.31\n",
      "Iteration:  51\n",
      "memory usage: 286462976\n",
      "val accuracy: 0.39\n",
      "targets: tensor([6, 9, 9,  ..., 9, 1, 1])\n",
      "Full Accuracy:  0.28672\n",
      "Alpha:  0.21052260702268455\n"
     ]
    },
    {
     "ename": "RuntimeError",
     "evalue": "CUDA out of memory. Tried to allocate 250.00 MiB (GPU 0; 11.17 GiB total capacity; 9.48 GiB already allocated; 166.62 MiB free; 10.58 GiB reserved in total by PyTorch)",
     "output_type": "error",
     "traceback": [
      "\u001b[0;31m---------------------------------------------------------------------------\u001b[0m",
      "\u001b[0;31mRuntimeError\u001b[0m                              Traceback (most recent call last)",
      "\u001b[0;32m<ipython-input-27-46fda88e1ec3>\u001b[0m in \u001b[0;36m<module>\u001b[0;34m\u001b[0m\n\u001b[1;32m     22\u001b[0m \u001b[0mensemble\u001b[0m \u001b[0;34m=\u001b[0m \u001b[0mEnsemble\u001b[0m\u001b[0;34m(\u001b[0m\u001b[0mwl\u001b[0m\u001b[0;34m,\u001b[0m \u001b[0mwlweights\u001b[0m\u001b[0;34m)\u001b[0m\u001b[0;34m\u001b[0m\u001b[0;34m\u001b[0m\u001b[0m\n\u001b[1;32m     23\u001b[0m \u001b[0;34m\u001b[0m\u001b[0m\n\u001b[0;32m---> 24\u001b[0;31m \u001b[0mpredictions\u001b[0m \u001b[0;34m=\u001b[0m \u001b[0mensemble\u001b[0m\u001b[0;34m.\u001b[0m\u001b[0mschapirePredict\u001b[0m\u001b[0;34m(\u001b[0m\u001b[0mval_X\u001b[0m\u001b[0;34m.\u001b[0m\u001b[0mto\u001b[0m\u001b[0;34m(\u001b[0m\u001b[0mcuda\u001b[0m\u001b[0;34m)\u001b[0m\u001b[0;34m,\u001b[0m \u001b[0;36m10\u001b[0m\u001b[0;34m)\u001b[0m\u001b[0;34m\u001b[0m\u001b[0;34m\u001b[0m\u001b[0m\n\u001b[0m\u001b[1;32m     25\u001b[0m \u001b[0mprint\u001b[0m\u001b[0;34m(\u001b[0m\u001b[0;34m\"Finished With: \"\u001b[0m\u001b[0;34m,\u001b[0m \u001b[0;34m(\u001b[0m\u001b[0mpredictions\u001b[0m \u001b[0;34m==\u001b[0m \u001b[0mval_y\u001b[0m\u001b[0;34m.\u001b[0m\u001b[0mnumpy\u001b[0m\u001b[0;34m(\u001b[0m\u001b[0;34m)\u001b[0m\u001b[0;34m)\u001b[0m\u001b[0;34m.\u001b[0m\u001b[0mastype\u001b[0m\u001b[0;34m(\u001b[0m\u001b[0mint\u001b[0m\u001b[0;34m)\u001b[0m\u001b[0;34m.\u001b[0m\u001b[0msum\u001b[0m\u001b[0;34m(\u001b[0m\u001b[0;34m)\u001b[0m\u001b[0;34m/\u001b[0m\u001b[0mlen\u001b[0m\u001b[0;34m(\u001b[0m\u001b[0mpredictions\u001b[0m\u001b[0;34m)\u001b[0m\u001b[0;34m)\u001b[0m\u001b[0;34m\u001b[0m\u001b[0;34m\u001b[0m\u001b[0m\n\u001b[1;32m     26\u001b[0m \u001b[0mprint\u001b[0m\u001b[0;34m(\u001b[0m\u001b[0;34m\"In \"\u001b[0m\u001b[0;34m,\u001b[0m \u001b[0;34m(\u001b[0m\u001b[0mdatetime\u001b[0m\u001b[0;34m.\u001b[0m\u001b[0mnow\u001b[0m\u001b[0;34m(\u001b[0m\u001b[0;34m)\u001b[0m\u001b[0;34m-\u001b[0m\u001b[0mt0\u001b[0m\u001b[0;34m)\u001b[0m\u001b[0;34m.\u001b[0m\u001b[0mtotal_seconds\u001b[0m\u001b[0;34m(\u001b[0m\u001b[0;34m)\u001b[0m\u001b[0;34m,\u001b[0m \u001b[0;34m\" s\"\u001b[0m\u001b[0;34m)\u001b[0m\u001b[0;34m\u001b[0m\u001b[0;34m\u001b[0m\u001b[0m\n",
      "\u001b[0;32m/storage/AdversarialRobustness/Boosting.py\u001b[0m in \u001b[0;36mschapirePredict\u001b[0;34m(self, X, k)\u001b[0m\n\u001b[1;32m    351\u001b[0m             \u001b[0mwLPredictions\u001b[0m \u001b[0;34m=\u001b[0m \u001b[0mself\u001b[0m\u001b[0;34m.\u001b[0m\u001b[0mgetWLPredictionsString\u001b[0m\u001b[0;34m(\u001b[0m\u001b[0mX\u001b[0m\u001b[0;34m,\u001b[0m \u001b[0mk\u001b[0m\u001b[0;34m)\u001b[0m\u001b[0;34m\u001b[0m\u001b[0;34m\u001b[0m\u001b[0m\n\u001b[1;32m    352\u001b[0m         \u001b[0;32melse\u001b[0m\u001b[0;34m:\u001b[0m\u001b[0;34m\u001b[0m\u001b[0;34m\u001b[0m\u001b[0m\n\u001b[0;32m--> 353\u001b[0;31m             \u001b[0mwLPredictions\u001b[0m \u001b[0;34m=\u001b[0m \u001b[0;34m[\u001b[0m\u001b[0mself\u001b[0m\u001b[0;34m.\u001b[0m\u001b[0mweakLearners\u001b[0m\u001b[0;34m[\u001b[0m\u001b[0mi\u001b[0m\u001b[0;34m]\u001b[0m\u001b[0;34m.\u001b[0m\u001b[0mpredict\u001b[0m\u001b[0;34m(\u001b[0m\u001b[0mX\u001b[0m\u001b[0;34m)\u001b[0m\u001b[0;34m.\u001b[0m\u001b[0margmax\u001b[0m\u001b[0;34m(\u001b[0m\u001b[0maxis\u001b[0m\u001b[0;34m=\u001b[0m\u001b[0;36m1\u001b[0m\u001b[0;34m)\u001b[0m \u001b[0;32mfor\u001b[0m \u001b[0mi\u001b[0m \u001b[0;32min\u001b[0m \u001b[0mrange\u001b[0m\u001b[0;34m(\u001b[0m\u001b[0mT\u001b[0m\u001b[0;34m)\u001b[0m\u001b[0;34m]\u001b[0m\u001b[0;34m\u001b[0m\u001b[0;34m\u001b[0m\u001b[0m\n\u001b[0m\u001b[1;32m    354\u001b[0m \u001b[0;34m\u001b[0m\u001b[0m\n\u001b[1;32m    355\u001b[0m \u001b[0;34m\u001b[0m\u001b[0m\n",
      "\u001b[0;32m/storage/AdversarialRobustness/Boosting.py\u001b[0m in \u001b[0;36m<listcomp>\u001b[0;34m(.0)\u001b[0m\n\u001b[1;32m    351\u001b[0m             \u001b[0mwLPredictions\u001b[0m \u001b[0;34m=\u001b[0m \u001b[0mself\u001b[0m\u001b[0;34m.\u001b[0m\u001b[0mgetWLPredictionsString\u001b[0m\u001b[0;34m(\u001b[0m\u001b[0mX\u001b[0m\u001b[0;34m,\u001b[0m \u001b[0mk\u001b[0m\u001b[0;34m)\u001b[0m\u001b[0;34m\u001b[0m\u001b[0;34m\u001b[0m\u001b[0m\n\u001b[1;32m    352\u001b[0m         \u001b[0;32melse\u001b[0m\u001b[0;34m:\u001b[0m\u001b[0;34m\u001b[0m\u001b[0;34m\u001b[0m\u001b[0m\n\u001b[0;32m--> 353\u001b[0;31m             \u001b[0mwLPredictions\u001b[0m \u001b[0;34m=\u001b[0m \u001b[0;34m[\u001b[0m\u001b[0mself\u001b[0m\u001b[0;34m.\u001b[0m\u001b[0mweakLearners\u001b[0m\u001b[0;34m[\u001b[0m\u001b[0mi\u001b[0m\u001b[0;34m]\u001b[0m\u001b[0;34m.\u001b[0m\u001b[0mpredict\u001b[0m\u001b[0;34m(\u001b[0m\u001b[0mX\u001b[0m\u001b[0;34m)\u001b[0m\u001b[0;34m.\u001b[0m\u001b[0margmax\u001b[0m\u001b[0;34m(\u001b[0m\u001b[0maxis\u001b[0m\u001b[0;34m=\u001b[0m\u001b[0;36m1\u001b[0m\u001b[0;34m)\u001b[0m \u001b[0;32mfor\u001b[0m \u001b[0mi\u001b[0m \u001b[0;32min\u001b[0m \u001b[0mrange\u001b[0m\u001b[0;34m(\u001b[0m\u001b[0mT\u001b[0m\u001b[0;34m)\u001b[0m\u001b[0;34m]\u001b[0m\u001b[0;34m\u001b[0m\u001b[0;34m\u001b[0m\u001b[0m\n\u001b[0m\u001b[1;32m    354\u001b[0m \u001b[0;34m\u001b[0m\u001b[0m\n\u001b[1;32m    355\u001b[0m \u001b[0;34m\u001b[0m\u001b[0m\n",
      "\u001b[0;32m/storage/AdversarialRobustness/WeakLearners.py\u001b[0m in \u001b[0;36mpredict\u001b[0;34m(self, X)\u001b[0m\n\u001b[1;32m    355\u001b[0m \u001b[0;34m\u001b[0m\u001b[0m\n\u001b[1;32m    356\u001b[0m     \u001b[0;32mdef\u001b[0m \u001b[0mpredict\u001b[0m\u001b[0;34m(\u001b[0m\u001b[0mself\u001b[0m\u001b[0;34m,\u001b[0m \u001b[0mX\u001b[0m\u001b[0;34m)\u001b[0m\u001b[0;34m:\u001b[0m\u001b[0;34m\u001b[0m\u001b[0;34m\u001b[0m\u001b[0m\n\u001b[0;32m--> 357\u001b[0;31m         \u001b[0;32mreturn\u001b[0m \u001b[0mself\u001b[0m\u001b[0;34m.\u001b[0m\u001b[0mmodel\u001b[0m\u001b[0;34m(\u001b[0m\u001b[0mX\u001b[0m\u001b[0;34m)\u001b[0m\u001b[0;34m\u001b[0m\u001b[0;34m\u001b[0m\u001b[0m\n\u001b[0m",
      "\u001b[0;32m/usr/local/lib/python3.6/dist-packages/torch/nn/modules/module.py\u001b[0m in \u001b[0;36m_call_impl\u001b[0;34m(self, *input, **kwargs)\u001b[0m\n\u001b[1;32m    725\u001b[0m             \u001b[0mresult\u001b[0m \u001b[0;34m=\u001b[0m \u001b[0mself\u001b[0m\u001b[0;34m.\u001b[0m\u001b[0m_slow_forward\u001b[0m\u001b[0;34m(\u001b[0m\u001b[0;34m*\u001b[0m\u001b[0minput\u001b[0m\u001b[0;34m,\u001b[0m \u001b[0;34m**\u001b[0m\u001b[0mkwargs\u001b[0m\u001b[0;34m)\u001b[0m\u001b[0;34m\u001b[0m\u001b[0;34m\u001b[0m\u001b[0m\n\u001b[1;32m    726\u001b[0m         \u001b[0;32melse\u001b[0m\u001b[0;34m:\u001b[0m\u001b[0;34m\u001b[0m\u001b[0;34m\u001b[0m\u001b[0m\n\u001b[0;32m--> 727\u001b[0;31m             \u001b[0mresult\u001b[0m \u001b[0;34m=\u001b[0m \u001b[0mself\u001b[0m\u001b[0;34m.\u001b[0m\u001b[0mforward\u001b[0m\u001b[0;34m(\u001b[0m\u001b[0;34m*\u001b[0m\u001b[0minput\u001b[0m\u001b[0;34m,\u001b[0m \u001b[0;34m**\u001b[0m\u001b[0mkwargs\u001b[0m\u001b[0;34m)\u001b[0m\u001b[0;34m\u001b[0m\u001b[0;34m\u001b[0m\u001b[0m\n\u001b[0m\u001b[1;32m    728\u001b[0m         for hook in itertools.chain(\n\u001b[1;32m    729\u001b[0m                 \u001b[0m_global_forward_hooks\u001b[0m\u001b[0;34m.\u001b[0m\u001b[0mvalues\u001b[0m\u001b[0;34m(\u001b[0m\u001b[0;34m)\u001b[0m\u001b[0;34m,\u001b[0m\u001b[0;34m\u001b[0m\u001b[0;34m\u001b[0m\u001b[0m\n",
      "\u001b[0;32m/storage/AdversarialRobustness/BaseModels.py\u001b[0m in \u001b[0;36mforward\u001b[0;34m(self, x)\u001b[0m\n\u001b[1;32m    109\u001b[0m         \u001b[0mout\u001b[0m \u001b[0;34m=\u001b[0m \u001b[0mself\u001b[0m\u001b[0;34m.\u001b[0m\u001b[0mconv1\u001b[0m\u001b[0;34m(\u001b[0m\u001b[0mx\u001b[0m\u001b[0;34m)\u001b[0m\u001b[0;34m\u001b[0m\u001b[0;34m\u001b[0m\u001b[0m\n\u001b[1;32m    110\u001b[0m         \u001b[0mout\u001b[0m \u001b[0;34m=\u001b[0m \u001b[0mself\u001b[0m\u001b[0;34m.\u001b[0m\u001b[0mlayer1\u001b[0m\u001b[0;34m(\u001b[0m\u001b[0mout\u001b[0m\u001b[0;34m)\u001b[0m\u001b[0;34m\u001b[0m\u001b[0;34m\u001b[0m\u001b[0m\n\u001b[0;32m--> 111\u001b[0;31m         \u001b[0mout\u001b[0m \u001b[0;34m=\u001b[0m \u001b[0mself\u001b[0m\u001b[0;34m.\u001b[0m\u001b[0mlayer2\u001b[0m\u001b[0;34m(\u001b[0m\u001b[0mout\u001b[0m\u001b[0;34m)\u001b[0m\u001b[0;34m\u001b[0m\u001b[0;34m\u001b[0m\u001b[0m\n\u001b[0m\u001b[1;32m    112\u001b[0m         \u001b[0mout\u001b[0m \u001b[0;34m=\u001b[0m \u001b[0mself\u001b[0m\u001b[0;34m.\u001b[0m\u001b[0mlayer3\u001b[0m\u001b[0;34m(\u001b[0m\u001b[0mout\u001b[0m\u001b[0;34m)\u001b[0m\u001b[0;34m\u001b[0m\u001b[0;34m\u001b[0m\u001b[0m\n\u001b[1;32m    113\u001b[0m         \u001b[0mout\u001b[0m \u001b[0;34m=\u001b[0m \u001b[0mself\u001b[0m\u001b[0;34m.\u001b[0m\u001b[0mlayer4\u001b[0m\u001b[0;34m(\u001b[0m\u001b[0mout\u001b[0m\u001b[0;34m)\u001b[0m\u001b[0;34m\u001b[0m\u001b[0;34m\u001b[0m\u001b[0m\n",
      "\u001b[0;32m/usr/local/lib/python3.6/dist-packages/torch/nn/modules/module.py\u001b[0m in \u001b[0;36m_call_impl\u001b[0;34m(self, *input, **kwargs)\u001b[0m\n\u001b[1;32m    725\u001b[0m             \u001b[0mresult\u001b[0m \u001b[0;34m=\u001b[0m \u001b[0mself\u001b[0m\u001b[0;34m.\u001b[0m\u001b[0m_slow_forward\u001b[0m\u001b[0;34m(\u001b[0m\u001b[0;34m*\u001b[0m\u001b[0minput\u001b[0m\u001b[0;34m,\u001b[0m \u001b[0;34m**\u001b[0m\u001b[0mkwargs\u001b[0m\u001b[0;34m)\u001b[0m\u001b[0;34m\u001b[0m\u001b[0;34m\u001b[0m\u001b[0m\n\u001b[1;32m    726\u001b[0m         \u001b[0;32melse\u001b[0m\u001b[0;34m:\u001b[0m\u001b[0;34m\u001b[0m\u001b[0;34m\u001b[0m\u001b[0m\n\u001b[0;32m--> 727\u001b[0;31m             \u001b[0mresult\u001b[0m \u001b[0;34m=\u001b[0m \u001b[0mself\u001b[0m\u001b[0;34m.\u001b[0m\u001b[0mforward\u001b[0m\u001b[0;34m(\u001b[0m\u001b[0;34m*\u001b[0m\u001b[0minput\u001b[0m\u001b[0;34m,\u001b[0m \u001b[0;34m**\u001b[0m\u001b[0mkwargs\u001b[0m\u001b[0;34m)\u001b[0m\u001b[0;34m\u001b[0m\u001b[0;34m\u001b[0m\u001b[0m\n\u001b[0m\u001b[1;32m    728\u001b[0m         for hook in itertools.chain(\n\u001b[1;32m    729\u001b[0m                 \u001b[0m_global_forward_hooks\u001b[0m\u001b[0;34m.\u001b[0m\u001b[0mvalues\u001b[0m\u001b[0;34m(\u001b[0m\u001b[0;34m)\u001b[0m\u001b[0;34m,\u001b[0m\u001b[0;34m\u001b[0m\u001b[0;34m\u001b[0m\u001b[0m\n",
      "\u001b[0;32m/usr/local/lib/python3.6/dist-packages/torch/nn/modules/container.py\u001b[0m in \u001b[0;36mforward\u001b[0;34m(self, input)\u001b[0m\n\u001b[1;32m    115\u001b[0m     \u001b[0;32mdef\u001b[0m \u001b[0mforward\u001b[0m\u001b[0;34m(\u001b[0m\u001b[0mself\u001b[0m\u001b[0;34m,\u001b[0m \u001b[0minput\u001b[0m\u001b[0;34m)\u001b[0m\u001b[0;34m:\u001b[0m\u001b[0;34m\u001b[0m\u001b[0;34m\u001b[0m\u001b[0m\n\u001b[1;32m    116\u001b[0m         \u001b[0;32mfor\u001b[0m \u001b[0mmodule\u001b[0m \u001b[0;32min\u001b[0m \u001b[0mself\u001b[0m\u001b[0;34m:\u001b[0m\u001b[0;34m\u001b[0m\u001b[0;34m\u001b[0m\u001b[0m\n\u001b[0;32m--> 117\u001b[0;31m             \u001b[0minput\u001b[0m \u001b[0;34m=\u001b[0m \u001b[0mmodule\u001b[0m\u001b[0;34m(\u001b[0m\u001b[0minput\u001b[0m\u001b[0;34m)\u001b[0m\u001b[0;34m\u001b[0m\u001b[0;34m\u001b[0m\u001b[0m\n\u001b[0m\u001b[1;32m    118\u001b[0m         \u001b[0;32mreturn\u001b[0m \u001b[0minput\u001b[0m\u001b[0;34m\u001b[0m\u001b[0;34m\u001b[0m\u001b[0m\n\u001b[1;32m    119\u001b[0m \u001b[0;34m\u001b[0m\u001b[0m\n",
      "\u001b[0;32m/usr/local/lib/python3.6/dist-packages/torch/nn/modules/module.py\u001b[0m in \u001b[0;36m_call_impl\u001b[0;34m(self, *input, **kwargs)\u001b[0m\n\u001b[1;32m    725\u001b[0m             \u001b[0mresult\u001b[0m \u001b[0;34m=\u001b[0m \u001b[0mself\u001b[0m\u001b[0;34m.\u001b[0m\u001b[0m_slow_forward\u001b[0m\u001b[0;34m(\u001b[0m\u001b[0;34m*\u001b[0m\u001b[0minput\u001b[0m\u001b[0;34m,\u001b[0m \u001b[0;34m**\u001b[0m\u001b[0mkwargs\u001b[0m\u001b[0;34m)\u001b[0m\u001b[0;34m\u001b[0m\u001b[0;34m\u001b[0m\u001b[0m\n\u001b[1;32m    726\u001b[0m         \u001b[0;32melse\u001b[0m\u001b[0;34m:\u001b[0m\u001b[0;34m\u001b[0m\u001b[0;34m\u001b[0m\u001b[0m\n\u001b[0;32m--> 727\u001b[0;31m             \u001b[0mresult\u001b[0m \u001b[0;34m=\u001b[0m \u001b[0mself\u001b[0m\u001b[0;34m.\u001b[0m\u001b[0mforward\u001b[0m\u001b[0;34m(\u001b[0m\u001b[0;34m*\u001b[0m\u001b[0minput\u001b[0m\u001b[0;34m,\u001b[0m \u001b[0;34m**\u001b[0m\u001b[0mkwargs\u001b[0m\u001b[0;34m)\u001b[0m\u001b[0;34m\u001b[0m\u001b[0;34m\u001b[0m\u001b[0m\n\u001b[0m\u001b[1;32m    728\u001b[0m         for hook in itertools.chain(\n\u001b[1;32m    729\u001b[0m                 \u001b[0m_global_forward_hooks\u001b[0m\u001b[0;34m.\u001b[0m\u001b[0mvalues\u001b[0m\u001b[0;34m(\u001b[0m\u001b[0;34m)\u001b[0m\u001b[0;34m,\u001b[0m\u001b[0;34m\u001b[0m\u001b[0;34m\u001b[0m\u001b[0m\n",
      "\u001b[0;32m/storage/AdversarialRobustness/BaseModels.py\u001b[0m in \u001b[0;36mforward\u001b[0;34m(self, x)\u001b[0m\n\u001b[1;32m     50\u001b[0m         \u001b[0mshortcut\u001b[0m \u001b[0;34m=\u001b[0m \u001b[0mself\u001b[0m\u001b[0;34m.\u001b[0m\u001b[0mshortcut\u001b[0m\u001b[0;34m(\u001b[0m\u001b[0mx\u001b[0m\u001b[0;34m)\u001b[0m \u001b[0;32mif\u001b[0m \u001b[0mhasattr\u001b[0m\u001b[0;34m(\u001b[0m\u001b[0mself\u001b[0m\u001b[0;34m,\u001b[0m \u001b[0;34m'shortcut'\u001b[0m\u001b[0;34m)\u001b[0m \u001b[0;32melse\u001b[0m \u001b[0mx\u001b[0m\u001b[0;34m\u001b[0m\u001b[0;34m\u001b[0m\u001b[0m\n\u001b[1;32m     51\u001b[0m         \u001b[0mout\u001b[0m \u001b[0;34m=\u001b[0m \u001b[0mself\u001b[0m\u001b[0;34m.\u001b[0m\u001b[0mconv1\u001b[0m\u001b[0;34m(\u001b[0m\u001b[0mout\u001b[0m\u001b[0;34m)\u001b[0m\u001b[0;34m\u001b[0m\u001b[0;34m\u001b[0m\u001b[0m\n\u001b[0;32m---> 52\u001b[0;31m         \u001b[0mout\u001b[0m \u001b[0;34m=\u001b[0m \u001b[0mself\u001b[0m\u001b[0;34m.\u001b[0m\u001b[0mconv2\u001b[0m\u001b[0;34m(\u001b[0m\u001b[0mF\u001b[0m\u001b[0;34m.\u001b[0m\u001b[0mrelu\u001b[0m\u001b[0;34m(\u001b[0m\u001b[0mself\u001b[0m\u001b[0;34m.\u001b[0m\u001b[0mbn2\u001b[0m\u001b[0;34m(\u001b[0m\u001b[0mout\u001b[0m\u001b[0;34m)\u001b[0m\u001b[0;34m)\u001b[0m\u001b[0;34m)\u001b[0m\u001b[0;34m\u001b[0m\u001b[0;34m\u001b[0m\u001b[0m\n\u001b[0m\u001b[1;32m     53\u001b[0m         \u001b[0mout\u001b[0m \u001b[0;34m+=\u001b[0m \u001b[0mshortcut\u001b[0m\u001b[0;34m\u001b[0m\u001b[0;34m\u001b[0m\u001b[0m\n\u001b[1;32m     54\u001b[0m         \u001b[0;32mreturn\u001b[0m \u001b[0mout\u001b[0m\u001b[0;34m\u001b[0m\u001b[0;34m\u001b[0m\u001b[0m\n",
      "\u001b[0;32m/usr/local/lib/python3.6/dist-packages/torch/nn/functional.py\u001b[0m in \u001b[0;36mrelu\u001b[0;34m(input, inplace)\u001b[0m\n\u001b[1;32m   1134\u001b[0m         \u001b[0mresult\u001b[0m \u001b[0;34m=\u001b[0m \u001b[0mtorch\u001b[0m\u001b[0;34m.\u001b[0m\u001b[0mrelu_\u001b[0m\u001b[0;34m(\u001b[0m\u001b[0minput\u001b[0m\u001b[0;34m)\u001b[0m\u001b[0;34m\u001b[0m\u001b[0;34m\u001b[0m\u001b[0m\n\u001b[1;32m   1135\u001b[0m     \u001b[0;32melse\u001b[0m\u001b[0;34m:\u001b[0m\u001b[0;34m\u001b[0m\u001b[0;34m\u001b[0m\u001b[0m\n\u001b[0;32m-> 1136\u001b[0;31m         \u001b[0mresult\u001b[0m \u001b[0;34m=\u001b[0m \u001b[0mtorch\u001b[0m\u001b[0;34m.\u001b[0m\u001b[0mrelu\u001b[0m\u001b[0;34m(\u001b[0m\u001b[0minput\u001b[0m\u001b[0;34m)\u001b[0m\u001b[0;34m\u001b[0m\u001b[0;34m\u001b[0m\u001b[0m\n\u001b[0m\u001b[1;32m   1137\u001b[0m     \u001b[0;32mreturn\u001b[0m \u001b[0mresult\u001b[0m\u001b[0;34m\u001b[0m\u001b[0;34m\u001b[0m\u001b[0m\n\u001b[1;32m   1138\u001b[0m \u001b[0;34m\u001b[0m\u001b[0m\n",
      "\u001b[0;31mRuntimeError\u001b[0m: CUDA out of memory. Tried to allocate 250.00 MiB (GPU 0; 11.17 GiB total capacity; 9.48 GiB already allocated; 166.62 MiB free; 10.58 GiB reserved in total by PyTorch)"
     ]
    }
   ],
   "source": [
    "train_dataset = datasets.CIFAR10('./data', train=True, download=True, transform=transforms.Compose([\n",
    "            transforms.ToTensor(),\n",
    "            ]))\n",
    "\n",
    "test_dataset = datasets.CIFAR10('./data', train=False, download=True, transform=transforms.Compose([\n",
    "            transforms.ToTensor(),\n",
    "            ]))\n",
    "\n",
    "from datetime import datetime\n",
    "# train_loader = torch.utils.data.DataLoader(train_dataset,batch_size=100, shuffle=True)\n",
    "test_loader = torch.utils.data.DataLoader(test_dataset,batch_size=2000, shuffle=False)\n",
    "\n",
    "t0 = datetime.now()\n",
    "smallerdataset = torch.utils.data.Subset(datasets.CIFAR10, range(5000))\n",
    "wl, wlweights = SchapireWongMulticlassBoosting(WongNeuralNetCIFAR10, 1, datasets.CIFAR10, advDelta=0, alphaTol=1e-10, adv=False, maxIt=60, predictionWeights=False)\n",
    "for data in test_loader:\n",
    "    val_X = data[0]\n",
    "    val_y = data[1]\n",
    "    break\n",
    "\n",
    "\n",
    "ensemble = Ensemble(wl, wlweights)\n",
    "\n",
    "predictions = ensemble.schapirePredict(val_X.to(cuda), 10)\n",
    "print(\"Finished With: \", (predictions == val_y.numpy()).astype(int).sum()/len(predictions))\n",
    "print(\"In \", (datetime.now()-t0).total_seconds(), \" s\")"
   ]
  },
  {
   "cell_type": "markdown",
   "metadata": {
    "id": "b19FcXKxB0X_"
   },
   "source": [
    "## Memory-less CIFAR 10"
   ]
  },
  {
   "cell_type": "code",
   "execution_count": 7,
   "metadata": {},
   "outputs": [],
   "source": [
    "def runMemlessCifarBoosting(numWL, maxIt, epochs):\n",
    "    train_dataset = datasets.CIFAR10('./data', train=True, download=True, transform=transforms.Compose([\n",
    "                transforms.ToTensor(),\n",
    "                ]))\n",
    "\n",
    "    test_dataset = datasets.CIFAR10('./data', train=False, download=True, transform=transforms.Compose([\n",
    "                transforms.ToTensor(),\n",
    "                ]))\n",
    "\n",
    "    from datetime import datetime\n",
    "    # train_loader = torch.utils.data.DataLoader(train_dataset,batch_size=100, shuffle=True)\n",
    "    test_loader = torch.utils.data.DataLoader(test_dataset,batch_size=200, shuffle=False)\n",
    "    for data in test_loader:\n",
    "        val_X = data[0]\n",
    "        val_y = data[1]\n",
    "        break\n",
    "\n",
    "    t0 = datetime.now()\n",
    "    smallerdataset = torch.utils.data.Subset(datasets.CIFAR10, range(5000))\n",
    "    # instance.fit\n",
    "    # class.fit\n",
    "    # from pytorch_memlab import LineProfiler\n",
    "\n",
    "    # with LineProfiler(SchapireWongMulticlassBoostingMemoryLess) as prof:\n",
    "    wl, wlweights = SchapireWongMulticlassBoostingMemoryLess(WongNeuralNetCIFAR10, numWL, datasets.CIFAR10, advDelta=0, alphaTol=1e-10, adv=False, maxIt=maxIt, predictionWeights=False, epochs=1)\n",
    "\n",
    "    # prof.display()\n",
    "\n",
    "    # for data in test_loader:\n",
    "    #   val_X = data[0]\n",
    "    #   val_y = data[1]\n",
    "    #   break\n",
    "\n",
    "\n",
    "    ensemble = Ensemble(wl, wlweights)\n",
    "\n",
    "    predictions = ensemble.schapirePredict(val_X.to(cuda), 10)\n",
    "    print(\"Finished With: \", (predictions == val_y.numpy()).astype(int).sum()/len(predictions))\n",
    "    print(\"In \", (datetime.now()-t0).total_seconds(), \" s\")"
   ]
  },
  {
   "cell_type": "code",
   "execution_count": 8,
   "metadata": {
    "scrolled": true
   },
   "outputs": [
    {
     "name": "stdout",
     "output_type": "stream",
     "text": [
      "Files already downloaded and verified\n",
      "Files already downloaded and verified\n",
      "Files already downloaded and verified\n",
      "Files already downloaded and verified\n",
      "Files already downloaded and verified\n",
      "----------------------------------------------------------------------------------------------------\n",
      "Training 0th weak learning\n",
      "Files already downloaded and verified\n",
      "adv: False\n",
      "maxIt: 20\n"
     ]
    },
    {
     "name": "stderr",
     "output_type": "stream",
     "text": [
      "/usr/local/lib/python3.6/dist-packages/torchvision/datasets/cifar.py:118: UserWarning: The given NumPy array is not writeable, and PyTorch does not support non-writeable tensors. This means you can write to the underlying (supposedly non-writeable) NumPy array using the tensor. You may want to copy the array to protect its data or make it writeable before converting it to a tensor. This type of warning will be suppressed for the rest of this program. (Triggered internally at  /pytorch/torch/csrc/utils/tensor_numpy.cpp:141.)\n",
      "  img, target = self.data[index], self.targets[index]\n"
     ]
    },
    {
     "name": "stdout",
     "output_type": "stream",
     "text": [
      "Iteration:  1\n",
      "memory usage: 144093184\n",
      "Iteration:  11\n",
      "memory usage: 144096768\n"
     ]
    },
    {
     "name": "stderr",
     "output_type": "stream",
     "text": [
      "/usr/local/lib/python3.6/dist-packages/torch/optim/lr_scheduler.py:893: UserWarning: To get the last learning rate computed by the scheduler, please use `get_last_lr()`.\n",
      "  \"please use `get_last_lr()`.\", UserWarning)\n"
     ]
    },
    {
     "name": "stdout",
     "output_type": "stream",
     "text": [
      "targets: tensor([6, 9, 9,  ..., 9, 1, 1])\n",
      "Full Accuracy:  0.23538\n",
      "Alpha:  0.15157240484338735\n",
      "After newest WL score is:  0.22\n",
      "----------------------------------------------------------------------------------------------------\n",
      "Training 1th weak learning\n",
      "Files already downloaded and verified\n",
      "adv: False\n",
      "maxIt: 20\n",
      "Iteration:  1\n",
      "memory usage: 280266240\n",
      "Iteration:  11\n",
      "memory usage: 280269824\n",
      "targets: tensor([6, 9, 9,  ..., 9, 1, 1])\n",
      "Full Accuracy:  0.25826\n",
      "Alpha:  0.17699762181328318\n",
      "After newest WL score is:  0.26\n",
      "----------------------------------------------------------------------------------------------------\n",
      "Training 2th weak learning\n",
      "Files already downloaded and verified\n",
      "adv: False\n",
      "maxIt: 20\n",
      "Iteration:  1\n",
      "memory usage: 142487552\n",
      "Iteration:  11\n",
      "memory usage: 142491136\n",
      "targets: tensor([6, 9, 9,  ..., 9, 1, 1])\n",
      "Full Accuracy:  0.25722\n",
      "Alpha:  0.15960732146338227\n",
      "After newest WL score is:  0.245\n",
      "----------------------------------------------------------------------------------------------------\n",
      "Training 3th weak learning\n",
      "Files already downloaded and verified\n",
      "adv: False\n",
      "maxIt: 20\n",
      "Iteration:  1\n",
      "memory usage: 278136320\n",
      "Iteration:  11\n",
      "memory usage: 278139904\n"
     ]
    },
    {
     "name": "stderr",
     "output_type": "stream",
     "text": [
      "Exception ignored in: <bound method Image.__del__ of <PIL.Image.Image image mode=RGB size=32x32 at 0x7FB3F87CE2E8>>\n",
      "Traceback (most recent call last):\n",
      "  File \"/usr/local/lib/python3.6/dist-packages/PIL/Image.py\", line 634, in __del__\n",
      "    self.__exit__()\n",
      "  File \"/usr/local/lib/python3.6/dist-packages/PIL/Image.py\", line 596, in __exit__\n",
      "    if hasattr(self, \"fp\") and getattr(self, \"_exclusive_fp\", False):\n",
      "KeyboardInterrupt\n"
     ]
    },
    {
     "ename": "KeyboardInterrupt",
     "evalue": "",
     "output_type": "error",
     "traceback": [
      "\u001b[0;31m---------------------------------------------------------------------------\u001b[0m",
      "\u001b[0;31mKeyboardInterrupt\u001b[0m                         Traceback (most recent call last)",
      "\u001b[0;32m<ipython-input-8-06f2b26f20d8>\u001b[0m in \u001b[0;36m<module>\u001b[0;34m\u001b[0m\n\u001b[0;32m----> 1\u001b[0;31m \u001b[0mrunMemlessCifarBoosting\u001b[0m\u001b[0;34m(\u001b[0m\u001b[0;36m10\u001b[0m\u001b[0;34m,\u001b[0m \u001b[0;36m20\u001b[0m\u001b[0;34m,\u001b[0m \u001b[0mepochs\u001b[0m\u001b[0;34m=\u001b[0m\u001b[0;36m1\u001b[0m\u001b[0;34m)\u001b[0m\u001b[0;34m\u001b[0m\u001b[0;34m\u001b[0m\u001b[0m\n\u001b[0m",
      "\u001b[0;32m<ipython-input-7-cf7c449dda25>\u001b[0m in \u001b[0;36mrunMemlessCifarBoosting\u001b[0;34m(numWL, maxIt, epochs)\u001b[0m\n\u001b[1;32m     23\u001b[0m \u001b[0;34m\u001b[0m\u001b[0m\n\u001b[1;32m     24\u001b[0m     \u001b[0;31m# with LineProfiler(SchapireWongMulticlassBoostingMemoryLess) as prof:\u001b[0m\u001b[0;34m\u001b[0m\u001b[0;34m\u001b[0m\u001b[0;34m\u001b[0m\u001b[0m\n\u001b[0;32m---> 25\u001b[0;31m     \u001b[0mwl\u001b[0m\u001b[0;34m,\u001b[0m \u001b[0mwlweights\u001b[0m \u001b[0;34m=\u001b[0m \u001b[0mSchapireWongMulticlassBoostingMemoryLess\u001b[0m\u001b[0;34m(\u001b[0m\u001b[0mWongNeuralNetCIFAR10\u001b[0m\u001b[0;34m,\u001b[0m \u001b[0mnumWL\u001b[0m\u001b[0;34m,\u001b[0m \u001b[0mdatasets\u001b[0m\u001b[0;34m.\u001b[0m\u001b[0mCIFAR10\u001b[0m\u001b[0;34m,\u001b[0m \u001b[0madvDelta\u001b[0m\u001b[0;34m=\u001b[0m\u001b[0;36m0\u001b[0m\u001b[0;34m,\u001b[0m \u001b[0malphaTol\u001b[0m\u001b[0;34m=\u001b[0m\u001b[0;36m1e-10\u001b[0m\u001b[0;34m,\u001b[0m \u001b[0madv\u001b[0m\u001b[0;34m=\u001b[0m\u001b[0;32mFalse\u001b[0m\u001b[0;34m,\u001b[0m \u001b[0mmaxIt\u001b[0m\u001b[0;34m=\u001b[0m\u001b[0mmaxIt\u001b[0m\u001b[0;34m,\u001b[0m \u001b[0mpredictionWeights\u001b[0m\u001b[0;34m=\u001b[0m\u001b[0;32mFalse\u001b[0m\u001b[0;34m,\u001b[0m \u001b[0mepochs\u001b[0m\u001b[0;34m=\u001b[0m\u001b[0;36m1\u001b[0m\u001b[0;34m)\u001b[0m\u001b[0;34m\u001b[0m\u001b[0;34m\u001b[0m\u001b[0m\n\u001b[0m\u001b[1;32m     26\u001b[0m \u001b[0;34m\u001b[0m\u001b[0m\n\u001b[1;32m     27\u001b[0m     \u001b[0;31m# prof.display()\u001b[0m\u001b[0;34m\u001b[0m\u001b[0;34m\u001b[0m\u001b[0;34m\u001b[0m\u001b[0m\n",
      "\u001b[0;32m/storage/AdversarialRobustness/Boosting.py\u001b[0m in \u001b[0;36mSchapireWongMulticlassBoostingMemoryLess\u001b[0;34m(weakLearner, numLearners, dataset, advDelta, alphaTol, adv, maxIt, predictionWeights, epochs)\u001b[0m\n\u001b[1;32m    305\u001b[0m         \u001b[0mh_i\u001b[0m\u001b[0;34m.\u001b[0m\u001b[0mfit\u001b[0m\u001b[0;34m(\u001b[0m\u001b[0mtrain_loader\u001b[0m\u001b[0;34m,\u001b[0m \u001b[0mtest_loader\u001b[0m\u001b[0;34m,\u001b[0m \u001b[0mC_t\u001b[0m\u001b[0;34m,\u001b[0m \u001b[0madv\u001b[0m\u001b[0;34m=\u001b[0m\u001b[0madv\u001b[0m\u001b[0;34m,\u001b[0m \u001b[0mmaxIt\u001b[0m\u001b[0;34m=\u001b[0m\u001b[0mmaxIt\u001b[0m\u001b[0;34m,\u001b[0m \u001b[0mpredictionWeights\u001b[0m\u001b[0;34m=\u001b[0m\u001b[0mpredictionWeights\u001b[0m\u001b[0;34m,\u001b[0m \u001b[0mepochs\u001b[0m\u001b[0;34m=\u001b[0m\u001b[0mepochs\u001b[0m\u001b[0;34m)\u001b[0m\u001b[0;34m\u001b[0m\u001b[0;34m\u001b[0m\u001b[0m\n\u001b[1;32m    306\u001b[0m \u001b[0;34m\u001b[0m\u001b[0m\n\u001b[0;32m--> 307\u001b[0;31m         \u001b[0m_\u001b[0m\u001b[0;34m,\u001b[0m \u001b[0mpredictions\u001b[0m\u001b[0;34m,\u001b[0m \u001b[0m_\u001b[0m \u001b[0;34m=\u001b[0m \u001b[0mpytorch_predict\u001b[0m\u001b[0;34m(\u001b[0m\u001b[0mh_i\u001b[0m\u001b[0;34m.\u001b[0m\u001b[0mmodel\u001b[0m\u001b[0;34m,\u001b[0m \u001b[0mtrain_loader_default\u001b[0m\u001b[0;34m,\u001b[0m \u001b[0mtorch\u001b[0m\u001b[0;34m.\u001b[0m\u001b[0mdevice\u001b[0m\u001b[0;34m(\u001b[0m\u001b[0;34m'cuda'\u001b[0m\u001b[0;34m)\u001b[0m\u001b[0;34m)\u001b[0m \u001b[0;31m#y_true, y_pred, y_pred_prob\u001b[0m\u001b[0;34m\u001b[0m\u001b[0;34m\u001b[0m\u001b[0m\n\u001b[0m\u001b[1;32m    308\u001b[0m         \u001b[0mprint\u001b[0m\u001b[0;34m(\u001b[0m\u001b[0;34m\"targets:\"\u001b[0m\u001b[0;34m,\u001b[0m \u001b[0mtrain_ds_index\u001b[0m\u001b[0;34m.\u001b[0m\u001b[0mtargets\u001b[0m\u001b[0;34m)\u001b[0m\u001b[0;34m\u001b[0m\u001b[0;34m\u001b[0m\u001b[0m\n\u001b[1;32m    309\u001b[0m         \u001b[0mprint\u001b[0m\u001b[0;34m(\u001b[0m\u001b[0;34m\"Full Accuracy: \"\u001b[0m\u001b[0;34m,\u001b[0m \u001b[0;34m(\u001b[0m\u001b[0mpredictions\u001b[0m \u001b[0;34m==\u001b[0m \u001b[0mtrain_ds_index\u001b[0m\u001b[0;34m.\u001b[0m\u001b[0mtargets\u001b[0m\u001b[0;34m.\u001b[0m\u001b[0mnumpy\u001b[0m\u001b[0;34m(\u001b[0m\u001b[0;34m)\u001b[0m\u001b[0;34m)\u001b[0m\u001b[0;34m.\u001b[0m\u001b[0mastype\u001b[0m\u001b[0;34m(\u001b[0m\u001b[0mint\u001b[0m\u001b[0;34m)\u001b[0m\u001b[0;34m.\u001b[0m\u001b[0msum\u001b[0m\u001b[0;34m(\u001b[0m\u001b[0;34m)\u001b[0m\u001b[0;34m/\u001b[0m\u001b[0mlen\u001b[0m\u001b[0;34m(\u001b[0m\u001b[0mpredictions\u001b[0m\u001b[0;34m)\u001b[0m\u001b[0;34m)\u001b[0m\u001b[0;34m\u001b[0m\u001b[0;34m\u001b[0m\u001b[0m\n",
      "\u001b[0;32m/storage/AdversarialRobustness/Boosting.py\u001b[0m in \u001b[0;36mpytorch_predict\u001b[0;34m(model, test_loader, device)\u001b[0m\n\u001b[1;32m    388\u001b[0m             \u001b[0mlabels\u001b[0m \u001b[0;34m=\u001b[0m \u001b[0mdata\u001b[0m\u001b[0;34m[\u001b[0m\u001b[0;34m-\u001b[0m\u001b[0;36m1\u001b[0m\u001b[0;34m]\u001b[0m\u001b[0;34m.\u001b[0m\u001b[0mto\u001b[0m\u001b[0;34m(\u001b[0m\u001b[0mdevice\u001b[0m\u001b[0;34m)\u001b[0m\u001b[0;34m\u001b[0m\u001b[0;34m\u001b[0m\u001b[0m\n\u001b[1;32m    389\u001b[0m \u001b[0;34m\u001b[0m\u001b[0m\n\u001b[0;32m--> 390\u001b[0;31m             \u001b[0moutputs\u001b[0m \u001b[0;34m=\u001b[0m \u001b[0mmodel\u001b[0m\u001b[0;34m(\u001b[0m\u001b[0;34m*\u001b[0m\u001b[0minputs\u001b[0m\u001b[0;34m)\u001b[0m\u001b[0;34m\u001b[0m\u001b[0;34m\u001b[0m\u001b[0m\n\u001b[0m\u001b[1;32m    391\u001b[0m             \u001b[0my_true\u001b[0m \u001b[0;34m=\u001b[0m \u001b[0mtorch\u001b[0m\u001b[0;34m.\u001b[0m\u001b[0mcat\u001b[0m\u001b[0;34m(\u001b[0m\u001b[0;34m(\u001b[0m\u001b[0my_true\u001b[0m\u001b[0;34m,\u001b[0m \u001b[0mlabels\u001b[0m\u001b[0;34m)\u001b[0m\u001b[0;34m,\u001b[0m \u001b[0;36m0\u001b[0m\u001b[0;34m)\u001b[0m\u001b[0;34m\u001b[0m\u001b[0;34m\u001b[0m\u001b[0m\n\u001b[1;32m    392\u001b[0m             \u001b[0mall_outputs\u001b[0m \u001b[0;34m=\u001b[0m \u001b[0mtorch\u001b[0m\u001b[0;34m.\u001b[0m\u001b[0mcat\u001b[0m\u001b[0;34m(\u001b[0m\u001b[0;34m(\u001b[0m\u001b[0mall_outputs\u001b[0m\u001b[0;34m,\u001b[0m \u001b[0moutputs\u001b[0m\u001b[0;34m)\u001b[0m\u001b[0;34m,\u001b[0m \u001b[0;36m0\u001b[0m\u001b[0;34m)\u001b[0m\u001b[0;34m\u001b[0m\u001b[0;34m\u001b[0m\u001b[0m\n",
      "\u001b[0;32m/usr/local/lib/python3.6/dist-packages/torch/nn/modules/module.py\u001b[0m in \u001b[0;36m_call_impl\u001b[0;34m(self, *input, **kwargs)\u001b[0m\n\u001b[1;32m    725\u001b[0m             \u001b[0mresult\u001b[0m \u001b[0;34m=\u001b[0m \u001b[0mself\u001b[0m\u001b[0;34m.\u001b[0m\u001b[0m_slow_forward\u001b[0m\u001b[0;34m(\u001b[0m\u001b[0;34m*\u001b[0m\u001b[0minput\u001b[0m\u001b[0;34m,\u001b[0m \u001b[0;34m**\u001b[0m\u001b[0mkwargs\u001b[0m\u001b[0;34m)\u001b[0m\u001b[0;34m\u001b[0m\u001b[0;34m\u001b[0m\u001b[0m\n\u001b[1;32m    726\u001b[0m         \u001b[0;32melse\u001b[0m\u001b[0;34m:\u001b[0m\u001b[0;34m\u001b[0m\u001b[0;34m\u001b[0m\u001b[0m\n\u001b[0;32m--> 727\u001b[0;31m             \u001b[0mresult\u001b[0m \u001b[0;34m=\u001b[0m \u001b[0mself\u001b[0m\u001b[0;34m.\u001b[0m\u001b[0mforward\u001b[0m\u001b[0;34m(\u001b[0m\u001b[0;34m*\u001b[0m\u001b[0minput\u001b[0m\u001b[0;34m,\u001b[0m \u001b[0;34m**\u001b[0m\u001b[0mkwargs\u001b[0m\u001b[0;34m)\u001b[0m\u001b[0;34m\u001b[0m\u001b[0;34m\u001b[0m\u001b[0m\n\u001b[0m\u001b[1;32m    728\u001b[0m         for hook in itertools.chain(\n\u001b[1;32m    729\u001b[0m                 \u001b[0m_global_forward_hooks\u001b[0m\u001b[0;34m.\u001b[0m\u001b[0mvalues\u001b[0m\u001b[0;34m(\u001b[0m\u001b[0;34m)\u001b[0m\u001b[0;34m,\u001b[0m\u001b[0;34m\u001b[0m\u001b[0;34m\u001b[0m\u001b[0m\n",
      "\u001b[0;32m/storage/AdversarialRobustness/BaseModels.py\u001b[0m in \u001b[0;36mforward\u001b[0;34m(self, x)\u001b[0m\n\u001b[1;32m    110\u001b[0m         \u001b[0mout\u001b[0m \u001b[0;34m=\u001b[0m \u001b[0mself\u001b[0m\u001b[0;34m.\u001b[0m\u001b[0mlayer1\u001b[0m\u001b[0;34m(\u001b[0m\u001b[0mout\u001b[0m\u001b[0;34m)\u001b[0m\u001b[0;34m\u001b[0m\u001b[0;34m\u001b[0m\u001b[0m\n\u001b[1;32m    111\u001b[0m         \u001b[0mout\u001b[0m \u001b[0;34m=\u001b[0m \u001b[0mself\u001b[0m\u001b[0;34m.\u001b[0m\u001b[0mlayer2\u001b[0m\u001b[0;34m(\u001b[0m\u001b[0mout\u001b[0m\u001b[0;34m)\u001b[0m\u001b[0;34m\u001b[0m\u001b[0;34m\u001b[0m\u001b[0m\n\u001b[0;32m--> 112\u001b[0;31m         \u001b[0mout\u001b[0m \u001b[0;34m=\u001b[0m \u001b[0mself\u001b[0m\u001b[0;34m.\u001b[0m\u001b[0mlayer3\u001b[0m\u001b[0;34m(\u001b[0m\u001b[0mout\u001b[0m\u001b[0;34m)\u001b[0m\u001b[0;34m\u001b[0m\u001b[0;34m\u001b[0m\u001b[0m\n\u001b[0m\u001b[1;32m    113\u001b[0m         \u001b[0mout\u001b[0m \u001b[0;34m=\u001b[0m \u001b[0mself\u001b[0m\u001b[0;34m.\u001b[0m\u001b[0mlayer4\u001b[0m\u001b[0;34m(\u001b[0m\u001b[0mout\u001b[0m\u001b[0;34m)\u001b[0m\u001b[0;34m\u001b[0m\u001b[0;34m\u001b[0m\u001b[0m\n\u001b[1;32m    114\u001b[0m         \u001b[0mout\u001b[0m \u001b[0;34m=\u001b[0m \u001b[0mF\u001b[0m\u001b[0;34m.\u001b[0m\u001b[0mrelu\u001b[0m\u001b[0;34m(\u001b[0m\u001b[0mself\u001b[0m\u001b[0;34m.\u001b[0m\u001b[0mbn\u001b[0m\u001b[0;34m(\u001b[0m\u001b[0mout\u001b[0m\u001b[0;34m)\u001b[0m\u001b[0;34m)\u001b[0m\u001b[0;34m\u001b[0m\u001b[0;34m\u001b[0m\u001b[0m\n",
      "\u001b[0;32m/usr/local/lib/python3.6/dist-packages/torch/nn/modules/module.py\u001b[0m in \u001b[0;36m_call_impl\u001b[0;34m(self, *input, **kwargs)\u001b[0m\n\u001b[1;32m    725\u001b[0m             \u001b[0mresult\u001b[0m \u001b[0;34m=\u001b[0m \u001b[0mself\u001b[0m\u001b[0;34m.\u001b[0m\u001b[0m_slow_forward\u001b[0m\u001b[0;34m(\u001b[0m\u001b[0;34m*\u001b[0m\u001b[0minput\u001b[0m\u001b[0;34m,\u001b[0m \u001b[0;34m**\u001b[0m\u001b[0mkwargs\u001b[0m\u001b[0;34m)\u001b[0m\u001b[0;34m\u001b[0m\u001b[0;34m\u001b[0m\u001b[0m\n\u001b[1;32m    726\u001b[0m         \u001b[0;32melse\u001b[0m\u001b[0;34m:\u001b[0m\u001b[0;34m\u001b[0m\u001b[0;34m\u001b[0m\u001b[0m\n\u001b[0;32m--> 727\u001b[0;31m             \u001b[0mresult\u001b[0m \u001b[0;34m=\u001b[0m \u001b[0mself\u001b[0m\u001b[0;34m.\u001b[0m\u001b[0mforward\u001b[0m\u001b[0;34m(\u001b[0m\u001b[0;34m*\u001b[0m\u001b[0minput\u001b[0m\u001b[0;34m,\u001b[0m \u001b[0;34m**\u001b[0m\u001b[0mkwargs\u001b[0m\u001b[0;34m)\u001b[0m\u001b[0;34m\u001b[0m\u001b[0;34m\u001b[0m\u001b[0m\n\u001b[0m\u001b[1;32m    728\u001b[0m         for hook in itertools.chain(\n\u001b[1;32m    729\u001b[0m                 \u001b[0m_global_forward_hooks\u001b[0m\u001b[0;34m.\u001b[0m\u001b[0mvalues\u001b[0m\u001b[0;34m(\u001b[0m\u001b[0;34m)\u001b[0m\u001b[0;34m,\u001b[0m\u001b[0;34m\u001b[0m\u001b[0;34m\u001b[0m\u001b[0m\n",
      "\u001b[0;32m/usr/local/lib/python3.6/dist-packages/torch/nn/modules/container.py\u001b[0m in \u001b[0;36mforward\u001b[0;34m(self, input)\u001b[0m\n\u001b[1;32m    115\u001b[0m     \u001b[0;32mdef\u001b[0m \u001b[0mforward\u001b[0m\u001b[0;34m(\u001b[0m\u001b[0mself\u001b[0m\u001b[0;34m,\u001b[0m \u001b[0minput\u001b[0m\u001b[0;34m)\u001b[0m\u001b[0;34m:\u001b[0m\u001b[0;34m\u001b[0m\u001b[0;34m\u001b[0m\u001b[0m\n\u001b[1;32m    116\u001b[0m         \u001b[0;32mfor\u001b[0m \u001b[0mmodule\u001b[0m \u001b[0;32min\u001b[0m \u001b[0mself\u001b[0m\u001b[0;34m:\u001b[0m\u001b[0;34m\u001b[0m\u001b[0;34m\u001b[0m\u001b[0m\n\u001b[0;32m--> 117\u001b[0;31m             \u001b[0minput\u001b[0m \u001b[0;34m=\u001b[0m \u001b[0mmodule\u001b[0m\u001b[0;34m(\u001b[0m\u001b[0minput\u001b[0m\u001b[0;34m)\u001b[0m\u001b[0;34m\u001b[0m\u001b[0;34m\u001b[0m\u001b[0m\n\u001b[0m\u001b[1;32m    118\u001b[0m         \u001b[0;32mreturn\u001b[0m \u001b[0minput\u001b[0m\u001b[0;34m\u001b[0m\u001b[0;34m\u001b[0m\u001b[0m\n\u001b[1;32m    119\u001b[0m \u001b[0;34m\u001b[0m\u001b[0m\n",
      "\u001b[0;32m/usr/local/lib/python3.6/dist-packages/torch/nn/modules/module.py\u001b[0m in \u001b[0;36m_call_impl\u001b[0;34m(self, *input, **kwargs)\u001b[0m\n\u001b[1;32m    725\u001b[0m             \u001b[0mresult\u001b[0m \u001b[0;34m=\u001b[0m \u001b[0mself\u001b[0m\u001b[0;34m.\u001b[0m\u001b[0m_slow_forward\u001b[0m\u001b[0;34m(\u001b[0m\u001b[0;34m*\u001b[0m\u001b[0minput\u001b[0m\u001b[0;34m,\u001b[0m \u001b[0;34m**\u001b[0m\u001b[0mkwargs\u001b[0m\u001b[0;34m)\u001b[0m\u001b[0;34m\u001b[0m\u001b[0;34m\u001b[0m\u001b[0m\n\u001b[1;32m    726\u001b[0m         \u001b[0;32melse\u001b[0m\u001b[0;34m:\u001b[0m\u001b[0;34m\u001b[0m\u001b[0;34m\u001b[0m\u001b[0m\n\u001b[0;32m--> 727\u001b[0;31m             \u001b[0mresult\u001b[0m \u001b[0;34m=\u001b[0m \u001b[0mself\u001b[0m\u001b[0;34m.\u001b[0m\u001b[0mforward\u001b[0m\u001b[0;34m(\u001b[0m\u001b[0;34m*\u001b[0m\u001b[0minput\u001b[0m\u001b[0;34m,\u001b[0m \u001b[0;34m**\u001b[0m\u001b[0mkwargs\u001b[0m\u001b[0;34m)\u001b[0m\u001b[0;34m\u001b[0m\u001b[0;34m\u001b[0m\u001b[0m\n\u001b[0m\u001b[1;32m    728\u001b[0m         for hook in itertools.chain(\n\u001b[1;32m    729\u001b[0m                 \u001b[0m_global_forward_hooks\u001b[0m\u001b[0;34m.\u001b[0m\u001b[0mvalues\u001b[0m\u001b[0;34m(\u001b[0m\u001b[0;34m)\u001b[0m\u001b[0;34m,\u001b[0m\u001b[0;34m\u001b[0m\u001b[0;34m\u001b[0m\u001b[0m\n",
      "\u001b[0;32m/storage/AdversarialRobustness/BaseModels.py\u001b[0m in \u001b[0;36mforward\u001b[0;34m(self, x)\u001b[0m\n\u001b[1;32m     47\u001b[0m \u001b[0;34m\u001b[0m\u001b[0m\n\u001b[1;32m     48\u001b[0m     \u001b[0;32mdef\u001b[0m \u001b[0mforward\u001b[0m\u001b[0;34m(\u001b[0m\u001b[0mself\u001b[0m\u001b[0;34m,\u001b[0m \u001b[0mx\u001b[0m\u001b[0;34m)\u001b[0m\u001b[0;34m:\u001b[0m\u001b[0;34m\u001b[0m\u001b[0;34m\u001b[0m\u001b[0m\n\u001b[0;32m---> 49\u001b[0;31m         \u001b[0mout\u001b[0m \u001b[0;34m=\u001b[0m \u001b[0mF\u001b[0m\u001b[0;34m.\u001b[0m\u001b[0mrelu\u001b[0m\u001b[0;34m(\u001b[0m\u001b[0mself\u001b[0m\u001b[0;34m.\u001b[0m\u001b[0mbn1\u001b[0m\u001b[0;34m(\u001b[0m\u001b[0mx\u001b[0m\u001b[0;34m)\u001b[0m\u001b[0;34m)\u001b[0m\u001b[0;34m\u001b[0m\u001b[0;34m\u001b[0m\u001b[0m\n\u001b[0m\u001b[1;32m     50\u001b[0m         \u001b[0mshortcut\u001b[0m \u001b[0;34m=\u001b[0m \u001b[0mself\u001b[0m\u001b[0;34m.\u001b[0m\u001b[0mshortcut\u001b[0m\u001b[0;34m(\u001b[0m\u001b[0mx\u001b[0m\u001b[0;34m)\u001b[0m \u001b[0;32mif\u001b[0m \u001b[0mhasattr\u001b[0m\u001b[0;34m(\u001b[0m\u001b[0mself\u001b[0m\u001b[0;34m,\u001b[0m \u001b[0;34m'shortcut'\u001b[0m\u001b[0;34m)\u001b[0m \u001b[0;32melse\u001b[0m \u001b[0mx\u001b[0m\u001b[0;34m\u001b[0m\u001b[0;34m\u001b[0m\u001b[0m\n\u001b[1;32m     51\u001b[0m         \u001b[0mout\u001b[0m \u001b[0;34m=\u001b[0m \u001b[0mself\u001b[0m\u001b[0;34m.\u001b[0m\u001b[0mconv1\u001b[0m\u001b[0;34m(\u001b[0m\u001b[0mout\u001b[0m\u001b[0;34m)\u001b[0m\u001b[0;34m\u001b[0m\u001b[0;34m\u001b[0m\u001b[0m\n",
      "\u001b[0;32m/usr/local/lib/python3.6/dist-packages/torch/nn/modules/module.py\u001b[0m in \u001b[0;36m_call_impl\u001b[0;34m(self, *input, **kwargs)\u001b[0m\n\u001b[1;32m    725\u001b[0m             \u001b[0mresult\u001b[0m \u001b[0;34m=\u001b[0m \u001b[0mself\u001b[0m\u001b[0;34m.\u001b[0m\u001b[0m_slow_forward\u001b[0m\u001b[0;34m(\u001b[0m\u001b[0;34m*\u001b[0m\u001b[0minput\u001b[0m\u001b[0;34m,\u001b[0m \u001b[0;34m**\u001b[0m\u001b[0mkwargs\u001b[0m\u001b[0;34m)\u001b[0m\u001b[0;34m\u001b[0m\u001b[0;34m\u001b[0m\u001b[0m\n\u001b[1;32m    726\u001b[0m         \u001b[0;32melse\u001b[0m\u001b[0;34m:\u001b[0m\u001b[0;34m\u001b[0m\u001b[0;34m\u001b[0m\u001b[0m\n\u001b[0;32m--> 727\u001b[0;31m             \u001b[0mresult\u001b[0m \u001b[0;34m=\u001b[0m \u001b[0mself\u001b[0m\u001b[0;34m.\u001b[0m\u001b[0mforward\u001b[0m\u001b[0;34m(\u001b[0m\u001b[0;34m*\u001b[0m\u001b[0minput\u001b[0m\u001b[0;34m,\u001b[0m \u001b[0;34m**\u001b[0m\u001b[0mkwargs\u001b[0m\u001b[0;34m)\u001b[0m\u001b[0;34m\u001b[0m\u001b[0;34m\u001b[0m\u001b[0m\n\u001b[0m\u001b[1;32m    728\u001b[0m         for hook in itertools.chain(\n\u001b[1;32m    729\u001b[0m                 \u001b[0m_global_forward_hooks\u001b[0m\u001b[0;34m.\u001b[0m\u001b[0mvalues\u001b[0m\u001b[0;34m(\u001b[0m\u001b[0;34m)\u001b[0m\u001b[0;34m,\u001b[0m\u001b[0;34m\u001b[0m\u001b[0;34m\u001b[0m\u001b[0m\n",
      "\u001b[0;32m/usr/local/lib/python3.6/dist-packages/torch/nn/modules/batchnorm.py\u001b[0m in \u001b[0;36mforward\u001b[0;34m(self, input)\u001b[0m\n\u001b[1;32m    134\u001b[0m             \u001b[0mself\u001b[0m\u001b[0;34m.\u001b[0m\u001b[0mrunning_mean\u001b[0m \u001b[0;32mif\u001b[0m \u001b[0;32mnot\u001b[0m \u001b[0mself\u001b[0m\u001b[0;34m.\u001b[0m\u001b[0mtraining\u001b[0m \u001b[0;32mor\u001b[0m \u001b[0mself\u001b[0m\u001b[0;34m.\u001b[0m\u001b[0mtrack_running_stats\u001b[0m \u001b[0;32melse\u001b[0m \u001b[0;32mNone\u001b[0m\u001b[0;34m,\u001b[0m\u001b[0;34m\u001b[0m\u001b[0;34m\u001b[0m\u001b[0m\n\u001b[1;32m    135\u001b[0m             \u001b[0mself\u001b[0m\u001b[0;34m.\u001b[0m\u001b[0mrunning_var\u001b[0m \u001b[0;32mif\u001b[0m \u001b[0;32mnot\u001b[0m \u001b[0mself\u001b[0m\u001b[0;34m.\u001b[0m\u001b[0mtraining\u001b[0m \u001b[0;32mor\u001b[0m \u001b[0mself\u001b[0m\u001b[0;34m.\u001b[0m\u001b[0mtrack_running_stats\u001b[0m \u001b[0;32melse\u001b[0m \u001b[0;32mNone\u001b[0m\u001b[0;34m,\u001b[0m\u001b[0;34m\u001b[0m\u001b[0;34m\u001b[0m\u001b[0m\n\u001b[0;32m--> 136\u001b[0;31m             self.weight, self.bias, bn_training, exponential_average_factor, self.eps)\n\u001b[0m\u001b[1;32m    137\u001b[0m \u001b[0;34m\u001b[0m\u001b[0m\n\u001b[1;32m    138\u001b[0m \u001b[0;34m\u001b[0m\u001b[0m\n",
      "\u001b[0;32m/usr/local/lib/python3.6/dist-packages/torch/nn/functional.py\u001b[0m in \u001b[0;36mbatch_norm\u001b[0;34m(input, running_mean, running_var, weight, bias, training, momentum, eps)\u001b[0m\n\u001b[1;32m   2056\u001b[0m     return torch.batch_norm(\n\u001b[1;32m   2057\u001b[0m         \u001b[0minput\u001b[0m\u001b[0;34m,\u001b[0m \u001b[0mweight\u001b[0m\u001b[0;34m,\u001b[0m \u001b[0mbias\u001b[0m\u001b[0;34m,\u001b[0m \u001b[0mrunning_mean\u001b[0m\u001b[0;34m,\u001b[0m \u001b[0mrunning_var\u001b[0m\u001b[0;34m,\u001b[0m\u001b[0;34m\u001b[0m\u001b[0;34m\u001b[0m\u001b[0m\n\u001b[0;32m-> 2058\u001b[0;31m         \u001b[0mtraining\u001b[0m\u001b[0;34m,\u001b[0m \u001b[0mmomentum\u001b[0m\u001b[0;34m,\u001b[0m \u001b[0meps\u001b[0m\u001b[0;34m,\u001b[0m \u001b[0mtorch\u001b[0m\u001b[0;34m.\u001b[0m\u001b[0mbackends\u001b[0m\u001b[0;34m.\u001b[0m\u001b[0mcudnn\u001b[0m\u001b[0;34m.\u001b[0m\u001b[0menabled\u001b[0m\u001b[0;34m\u001b[0m\u001b[0;34m\u001b[0m\u001b[0m\n\u001b[0m\u001b[1;32m   2059\u001b[0m     )\n\u001b[1;32m   2060\u001b[0m \u001b[0;34m\u001b[0m\u001b[0m\n",
      "\u001b[0;31mKeyboardInterrupt\u001b[0m: "
     ]
    }
   ],
   "source": [
    "runMemlessCifarBoosting(10, 20, epochs=1)"
   ]
  },
  {
   "cell_type": "code",
   "execution_count": 8,
   "metadata": {
    "scrolled": true
   },
   "outputs": [
    {
     "name": "stdout",
     "output_type": "stream",
     "text": [
      "Files already downloaded and verified\n",
      "Files already downloaded and verified\n",
      "Files already downloaded and verified\n",
      "Files already downloaded and verified\n",
      "Files already downloaded and verified\n",
      "----------------------------------------------------------------------------------------------------\n",
      "Training 0th weak learning\n",
      "Files already downloaded and verified\n",
      "adv: False\n",
      "maxIt: 400\n"
     ]
    },
    {
     "name": "stderr",
     "output_type": "stream",
     "text": [
      "/usr/local/lib/python3.6/dist-packages/torchvision/datasets/cifar.py:118: UserWarning: The given NumPy array is not writeable, and PyTorch does not support non-writeable tensors. This means you can write to the underlying (supposedly non-writeable) NumPy array using the tensor. You may want to copy the array to protect its data or make it writeable before converting it to a tensor. This type of warning will be suppressed for the rest of this program. (Triggered internally at  /pytorch/torch/csrc/utils/tensor_numpy.cpp:141.)\n",
      "  img, target = self.data[index], self.targets[index]\n"
     ]
    },
    {
     "name": "stdout",
     "output_type": "stream",
     "text": [
      "Iteration:  1\n",
      "memory usage: 144093184\n",
      "Iteration:  11\n",
      "memory usage: 144096768\n",
      "Iteration:  21\n",
      "memory usage: 144100352\n",
      "Iteration:  31\n",
      "memory usage: 144103936\n",
      "Iteration:  41\n",
      "memory usage: 144107520\n",
      "Iteration:  51\n",
      "memory usage: 144111104\n",
      "Iteration:  61\n",
      "memory usage: 144114688\n",
      "Iteration:  71\n",
      "memory usage: 144118272\n",
      "Iteration:  81\n",
      "memory usage: 144121856\n",
      "Iteration:  91\n",
      "memory usage: 144125440\n",
      "Iteration:  101\n",
      "memory usage: 144129024\n",
      "Iteration:  111\n",
      "memory usage: 144132608\n",
      "Iteration:  121\n",
      "memory usage: 144136192\n",
      "Iteration:  131\n",
      "memory usage: 144139776\n",
      "Iteration:  141\n",
      "memory usage: 144143360\n",
      "Iteration:  151\n",
      "memory usage: 144146944\n",
      "Iteration:  161\n",
      "memory usage: 144150528\n",
      "Iteration:  171\n",
      "memory usage: 144154112\n",
      "Iteration:  181\n",
      "memory usage: 144157696\n",
      "Iteration:  191\n",
      "memory usage: 144161280\n",
      "Iteration:  201\n",
      "memory usage: 144164864\n",
      "Iteration:  211\n",
      "memory usage: 144168448\n",
      "Iteration:  221\n",
      "memory usage: 144172032\n",
      "Iteration:  231\n",
      "memory usage: 144175616\n",
      "Iteration:  241\n",
      "memory usage: 144179200\n",
      "Iteration:  251\n",
      "memory usage: 144182784\n",
      "Iteration:  261\n",
      "memory usage: 144186368\n",
      "Iteration:  271\n",
      "memory usage: 144189952\n",
      "Iteration:  281\n",
      "memory usage: 144193536\n",
      "Iteration:  291\n",
      "memory usage: 144197120\n",
      "Iteration:  301\n",
      "memory usage: 144200704\n",
      "Iteration:  311\n",
      "memory usage: 144204288\n",
      "Iteration:  321\n",
      "memory usage: 144207872\n",
      "Iteration:  331\n",
      "memory usage: 144211456\n",
      "Iteration:  341\n",
      "memory usage: 144215040\n",
      "Iteration:  351\n",
      "memory usage: 144218624\n",
      "Iteration:  361\n",
      "memory usage: 144222208\n",
      "Iteration:  371\n",
      "memory usage: 144225792\n",
      "Iteration:  381\n",
      "memory usage: 144229376\n",
      "Iteration:  391\n",
      "memory usage: 144232960\n"
     ]
    },
    {
     "name": "stderr",
     "output_type": "stream",
     "text": [
      "/usr/local/lib/python3.6/dist-packages/torch/optim/lr_scheduler.py:893: UserWarning: To get the last learning rate computed by the scheduler, please use `get_last_lr()`.\n",
      "  \"please use `get_last_lr()`.\", UserWarning)\n"
     ]
    },
    {
     "name": "stdout",
     "output_type": "stream",
     "text": [
      "targets: tensor([6, 9, 9,  ..., 9, 1, 1])\n",
      "Full Accuracy:  0.59968\n",
      "Alpha:  0.6258673453849011\n",
      "----------------------------------------------------------------------------------------------------\n",
      "Training 1th weak learning\n",
      "Files already downloaded and verified\n",
      "adv: False\n",
      "maxIt: 400\n",
      "Iteration:  1\n",
      "memory usage: 279479808\n",
      "Iteration:  11\n",
      "memory usage: 279483392\n",
      "Iteration:  21\n",
      "memory usage: 279486976\n",
      "Iteration:  31\n",
      "memory usage: 279490560\n",
      "Iteration:  41\n",
      "memory usage: 279494144\n",
      "Iteration:  51\n",
      "memory usage: 279497728\n",
      "Iteration:  61\n",
      "memory usage: 279501312\n",
      "Iteration:  71\n",
      "memory usage: 279504896\n",
      "Iteration:  81\n",
      "memory usage: 279508480\n",
      "Iteration:  91\n",
      "memory usage: 279512064\n",
      "Iteration:  101\n",
      "memory usage: 279515648\n",
      "Iteration:  111\n",
      "memory usage: 279519232\n",
      "Iteration:  121\n",
      "memory usage: 279522816\n",
      "Iteration:  131\n",
      "memory usage: 279526400\n",
      "Iteration:  141\n",
      "memory usage: 279529984\n",
      "Iteration:  151\n",
      "memory usage: 279533568\n",
      "Iteration:  161\n",
      "memory usage: 279537152\n",
      "Iteration:  171\n",
      "memory usage: 279540736\n",
      "Iteration:  181\n",
      "memory usage: 279544320\n",
      "Iteration:  191\n",
      "memory usage: 279547904\n",
      "Iteration:  201\n",
      "memory usage: 279551488\n",
      "Iteration:  211\n",
      "memory usage: 279555072\n",
      "Iteration:  221\n",
      "memory usage: 279558656\n",
      "Iteration:  231\n",
      "memory usage: 279562240\n",
      "Iteration:  241\n",
      "memory usage: 279565824\n",
      "Iteration:  251\n",
      "memory usage: 279569408\n",
      "Iteration:  261\n",
      "memory usage: 279572992\n",
      "Iteration:  271\n",
      "memory usage: 279576576\n",
      "Iteration:  281\n",
      "memory usage: 279580160\n",
      "Iteration:  291\n",
      "memory usage: 279583744\n",
      "Iteration:  301\n",
      "memory usage: 279587328\n",
      "Iteration:  311\n",
      "memory usage: 279590912\n",
      "Iteration:  321\n",
      "memory usage: 279594496\n",
      "Iteration:  331\n",
      "memory usage: 279598080\n",
      "Iteration:  341\n",
      "memory usage: 279601664\n",
      "Iteration:  351\n",
      "memory usage: 279605248\n",
      "Iteration:  361\n",
      "memory usage: 279608832\n",
      "Iteration:  371\n",
      "memory usage: 279612416\n",
      "Iteration:  381\n",
      "memory usage: 279616000\n",
      "Iteration:  391\n",
      "memory usage: 279619584\n",
      "targets: tensor([6, 9, 9,  ..., 9, 1, 1])\n",
      "Full Accuracy:  0.5941\n",
      "Alpha:  0.5277399286043475\n",
      "----------------------------------------------------------------------------------------------------\n",
      "Training 2th weak learning\n",
      "Files already downloaded and verified\n",
      "adv: False\n",
      "maxIt: 400\n",
      "Iteration:  1\n",
      "memory usage: 415259648\n",
      "Iteration:  11\n",
      "memory usage: 415263232\n",
      "Iteration:  21\n",
      "memory usage: 415266816\n",
      "Iteration:  31\n",
      "memory usage: 415270400\n",
      "Iteration:  41\n",
      "memory usage: 415273984\n",
      "Iteration:  51\n",
      "memory usage: 415277568\n",
      "Iteration:  61\n",
      "memory usage: 415281152\n",
      "Iteration:  71\n",
      "memory usage: 415284736\n",
      "Iteration:  81\n",
      "memory usage: 415288320\n",
      "Iteration:  91\n",
      "memory usage: 415291904\n",
      "Iteration:  101\n",
      "memory usage: 415295488\n",
      "Iteration:  111\n",
      "memory usage: 415299072\n",
      "Iteration:  121\n",
      "memory usage: 415302656\n",
      "Iteration:  131\n",
      "memory usage: 415306240\n",
      "Iteration:  141\n",
      "memory usage: 415309824\n",
      "Iteration:  151\n",
      "memory usage: 415313408\n",
      "Iteration:  161\n",
      "memory usage: 415316992\n",
      "Iteration:  171\n",
      "memory usage: 415320576\n",
      "Iteration:  181\n",
      "memory usage: 415324160\n",
      "Iteration:  191\n",
      "memory usage: 141769216\n",
      "Iteration:  201\n",
      "memory usage: 141772800\n",
      "Iteration:  211\n",
      "memory usage: 141776384\n",
      "Iteration:  221\n",
      "memory usage: 141779968\n",
      "Iteration:  231\n",
      "memory usage: 141783552\n",
      "Iteration:  241\n",
      "memory usage: 141787136\n",
      "Iteration:  251\n",
      "memory usage: 141790720\n",
      "Iteration:  261\n",
      "memory usage: 141794304\n",
      "Iteration:  271\n",
      "memory usage: 141797888\n",
      "Iteration:  281\n",
      "memory usage: 141801472\n",
      "Iteration:  291\n",
      "memory usage: 141805056\n",
      "Iteration:  301\n",
      "memory usage: 141808640\n",
      "Iteration:  311\n",
      "memory usage: 141812224\n",
      "Iteration:  321\n",
      "memory usage: 141815808\n",
      "Iteration:  331\n",
      "memory usage: 141819392\n",
      "Iteration:  341\n",
      "memory usage: 141822976\n",
      "Iteration:  351\n",
      "memory usage: 141826560\n",
      "Iteration:  361\n",
      "memory usage: 141830144\n",
      "Iteration:  371\n",
      "memory usage: 141833728\n",
      "Iteration:  381\n",
      "memory usage: 141837312\n",
      "Iteration:  391\n",
      "memory usage: 141840896\n",
      "targets: tensor([6, 9, 9,  ..., 9, 1, 1])\n",
      "Full Accuracy:  0.53978\n",
      "Alpha:  0.35138710547817714\n",
      "----------------------------------------------------------------------------------------------------\n",
      "Training 3th weak learning\n",
      "Files already downloaded and verified\n",
      "adv: False\n",
      "maxIt: 400\n",
      "Iteration:  1\n",
      "memory usage: 279315968\n",
      "Iteration:  11\n",
      "memory usage: 279319552\n",
      "Iteration:  21\n",
      "memory usage: 279323136\n",
      "Iteration:  31\n",
      "memory usage: 279326720\n",
      "Iteration:  41\n",
      "memory usage: 279330304\n",
      "Iteration:  51\n",
      "memory usage: 279333888\n",
      "Iteration:  61\n",
      "memory usage: 279337472\n",
      "Iteration:  71\n",
      "memory usage: 279341056\n",
      "Iteration:  81\n",
      "memory usage: 279344640\n",
      "Iteration:  91\n",
      "memory usage: 279348224\n",
      "Iteration:  101\n",
      "memory usage: 279351808\n",
      "Iteration:  111\n",
      "memory usage: 279355392\n",
      "Iteration:  121\n",
      "memory usage: 279358976\n",
      "Iteration:  131\n",
      "memory usage: 279362560\n",
      "Iteration:  141\n",
      "memory usage: 279366144\n",
      "Iteration:  151\n",
      "memory usage: 279369728\n",
      "Iteration:  161\n",
      "memory usage: 279373312\n",
      "Iteration:  171\n",
      "memory usage: 279376896\n",
      "Iteration:  181\n",
      "memory usage: 279380480\n",
      "Iteration:  191\n",
      "memory usage: 279384064\n",
      "Iteration:  201\n",
      "memory usage: 279387648\n",
      "Iteration:  211\n",
      "memory usage: 279391232\n",
      "Iteration:  221\n",
      "memory usage: 279394816\n",
      "Iteration:  231\n",
      "memory usage: 279398400\n",
      "Iteration:  241\n",
      "memory usage: 279401984\n",
      "Iteration:  251\n",
      "memory usage: 279405568\n",
      "Iteration:  261\n",
      "memory usage: 279409152\n",
      "Iteration:  271\n",
      "memory usage: 279412736\n",
      "Iteration:  281\n",
      "memory usage: 279416320\n",
      "Iteration:  291\n",
      "memory usage: 279419904\n",
      "Iteration:  301\n",
      "memory usage: 279423488\n",
      "Iteration:  311\n",
      "memory usage: 279427072\n",
      "Iteration:  321\n",
      "memory usage: 279430656\n",
      "Iteration:  331\n",
      "memory usage: 279434240\n",
      "Iteration:  341\n",
      "memory usage: 279437824\n",
      "Iteration:  351\n",
      "memory usage: 279441408\n",
      "Iteration:  361\n",
      "memory usage: 279444992\n",
      "Iteration:  371\n",
      "memory usage: 279448576\n",
      "Iteration:  381\n",
      "memory usage: 279452160\n",
      "Iteration:  391\n",
      "memory usage: 279455744\n",
      "targets: tensor([6, 9, 9,  ..., 9, 1, 1])\n",
      "Full Accuracy:  0.52602\n",
      "Alpha:  0.3095617736309028\n",
      "----------------------------------------------------------------------------------------------------\n",
      "Training 4th weak learning\n",
      "Files already downloaded and verified\n",
      "adv: False\n",
      "maxIt: 400\n",
      "Iteration:  1\n",
      "memory usage: 417356800\n",
      "Iteration:  11\n",
      "memory usage: 417360384\n",
      "Iteration:  21\n",
      "memory usage: 417363968\n",
      "Iteration:  31\n",
      "memory usage: 417367552\n",
      "Iteration:  41\n",
      "memory usage: 417371136\n",
      "Iteration:  51\n",
      "memory usage: 417374720\n",
      "Iteration:  61\n",
      "memory usage: 417378304\n",
      "Iteration:  71\n",
      "memory usage: 417381888\n",
      "Iteration:  81\n",
      "memory usage: 417385472\n",
      "Iteration:  91\n",
      "memory usage: 417389056\n",
      "Iteration:  101\n",
      "memory usage: 417392640\n",
      "Iteration:  111\n",
      "memory usage: 417396224\n",
      "Iteration:  121\n",
      "memory usage: 417399808\n",
      "Iteration:  131\n",
      "memory usage: 417403392\n",
      "Iteration:  141\n",
      "memory usage: 417406976\n",
      "Iteration:  151\n",
      "memory usage: 417410560\n",
      "Iteration:  161\n",
      "memory usage: 417414144\n",
      "Iteration:  171\n",
      "memory usage: 417417728\n",
      "Iteration:  181\n",
      "memory usage: 417421312\n",
      "Iteration:  191\n",
      "memory usage: 417424896\n",
      "Iteration:  201\n",
      "memory usage: 417428480\n",
      "Iteration:  211\n",
      "memory usage: 417432064\n",
      "Iteration:  221\n",
      "memory usage: 417435648\n",
      "Iteration:  231\n",
      "memory usage: 417439232\n",
      "Iteration:  241\n",
      "memory usage: 417442816\n",
      "Iteration:  251\n",
      "memory usage: 417446400\n",
      "Iteration:  261\n",
      "memory usage: 417449984\n",
      "Iteration:  271\n",
      "memory usage: 417453568\n",
      "Iteration:  281\n",
      "memory usage: 417457152\n",
      "Iteration:  291\n",
      "memory usage: 417460736\n",
      "Iteration:  301\n",
      "memory usage: 417464320\n",
      "Iteration:  311\n",
      "memory usage: 417467904\n",
      "Iteration:  321\n",
      "memory usage: 417471488\n",
      "Iteration:  331\n",
      "memory usage: 417475072\n",
      "Iteration:  341\n",
      "memory usage: 417478656\n",
      "Iteration:  351\n",
      "memory usage: 417482240\n",
      "Iteration:  361\n",
      "memory usage: 417485824\n",
      "Iteration:  371\n",
      "memory usage: 417489408\n",
      "Iteration:  381\n",
      "memory usage: 417492992\n",
      "Iteration:  391\n",
      "memory usage: 417496576\n",
      "targets: tensor([6, 9, 9,  ..., 9, 1, 1])\n",
      "Full Accuracy:  0.42884\n",
      "Alpha:  0.21873369753311078\n",
      "----------------------------------------------------------------------------------------------------\n",
      "Training 5th weak learning\n",
      "Files already downloaded and verified\n",
      "adv: False\n",
      "maxIt: 400\n",
      "Iteration:  1\n",
      "memory usage: 554545664\n",
      "Iteration:  11\n",
      "memory usage: 554549248\n",
      "Iteration:  21\n",
      "memory usage: 554552832\n",
      "Iteration:  31\n",
      "memory usage: 554556416\n",
      "Iteration:  41\n",
      "memory usage: 554560000\n",
      "Iteration:  51\n",
      "memory usage: 554563584\n",
      "Iteration:  61\n",
      "memory usage: 554567168\n",
      "Iteration:  71\n",
      "memory usage: 554570752\n",
      "Iteration:  81\n",
      "memory usage: 554574336\n",
      "Iteration:  91\n",
      "memory usage: 554577920\n",
      "Iteration:  101\n",
      "memory usage: 554581504\n",
      "Iteration:  111\n",
      "memory usage: 554585088\n",
      "Iteration:  121\n",
      "memory usage: 554588672\n",
      "Iteration:  131\n",
      "memory usage: 554592256\n",
      "Iteration:  141\n",
      "memory usage: 554595840\n",
      "Iteration:  151\n",
      "memory usage: 554599424\n",
      "Iteration:  161\n",
      "memory usage: 554603008\n",
      "Iteration:  171\n",
      "memory usage: 554606592\n",
      "Iteration:  181\n",
      "memory usage: 554610176\n",
      "Iteration:  191\n",
      "memory usage: 554613760\n",
      "Iteration:  201\n",
      "memory usage: 554617344\n",
      "Iteration:  211\n",
      "memory usage: 554620928\n",
      "Iteration:  221\n",
      "memory usage: 554624512\n",
      "Iteration:  231\n",
      "memory usage: 554628096\n",
      "Iteration:  241\n",
      "memory usage: 554631680\n",
      "Iteration:  251\n",
      "memory usage: 554635264\n",
      "Iteration:  261\n",
      "memory usage: 554638848\n",
      "Iteration:  271\n",
      "memory usage: 554642432\n",
      "Iteration:  281\n",
      "memory usage: 554646016\n",
      "Iteration:  291\n",
      "memory usage: 554649600\n",
      "Iteration:  301\n",
      "memory usage: 554653184\n",
      "Iteration:  311\n",
      "memory usage: 554656768\n",
      "Iteration:  321\n",
      "memory usage: 554660352\n",
      "Iteration:  331\n",
      "memory usage: 554663936\n",
      "Iteration:  341\n",
      "memory usage: 554667520\n",
      "Iteration:  351\n",
      "memory usage: 554671104\n",
      "Iteration:  361\n",
      "memory usage: 554674688\n",
      "Iteration:  371\n",
      "memory usage: 554678272\n",
      "Iteration:  381\n",
      "memory usage: 554681856\n",
      "Iteration:  391\n",
      "memory usage: 554685440\n",
      "targets: tensor([6, 9, 9,  ..., 9, 1, 1])\n",
      "Full Accuracy:  0.41068\n",
      "Alpha:  0.17941046991114748\n",
      "----------------------------------------------------------------------------------------------------\n",
      "Training 6th weak learning\n",
      "Files already downloaded and verified\n",
      "adv: False\n",
      "maxIt: 400\n",
      "Iteration:  1\n",
      "memory usage: 691800064\n",
      "Iteration:  11\n",
      "memory usage: 691803648\n",
      "Iteration:  21\n",
      "memory usage: 691807232\n",
      "Iteration:  31\n",
      "memory usage: 691810816\n",
      "Iteration:  41\n",
      "memory usage: 691814400\n",
      "Iteration:  51\n",
      "memory usage: 691817984\n",
      "Iteration:  61\n",
      "memory usage: 691821568\n",
      "Iteration:  71\n",
      "memory usage: 691825152\n",
      "Iteration:  81\n",
      "memory usage: 691828736\n",
      "Iteration:  91\n",
      "memory usage: 691832320\n",
      "Iteration:  101\n",
      "memory usage: 691835904\n",
      "Iteration:  111\n",
      "memory usage: 691839488\n",
      "Iteration:  121\n",
      "memory usage: 691843072\n",
      "Iteration:  131\n",
      "memory usage: 691846656\n",
      "Iteration:  141\n",
      "memory usage: 691850240\n",
      "Iteration:  151\n",
      "memory usage: 691853824\n",
      "Iteration:  161\n",
      "memory usage: 691857408\n",
      "Iteration:  171\n",
      "memory usage: 691860992\n",
      "Iteration:  181\n",
      "memory usage: 691864576\n",
      "Iteration:  191\n",
      "memory usage: 691868160\n",
      "Iteration:  201\n",
      "memory usage: 691871744\n",
      "Iteration:  211\n",
      "memory usage: 691875328\n",
      "Iteration:  221\n",
      "memory usage: 691878912\n",
      "Iteration:  231\n",
      "memory usage: 691882496\n",
      "Iteration:  241\n",
      "memory usage: 691886080\n",
      "Iteration:  251\n",
      "memory usage: 691889664\n",
      "Iteration:  261\n",
      "memory usage: 691893248\n",
      "Iteration:  271\n",
      "memory usage: 691896832\n",
      "Iteration:  281\n",
      "memory usage: 691900416\n",
      "Iteration:  291\n",
      "memory usage: 691904000\n",
      "Iteration:  301\n",
      "memory usage: 691907584\n",
      "Iteration:  311\n",
      "memory usage: 691911168\n",
      "Iteration:  321\n",
      "memory usage: 691914752\n",
      "Iteration:  331\n",
      "memory usage: 691918336\n",
      "Iteration:  341\n",
      "memory usage: 691921920\n",
      "Iteration:  351\n",
      "memory usage: 691925504\n",
      "Iteration:  361\n",
      "memory usage: 691929088\n",
      "Iteration:  371\n",
      "memory usage: 691932672\n",
      "Iteration:  381\n",
      "memory usage: 691936256\n",
      "Iteration:  391\n",
      "memory usage: 691939840\n",
      "targets: tensor([6, 9, 9,  ..., 9, 1, 1])\n",
      "Full Accuracy:  0.41018\n",
      "Alpha:  0.15353480198975547\n",
      "----------------------------------------------------------------------------------------------------\n",
      "Training 7th weak learning\n",
      "Files already downloaded and verified\n",
      "adv: False\n",
      "maxIt: 400\n",
      "Iteration:  1\n",
      "memory usage: 829414912\n",
      "Iteration:  11\n",
      "memory usage: 829418496\n",
      "Iteration:  21\n",
      "memory usage: 829422080\n",
      "Iteration:  31\n",
      "memory usage: 829425664\n",
      "Iteration:  41\n",
      "memory usage: 829429248\n",
      "Iteration:  51\n",
      "memory usage: 829432832\n",
      "Iteration:  61\n",
      "memory usage: 829436416\n",
      "Iteration:  71\n",
      "memory usage: 829440000\n",
      "Iteration:  81\n",
      "memory usage: 829443584\n",
      "Iteration:  91\n",
      "memory usage: 829447168\n",
      "Iteration:  101\n",
      "memory usage: 829450752\n",
      "Iteration:  111\n",
      "memory usage: 829454336\n",
      "Iteration:  121\n",
      "memory usage: 829457920\n",
      "Iteration:  131\n",
      "memory usage: 829461504\n",
      "Iteration:  141\n",
      "memory usage: 829465088\n",
      "Iteration:  151\n",
      "memory usage: 829468672\n",
      "Iteration:  161\n",
      "memory usage: 829472256\n",
      "Iteration:  171\n",
      "memory usage: 829475840\n",
      "Iteration:  181\n",
      "memory usage: 829479424\n",
      "Iteration:  191\n",
      "memory usage: 829483008\n",
      "Iteration:  201\n",
      "memory usage: 829486592\n",
      "Iteration:  211\n",
      "memory usage: 829490176\n",
      "Iteration:  221\n",
      "memory usage: 829493760\n",
      "Iteration:  231\n",
      "memory usage: 829497344\n",
      "Iteration:  241\n",
      "memory usage: 829500928\n",
      "Iteration:  251\n",
      "memory usage: 829504512\n",
      "Iteration:  261\n",
      "memory usage: 829508096\n",
      "Iteration:  271\n",
      "memory usage: 829511680\n",
      "Iteration:  281\n",
      "memory usage: 829515264\n",
      "Iteration:  291\n",
      "memory usage: 829518848\n",
      "Iteration:  301\n",
      "memory usage: 829522432\n",
      "Iteration:  311\n",
      "memory usage: 829526016\n",
      "Iteration:  321\n",
      "memory usage: 829529600\n",
      "Iteration:  331\n",
      "memory usage: 829533184\n",
      "Iteration:  341\n",
      "memory usage: 829536768\n",
      "Iteration:  351\n",
      "memory usage: 829540352\n",
      "Iteration:  361\n",
      "memory usage: 829543936\n",
      "Iteration:  371\n",
      "memory usage: 829547520\n",
      "Iteration:  381\n",
      "memory usage: 829551104\n",
      "Iteration:  391\n",
      "memory usage: 829554688\n",
      "targets: tensor([6, 9, 9,  ..., 9, 1, 1])\n",
      "Full Accuracy:  0.39694\n",
      "Alpha:  0.12043970128704666\n",
      "----------------------------------------------------------------------------------------------------\n",
      "Training 8th weak learning\n",
      "Files already downloaded and verified\n",
      "adv: False\n",
      "maxIt: 400\n",
      "Iteration:  1\n",
      "memory usage: 967160832\n",
      "Iteration:  11\n",
      "memory usage: 967164416\n",
      "Iteration:  21\n",
      "memory usage: 967168000\n",
      "Iteration:  31\n",
      "memory usage: 967171584\n",
      "Iteration:  41\n",
      "memory usage: 967175168\n",
      "Iteration:  51\n",
      "memory usage: 967178752\n",
      "Iteration:  61\n",
      "memory usage: 967182336\n",
      "Iteration:  71\n",
      "memory usage: 967185920\n",
      "Iteration:  81\n",
      "memory usage: 967189504\n"
     ]
    },
    {
     "ename": "KeyboardInterrupt",
     "evalue": "",
     "output_type": "error",
     "traceback": [
      "\u001b[0;31m---------------------------------------------------------------------------\u001b[0m",
      "\u001b[0;31mKeyboardInterrupt\u001b[0m                         Traceback (most recent call last)",
      "\u001b[0;32m<ipython-input-8-eedae4ea6fbb>\u001b[0m in \u001b[0;36m<module>\u001b[0;34m\u001b[0m\n\u001b[0;32m----> 1\u001b[0;31m \u001b[0mrunMemlessCifarBoosting\u001b[0m\u001b[0;34m(\u001b[0m\u001b[0;36m10\u001b[0m\u001b[0;34m,\u001b[0m \u001b[0;36m400\u001b[0m\u001b[0;34m,\u001b[0m \u001b[0;36m1\u001b[0m\u001b[0;34m)\u001b[0m\u001b[0;34m\u001b[0m\u001b[0;34m\u001b[0m\u001b[0m\n\u001b[0m",
      "\u001b[0;32m<ipython-input-7-cf7c449dda25>\u001b[0m in \u001b[0;36mrunMemlessCifarBoosting\u001b[0;34m(numWL, maxIt, epochs)\u001b[0m\n\u001b[1;32m     23\u001b[0m \u001b[0;34m\u001b[0m\u001b[0m\n\u001b[1;32m     24\u001b[0m     \u001b[0;31m# with LineProfiler(SchapireWongMulticlassBoostingMemoryLess) as prof:\u001b[0m\u001b[0;34m\u001b[0m\u001b[0;34m\u001b[0m\u001b[0;34m\u001b[0m\u001b[0m\n\u001b[0;32m---> 25\u001b[0;31m     \u001b[0mwl\u001b[0m\u001b[0;34m,\u001b[0m \u001b[0mwlweights\u001b[0m \u001b[0;34m=\u001b[0m \u001b[0mSchapireWongMulticlassBoostingMemoryLess\u001b[0m\u001b[0;34m(\u001b[0m\u001b[0mWongNeuralNetCIFAR10\u001b[0m\u001b[0;34m,\u001b[0m \u001b[0mnumWL\u001b[0m\u001b[0;34m,\u001b[0m \u001b[0mdatasets\u001b[0m\u001b[0;34m.\u001b[0m\u001b[0mCIFAR10\u001b[0m\u001b[0;34m,\u001b[0m \u001b[0madvDelta\u001b[0m\u001b[0;34m=\u001b[0m\u001b[0;36m0\u001b[0m\u001b[0;34m,\u001b[0m \u001b[0malphaTol\u001b[0m\u001b[0;34m=\u001b[0m\u001b[0;36m1e-10\u001b[0m\u001b[0;34m,\u001b[0m \u001b[0madv\u001b[0m\u001b[0;34m=\u001b[0m\u001b[0;32mFalse\u001b[0m\u001b[0;34m,\u001b[0m \u001b[0mmaxIt\u001b[0m\u001b[0;34m=\u001b[0m\u001b[0mmaxIt\u001b[0m\u001b[0;34m,\u001b[0m \u001b[0mpredictionWeights\u001b[0m\u001b[0;34m=\u001b[0m\u001b[0;32mFalse\u001b[0m\u001b[0;34m,\u001b[0m \u001b[0mepochs\u001b[0m\u001b[0;34m=\u001b[0m\u001b[0;36m1\u001b[0m\u001b[0;34m)\u001b[0m\u001b[0;34m\u001b[0m\u001b[0;34m\u001b[0m\u001b[0m\n\u001b[0m\u001b[1;32m     26\u001b[0m \u001b[0;34m\u001b[0m\u001b[0m\n\u001b[1;32m     27\u001b[0m     \u001b[0;31m# prof.display()\u001b[0m\u001b[0;34m\u001b[0m\u001b[0;34m\u001b[0m\u001b[0;34m\u001b[0m\u001b[0m\n",
      "\u001b[0;32m/storage/AdversarialRobustness/Boosting.py\u001b[0m in \u001b[0;36mSchapireWongMulticlassBoostingMemoryLess\u001b[0;34m(weakLearner, numLearners, dataset, advDelta, alphaTol, adv, maxIt, predictionWeights, epochs)\u001b[0m\n\u001b[1;32m    299\u001b[0m         datasets.CIFAR10('./data', train=True, download=True, transform=transforms.Compose([\n\u001b[1;32m    300\u001b[0m                 \u001b[0mtransforms\u001b[0m\u001b[0;34m.\u001b[0m\u001b[0mToTensor\u001b[0m\u001b[0;34m(\u001b[0m\u001b[0;34m)\u001b[0m\u001b[0;34m,\u001b[0m\u001b[0;34m\u001b[0m\u001b[0;34m\u001b[0m\u001b[0m\n\u001b[0;32m--> 301\u001b[0;31m                 ])),\n\u001b[0m\u001b[1;32m    302\u001b[0m             batch_size=100, shuffle=False)\n\u001b[1;32m    303\u001b[0m \u001b[0;34m\u001b[0m\u001b[0m\n",
      "\u001b[0;32m/storage/AdversarialRobustness/WeakLearners.py\u001b[0m in \u001b[0;36mfit\u001b[0;34m(self, train_loader, test_loader, C, batch_size, epochs, lr_schedule, lr_min, lr_max, weight_decay, early_stop, momentum, epsilon, alpha, delta_init, seed, opt_level, loss_scale, out_dir, maxIt, adv, predictionWeights)\u001b[0m\n\u001b[1;32m    218\u001b[0m                     \u001b[0mself\u001b[0m\u001b[0;34m.\u001b[0m\u001b[0miters\u001b[0m\u001b[0;34m.\u001b[0m\u001b[0mappend\u001b[0m\u001b[0;34m(\u001b[0m\u001b[0mi\u001b[0m\u001b[0;34m)\u001b[0m\u001b[0;34m\u001b[0m\u001b[0;34m\u001b[0m\u001b[0m\n\u001b[1;32m    219\u001b[0m \u001b[0;34m\u001b[0m\u001b[0m\n\u001b[0;32m--> 220\u001b[0;31m                     \u001b[0mval_loss\u001b[0m\u001b[0;34m,\u001b[0m \u001b[0mval_accuracy\u001b[0m \u001b[0;34m=\u001b[0m \u001b[0mself\u001b[0m\u001b[0;34m.\u001b[0m\u001b[0mvalidation\u001b[0m\u001b[0;34m(\u001b[0m\u001b[0mval_X\u001b[0m\u001b[0;34m,\u001b[0m \u001b[0mval_y\u001b[0m\u001b[0;34m,\u001b[0m \u001b[0my_pred\u001b[0m\u001b[0;34m=\u001b[0m\u001b[0mmodel\u001b[0m\u001b[0;34m(\u001b[0m\u001b[0mval_X\u001b[0m\u001b[0;34m)\u001b[0m\u001b[0;34m)\u001b[0m\u001b[0;34m\u001b[0m\u001b[0;34m\u001b[0m\u001b[0m\n\u001b[0m\u001b[1;32m    221\u001b[0m                     \u001b[0;31m# print(\"memory usage:\", cutorch.memory_allocated(0))\u001b[0m\u001b[0;34m\u001b[0m\u001b[0;34m\u001b[0m\u001b[0;34m\u001b[0m\u001b[0m\n\u001b[1;32m    222\u001b[0m \u001b[0;31m#                     self.val_losses.append(val_loss)\u001b[0m\u001b[0;34m\u001b[0m\u001b[0;34m\u001b[0m\u001b[0;34m\u001b[0m\u001b[0m\n",
      "\u001b[0;32m/storage/AdversarialRobustness/BaseModels.py\u001b[0m in \u001b[0;36mvalidation\u001b[0;34m(self, X, y, attack, alpha, attack_iters, restarts, y_pred)\u001b[0m\n\u001b[1;32m    236\u001b[0m             \u001b[0mX_adv\u001b[0m \u001b[0;34m=\u001b[0m \u001b[0mX\u001b[0m \u001b[0;34m+\u001b[0m \u001b[0mdelta\u001b[0m\u001b[0;34m\u001b[0m\u001b[0;34m\u001b[0m\u001b[0m\n\u001b[1;32m    237\u001b[0m             \u001b[0my_pred\u001b[0m \u001b[0;34m=\u001b[0m \u001b[0mself\u001b[0m\u001b[0;34m.\u001b[0m\u001b[0mmodel\u001b[0m\u001b[0;34m(\u001b[0m\u001b[0mX_adv\u001b[0m\u001b[0;34m)\u001b[0m\u001b[0;34m.\u001b[0m\u001b[0mdetach\u001b[0m\u001b[0;34m(\u001b[0m\u001b[0;34m)\u001b[0m\u001b[0;34m\u001b[0m\u001b[0;34m\u001b[0m\u001b[0m\n\u001b[0;32m--> 238\u001b[0;31m             \u001b[0maccuracy\u001b[0m \u001b[0;34m=\u001b[0m \u001b[0;34m(\u001b[0m\u001b[0my_pred\u001b[0m\u001b[0;34m.\u001b[0m\u001b[0mmax\u001b[0m\u001b[0;34m(\u001b[0m\u001b[0;36m1\u001b[0m\u001b[0;34m)\u001b[0m\u001b[0;34m[\u001b[0m\u001b[0;36m1\u001b[0m\u001b[0;34m]\u001b[0m \u001b[0;34m==\u001b[0m \u001b[0my\u001b[0m\u001b[0;34m)\u001b[0m\u001b[0;34m.\u001b[0m\u001b[0msum\u001b[0m\u001b[0;34m(\u001b[0m\u001b[0;34m)\u001b[0m\u001b[0;34m.\u001b[0m\u001b[0mitem\u001b[0m\u001b[0;34m(\u001b[0m\u001b[0;34m)\u001b[0m \u001b[0;34m/\u001b[0m \u001b[0mX_adv\u001b[0m\u001b[0;34m.\u001b[0m\u001b[0mshape\u001b[0m\u001b[0;34m[\u001b[0m\u001b[0;36m0\u001b[0m\u001b[0;34m]\u001b[0m\u001b[0;34m\u001b[0m\u001b[0;34m\u001b[0m\u001b[0m\n\u001b[0m\u001b[1;32m    239\u001b[0m             \u001b[0mloss\u001b[0m \u001b[0;34m=\u001b[0m \u001b[0mF\u001b[0m\u001b[0;34m.\u001b[0m\u001b[0mcross_entropy\u001b[0m\u001b[0;34m(\u001b[0m\u001b[0my_pred\u001b[0m\u001b[0;34m,\u001b[0m \u001b[0my\u001b[0m\u001b[0;34m)\u001b[0m\u001b[0;34m\u001b[0m\u001b[0;34m\u001b[0m\u001b[0m\n\u001b[1;32m    240\u001b[0m             \u001b[0mself\u001b[0m\u001b[0;34m.\u001b[0m\u001b[0madversarial_losses\u001b[0m\u001b[0;34m[\u001b[0m\u001b[0mi\u001b[0m\u001b[0;34m]\u001b[0m\u001b[0;34m.\u001b[0m\u001b[0mappend\u001b[0m\u001b[0;34m(\u001b[0m\u001b[0mloss\u001b[0m\u001b[0;34m)\u001b[0m\u001b[0;34m\u001b[0m\u001b[0;34m\u001b[0m\u001b[0m\n",
      "\u001b[0;31mKeyboardInterrupt\u001b[0m: "
     ]
    }
   ],
   "source": [
    "runMemlessCifarBoosting(10, 400, 1)"
   ]
  },
  {
   "cell_type": "code",
   "execution_count": null,
   "metadata": {},
   "outputs": [],
   "source": [
    "runMemlessCifarBoosting(200, 30)"
   ]
  },
  {
   "cell_type": "markdown",
   "metadata": {
    "id": "4b5mVEHSIvEr"
   },
   "source": [
    "# Method for incorporating Wong's method into boosting\n",
    "\n",
    "* Decision trees:\n",
    "  * Take the worst-case perturbation for each example\n",
    "  * Overall cost: summed cost of the worst-case perturbation on each example\n",
    "  * Apply schapire's update on cost matrix\n",
    "\n",
    "[ 1. 1. 1.  1. -(k - 1).  1. 1 ]\n",
    "\n",
    "* Neural networks\n",
    "  * Sample minibatches based on the sums of absolute values within each row\n",
    "  * Partition each minibatch into k groups\n",
    "    * Find which k has the largest associated cost for each example in the minibatch (by looking at the cost matrix)\n",
    "    * \n",
    "\n",
    "For each example:\n",
    "* Find the worst class\n",
    "[k1, k2, k3, .. km] = K\n",
    "\n",
    "randomly initizlize delta\n",
    "find cross_entropy(prediction(batch + delta), K)\n",
    "delta += alpha * sign(gradient)\n",
    "\n",
    "\n",
    "Cross-entropy loss:\n",
    "\n",
    "Cost matrix row:\n",
    "1 5 -2\n",
    "\n",
    "Prediction:\n",
    ".1 .8 .1\n",
    "Ideal prediction:\n",
    "0 0 1\n",
    "\n",
    "Decision tree prediction:\n",
    "0 1 0\n",
    "\n",
    "\n",
    "\n",
    "Steps to transform a row of the cost matrix:\n",
    "* negate\n",
    "* add such that the smallest elt. is 0\n",
    "* normalize (so the sum is 1)\n",
    "  * -1 -5 2\n",
    "  * 4 0 7\n",
    "  * .37 0 .63\n",
    "  * 0 1 0: bad\n"
   ]
  },
  {
   "cell_type": "code",
   "execution_count": null,
   "metadata": {
    "colab": {
     "base_uri": "https://localhost:8080/",
     "height": 105
    },
    "executionInfo": {
     "elapsed": 475,
     "status": "ok",
     "timestamp": 1601322923832,
     "user": {
      "displayName": "Arvind Ramaswami",
      "photoUrl": "https://lh3.googleusercontent.com/a-/AOh14GhCToZz1V7dN1-PL412MOUMJZmjfc2ByI1f8fvFCg=s64",
      "userId": "09700302051413106294"
     },
     "user_tz": 240
    },
    "id": "_Ral1aLCQma8",
    "outputId": "c66b116e-b0c9-436c-fc52-90f5f18a94b3"
   },
   "outputs": [
    {
     "name": "stdout",
     "output_type": "stream",
     "text": [
      "costs:\n",
      "tensor(1.1814) tensor(1.5514) tensor(0.9214)\n"
     ]
    },
    {
     "name": "stderr",
     "output_type": "stream",
     "text": [
      "/usr/local/lib/python3.6/dist-packages/ipykernel_launcher.py:4: UserWarning: Implicit dimension choice for log_softmax has been deprecated. Change the call to include dim=X as an argument.\n",
      "  after removing the cwd from sys.path.\n"
     ]
    }
   ],
   "source": [
    "import torch\n",
    "def cross_entropy(pred, soft_targets):\n",
    "  logsoftmax = nn.LogSoftmax()\n",
    "  return torch.mean(torch.sum(- soft_targets * logsoftmax(pred), 1))\n",
    "\n",
    "costs = torch.tensor([[.37, 0., .63]])\n",
    "\n",
    "pred1 = torch.tensor([[1., 0., 0.]])\n",
    "pred2 = torch.tensor([[0., 1., 0.]])\n",
    "pred3 = torch.tensor([[0., 0., 1.]])\n",
    "print(\"costs:\")\n",
    "print(cross_entropy(pred1, costs), cross_entropy(pred2, costs), cross_entropy(pred3, costs))"
   ]
  },
  {
   "cell_type": "code",
   "execution_count": null,
   "metadata": {
    "colab": {
     "base_uri": "https://localhost:8080/",
     "height": 34
    },
    "executionInfo": {
     "elapsed": 327,
     "status": "ok",
     "timestamp": 1601323216815,
     "user": {
      "displayName": "Arvind Ramaswami",
      "photoUrl": "https://lh3.googleusercontent.com/a-/AOh14GhCToZz1V7dN1-PL412MOUMJZmjfc2ByI1f8fvFCg=s64",
      "userId": "09700302051413106294"
     },
     "user_tz": 240
    },
    "id": "EeiWmJk8RDCb",
    "outputId": "9a8205aa-d88e-4a8f-e6fc-20fef66bb556"
   },
   "outputs": [
    {
     "name": "stdout",
     "output_type": "stream",
     "text": [
      "[4.73847131e-02 8.67881295e-04 9.51747406e-01]\n"
     ]
    }
   ],
   "source": [
    "from scipy.special import softmax\n",
    "costs = np.array([1., 5., -2.])\n",
    "negated = costs * -1.\n",
    "softmax = softmax(negated)\n",
    "print(softmax)"
   ]
  }
 ],
 "metadata": {
  "accelerator": "GPU",
  "colab": {
   "collapsed_sections": [],
   "machine_shape": "hm",
   "name": "WongImplementationTestBench.ipynb",
   "provenance": [],
   "toc_visible": true
  },
  "kernelspec": {
   "display_name": "Python 3",
   "language": "python",
   "name": "python3"
  },
  "language_info": {
   "codemirror_mode": {
    "name": "ipython",
    "version": 3
   },
   "file_extension": ".py",
   "mimetype": "text/x-python",
   "name": "python",
   "nbconvert_exporter": "python",
   "pygments_lexer": "ipython3",
   "version": "3.6.8"
  },
  "widgets": {
   "application/vnd.jupyter.widget-state+json": {
    "0ae4c083be744ab0963b6d7cfed7c2dd": {
     "model_module": "@jupyter-widgets/controls",
     "model_name": "FloatProgressModel",
     "state": {
      "_dom_classes": [],
      "_model_module": "@jupyter-widgets/controls",
      "_model_module_version": "1.5.0",
      "_model_name": "FloatProgressModel",
      "_view_count": null,
      "_view_module": "@jupyter-widgets/controls",
      "_view_module_version": "1.5.0",
      "_view_name": "ProgressView",
      "bar_style": "info",
      "description": "",
      "description_tooltip": null,
      "layout": "IPY_MODEL_9f5ffb0fc5f64d88a598c04d3f1f939d",
      "max": 1,
      "min": 0,
      "orientation": "horizontal",
      "style": "IPY_MODEL_53da9eb218844a5591a6c3e9e9a97440",
      "value": 1
     }
    },
    "36f34adb14594f2cad9cff5c26a7a55f": {
     "model_module": "@jupyter-widgets/controls",
     "model_name": "DescriptionStyleModel",
     "state": {
      "_model_module": "@jupyter-widgets/controls",
      "_model_module_version": "1.5.0",
      "_model_name": "DescriptionStyleModel",
      "_view_count": null,
      "_view_module": "@jupyter-widgets/base",
      "_view_module_version": "1.2.0",
      "_view_name": "StyleView",
      "description_width": ""
     }
    },
    "53da9eb218844a5591a6c3e9e9a97440": {
     "model_module": "@jupyter-widgets/controls",
     "model_name": "ProgressStyleModel",
     "state": {
      "_model_module": "@jupyter-widgets/controls",
      "_model_module_version": "1.5.0",
      "_model_name": "ProgressStyleModel",
      "_view_count": null,
      "_view_module": "@jupyter-widgets/base",
      "_view_module_version": "1.2.0",
      "_view_name": "StyleView",
      "bar_color": null,
      "description_width": "initial"
     }
    },
    "5b46890137a641d18067859d54c27266": {
     "model_module": "@jupyter-widgets/base",
     "model_name": "LayoutModel",
     "state": {
      "_model_module": "@jupyter-widgets/base",
      "_model_module_version": "1.2.0",
      "_model_name": "LayoutModel",
      "_view_count": null,
      "_view_module": "@jupyter-widgets/base",
      "_view_module_version": "1.2.0",
      "_view_name": "LayoutView",
      "align_content": null,
      "align_items": null,
      "align_self": null,
      "border": null,
      "bottom": null,
      "display": null,
      "flex": null,
      "flex_flow": null,
      "grid_area": null,
      "grid_auto_columns": null,
      "grid_auto_flow": null,
      "grid_auto_rows": null,
      "grid_column": null,
      "grid_gap": null,
      "grid_row": null,
      "grid_template_areas": null,
      "grid_template_columns": null,
      "grid_template_rows": null,
      "height": null,
      "justify_content": null,
      "justify_items": null,
      "left": null,
      "margin": null,
      "max_height": null,
      "max_width": null,
      "min_height": null,
      "min_width": null,
      "object_fit": null,
      "object_position": null,
      "order": null,
      "overflow": null,
      "overflow_x": null,
      "overflow_y": null,
      "padding": null,
      "right": null,
      "top": null,
      "visibility": null,
      "width": null
     }
    },
    "62c83eece24247cba4ac8e6f4f417939": {
     "model_module": "@jupyter-widgets/controls",
     "model_name": "HBoxModel",
     "state": {
      "_dom_classes": [],
      "_model_module": "@jupyter-widgets/controls",
      "_model_module_version": "1.5.0",
      "_model_name": "HBoxModel",
      "_view_count": null,
      "_view_module": "@jupyter-widgets/controls",
      "_view_module_version": "1.5.0",
      "_view_name": "HBoxView",
      "box_style": "",
      "children": [
       "IPY_MODEL_0ae4c083be744ab0963b6d7cfed7c2dd",
       "IPY_MODEL_d8c122dbca95453eb8d75ab96903dda1"
      ],
      "layout": "IPY_MODEL_67f248b4047f484796cd95137937eca5"
     }
    },
    "67f248b4047f484796cd95137937eca5": {
     "model_module": "@jupyter-widgets/base",
     "model_name": "LayoutModel",
     "state": {
      "_model_module": "@jupyter-widgets/base",
      "_model_module_version": "1.2.0",
      "_model_name": "LayoutModel",
      "_view_count": null,
      "_view_module": "@jupyter-widgets/base",
      "_view_module_version": "1.2.0",
      "_view_name": "LayoutView",
      "align_content": null,
      "align_items": null,
      "align_self": null,
      "border": null,
      "bottom": null,
      "display": null,
      "flex": null,
      "flex_flow": null,
      "grid_area": null,
      "grid_auto_columns": null,
      "grid_auto_flow": null,
      "grid_auto_rows": null,
      "grid_column": null,
      "grid_gap": null,
      "grid_row": null,
      "grid_template_areas": null,
      "grid_template_columns": null,
      "grid_template_rows": null,
      "height": null,
      "justify_content": null,
      "justify_items": null,
      "left": null,
      "margin": null,
      "max_height": null,
      "max_width": null,
      "min_height": null,
      "min_width": null,
      "object_fit": null,
      "object_position": null,
      "order": null,
      "overflow": null,
      "overflow_x": null,
      "overflow_y": null,
      "padding": null,
      "right": null,
      "top": null,
      "visibility": null,
      "width": null
     }
    },
    "9f5ffb0fc5f64d88a598c04d3f1f939d": {
     "model_module": "@jupyter-widgets/base",
     "model_name": "LayoutModel",
     "state": {
      "_model_module": "@jupyter-widgets/base",
      "_model_module_version": "1.2.0",
      "_model_name": "LayoutModel",
      "_view_count": null,
      "_view_module": "@jupyter-widgets/base",
      "_view_module_version": "1.2.0",
      "_view_name": "LayoutView",
      "align_content": null,
      "align_items": null,
      "align_self": null,
      "border": null,
      "bottom": null,
      "display": null,
      "flex": null,
      "flex_flow": null,
      "grid_area": null,
      "grid_auto_columns": null,
      "grid_auto_flow": null,
      "grid_auto_rows": null,
      "grid_column": null,
      "grid_gap": null,
      "grid_row": null,
      "grid_template_areas": null,
      "grid_template_columns": null,
      "grid_template_rows": null,
      "height": null,
      "justify_content": null,
      "justify_items": null,
      "left": null,
      "margin": null,
      "max_height": null,
      "max_width": null,
      "min_height": null,
      "min_width": null,
      "object_fit": null,
      "object_position": null,
      "order": null,
      "overflow": null,
      "overflow_x": null,
      "overflow_y": null,
      "padding": null,
      "right": null,
      "top": null,
      "visibility": null,
      "width": null
     }
    },
    "d8c122dbca95453eb8d75ab96903dda1": {
     "model_module": "@jupyter-widgets/controls",
     "model_name": "HTMLModel",
     "state": {
      "_dom_classes": [],
      "_model_module": "@jupyter-widgets/controls",
      "_model_module_version": "1.5.0",
      "_model_name": "HTMLModel",
      "_view_count": null,
      "_view_module": "@jupyter-widgets/controls",
      "_view_module_version": "1.5.0",
      "_view_name": "HTMLView",
      "description": "",
      "description_tooltip": null,
      "layout": "IPY_MODEL_5b46890137a641d18067859d54c27266",
      "placeholder": "​",
      "style": "IPY_MODEL_36f34adb14594f2cad9cff5c26a7a55f",
      "value": " 170500096/? [00:20&lt;00:00, 31766755.65it/s]"
     }
    }
   }
  }
 },
 "nbformat": 4,
 "nbformat_minor": 4
}
