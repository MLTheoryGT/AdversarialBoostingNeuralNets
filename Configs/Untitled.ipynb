{
 "cells": [
  {
   "cell_type": "code",
   "execution_count": null,
   "id": "electronic-lemon",
   "metadata": {},
   "outputs": [],
   "source": [
    "class SnapshotEnsembleScheduler:\n",
    "    def __init__(self, opt, T, M, a0):\n",
    "        self.opt = opt\n",
    "        self.T = T\n",
    "        self.M = M\n",
    "        self.t = 0\n",
    "        self.lastLR = None\n",
    "        self.a0 = a0\n",
    "\n",
    "    def step(self):\n",
    "        newLR = self.a0/2*(np.cos((np.pi*((self.t - 1) % np.ceil(self.T/self.M)))/ np.ceil(self.T/self.M)) + 1)\n",
    "\n",
    "        for g in self.opt.param_groups:\n",
    "            g['lr'] = newLR\n",
    "\n",
    "        self.lastLR = newLR\n",
    "\n",
    "        self.t+=1\n",
    "\n",
    "\n",
    "    def get_last_lr(self):\n",
    "        return self.lastLR\n",
    "\n",
    "    def snapshot():\n",
    "        return self.t % np.ceil(self.T/self.M) == 0"
   ]
  }
 ],
 "metadata": {
  "kernelspec": {
   "display_name": "Python 3",
   "language": "python",
   "name": "python3"
  },
  "language_info": {
   "codemirror_mode": {
    "name": "ipython",
    "version": 3
   },
   "file_extension": ".py",
   "mimetype": "text/x-python",
   "name": "python",
   "nbconvert_exporter": "python",
   "pygments_lexer": "ipython3",
   "version": "3.8.5"
  }
 },
 "nbformat": 4,
 "nbformat_minor": 5
}
