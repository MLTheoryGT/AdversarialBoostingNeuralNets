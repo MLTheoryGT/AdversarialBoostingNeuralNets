{
 "cells": [
  {
   "cell_type": "code",
   "execution_count": 1,
   "metadata": {},
   "outputs": [
    {
     "name": "stdout",
     "output_type": "stream",
     "text": [
      "Requirement already satisfied: pytorch_memlab in /usr/local/lib/python3.6/dist-packages (from -r requirements.txt (line 1)) (0.2.2)\n",
      "Requirement already satisfied: calmsize in /usr/local/lib/python3.6/dist-packages (from pytorch_memlab->-r requirements.txt (line 1)) (0.1.3)\n",
      "Requirement already satisfied: pandas>=0.18 in /usr/local/lib/python3.6/dist-packages (from pytorch_memlab->-r requirements.txt (line 1)) (0.25.0)\n",
      "Requirement already satisfied: setuptools in /usr/local/lib/python3.6/dist-packages (from pytorch_memlab->-r requirements.txt (line 1)) (41.0.1)\n",
      "Requirement already satisfied: torch>=1.4 in /usr/local/lib/python3.6/dist-packages (from pytorch_memlab->-r requirements.txt (line 1)) (1.7.0)\n",
      "Requirement already satisfied: pytz>=2017.2 in /usr/local/lib/python3.6/dist-packages (from pandas>=0.18->pytorch_memlab->-r requirements.txt (line 1)) (2019.2)\n",
      "Requirement already satisfied: python-dateutil>=2.6.1 in /usr/local/lib/python3.6/dist-packages (from pandas>=0.18->pytorch_memlab->-r requirements.txt (line 1)) (2.8.0)\n",
      "Requirement already satisfied: numpy>=1.13.3 in /usr/local/lib/python3.6/dist-packages (from pandas>=0.18->pytorch_memlab->-r requirements.txt (line 1)) (1.17.0)\n",
      "Requirement already satisfied: future in /usr/local/lib/python3.6/dist-packages (from torch>=1.4->pytorch_memlab->-r requirements.txt (line 1)) (0.17.1)\n",
      "Requirement already satisfied: typing-extensions in /usr/local/lib/python3.6/dist-packages (from torch>=1.4->pytorch_memlab->-r requirements.txt (line 1)) (3.7.4.3)\n",
      "Requirement already satisfied: dataclasses in /usr/local/lib/python3.6/dist-packages (from torch>=1.4->pytorch_memlab->-r requirements.txt (line 1)) (0.7)\n",
      "Requirement already satisfied: six>=1.5 in /usr/local/lib/python3.6/dist-packages (from python-dateutil>=2.6.1->pandas>=0.18->pytorch_memlab->-r requirements.txt (line 1)) (1.12.0)\n",
      "\u001b[33mWARNING: You are using pip version 19.2.1, however version 21.0 is available.\n",
      "You should consider upgrading via the 'pip install --upgrade pip' command.\u001b[0m\n"
     ]
    }
   ],
   "source": [
    "!pip install -r requirements.txt"
   ]
  },
  {
   "cell_type": "code",
   "execution_count": 2,
   "metadata": {},
   "outputs": [],
   "source": [
    "from __future__ import print_function\n",
    "import torch\n",
    "from torchvision import datasets, transforms\n",
    "import numpy as np\n",
    "from WeakLearners import WongNeuralNetCIFAR10\n",
    "import matplotlib.pyplot as plt\n"
   ]
  },
  {
   "cell_type": "code",
   "execution_count": 3,
   "metadata": {},
   "outputs": [],
   "source": [
    "from Boosting import runBoosting"
   ]
  },
  {
   "cell_type": "code",
   "execution_count": 4,
   "metadata": {},
   "outputs": [],
   "source": [
    "import utils"
   ]
  },
  {
   "cell_type": "code",
   "execution_count": 5,
   "metadata": {},
   "outputs": [],
   "source": [
    "cuda = torch.device('cuda:0')"
   ]
  },
  {
   "cell_type": "markdown",
   "metadata": {},
   "source": [
    "# Vanilla Wong Neural Net CIFAR10"
   ]
  },
  {
   "cell_type": "code",
   "execution_count": 6,
   "metadata": {},
   "outputs": [
    {
     "name": "stdout",
     "output_type": "stream",
     "text": [
      "Files already downloaded and verified\n",
      "Files already downloaded and verified\n"
     ]
    }
   ],
   "source": [
    "transform_train = transforms.Compose([\n",
    "    transforms.RandomCrop(32, padding=4),\n",
    "    transforms.RandomHorizontalFlip(),\n",
    "    transforms.ToTensor(),\n",
    "    transforms.Normalize((0.4914, 0.4822, 0.4465), (0.2023, 0.1994, 0.2010)),\n",
    "])\n",
    "\n",
    "# Normalize the test set same as training set without augmentation\n",
    "transform_test = transforms.Compose([\n",
    "    transforms.ToTensor(),\n",
    "    transforms.Normalize((0.4914, 0.4822, 0.4465), (0.2023, 0.1994, 0.2010)),\n",
    "])\n",
    "\n",
    "trainset = datasets.CIFAR10(\n",
    "    root=\"./data\", train=True, download=True, transform=transform_train)\n",
    "train_loader = torch.utils.data.DataLoader(\n",
    "    trainset, batch_size=100, shuffle=True, num_workers=2)\n",
    "\n",
    "testset = datasets.CIFAR10(\n",
    "    root=\"./data\", train=False, download=True, transform=transform_test)\n",
    "test_loader = torch.utils.data.DataLoader(\n",
    "    testset, batch_size=300, shuffle=True, num_workers=2)"
   ]
  },
  {
   "cell_type": "markdown",
   "metadata": {},
   "source": [
    "## Non Adv"
   ]
  },
  {
   "cell_type": "code",
   "execution_count": 6,
   "metadata": {
    "scrolled": true
   },
   "outputs": [
    {
     "ename": "NameError",
     "evalue": "name 'train_loader' is not defined",
     "output_type": "error",
     "traceback": [
      "\u001b[0;31m---------------------------------------------------------------------------\u001b[0m",
      "\u001b[0;31mNameError\u001b[0m                                 Traceback (most recent call last)",
      "\u001b[0;32m<ipython-input-6-6fe3b80b57f2>\u001b[0m in \u001b[0;36m<module>\u001b[0;34m\u001b[0m\n\u001b[1;32m      1\u001b[0m \u001b[0mcifar10_vanilla\u001b[0m \u001b[0;34m=\u001b[0m \u001b[0mWongNeuralNetCIFAR10\u001b[0m\u001b[0;34m(\u001b[0m\u001b[0;34m)\u001b[0m\u001b[0;34m\u001b[0m\u001b[0;34m\u001b[0m\u001b[0m\n\u001b[0;32m----> 2\u001b[0;31m \u001b[0mcifar10_vanilla\u001b[0m\u001b[0;34m.\u001b[0m\u001b[0mfit\u001b[0m\u001b[0;34m(\u001b[0m\u001b[0mtrain_loader\u001b[0m\u001b[0;34m,\u001b[0m \u001b[0mtest_loader\u001b[0m\u001b[0;34m,\u001b[0m \u001b[0malpha\u001b[0m \u001b[0;34m=\u001b[0m \u001b[0;36m0\u001b[0m\u001b[0;34m,\u001b[0m \u001b[0mepochs\u001b[0m \u001b[0;34m=\u001b[0m \u001b[0;36m100\u001b[0m\u001b[0;34m,\u001b[0m \u001b[0madv\u001b[0m\u001b[0;34m=\u001b[0m\u001b[0;32mFalse\u001b[0m\u001b[0;34m,\u001b[0m \u001b[0mepsilon\u001b[0m\u001b[0;34m=\u001b[0m\u001b[0;36m0\u001b[0m\u001b[0;34m)\u001b[0m\u001b[0;34m\u001b[0m\u001b[0;34m\u001b[0m\u001b[0m\n\u001b[0m",
      "\u001b[0;31mNameError\u001b[0m: name 'train_loader' is not defined"
     ]
    }
   ],
   "source": [
    "cifar10_vanilla = WongNeuralNetCIFAR10()\n",
    "cifar10_vanilla.fit(train_loader, test_loader, alpha = 0, epochs = 100, adv=False, epsilon=0)"
   ]
  },
  {
   "cell_type": "code",
   "execution_count": null,
   "metadata": {},
   "outputs": [],
   "source": [
    "cifar10_vanilla.plot_train(batchSize = 100)"
   ]
  },
  {
   "cell_type": "code",
   "execution_count": null,
   "metadata": {},
   "outputs": [],
   "source": [
    "cifar10_vanilla.plot_val_accuracies(batchSize = 100)"
   ]
  },
  {
   "cell_type": "code",
   "execution_count": null,
   "metadata": {},
   "outputs": [],
   "source": [
    "print(cifar10_vanilla)"
   ]
  },
  {
   "cell_type": "markdown",
   "metadata": {},
   "source": [
    "## Adversarial"
   ]
  },
  {
   "cell_type": "code",
   "execution_count": 7,
   "metadata": {},
   "outputs": [],
   "source": [
    "from AdversarialAttacks import attack_fgsm"
   ]
  },
  {
   "cell_type": "code",
   "execution_count": 8,
   "metadata": {},
   "outputs": [],
   "source": [
    "maxSamples = int(2e5)"
   ]
  },
  {
   "cell_type": "code",
   "execution_count": 9,
   "metadata": {
    "scrolled": true
   },
   "outputs": [
    {
     "name": "stdout",
     "output_type": "stream",
     "text": [
      "adv_train: True\n",
      "Epoch 0\n",
      "about to record accs [<function attack_fgsm at 0x7f15a52e6f28>]\n",
      "about to attack <function attack_fgsm at 0x7f15a52e6f28>\n",
      "losses, accs {'val': 2.0935981273651123, <function attack_fgsm at 0x7f15a52e6f28>: [2.1246731281280518, 2.1538662910461426, 2.231489658355713, 2.3335676193237305]} {'val': 0.25333333333333335, <function attack_fgsm at 0x7f15a52e6f28>: [0.22, 0.19, 0.11, 0.03333333333333333]}\n",
      "Val accuracy: 0.25333333333333335\n",
      "Progress: 10000,  val accuracy: 0.2533\n",
      "about to record accs [<function attack_fgsm at 0x7f15a52e6f28>]\n",
      "about to attack <function attack_fgsm at 0x7f15a52e6f28>\n",
      "losses, accs {'val': 1.9943435192108154, <function attack_fgsm at 0x7f15a52e6f28>: [2.011516571044922, 2.028430223464966, 2.0775139331817627, 2.154104709625244]} {'val': 0.27666666666666667, <function attack_fgsm at 0x7f15a52e6f28>: [0.24666666666666667, 0.23333333333333334, 0.2, 0.16333333333333333]}\n",
      "Val accuracy: 0.27666666666666667\n",
      "Progress: 20000,  val accuracy: 0.2767\n",
      "about to record accs [<function attack_fgsm at 0x7f15a52e6f28>]\n",
      "about to attack <function attack_fgsm at 0x7f15a52e6f28>\n",
      "losses, accs {'val': 1.856352686882019, <function attack_fgsm at 0x7f15a52e6f28>: [1.8735325336456299, 1.8906724452972412, 1.941798448562622, 2.025742292404175]} {'val': 0.36, <function attack_fgsm at 0x7f15a52e6f28>: [0.3466666666666667, 0.33666666666666667, 0.29, 0.20666666666666667]}\n",
      "Val accuracy: 0.36\n",
      "Progress: 30000,  val accuracy: 0.3600\n",
      "about to record accs [<function attack_fgsm at 0x7f15a52e6f28>]\n",
      "about to attack <function attack_fgsm at 0x7f15a52e6f28>\n",
      "losses, accs {'val': 1.7806684970855713, <function attack_fgsm at 0x7f15a52e6f28>: [1.7997344732284546, 1.8189691305160522, 1.8776429891586304, 1.9775618314743042]} {'val': 0.3333333333333333, <function attack_fgsm at 0x7f15a52e6f28>: [0.3233333333333333, 0.32, 0.28, 0.25333333333333335]}\n",
      "Val accuracy: 0.3333333333333333\n",
      "Progress: 40000,  val accuracy: 0.3333\n",
      "about to record accs [<function attack_fgsm at 0x7f15a52e6f28>]\n",
      "about to attack <function attack_fgsm at 0x7f15a52e6f28>\n",
      "losses, accs {'val': 1.6712391376495361, <function attack_fgsm at 0x7f15a52e6f28>: [1.6911990642547607, 1.7113990783691406, 1.7732163667678833, 1.8792791366577148]} {'val': 0.41333333333333333, <function attack_fgsm at 0x7f15a52e6f28>: [0.3933333333333333, 0.38333333333333336, 0.3466666666666667, 0.2833333333333333]}\n",
      "Val accuracy: 0.41333333333333333\n",
      "Progress: 50000,  val accuracy: 0.4133\n",
      "Epoch 1\n"
     ]
    },
    {
     "name": "stderr",
     "output_type": "stream",
     "text": [
      "/usr/local/lib/python3.6/dist-packages/torch/optim/lr_scheduler.py:893: UserWarning: To get the last learning rate computed by the scheduler, please use `get_last_lr()`.\n",
      "  \"please use `get_last_lr()`.\", UserWarning)\n"
     ]
    },
    {
     "name": "stdout",
     "output_type": "stream",
     "text": [
      "about to record accs [<function attack_fgsm at 0x7f15a52e6f28>]\n",
      "about to attack <function attack_fgsm at 0x7f15a52e6f28>\n",
      "losses, accs {'val': 1.6719495058059692, <function attack_fgsm at 0x7f15a52e6f28>: [1.6920186281204224, 1.712327241897583, 1.7744935750961304, 1.8815258741378784]} {'val': 0.4, <function attack_fgsm at 0x7f15a52e6f28>: [0.3933333333333333, 0.37666666666666665, 0.35333333333333333, 0.29]}\n",
      "Val accuracy: 0.4\n",
      "Progress: 60000,  val accuracy: 0.4000\n",
      "about to record accs [<function attack_fgsm at 0x7f15a52e6f28>]\n",
      "about to attack <function attack_fgsm at 0x7f15a52e6f28>\n",
      "losses, accs {'val': 1.6354893445968628, <function attack_fgsm at 0x7f15a52e6f28>: [1.6564799547195435, 1.6777496337890625, 1.7431148290634155, 1.8563958406448364]} {'val': 0.43, <function attack_fgsm at 0x7f15a52e6f28>: [0.41, 0.39666666666666667, 0.36666666666666664, 0.29333333333333333]}\n",
      "Val accuracy: 0.43\n",
      "Progress: 70000,  val accuracy: 0.4300\n",
      "about to record accs [<function attack_fgsm at 0x7f15a52e6f28>]\n",
      "about to attack <function attack_fgsm at 0x7f15a52e6f28>\n",
      "losses, accs {'val': 1.5806334018707275, <function attack_fgsm at 0x7f15a52e6f28>: [1.6022508144378662, 1.6241581439971924, 1.6913872957229614, 1.8076465129852295]} {'val': 0.44, <function attack_fgsm at 0x7f15a52e6f28>: [0.43333333333333335, 0.4266666666666667, 0.4, 0.36]}\n",
      "Val accuracy: 0.44\n",
      "Progress: 80000,  val accuracy: 0.4400\n",
      "about to record accs [<function attack_fgsm at 0x7f15a52e6f28>]\n",
      "about to attack <function attack_fgsm at 0x7f15a52e6f28>\n",
      "losses, accs {'val': 1.5103378295898438, <function attack_fgsm at 0x7f15a52e6f28>: [1.533573865890503, 1.557207703590393, 1.6303915977478027, 1.7590559720993042]} {'val': 0.4666666666666667, <function attack_fgsm at 0x7f15a52e6f28>: [0.45, 0.44666666666666666, 0.4166666666666667, 0.3433333333333333]}\n",
      "Val accuracy: 0.4666666666666667\n",
      "Progress: 90000,  val accuracy: 0.4667\n",
      "about to record accs [<function attack_fgsm at 0x7f15a52e6f28>]\n",
      "about to attack <function attack_fgsm at 0x7f15a52e6f28>\n",
      "losses, accs {'val': 1.5385991334915161, <function attack_fgsm at 0x7f15a52e6f28>: [1.5628385543823242, 1.5874664783477783, 1.6633399724960327, 1.7952935695648193]} {'val': 0.44, <function attack_fgsm at 0x7f15a52e6f28>: [0.41, 0.4, 0.36, 0.2966666666666667]}\n",
      "Val accuracy: 0.44\n",
      "Progress: 100000,  val accuracy: 0.4400\n",
      "Epoch 2\n",
      "about to record accs [<function attack_fgsm at 0x7f15a52e6f28>]\n",
      "about to attack <function attack_fgsm at 0x7f15a52e6f28>\n",
      "losses, accs {'val': 1.4984833002090454, <function attack_fgsm at 0x7f15a52e6f28>: [1.5234007835388184, 1.5487149953842163, 1.6267861127853394, 1.7624658346176147]} {'val': 0.4533333333333333, <function attack_fgsm at 0x7f15a52e6f28>: [0.43333333333333335, 0.4166666666666667, 0.38666666666666666, 0.3233333333333333]}\n",
      "Val accuracy: 0.4533333333333333\n",
      "Progress: 110000,  val accuracy: 0.4533\n",
      "about to record accs [<function attack_fgsm at 0x7f15a52e6f28>]\n",
      "about to attack <function attack_fgsm at 0x7f15a52e6f28>\n",
      "losses, accs {'val': 1.4586715698242188, <function attack_fgsm at 0x7f15a52e6f28>: [1.4841163158416748, 1.5100045204162598, 1.5901702642440796, 1.7308533191680908]} {'val': 0.4666666666666667, <function attack_fgsm at 0x7f15a52e6f28>: [0.45, 0.44333333333333336, 0.37666666666666665, 0.33]}\n",
      "Val accuracy: 0.4666666666666667\n",
      "Progress: 120000,  val accuracy: 0.4667\n",
      "about to record accs [<function attack_fgsm at 0x7f15a52e6f28>]\n",
      "about to attack <function attack_fgsm at 0x7f15a52e6f28>\n",
      "losses, accs {'val': 1.4140435457229614, <function attack_fgsm at 0x7f15a52e6f28>: [1.440813422203064, 1.4680935144424438, 1.55267333984375, 1.7008774280548096]} {'val': 0.4866666666666667, <function attack_fgsm at 0x7f15a52e6f28>: [0.4766666666666667, 0.46, 0.42, 0.35333333333333333]}\n",
      "Val accuracy: 0.4866666666666667\n",
      "Progress: 130000,  val accuracy: 0.4867\n",
      "about to record accs [<function attack_fgsm at 0x7f15a52e6f28>]\n",
      "about to attack <function attack_fgsm at 0x7f15a52e6f28>\n",
      "losses, accs {'val': 1.422645926475525, <function attack_fgsm at 0x7f15a52e6f28>: [1.451645016670227, 1.481105089187622, 1.5719746351242065, 1.7296173572540283]} {'val': 0.4766666666666667, <function attack_fgsm at 0x7f15a52e6f28>: [0.4666666666666667, 0.44333333333333336, 0.4, 0.31666666666666665]}\n",
      "Val accuracy: 0.4766666666666667\n",
      "Progress: 140000,  val accuracy: 0.4767\n",
      "about to record accs [<function attack_fgsm at 0x7f15a52e6f28>]\n",
      "about to attack <function attack_fgsm at 0x7f15a52e6f28>\n",
      "losses, accs {'val': 1.4228146076202393, <function attack_fgsm at 0x7f15a52e6f28>: [1.451219916343689, 1.4800678491592407, 1.5691344738006592, 1.7234874963760376]} {'val': 0.51, <function attack_fgsm at 0x7f15a52e6f28>: [0.4866666666666667, 0.4866666666666667, 0.44333333333333336, 0.3433333333333333]}\n",
      "Val accuracy: 0.51\n",
      "Progress: 150000,  val accuracy: 0.5100\n",
      "Epoch 3\n",
      "about to record accs [<function attack_fgsm at 0x7f15a52e6f28>]\n",
      "about to attack <function attack_fgsm at 0x7f15a52e6f28>\n",
      "losses, accs {'val': 1.3640899658203125, <function attack_fgsm at 0x7f15a52e6f28>: [1.3935387134552002, 1.423521876335144, 1.5161948204040527, 1.6767948865890503]} {'val': 0.52, <function attack_fgsm at 0x7f15a52e6f28>: [0.5166666666666667, 0.49, 0.42, 0.3433333333333333]}\n",
      "Val accuracy: 0.52\n",
      "Progress: 160000,  val accuracy: 0.5200\n",
      "about to record accs [<function attack_fgsm at 0x7f15a52e6f28>]\n",
      "about to attack <function attack_fgsm at 0x7f15a52e6f28>\n",
      "losses, accs {'val': 1.3305563926696777, <function attack_fgsm at 0x7f15a52e6f28>: [1.3607993125915527, 1.3916248083114624, 1.48702871799469, 1.6528998613357544]} {'val': 0.52, <function attack_fgsm at 0x7f15a52e6f28>: [0.5, 0.49333333333333335, 0.44, 0.36]}\n",
      "Val accuracy: 0.52\n",
      "Progress: 170000,  val accuracy: 0.5200\n",
      "about to record accs [<function attack_fgsm at 0x7f15a52e6f28>]\n",
      "about to attack <function attack_fgsm at 0x7f15a52e6f28>\n",
      "losses, accs {'val': 1.3350011110305786, <function attack_fgsm at 0x7f15a52e6f28>: [1.3653743267059326, 1.3963059186935425, 1.4920037984848022, 1.6581064462661743]} {'val': 0.53, <function attack_fgsm at 0x7f15a52e6f28>: [0.5166666666666667, 0.49666666666666665, 0.44333333333333336, 0.37333333333333335]}\n",
      "Val accuracy: 0.53\n",
      "Progress: 180000,  val accuracy: 0.5300\n",
      "about to record accs [<function attack_fgsm at 0x7f15a52e6f28>]\n",
      "about to attack <function attack_fgsm at 0x7f15a52e6f28>\n",
      "losses, accs {'val': 1.356293797492981, <function attack_fgsm at 0x7f15a52e6f28>: [1.3894906044006348, 1.4233529567718506, 1.528061866760254, 1.709689736366272]} {'val': 0.5233333333333333, <function attack_fgsm at 0x7f15a52e6f28>: [0.5133333333333333, 0.5033333333333333, 0.44333333333333336, 0.3566666666666667]}\n",
      "Val accuracy: 0.5233333333333333\n",
      "Progress: 190000,  val accuracy: 0.5233\n",
      "Total training time343.063458442688\n"
     ]
    }
   ],
   "source": [
    "cifar10_adv = WongNeuralNetCIFAR10(attack_eps=[0.01, 0.02, 0.05, 0.1])\n",
    "cifar10_adv.fit(train_loader, test_loader, adv_train=True, val_attacks=[attack_fgsm], maxSample=maxSamples)"
   ]
  },
  {
   "cell_type": "code",
   "execution_count": 10,
   "metadata": {
    "scrolled": true
   },
   "outputs": [
    {
     "data": {
      "text/plain": [
       "{'train': [0.22,\n",
       "  0.22,\n",
       "  0.33,\n",
       "  0.38,\n",
       "  0.44,\n",
       "  0.36,\n",
       "  0.32,\n",
       "  0.48,\n",
       "  0.52,\n",
       "  0.44,\n",
       "  0.45,\n",
       "  0.45,\n",
       "  0.43,\n",
       "  0.41,\n",
       "  0.52,\n",
       "  0.51,\n",
       "  0.49,\n",
       "  0.48,\n",
       "  0.5],\n",
       " 'val': [0.25333333333333335,\n",
       "  0.27666666666666667,\n",
       "  0.36,\n",
       "  0.3333333333333333,\n",
       "  0.41333333333333333,\n",
       "  0.4,\n",
       "  0.43,\n",
       "  0.44,\n",
       "  0.4666666666666667,\n",
       "  0.44,\n",
       "  0.4533333333333333,\n",
       "  0.4666666666666667,\n",
       "  0.4866666666666667,\n",
       "  0.4766666666666667,\n",
       "  0.51,\n",
       "  0.52,\n",
       "  0.52,\n",
       "  0.53,\n",
       "  0.5233333333333333],\n",
       " 'attack_fgsm': [[0.22,\n",
       "   0.24666666666666667,\n",
       "   0.3466666666666667,\n",
       "   0.3233333333333333,\n",
       "   0.3933333333333333,\n",
       "   0.3933333333333333,\n",
       "   0.41,\n",
       "   0.43333333333333335,\n",
       "   0.45,\n",
       "   0.41,\n",
       "   0.43333333333333335,\n",
       "   0.45,\n",
       "   0.4766666666666667,\n",
       "   0.4666666666666667,\n",
       "   0.4866666666666667,\n",
       "   0.5166666666666667,\n",
       "   0.5,\n",
       "   0.5166666666666667,\n",
       "   0.5133333333333333],\n",
       "  [0.19,\n",
       "   0.23333333333333334,\n",
       "   0.33666666666666667,\n",
       "   0.32,\n",
       "   0.38333333333333336,\n",
       "   0.37666666666666665,\n",
       "   0.39666666666666667,\n",
       "   0.4266666666666667,\n",
       "   0.44666666666666666,\n",
       "   0.4,\n",
       "   0.4166666666666667,\n",
       "   0.44333333333333336,\n",
       "   0.46,\n",
       "   0.44333333333333336,\n",
       "   0.4866666666666667,\n",
       "   0.49,\n",
       "   0.49333333333333335,\n",
       "   0.49666666666666665,\n",
       "   0.5033333333333333],\n",
       "  [0.11,\n",
       "   0.2,\n",
       "   0.29,\n",
       "   0.28,\n",
       "   0.3466666666666667,\n",
       "   0.35333333333333333,\n",
       "   0.36666666666666664,\n",
       "   0.4,\n",
       "   0.4166666666666667,\n",
       "   0.36,\n",
       "   0.38666666666666666,\n",
       "   0.37666666666666665,\n",
       "   0.42,\n",
       "   0.4,\n",
       "   0.44333333333333336,\n",
       "   0.42,\n",
       "   0.44,\n",
       "   0.44333333333333336,\n",
       "   0.44333333333333336],\n",
       "  [0.03333333333333333,\n",
       "   0.16333333333333333,\n",
       "   0.20666666666666667,\n",
       "   0.25333333333333335,\n",
       "   0.2833333333333333,\n",
       "   0.29,\n",
       "   0.29333333333333333,\n",
       "   0.36,\n",
       "   0.3433333333333333,\n",
       "   0.2966666666666667,\n",
       "   0.3233333333333333,\n",
       "   0.33,\n",
       "   0.35333333333333333,\n",
       "   0.31666666666666665,\n",
       "   0.3433333333333333,\n",
       "   0.3433333333333333,\n",
       "   0.36,\n",
       "   0.37333333333333335,\n",
       "   0.3566666666666667]],\n",
       " 'attack_pgd': []}"
      ]
     },
     "execution_count": 10,
     "metadata": {},
     "output_type": "execute_result"
    }
   ],
   "source": [
    "cifar10_adv.accuracies"
   ]
  },
  {
   "cell_type": "code",
   "execution_count": 11,
   "metadata": {},
   "outputs": [
    {
     "data": {
      "image/png": "[encoded data removed]",
      "text/plain": [
       "<Figure size 432x288 with 1 Axes>"
      ]
     },
     "metadata": {
      "needs_background": "light"
     },
     "output_type": "display_data"
    },
    {
     "data": {
      "image/png": "[encoded data removed]",
      "text/plain": [
       "<Figure size 432x288 with 1 Axes>"
      ]
     },
     "metadata": {
      "needs_background": "light"
     },
     "output_type": "display_data"
    },
    {
     "data": {
      "image/png": "[encoded data removed]",
      "text/plain": [
       "<Figure size 432x288 with 1 Axes>"
      ]
     },
     "metadata": {
      "needs_background": "light"
     },
     "output_type": "display_data"
    }
   ],
   "source": [
    "path_head = 'results/plots/cifar10_wl/'\n",
    "acc_file = path_head + f'wl_acc_maxSamples_{maxSamples}.png'\n",
    "adv_acc_file = path_head + f'adv_acc_maxSamples_{maxSamples}.png'\n",
    "loss_file = path_head + f'loss_maxSamples_{maxSamples}.png'\n",
    "cifar10_adv.plot_accuracies(acc_file)\n",
    "cifar10_adv.plot_loss(loss_file)\n",
    "cifar10_adv.plot_adversarial_accuracies(adv_acc_file)"
   ]
  },
  {
   "cell_type": "code",
   "execution_count": 12,
   "metadata": {},
   "outputs": [
    {
     "name": "stdout",
     "output_type": "stream",
     "text": [
      "[10000, 20000, 30000, 40000, 50000, 60000, 70000, 80000, 90000, 100000, 110000, 120000, 130000, 140000, 150000, 160000, 170000, 180000, 190000]\n"
     ]
    }
   ],
   "source": [
    "print(cifar10_adv.train_checkpoints)"
   ]
  },
  {
   "cell_type": "code",
   "execution_count": null,
   "metadata": {},
   "outputs": [],
   "source": []
  },
  {
   "cell_type": "code",
   "execution_count": null,
   "metadata": {},
   "outputs": [],
   "source": []
  }
 ],
 "metadata": {
  "kernelspec": {
   "display_name": "Python 3",
   "language": "python",
   "name": "python3"
  },
  "language_info": {
   "codemirror_mode": {
    "name": "ipython",
    "version": 3
   },
   "file_extension": ".py",
   "mimetype": "text/x-python",
   "name": "python",
   "nbconvert_exporter": "python",
   "pygments_lexer": "ipython3",
   "version": "3.6.8"
  }
 },
 "nbformat": 4,
 "nbformat_minor": 4
}
