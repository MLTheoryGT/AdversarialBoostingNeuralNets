{
 "cells": [
  {
   "cell_type": "code",
   "execution_count": 1,
   "metadata": {},
   "outputs": [
    {
     "name": "stdout",
     "output_type": "stream",
     "text": [
      "Requirement already satisfied: pytorch_memlab in /usr/local/lib/python3.6/dist-packages (from -r requirements.txt (line 1)) (0.2.2)\n",
      "Requirement already satisfied: pandas>=0.18 in /usr/local/lib/python3.6/dist-packages (from pytorch_memlab->-r requirements.txt (line 1)) (0.25.0)\n",
      "Requirement already satisfied: setuptools in /usr/local/lib/python3.6/dist-packages (from pytorch_memlab->-r requirements.txt (line 1)) (41.0.1)\n",
      "Requirement already satisfied: calmsize in /usr/local/lib/python3.6/dist-packages (from pytorch_memlab->-r requirements.txt (line 1)) (0.1.3)\n",
      "Requirement already satisfied: torch>=1.4 in /usr/local/lib/python3.6/dist-packages (from pytorch_memlab->-r requirements.txt (line 1)) (1.7.0)\n",
      "Requirement already satisfied: pytz>=2017.2 in /usr/local/lib/python3.6/dist-packages (from pandas>=0.18->pytorch_memlab->-r requirements.txt (line 1)) (2019.2)\n",
      "Requirement already satisfied: numpy>=1.13.3 in /usr/local/lib/python3.6/dist-packages (from pandas>=0.18->pytorch_memlab->-r requirements.txt (line 1)) (1.17.0)\n",
      "Requirement already satisfied: python-dateutil>=2.6.1 in /usr/local/lib/python3.6/dist-packages (from pandas>=0.18->pytorch_memlab->-r requirements.txt (line 1)) (2.8.0)\n",
      "Requirement already satisfied: dataclasses in /usr/local/lib/python3.6/dist-packages (from torch>=1.4->pytorch_memlab->-r requirements.txt (line 1)) (0.7)\n",
      "Requirement already satisfied: typing-extensions in /usr/local/lib/python3.6/dist-packages (from torch>=1.4->pytorch_memlab->-r requirements.txt (line 1)) (3.7.4.3)\n",
      "Requirement already satisfied: future in /usr/local/lib/python3.6/dist-packages (from torch>=1.4->pytorch_memlab->-r requirements.txt (line 1)) (0.17.1)\n",
      "Requirement already satisfied: six>=1.5 in /usr/local/lib/python3.6/dist-packages (from python-dateutil>=2.6.1->pandas>=0.18->pytorch_memlab->-r requirements.txt (line 1)) (1.12.0)\n",
      "\u001b[33mWARNING: You are using pip version 19.2.1, however version 21.0.1 is available.\n",
      "You should consider upgrading via the 'pip install --upgrade pip' command.\u001b[0m\n"
     ]
    }
   ],
   "source": [
    "!pip install -r requirements.txt"
   ]
  },
  {
   "cell_type": "code",
   "execution_count": 2,
   "metadata": {},
   "outputs": [],
   "source": [
    "from __future__ import print_function\n",
    "import torch\n",
    "from torchvision import datasets, transforms\n",
    "import numpy as np\n",
    "from WeakLearners import WongNeuralNetCIFAR10\n",
    "import matplotlib.pyplot as plt\n"
   ]
  },
  {
   "cell_type": "code",
   "execution_count": 3,
   "metadata": {},
   "outputs": [],
   "source": [
    "from Boosting import runBoosting"
   ]
  },
  {
   "cell_type": "code",
   "execution_count": 4,
   "metadata": {},
   "outputs": [],
   "source": [
    "import utils"
   ]
  },
  {
   "cell_type": "code",
   "execution_count": 5,
   "metadata": {},
   "outputs": [],
   "source": [
    "cuda = torch.device('cuda:0')"
   ]
  },
  {
   "cell_type": "markdown",
   "metadata": {},
   "source": [
    "# Vanilla Wong Neural Net CIFAR10"
   ]
  },
  {
   "cell_type": "code",
   "execution_count": 6,
   "metadata": {},
   "outputs": [
    {
     "name": "stdout",
     "output_type": "stream",
     "text": [
      "Files already downloaded and verified\n",
      "Files already downloaded and verified\n"
     ]
    }
   ],
   "source": [
    "transform_train = transforms.Compose([\n",
    "    transforms.RandomCrop(32, padding=4),\n",
    "    transforms.RandomHorizontalFlip(),\n",
    "    transforms.ToTensor(),\n",
    "    transforms.Normalize((0.4914, 0.4822, 0.4465), (0.2023, 0.1994, 0.2010)),\n",
    "])\n",
    "\n",
    "# Normalize the test set same as training set without augmentation\n",
    "transform_test = transforms.Compose([\n",
    "    transforms.ToTensor(),\n",
    "    transforms.Normalize((0.4914, 0.4822, 0.4465), (0.2023, 0.1994, 0.2010)),\n",
    "])\n",
    "\n",
    "trainset = datasets.CIFAR10(\n",
    "    root=\"./data\", train=True, download=True, transform=transform_train)\n",
    "train_loader = torch.utils.data.DataLoader(\n",
    "    trainset, batch_size=100, shuffle=True, num_workers=2)\n",
    "\n",
    "testset = datasets.CIFAR10(\n",
    "    root=\"./data\", train=False, download=True, transform=transform_test)\n",
    "test_loader = torch.utils.data.DataLoader(\n",
    "    testset, batch_size=300, shuffle=True, num_workers=2)"
   ]
  },
  {
   "cell_type": "markdown",
   "metadata": {},
   "source": [
    "## Non Adv"
   ]
  },
  {
   "cell_type": "code",
   "execution_count": 6,
   "metadata": {
    "scrolled": true
   },
   "outputs": [
    {
     "ename": "NameError",
     "evalue": "name 'train_loader' is not defined",
     "output_type": "error",
     "traceback": [
      "\u001b[0;31m---------------------------------------------------------------------------\u001b[0m",
      "\u001b[0;31mNameError\u001b[0m                                 Traceback (most recent call last)",
      "\u001b[0;32m<ipython-input-6-6fe3b80b57f2>\u001b[0m in \u001b[0;36m<module>\u001b[0;34m\u001b[0m\n\u001b[1;32m      1\u001b[0m \u001b[0mcifar10_vanilla\u001b[0m \u001b[0;34m=\u001b[0m \u001b[0mWongNeuralNetCIFAR10\u001b[0m\u001b[0;34m(\u001b[0m\u001b[0;34m)\u001b[0m\u001b[0;34m\u001b[0m\u001b[0;34m\u001b[0m\u001b[0m\n\u001b[0;32m----> 2\u001b[0;31m \u001b[0mcifar10_vanilla\u001b[0m\u001b[0;34m.\u001b[0m\u001b[0mfit\u001b[0m\u001b[0;34m(\u001b[0m\u001b[0mtrain_loader\u001b[0m\u001b[0;34m,\u001b[0m \u001b[0mtest_loader\u001b[0m\u001b[0;34m,\u001b[0m \u001b[0malpha\u001b[0m \u001b[0;34m=\u001b[0m \u001b[0;36m0\u001b[0m\u001b[0;34m,\u001b[0m \u001b[0mepochs\u001b[0m \u001b[0;34m=\u001b[0m \u001b[0;36m100\u001b[0m\u001b[0;34m,\u001b[0m \u001b[0madv\u001b[0m\u001b[0;34m=\u001b[0m\u001b[0;32mFalse\u001b[0m\u001b[0;34m,\u001b[0m \u001b[0mepsilon\u001b[0m\u001b[0;34m=\u001b[0m\u001b[0;36m0\u001b[0m\u001b[0;34m)\u001b[0m\u001b[0;34m\u001b[0m\u001b[0;34m\u001b[0m\u001b[0m\n\u001b[0m",
      "\u001b[0;31mNameError\u001b[0m: name 'train_loader' is not defined"
     ]
    }
   ],
   "source": [
    "cifar10_vanilla = WongNeuralNetCIFAR10()\n",
    "cifar10_vanilla.fit(train_loader, test_loader, alpha = 0, epochs = 100, adv=False, epsilon=0)"
   ]
  },
  {
   "cell_type": "code",
   "execution_count": null,
   "metadata": {},
   "outputs": [],
   "source": [
    "cifar10_vanilla.plot_train(batchSize = 100)"
   ]
  },
  {
   "cell_type": "code",
   "execution_count": null,
   "metadata": {},
   "outputs": [],
   "source": [
    "cifar10_vanilla.plot_val_accuracies(batchSize = 100)"
   ]
  },
  {
   "cell_type": "code",
   "execution_count": null,
   "metadata": {},
   "outputs": [],
   "source": [
    "print(cifar10_vanilla)"
   ]
  },
  {
   "cell_type": "markdown",
   "metadata": {},
   "source": [
    "## Adversarial"
   ]
  },
  {
   "cell_type": "code",
   "execution_count": 7,
   "metadata": {},
   "outputs": [],
   "source": [
    "from AdversarialAttacks import attack_fgsm"
   ]
  },
  {
   "cell_type": "code",
   "execution_count": 8,
   "metadata": {},
   "outputs": [],
   "source": [
    "maxSamples = int(2e6)"
   ]
  },
  {
   "cell_type": "code",
   "execution_count": 9,
   "metadata": {
    "scrolled": true
   },
   "outputs": [
    {
     "name": "stdout",
     "output_type": "stream",
     "text": [
      "Epoch 0\n",
      "Progress: 10000,  val accuracy: 0.2567\n",
      "Progress: 20000,  val accuracy: 0.2800\n",
      "Progress: 30000,  val accuracy: 0.3533\n",
      "Progress: 40000,  val accuracy: 0.3433\n",
      "Progress: 50000,  val accuracy: 0.4133\n",
      "Epoch 1\n"
     ]
    },
    {
     "name": "stderr",
     "output_type": "stream",
     "text": [
      "/usr/local/lib/python3.6/dist-packages/torch/optim/lr_scheduler.py:893: UserWarning: To get the last learning rate computed by the scheduler, please use `get_last_lr()`.\n",
      "  \"please use `get_last_lr()`.\", UserWarning)\n"
     ]
    },
    {
     "name": "stdout",
     "output_type": "stream",
     "text": [
      "Progress: 60000,  val accuracy: 0.4300\n",
      "Progress: 70000,  val accuracy: 0.3933\n",
      "Progress: 80000,  val accuracy: 0.4300\n",
      "Progress: 90000,  val accuracy: 0.4567\n",
      "Progress: 100000,  val accuracy: 0.4433\n",
      "Epoch 2\n",
      "Progress: 110000,  val accuracy: 0.4567\n",
      "Progress: 120000,  val accuracy: 0.4667\n",
      "Progress: 130000,  val accuracy: 0.4967\n",
      "Progress: 140000,  val accuracy: 0.4700\n",
      "Progress: 150000,  val accuracy: 0.4933\n",
      "Epoch 3\n",
      "Progress: 160000,  val accuracy: 0.5133\n",
      "Progress: 170000,  val accuracy: 0.5367\n",
      "Progress: 180000,  val accuracy: 0.5167\n",
      "Progress: 190000,  val accuracy: 0.5433\n",
      "Progress: 200000,  val accuracy: 0.5500\n",
      "Epoch 4\n",
      "Progress: 210000,  val accuracy: 0.5867\n",
      "Progress: 220000,  val accuracy: 0.5267\n",
      "Progress: 230000,  val accuracy: 0.5667\n",
      "Progress: 240000,  val accuracy: 0.5500\n",
      "Progress: 250000,  val accuracy: 0.5667\n",
      "Epoch 5\n",
      "Progress: 260000,  val accuracy: 0.5833\n",
      "Progress: 270000,  val accuracy: 0.5900\n",
      "Progress: 280000,  val accuracy: 0.6033\n",
      "Progress: 290000,  val accuracy: 0.6000\n",
      "Progress: 300000,  val accuracy: 0.6767\n",
      "Epoch 6\n",
      "Progress: 310000,  val accuracy: 0.6367\n",
      "Progress: 320000,  val accuracy: 0.6467\n",
      "Progress: 330000,  val accuracy: 0.6333\n",
      "Progress: 340000,  val accuracy: 0.6533\n",
      "Progress: 350000,  val accuracy: 0.6433\n",
      "Epoch 7\n",
      "Progress: 360000,  val accuracy: 0.6200\n",
      "Progress: 370000,  val accuracy: 0.6467\n",
      "Progress: 380000,  val accuracy: 0.6867\n",
      "Progress: 390000,  val accuracy: 0.6900\n",
      "Progress: 400000,  val accuracy: 0.6867\n",
      "Epoch 8\n",
      "Progress: 410000,  val accuracy: 0.7067\n",
      "Progress: 420000,  val accuracy: 0.6433\n",
      "Progress: 430000,  val accuracy: 0.6500\n",
      "Progress: 440000,  val accuracy: 0.6900\n",
      "Progress: 450000,  val accuracy: 0.6867\n",
      "Epoch 9\n",
      "Progress: 460000,  val accuracy: 0.6800\n",
      "Progress: 470000,  val accuracy: 0.7033\n",
      "Progress: 480000,  val accuracy: 0.6700\n",
      "Progress: 490000,  val accuracy: 0.7067\n",
      "Progress: 500000,  val accuracy: 0.6733\n",
      "Epoch 10\n",
      "Progress: 510000,  val accuracy: 0.6800\n",
      "Progress: 520000,  val accuracy: 0.7167\n",
      "Progress: 530000,  val accuracy: 0.7000\n",
      "Progress: 540000,  val accuracy: 0.7067\n",
      "Progress: 550000,  val accuracy: 0.7100\n",
      "Epoch 11\n",
      "Progress: 560000,  val accuracy: 0.7067\n",
      "Progress: 570000,  val accuracy: 0.7433\n",
      "Progress: 580000,  val accuracy: 0.6967\n",
      "Progress: 590000,  val accuracy: 0.7300\n",
      "Progress: 600000,  val accuracy: 0.7367\n",
      "Epoch 12\n",
      "Progress: 610000,  val accuracy: 0.7067\n",
      "Progress: 620000,  val accuracy: 0.7567\n",
      "Progress: 630000,  val accuracy: 0.7100\n",
      "Progress: 640000,  val accuracy: 0.7400\n",
      "Progress: 650000,  val accuracy: 0.7300\n",
      "Epoch 13\n",
      "Progress: 660000,  val accuracy: 0.7000\n",
      "Progress: 670000,  val accuracy: 0.7500\n",
      "Progress: 680000,  val accuracy: 0.7200\n",
      "Progress: 690000,  val accuracy: 0.7067\n",
      "Progress: 700000,  val accuracy: 0.7467\n",
      "Epoch 14\n",
      "Progress: 710000,  val accuracy: 0.7467\n",
      "Progress: 720000,  val accuracy: 0.7300\n",
      "Progress: 730000,  val accuracy: 0.7333\n",
      "Progress: 740000,  val accuracy: 0.7500\n",
      "Progress: 750000,  val accuracy: 0.7400\n",
      "Epoch 15\n",
      "Progress: 760000,  val accuracy: 0.7500\n",
      "Progress: 770000,  val accuracy: 0.7367\n",
      "Progress: 780000,  val accuracy: 0.7700\n",
      "Progress: 790000,  val accuracy: 0.7533\n",
      "Progress: 800000,  val accuracy: 0.7433\n",
      "Epoch 16\n",
      "Progress: 810000,  val accuracy: 0.7633\n",
      "Progress: 820000,  val accuracy: 0.7567\n",
      "Progress: 830000,  val accuracy: 0.7467\n",
      "Progress: 840000,  val accuracy: 0.7700\n",
      "Progress: 850000,  val accuracy: 0.7533\n",
      "Epoch 17\n",
      "Progress: 860000,  val accuracy: 0.7567\n",
      "Progress: 870000,  val accuracy: 0.7500\n",
      "Progress: 880000,  val accuracy: 0.7433\n",
      "Progress: 890000,  val accuracy: 0.7200\n",
      "Progress: 900000,  val accuracy: 0.7333\n",
      "Epoch 18\n",
      "Progress: 910000,  val accuracy: 0.7600\n",
      "Progress: 920000,  val accuracy: 0.7267\n",
      "Progress: 930000,  val accuracy: 0.7367\n",
      "Progress: 940000,  val accuracy: 0.7767\n",
      "Progress: 950000,  val accuracy: 0.7500\n",
      "Epoch 19\n",
      "Progress: 960000,  val accuracy: 0.7400\n",
      "Progress: 970000,  val accuracy: 0.7200\n",
      "Progress: 980000,  val accuracy: 0.7567\n",
      "Progress: 990000,  val accuracy: 0.7433\n",
      "Progress: 1000000,  val accuracy: 0.7233\n",
      "Epoch 20\n",
      "Progress: 1010000,  val accuracy: 0.7267\n",
      "Progress: 1020000,  val accuracy: 0.7333\n",
      "Progress: 1030000,  val accuracy: 0.7333\n",
      "Progress: 1040000,  val accuracy: 0.7433\n",
      "Progress: 1050000,  val accuracy: 0.7133\n",
      "Epoch 21\n",
      "Progress: 1060000,  val accuracy: 0.7567\n",
      "Progress: 1070000,  val accuracy: 0.7667\n",
      "Progress: 1080000,  val accuracy: 0.7567\n",
      "Progress: 1090000,  val accuracy: 0.7567\n",
      "Progress: 1100000,  val accuracy: 0.7467\n",
      "Epoch 22\n",
      "Progress: 1110000,  val accuracy: 0.7400\n",
      "Progress: 1120000,  val accuracy: 0.7300\n",
      "Progress: 1130000,  val accuracy: 0.7533\n",
      "Progress: 1140000,  val accuracy: 0.7400\n",
      "Progress: 1150000,  val accuracy: 0.7500\n",
      "Epoch 23\n",
      "Progress: 1160000,  val accuracy: 0.7733\n",
      "Progress: 1170000,  val accuracy: 0.7267\n",
      "Progress: 1180000,  val accuracy: 0.7833\n",
      "Progress: 1190000,  val accuracy: 0.7867\n",
      "Progress: 1200000,  val accuracy: 0.7533\n",
      "Epoch 24\n",
      "Progress: 1210000,  val accuracy: 0.7767\n",
      "Progress: 1220000,  val accuracy: 0.7733\n",
      "Progress: 1230000,  val accuracy: 0.7700\n",
      "Progress: 1240000,  val accuracy: 0.7767\n",
      "Progress: 1250000,  val accuracy: 0.7467\n",
      "Epoch 25\n",
      "Progress: 1260000,  val accuracy: 0.7500\n",
      "Progress: 1270000,  val accuracy: 0.7433\n",
      "Progress: 1280000,  val accuracy: 0.7867\n",
      "Progress: 1290000,  val accuracy: 0.7533\n",
      "Progress: 1300000,  val accuracy: 0.7467\n",
      "Epoch 26\n",
      "Progress: 1310000,  val accuracy: 0.7667\n",
      "Progress: 1320000,  val accuracy: 0.7567\n",
      "Progress: 1330000,  val accuracy: 0.7167\n",
      "Progress: 1340000,  val accuracy: 0.7367\n",
      "Progress: 1350000,  val accuracy: 0.7567\n",
      "Epoch 27\n",
      "Progress: 1360000,  val accuracy: 0.7467\n",
      "Progress: 1370000,  val accuracy: 0.7400\n",
      "Progress: 1380000,  val accuracy: 0.7100\n",
      "Progress: 1390000,  val accuracy: 0.7600\n",
      "Progress: 1400000,  val accuracy: 0.7333\n",
      "Epoch 28\n",
      "Progress: 1410000,  val accuracy: 0.7600\n",
      "Progress: 1420000,  val accuracy: 0.7733\n",
      "Progress: 1430000,  val accuracy: 0.7433\n",
      "Progress: 1440000,  val accuracy: 0.7667\n",
      "Progress: 1450000,  val accuracy: 0.7633\n",
      "Epoch 29\n",
      "Progress: 1460000,  val accuracy: 0.7500\n",
      "Progress: 1470000,  val accuracy: 0.7600\n",
      "Progress: 1480000,  val accuracy: 0.7200\n",
      "Progress: 1490000,  val accuracy: 0.7833\n",
      "Progress: 1500000,  val accuracy: 0.7133\n",
      "Epoch 30\n",
      "Progress: 1510000,  val accuracy: 0.7400\n",
      "Progress: 1520000,  val accuracy: 0.7600\n",
      "Progress: 1530000,  val accuracy: 0.7533\n",
      "Progress: 1540000,  val accuracy: 0.7833\n",
      "Progress: 1550000,  val accuracy: 0.7833\n",
      "Epoch 31\n",
      "Progress: 1560000,  val accuracy: 0.7300\n",
      "Progress: 1570000,  val accuracy: 0.7800\n",
      "Progress: 1580000,  val accuracy: 0.7633\n",
      "Progress: 1590000,  val accuracy: 0.7600\n",
      "Progress: 1600000,  val accuracy: 0.7467\n",
      "Epoch 32\n",
      "Progress: 1610000,  val accuracy: 0.7767\n",
      "Progress: 1620000,  val accuracy: 0.7533\n",
      "Progress: 1630000,  val accuracy: 0.7600\n",
      "Progress: 1640000,  val accuracy: 0.7433\n",
      "Progress: 1650000,  val accuracy: 0.7500\n",
      "Total training time2783.88511633873\n"
     ]
    }
   ],
   "source": [
    "cifar10_adv = WongNeuralNetCIFAR10(attack_eps=[0.01, 0.02, 0.03], train_eps=8)\n",
    "cifar10_adv.fit(train_loader, test_loader, adv_train=True, val_attacks=[attack_fgsm], maxSample=maxSamples)"
   ]
  },
  {
   "cell_type": "code",
   "execution_count": null,
   "metadata": {
    "scrolled": true
   },
   "outputs": [],
   "source": [
    "cifar10_adv.accuracies"
   ]
  },
  {
   "cell_type": "code",
   "execution_count": null,
   "metadata": {},
   "outputs": [],
   "source": [
    "path_head = 'results/plots/cifar10_wl/eps_8/'\n",
    "acc_file = path_head + f'wl_acc_maxSamples_{maxSamples}.png'\n",
    "adv_acc_file = path_head + f'adv_acc_maxSamples_{maxSamples}.png'\n",
    "loss_file = path_head + f'loss_maxSamples_{maxSamples}.png'\n",
    "cifar10_adv.plot_accuracies(acc_file)\n",
    "cifar10_adv.plot_loss(loss_file)\n",
    "cifar10_adv.plot_adversarial_accuracies(adv_acc_file)"
   ]
  },
  {
   "cell_type": "code",
   "execution_count": null,
   "metadata": {},
   "outputs": [],
   "source": [
    "print(cifar10_adv.train_checkpoints)"
   ]
  },
  {
   "cell_type": "code",
   "execution_count": null,
   "metadata": {},
   "outputs": [],
   "source": []
  },
  {
   "cell_type": "code",
   "execution_count": null,
   "metadata": {},
   "outputs": [],
   "source": []
  }
 ],
 "metadata": {
  "kernelspec": {
   "display_name": "Python 3",
   "language": "python",
   "name": "python3"
  },
  "language_info": {
   "codemirror_mode": {
    "name": "ipython",
    "version": 3
   },
   "file_extension": ".py",
   "mimetype": "text/x-python",
   "name": "python",
   "nbconvert_exporter": "python",
   "pygments_lexer": "ipython3",
   "version": "3.6.8"
  }
 },
 "nbformat": 4,
 "nbformat_minor": 4
}
