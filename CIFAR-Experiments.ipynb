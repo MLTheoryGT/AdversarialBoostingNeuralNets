{
 "cells": [
  {
   "cell_type": "code",
   "execution_count": 1,
   "metadata": {},
   "outputs": [
    {
     "name": "stdout",
     "output_type": "stream",
     "text": [
      "Requirement already satisfied: pytorch_memlab in /usr/local/lib/python3.6/dist-packages (from -r requirements.txt (line 1)) (0.2.2)\n",
      "Requirement already satisfied: calmsize in /usr/local/lib/python3.6/dist-packages (from pytorch_memlab->-r requirements.txt (line 1)) (0.1.3)\n",
      "Requirement already satisfied: setuptools in /usr/local/lib/python3.6/dist-packages (from pytorch_memlab->-r requirements.txt (line 1)) (41.0.1)\n",
      "Requirement already satisfied: torch>=1.4 in /usr/local/lib/python3.6/dist-packages (from pytorch_memlab->-r requirements.txt (line 1)) (1.7.0)\n",
      "Requirement already satisfied: pandas>=0.18 in /usr/local/lib/python3.6/dist-packages (from pytorch_memlab->-r requirements.txt (line 1)) (0.25.0)\n",
      "Requirement already satisfied: dataclasses in /usr/local/lib/python3.6/dist-packages (from torch>=1.4->pytorch_memlab->-r requirements.txt (line 1)) (0.7)\n",
      "Requirement already satisfied: typing-extensions in /usr/local/lib/python3.6/dist-packages (from torch>=1.4->pytorch_memlab->-r requirements.txt (line 1)) (3.7.4.3)\n",
      "Requirement already satisfied: numpy in /usr/local/lib/python3.6/dist-packages (from torch>=1.4->pytorch_memlab->-r requirements.txt (line 1)) (1.17.0)\n",
      "Requirement already satisfied: future in /usr/local/lib/python3.6/dist-packages (from torch>=1.4->pytorch_memlab->-r requirements.txt (line 1)) (0.17.1)\n",
      "Requirement already satisfied: python-dateutil>=2.6.1 in /usr/local/lib/python3.6/dist-packages (from pandas>=0.18->pytorch_memlab->-r requirements.txt (line 1)) (2.8.0)\n",
      "Requirement already satisfied: pytz>=2017.2 in /usr/local/lib/python3.6/dist-packages (from pandas>=0.18->pytorch_memlab->-r requirements.txt (line 1)) (2019.2)\n",
      "Requirement already satisfied: six>=1.5 in /usr/local/lib/python3.6/dist-packages (from python-dateutil>=2.6.1->pandas>=0.18->pytorch_memlab->-r requirements.txt (line 1)) (1.12.0)\n",
      "\u001b[33mWARNING: You are using pip version 19.2.1, however version 21.0.1 is available.\n",
      "You should consider upgrading via the 'pip install --upgrade pip' command.\u001b[0m\n"
     ]
    }
   ],
   "source": [
    "!pip install -r requirements.txt"
   ]
  },
  {
   "cell_type": "code",
   "execution_count": 2,
   "metadata": {},
   "outputs": [],
   "source": [
    "from __future__ import print_function\n",
    "import torch\n",
    "from torchvision import datasets, transforms\n",
    "import numpy as np\n",
    "from WeakLearners import WongNeuralNetCIFAR10\n",
    "import matplotlib.pyplot as plt\n"
   ]
  },
  {
   "cell_type": "code",
   "execution_count": 3,
   "metadata": {},
   "outputs": [],
   "source": [
    "from Boosting import runBoosting"
   ]
  },
  {
   "cell_type": "code",
   "execution_count": 4,
   "metadata": {},
   "outputs": [],
   "source": [
    "import utils"
   ]
  },
  {
   "cell_type": "code",
   "execution_count": 5,
   "metadata": {},
   "outputs": [],
   "source": [
    "cuda = torch.device('cuda:0')"
   ]
  },
  {
   "cell_type": "code",
   "execution_count": 6,
   "metadata": {},
   "outputs": [
    {
     "name": "stdout",
     "output_type": "stream",
     "text": [
      "Files already downloaded and verified\n",
      "Files already downloaded and verified\n"
     ]
    }
   ],
   "source": [
    "transform_train = transforms.Compose([\n",
    "    transforms.RandomCrop(32, padding=4),\n",
    "    transforms.RandomHorizontalFlip(),\n",
    "    transforms.ToTensor(),\n",
    "    transforms.Normalize((0.4914, 0.4822, 0.4465), (0.2023, 0.1994, 0.2010)),\n",
    "])\n",
    "\n",
    "# Normalize the test set same as training set without augmentation\n",
    "transform_test = transforms.Compose([\n",
    "    transforms.ToTensor(),\n",
    "    transforms.Normalize((0.4914, 0.4822, 0.4465), (0.2023, 0.1994, 0.2010)),\n",
    "])\n",
    "\n",
    "trainset = datasets.CIFAR10(\n",
    "    root=\"./data\", train=True, download=True, transform=transform_train)\n",
    "train_loader = torch.utils.data.DataLoader(\n",
    "    trainset, batch_size=100, shuffle=True, num_workers=2)\n",
    "\n",
    "testset = datasets.CIFAR10(\n",
    "    root=\"./data\", train=False, download=True, transform=transform_test)\n",
    "test_loader = torch.utils.data.DataLoader(\n",
    "    testset, batch_size=300, shuffle=True, num_workers=2)"
   ]
  },
  {
   "cell_type": "markdown",
   "metadata": {},
   "source": [
    "# Vanilla Wong Neural Net CIFAR10"
   ]
  },
  {
   "cell_type": "markdown",
   "metadata": {},
   "source": [
    "## Non Adv"
   ]
  },
  {
   "cell_type": "code",
   "execution_count": 7,
   "metadata": {
    "scrolled": true
   },
   "outputs": [
    {
     "ename": "TypeError",
     "evalue": "fit() got an unexpected keyword argument 'adv'",
     "output_type": "error",
     "traceback": [
      "\u001b[0;31m---------------------------------------------------------------------------\u001b[0m",
      "\u001b[0;31mTypeError\u001b[0m                                 Traceback (most recent call last)",
      "\u001b[0;32m<ipython-input-7-6fe3b80b57f2>\u001b[0m in \u001b[0;36m<module>\u001b[0;34m\u001b[0m\n\u001b[1;32m      1\u001b[0m \u001b[0mcifar10_vanilla\u001b[0m \u001b[0;34m=\u001b[0m \u001b[0mWongNeuralNetCIFAR10\u001b[0m\u001b[0;34m(\u001b[0m\u001b[0;34m)\u001b[0m\u001b[0;34m\u001b[0m\u001b[0;34m\u001b[0m\u001b[0m\n\u001b[0;32m----> 2\u001b[0;31m \u001b[0mcifar10_vanilla\u001b[0m\u001b[0;34m.\u001b[0m\u001b[0mfit\u001b[0m\u001b[0;34m(\u001b[0m\u001b[0mtrain_loader\u001b[0m\u001b[0;34m,\u001b[0m \u001b[0mtest_loader\u001b[0m\u001b[0;34m,\u001b[0m \u001b[0malpha\u001b[0m \u001b[0;34m=\u001b[0m \u001b[0;36m0\u001b[0m\u001b[0;34m,\u001b[0m \u001b[0mepochs\u001b[0m \u001b[0;34m=\u001b[0m \u001b[0;36m100\u001b[0m\u001b[0;34m,\u001b[0m \u001b[0madv\u001b[0m\u001b[0;34m=\u001b[0m\u001b[0;32mFalse\u001b[0m\u001b[0;34m,\u001b[0m \u001b[0mepsilon\u001b[0m\u001b[0;34m=\u001b[0m\u001b[0;36m0\u001b[0m\u001b[0;34m)\u001b[0m\u001b[0;34m\u001b[0m\u001b[0;34m\u001b[0m\u001b[0m\n\u001b[0m",
      "\u001b[0;31mTypeError\u001b[0m: fit() got an unexpected keyword argument 'adv'"
     ]
    }
   ],
   "source": [
    "cifar10_vanilla = WongNeuralNetCIFAR10()\n",
    "cifar10_vanilla.fit(train_loader, test_loader, alpha = 0, epochs = 100, adv=False, epsilon=0)"
   ]
  },
  {
   "cell_type": "code",
   "execution_count": null,
   "metadata": {},
   "outputs": [],
   "source": [
    "cifar10_vanilla.plot_train(batchSize = 100)"
   ]
  },
  {
   "cell_type": "code",
   "execution_count": null,
   "metadata": {},
   "outputs": [],
   "source": [
    "cifar10_vanilla.plot_val_accuracies(batchSize = 100)"
   ]
  },
  {
   "cell_type": "code",
   "execution_count": null,
   "metadata": {},
   "outputs": [],
   "source": [
    "print(cifar10_vanilla)"
   ]
  },
  {
   "cell_type": "markdown",
   "metadata": {},
   "source": [
    "## Adversarial"
   ]
  },
  {
   "cell_type": "code",
   "execution_count": 7,
   "metadata": {},
   "outputs": [],
   "source": [
    "from AdversarialAttacks import attack_fgsm, attack_pgd"
   ]
  },
  {
   "cell_type": "code",
   "execution_count": 8,
   "metadata": {},
   "outputs": [],
   "source": [
    "# maxSamples = int(2e6)\n",
    "maxSamples = int(1e6)"
   ]
  },
  {
   "cell_type": "code",
   "execution_count": null,
   "metadata": {
    "scrolled": true
   },
   "outputs": [
    {
     "name": "stdout",
     "output_type": "stream",
     "text": [
      "Epoch 0\n",
      "0.01\n",
      "0.02\n",
      "0.03\n",
      "Progress: 10000,  val accuracy: 0.2400\n",
      "0.01\n",
      "0.02\n",
      "0.03\n",
      "Progress: 20000,  val accuracy: 0.2567\n",
      "0.01\n",
      "0.02\n",
      "0.03\n",
      "Progress: 30000,  val accuracy: 0.3267\n",
      "0.01\n",
      "0.02\n",
      "0.03\n",
      "Progress: 40000,  val accuracy: 0.3033\n",
      "0.01\n",
      "0.02\n",
      "0.01\n",
      "0.02\n",
      "0.03\n",
      "Progress: 410000,  val accuracy: 0.6567\n",
      "0.01\n",
      "0.02\n",
      "0.03\n",
      "Progress: 420000,  val accuracy: 0.6267\n",
      "0.01\n",
      "0.02\n",
      "0.03\n",
      "Progress: 430000,  val accuracy: 0.6733\n",
      "0.01\n",
      "0.02\n",
      "0.03\n",
      "Progress: 440000,  val accuracy: 0.6600\n",
      "0.01\n",
      "0.02\n",
      "0.03\n",
      "Progress: 450000,  val accuracy: 0.6500\n",
      "Epoch 9\n",
      "0.01\n",
      "0.02\n",
      "0.03\n",
      "Progress: 460000,  val accuracy: 0.6367\n",
      "0.01\n",
      "0.02\n",
      "0.03\n",
      "Progress: 470000,  val accuracy: 0.6467\n",
      "0.01\n",
      "0.02\n",
      "0.03\n",
      "Progress: 480000,  val accuracy: 0.6767\n",
      "0.01\n",
      "0.02\n",
      "0.03\n",
      "Progress: 490000,  val accuracy: 0.6667\n",
      "0.01\n",
      "0.02\n",
      "0.03\n",
      "Progress: 500000,  val accuracy: 0.6533\n",
      "Epoch 10\n",
      "0.01\n",
      "0.02\n",
      "0.03\n",
      "Progress: 510000,  val accuracy: 0.6433\n",
      "0.01\n",
      "0.02\n",
      "0.03\n",
      "Progress: 520000,  val accuracy: 0.6967\n",
      "0.01\n",
      "0.02\n",
      "0.03\n",
      "Progress: 530000,  val accuracy: 0.6700\n",
      "0.01\n",
      "0.02\n",
      "0.03\n",
      "Progress: 540000,  val accuracy: 0.6900\n",
      "0.01\n",
      "0.02\n",
      "0.03\n",
      "Progress: 550000,  val accuracy: 0.6900\n",
      "Epoch 11\n",
      "0.01\n",
      "0.02\n",
      "0.03\n",
      "Progress: 560000,  val accuracy: 0.6933\n",
      "0.01\n",
      "0.02\n",
      "0.03\n",
      "Progress: 570000,  val accuracy: 0.7000\n",
      "0.01\n",
      "0.02\n",
      "0.03\n",
      "Progress: 580000,  val accuracy: 0.7033\n",
      "0.01\n",
      "0.02\n",
      "0.03\n",
      "Progress: 590000,  val accuracy: 0.6900\n",
      "0.01\n",
      "0.02\n",
      "0.03\n",
      "Progress: 600000,  val accuracy: 0.6900\n",
      "Epoch 12\n",
      "0.01\n",
      "0.02\n",
      "0.03\n",
      "Progress: 610000,  val accuracy: 0.7133\n",
      "0.01\n",
      "0.02\n",
      "0.03\n",
      "Progress: 620000,  val accuracy: 0.7000\n",
      "0.01\n",
      "0.02\n",
      "0.03\n",
      "Progress: 630000,  val accuracy: 0.6867\n",
      "0.01\n",
      "0.02\n",
      "0.03\n",
      "Progress: 640000,  val accuracy: 0.7233\n",
      "0.01\n",
      "0.02\n",
      "0.03\n",
      "Progress: 650000,  val accuracy: 0.7267\n",
      "Epoch 13\n",
      "0.01\n",
      "0.02\n",
      "0.03\n",
      "Progress: 660000,  val accuracy: 0.6900\n",
      "0.01\n",
      "0.02\n",
      "0.03\n",
      "Progress: 670000,  val accuracy: 0.6967\n",
      "0.01\n",
      "0.02\n",
      "0.03\n",
      "Progress: 680000,  val accuracy: 0.7133\n",
      "0.01\n",
      "0.02\n",
      "0.03\n",
      "Progress: 690000,  val accuracy: 0.7000\n",
      "0.01\n",
      "0.02\n",
      "0.03\n",
      "Progress: 700000,  val accuracy: 0.7033\n",
      "Epoch 14\n",
      "0.01\n",
      "0.02\n",
      "0.03\n",
      "Progress: 710000,  val accuracy: 0.7467\n",
      "0.01\n",
      "0.02\n",
      "0.03\n",
      "Progress: 720000,  val accuracy: 0.6933\n",
      "0.01\n",
      "Progress: 810000,  val accuracy: 0.7200\n"
     ]
    }
   ],
   "source": [
    "cifar10_adv = WongNeuralNetCIFAR10(attack_eps=[0.01, 0.02, 0.03], train_eps=8)\n",
    "cifar10_adv.fit(train_loader, test_loader, adv_train=True, val_attacks=[attack_pgd], maxSample=maxSamples)"
   ]
  },
  {
   "cell_type": "code",
   "execution_count": null,
   "metadata": {
    "scrolled": true
   },
   "outputs": [],
   "source": [
    "cifar10_adv.accuracies"
   ]
  },
  {
   "cell_type": "code",
   "execution_count": null,
   "metadata": {},
   "outputs": [],
   "source": [
    "path_head = 'results/plots/cifar10_wl/eps_8/'\n",
    "acc_file = path_head + f'wl_acc_maxSamples_{maxSamples}.png'\n",
    "adv_acc_file = path_head + f'adv_acc_maxSamples_{maxSamples}.png'\n",
    "loss_file = path_head + f'loss_maxSamples_{maxSamples}.png'\n",
    "cifar10_adv.plot_accuracies(acc_file)\n",
    "cifar10_adv.plot_loss(loss_file)\n",
    "cifar10_adv.plot_adversarial_accuracies(adv_acc_file)"
   ]
  },
  {
   "cell_type": "code",
   "execution_count": null,
   "metadata": {},
   "outputs": [],
   "source": [
    "print(cifar10_adv.train_checkpoints)"
   ]
  },
  {
   "cell_type": "code",
   "execution_count": null,
   "metadata": {},
   "outputs": [],
   "source": []
  },
  {
   "cell_type": "code",
   "execution_count": null,
   "metadata": {},
   "outputs": [],
   "source": []
  }
 ],
 "metadata": {
  "kernelspec": {
   "display_name": "Python 3",
   "language": "python",
   "name": "python3"
  },
  "language_info": {
   "codemirror_mode": {
    "name": "ipython",
    "version": 3
   },
   "file_extension": ".py",
   "mimetype": "text/x-python",
   "name": "python",
   "nbconvert_exporter": "python",
   "pygments_lexer": "ipython3",
   "version": "3.6.8"
  }
 },
 "nbformat": 4,
 "nbformat_minor": 4
}
