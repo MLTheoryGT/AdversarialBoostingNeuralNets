{
 "cells": [
  {
   "cell_type": "code",
   "execution_count": 1,
   "metadata": {},
   "outputs": [
    {
     "name": "stdout",
     "output_type": "stream",
     "text": [
      "Requirement already satisfied: pytorch_memlab in /usr/local/lib/python3.6/dist-packages (from -r requirements.txt (line 1)) (0.2.2)\n",
      "Requirement already satisfied: calmsize in /usr/local/lib/python3.6/dist-packages (from pytorch_memlab->-r requirements.txt (line 1)) (0.1.3)\n",
      "Requirement already satisfied: pandas>=0.18 in /usr/local/lib/python3.6/dist-packages (from pytorch_memlab->-r requirements.txt (line 1)) (0.25.0)\n",
      "Requirement already satisfied: torch>=1.4 in /usr/local/lib/python3.6/dist-packages (from pytorch_memlab->-r requirements.txt (line 1)) (1.7.0)\n",
      "Requirement already satisfied: setuptools in /usr/local/lib/python3.6/dist-packages (from pytorch_memlab->-r requirements.txt (line 1)) (41.0.1)\n",
      "Requirement already satisfied: pytz>=2017.2 in /usr/local/lib/python3.6/dist-packages (from pandas>=0.18->pytorch_memlab->-r requirements.txt (line 1)) (2019.2)\n",
      "Requirement already satisfied: python-dateutil>=2.6.1 in /usr/local/lib/python3.6/dist-packages (from pandas>=0.18->pytorch_memlab->-r requirements.txt (line 1)) (2.8.0)\n",
      "Requirement already satisfied: numpy>=1.13.3 in /usr/local/lib/python3.6/dist-packages (from pandas>=0.18->pytorch_memlab->-r requirements.txt (line 1)) (1.17.0)\n",
      "Requirement already satisfied: dataclasses in /usr/local/lib/python3.6/dist-packages (from torch>=1.4->pytorch_memlab->-r requirements.txt (line 1)) (0.7)\n",
      "Requirement already satisfied: future in /usr/local/lib/python3.6/dist-packages (from torch>=1.4->pytorch_memlab->-r requirements.txt (line 1)) (0.17.1)\n",
      "Requirement already satisfied: typing-extensions in /usr/local/lib/python3.6/dist-packages (from torch>=1.4->pytorch_memlab->-r requirements.txt (line 1)) (3.7.4.3)\n",
      "Requirement already satisfied: six>=1.5 in /usr/local/lib/python3.6/dist-packages (from python-dateutil>=2.6.1->pandas>=0.18->pytorch_memlab->-r requirements.txt (line 1)) (1.12.0)\n",
      "\u001b[33mWARNING: You are using pip version 19.2.1, however version 21.1 is available.\n",
      "You should consider upgrading via the 'pip install --upgrade pip' command.\u001b[0m\n"
     ]
    }
   ],
   "source": [
    "!pip install -r requirements.txt"
   ]
  },
  {
   "cell_type": "code",
   "execution_count": 2,
   "metadata": {},
   "outputs": [],
   "source": [
    "from __future__ import print_function\n",
    "import torch\n",
    "from torchvision import datasets, transforms\n",
    "import numpy as np\n",
    "from WeakLearners import WongNeuralNetCIFAR10\n",
    "import matplotlib.pyplot as plt\n",
    "from WeakLearners2 import WongNeuralNetCIFAR102"
   ]
  },
  {
   "cell_type": "code",
   "execution_count": 3,
   "metadata": {},
   "outputs": [],
   "source": [
    "import apex"
   ]
  },
  {
   "cell_type": "code",
   "execution_count": 4,
   "metadata": {},
   "outputs": [],
   "source": [
    "from Boosting import runBoosting"
   ]
  },
  {
   "cell_type": "code",
   "execution_count": 5,
   "metadata": {},
   "outputs": [],
   "source": [
    "import utils"
   ]
  },
  {
   "cell_type": "code",
   "execution_count": 6,
   "metadata": {},
   "outputs": [],
   "source": [
    "cuda = torch.device('cuda:0')"
   ]
  },
  {
   "cell_type": "code",
   "execution_count": 7,
   "metadata": {},
   "outputs": [
    {
     "name": "stdout",
     "output_type": "stream",
     "text": [
      "Files already downloaded and verified\n",
      "Files already downloaded and verified\n"
     ]
    }
   ],
   "source": [
    "transform_train = transforms.Compose([\n",
    "    transforms.RandomCrop(32, padding=4),\n",
    "    transforms.RandomHorizontalFlip(),\n",
    "    transforms.ToTensor(),\n",
    "    transforms.Normalize((0.4914, 0.4822, 0.4465), (0.2471, 0.2435, 0.2616)),\n",
    "])\n",
    "\n",
    "# Normalize the test set same as training set without augmentation\n",
    "transform_test = transforms.Compose([\n",
    "    transforms.ToTensor(),\n",
    "    transforms.Normalize((0.4914, 0.4822, 0.4465), (0.2471, 0.2435, 0.2616)),\n",
    "])\n",
    "\n",
    "trainset = datasets.CIFAR10(\n",
    "    root=\"./data\", train=True, download=True, transform=transform_train)\n",
    "train_loader = torch.utils.data.DataLoader(\n",
    "    trainset, batch_size=128, shuffle=True, num_workers=2)\n",
    "\n",
    "testset = datasets.CIFAR10(\n",
    "    root=\"./data\", train=False, download=True, transform=transform_test)\n",
    "test_loader = torch.utils.data.DataLoader(\n",
    "    testset, batch_size=100, shuffle=True, num_workers=2)"
   ]
  },
  {
   "cell_type": "markdown",
   "metadata": {},
   "source": [
    "# Vanilla Wong Neural Net CIFAR10"
   ]
  },
  {
   "cell_type": "markdown",
   "metadata": {},
   "source": [
    "## Non Adv"
   ]
  },
  {
   "cell_type": "code",
   "execution_count": 7,
   "metadata": {
    "scrolled": true
   },
   "outputs": [
    {
     "ename": "TypeError",
     "evalue": "fit() got an unexpected keyword argument 'adv'",
     "output_type": "error",
     "traceback": [
      "\u001b[0;31m---------------------------------------------------------------------------\u001b[0m",
      "\u001b[0;31mTypeError\u001b[0m                                 Traceback (most recent call last)",
      "\u001b[0;32m<ipython-input-7-6fe3b80b57f2>\u001b[0m in \u001b[0;36m<module>\u001b[0;34m\u001b[0m\n\u001b[1;32m      1\u001b[0m \u001b[0mcifar10_vanilla\u001b[0m \u001b[0;34m=\u001b[0m \u001b[0mWongNeuralNetCIFAR10\u001b[0m\u001b[0;34m(\u001b[0m\u001b[0;34m)\u001b[0m\u001b[0;34m\u001b[0m\u001b[0;34m\u001b[0m\u001b[0m\n\u001b[0;32m----> 2\u001b[0;31m \u001b[0mcifar10_vanilla\u001b[0m\u001b[0;34m.\u001b[0m\u001b[0mfit\u001b[0m\u001b[0;34m(\u001b[0m\u001b[0mtrain_loader\u001b[0m\u001b[0;34m,\u001b[0m \u001b[0mtest_loader\u001b[0m\u001b[0;34m,\u001b[0m \u001b[0malpha\u001b[0m \u001b[0;34m=\u001b[0m \u001b[0;36m0\u001b[0m\u001b[0;34m,\u001b[0m \u001b[0mepochs\u001b[0m \u001b[0;34m=\u001b[0m \u001b[0;36m100\u001b[0m\u001b[0;34m,\u001b[0m \u001b[0madv\u001b[0m\u001b[0;34m=\u001b[0m\u001b[0;32mFalse\u001b[0m\u001b[0;34m,\u001b[0m \u001b[0mepsilon\u001b[0m\u001b[0;34m=\u001b[0m\u001b[0;36m0\u001b[0m\u001b[0;34m)\u001b[0m\u001b[0;34m\u001b[0m\u001b[0;34m\u001b[0m\u001b[0m\n\u001b[0m",
      "\u001b[0;31mTypeError\u001b[0m: fit() got an unexpected keyword argument 'adv'"
     ]
    }
   ],
   "source": [
    "cifar10_vanilla = WongNeuralNetCIFAR10()\n",
    "cifar10_vanilla.fit(train_loader, test_loader, alpha = 0, epochs = 100, adv=False, epsilon=0)"
   ]
  },
  {
   "cell_type": "code",
   "execution_count": null,
   "metadata": {},
   "outputs": [],
   "source": [
    "cifar10_vanilla.plot_train(batchSize = 100)"
   ]
  },
  {
   "cell_type": "code",
   "execution_count": null,
   "metadata": {},
   "outputs": [],
   "source": [
    "cifar10_vanilla.plot_val_accuracies(batchSize = 100)"
   ]
  },
  {
   "cell_type": "code",
   "execution_count": null,
   "metadata": {},
   "outputs": [],
   "source": [
    "print(cifar10_vanilla)"
   ]
  },
  {
   "cell_type": "markdown",
   "metadata": {},
   "source": [
    "## Adversarial"
   ]
  },
  {
   "cell_type": "code",
   "execution_count": 8,
   "metadata": {},
   "outputs": [],
   "source": [
    "from AdversarialAttacks import attack_fgsm, attack_pgd"
   ]
  },
  {
   "cell_type": "code",
   "execution_count": 9,
   "metadata": {},
   "outputs": [],
   "source": [
    "# maxSamples = int(2e6)\n",
    "maxSamples = 750000"
   ]
  },
  {
   "cell_type": "code",
   "execution_count": 10,
   "metadata": {
    "scrolled": true
   },
   "outputs": [
    {
     "name": "stdout",
     "output_type": "stream",
     "text": [
      "Epoch \t Seconds \t LR \t \t Train Loss \t Train Acc\n",
      "Progress: 12800,  val accuracy: 0.2900\n",
      "PGD accuracy: [[0.16]]\n",
      "Progress: 25600,  val accuracy: 0.3900\n",
      "PGD accuracy: [[0.16, 0.25]]\n",
      "Progress: 38400,  val accuracy: 0.3400\n",
      "PGD accuracy: [[0.16, 0.25, 0.22]]\n",
      "Progress: 62848,  val accuracy: 0.4600\n",
      "PGD accuracy: [[0.16, 0.25, 0.22, 0.26]]\n",
      "Progress: 75648,  val accuracy: 0.4000\n",
      "PGD accuracy: [[0.16, 0.25, 0.22, 0.26, 0.27]]\n",
      "Progress: 88448,  val accuracy: 0.4400\n",
      "PGD accuracy: [[0.16, 0.25, 0.22, 0.26, 0.27, 0.27]]\n",
      "Progress: 112896,  val accuracy: 0.4100\n",
      "PGD accuracy: [[0.16, 0.25, 0.22, 0.26, 0.27, 0.27, 0.25]]\n",
      "Progress: 125696,  val accuracy: 0.4500\n",
      "PGD accuracy: [[0.16, 0.25, 0.22, 0.26, 0.27, 0.27, 0.25, 0.3]]\n",
      "Progress: 138496,  val accuracy: 0.5300\n",
      "PGD accuracy: [[0.16, 0.25, 0.22, 0.26, 0.27, 0.27, 0.25, 0.3, 0.25]]\n",
      "Progress: 162944,  val accuracy: 0.5600\n",
      "PGD accuracy: [[0.16, 0.25, 0.22, 0.26, 0.27, 0.27, 0.25, 0.3, 0.25, 0.29]]\n",
      "Progress: 175744,  val accuracy: 0.4800\n",
      "PGD accuracy: [[0.16, 0.25, 0.22, 0.26, 0.27, 0.27, 0.25, 0.3, 0.25, 0.29, 0.29]]\n",
      "Progress: 188544,  val accuracy: 0.5300\n",
      "PGD accuracy: [[0.16, 0.25, 0.22, 0.26, 0.27, 0.27, 0.25, 0.3, 0.25, 0.29, 0.29, 0.29]]\n",
      "Progress: 212992,  val accuracy: 0.5900\n",
      "PGD accuracy: [[0.16, 0.25, 0.22, 0.26, 0.27, 0.27, 0.25, 0.3, 0.25, 0.29, 0.29, 0.29, 0.31]]\n",
      "Progress: 225792,  val accuracy: 0.6200\n",
      "PGD accuracy: [[0.16, 0.25, 0.22, 0.26, 0.27, 0.27, 0.25, 0.3, 0.25, 0.29, 0.29, 0.29, 0.31, 0.32]]\n",
      "Progress: 238592,  val accuracy: 0.5800\n",
      "PGD accuracy: [[0.16, 0.25, 0.22, 0.26, 0.27, 0.27, 0.25, 0.3, 0.25, 0.29, 0.29, 0.29, 0.31, 0.32, 0.33]]\n",
      "Progress: 263040,  val accuracy: 0.6500\n",
      "PGD accuracy: [[0.16, 0.25, 0.22, 0.26, 0.27, 0.27, 0.25, 0.3, 0.25, 0.29, 0.29, 0.29, 0.31, 0.32, 0.33, 0.35]]\n",
      "Progress: 275840,  val accuracy: 0.5800\n",
      "PGD accuracy: [[0.16, 0.25, 0.22, 0.26, 0.27, 0.27, 0.25, 0.3, 0.25, 0.29, 0.29, 0.29, 0.31, 0.32, 0.33, 0.35, 0.28]]\n",
      "Progress: 288640,  val accuracy: 0.6600\n",
      "PGD accuracy: [[0.16, 0.25, 0.22, 0.26, 0.27, 0.27, 0.25, 0.3, 0.25, 0.29, 0.29, 0.29, 0.31, 0.32, 0.33, 0.35, 0.28, 0.35]]\n",
      "Progress: 313088,  val accuracy: 0.6600\n",
      "PGD accuracy: [[0.16, 0.25, 0.22, 0.26, 0.27, 0.27, 0.25, 0.3, 0.25, 0.29, 0.29, 0.29, 0.31, 0.32, 0.33, 0.35, 0.28, 0.35, 0.37]]\n",
      "Progress: 325888,  val accuracy: 0.5900\n",
      "PGD accuracy: [[0.16, 0.25, 0.22, 0.26, 0.27, 0.27, 0.25, 0.3, 0.25, 0.29, 0.29, 0.29, 0.31, 0.32, 0.33, 0.35, 0.28, 0.35, 0.37, 0.38]]\n",
      "Progress: 338688,  val accuracy: 0.6700\n",
      "PGD accuracy: [[0.16, 0.25, 0.22, 0.26, 0.27, 0.27, 0.25, 0.3, 0.25, 0.29, 0.29, 0.29, 0.31, 0.32, 0.33, 0.35, 0.28, 0.35, 0.37, 0.38, 0.34]]\n",
      "Progress: 363136,  val accuracy: 0.6700\n",
      "PGD accuracy: [[0.16, 0.25, 0.22, 0.26, 0.27, 0.27, 0.25, 0.3, 0.25, 0.29, 0.29, 0.29, 0.31, 0.32, 0.33, 0.35, 0.28, 0.35, 0.37, 0.38, 0.34, 0.41]]\n",
      "Progress: 375936,  val accuracy: 0.6500\n",
      "PGD accuracy: [[0.16, 0.25, 0.22, 0.26, 0.27, 0.27, 0.25, 0.3, 0.25, 0.29, 0.29, 0.29, 0.31, 0.32, 0.33, 0.35, 0.28, 0.35, 0.37, 0.38, 0.34, 0.41, 0.38]]\n",
      "Progress: 388736,  val accuracy: 0.7400\n",
      "PGD accuracy: [[0.16, 0.25, 0.22, 0.26, 0.27, 0.27, 0.25, 0.3, 0.25, 0.29, 0.29, 0.29, 0.31, 0.32, 0.33, 0.35, 0.28, 0.35, 0.37, 0.38, 0.34, 0.41, 0.38, 0.34]]\n",
      "Progress: 413184,  val accuracy: 0.6400\n",
      "PGD accuracy: [[0.16, 0.25, 0.22, 0.26, 0.27, 0.27, 0.25, 0.3, 0.25, 0.29, 0.29, 0.29, 0.31, 0.32, 0.33, 0.35, 0.28, 0.35, 0.37, 0.38, 0.34, 0.41, 0.38, 0.34, 0.41]]\n",
      "Progress: 425984,  val accuracy: 0.6900\n",
      "PGD accuracy: [[0.16, 0.25, 0.22, 0.26, 0.27, 0.27, 0.25, 0.3, 0.25, 0.29, 0.29, 0.29, 0.31, 0.32, 0.33, 0.35, 0.28, 0.35, 0.37, 0.38, 0.34, 0.41, 0.38, 0.34, 0.41, 0.34]]\n",
      "Progress: 438784,  val accuracy: 0.7000\n",
      "PGD accuracy: [[0.16, 0.25, 0.22, 0.26, 0.27, 0.27, 0.25, 0.3, 0.25, 0.29, 0.29, 0.29, 0.31, 0.32, 0.33, 0.35, 0.28, 0.35, 0.37, 0.38, 0.34, 0.41, 0.38, 0.34, 0.41, 0.34, 0.35]]\n",
      "Progress: 463232,  val accuracy: 0.7100\n",
      "PGD accuracy: [[0.16, 0.25, 0.22, 0.26, 0.27, 0.27, 0.25, 0.3, 0.25, 0.29, 0.29, 0.29, 0.31, 0.32, 0.33, 0.35, 0.28, 0.35, 0.37, 0.38, 0.34, 0.41, 0.38, 0.34, 0.41, 0.34, 0.35, 0.38]]\n",
      "Progress: 476032,  val accuracy: 0.7200\n",
      "PGD accuracy: [[0.16, 0.25, 0.22, 0.26, 0.27, 0.27, 0.25, 0.3, 0.25, 0.29, 0.29, 0.29, 0.31, 0.32, 0.33, 0.35, 0.28, 0.35, 0.37, 0.38, 0.34, 0.41, 0.38, 0.34, 0.41, 0.34, 0.35, 0.38, 0.34]]\n",
      "Progress: 488832,  val accuracy: 0.7600\n",
      "PGD accuracy: [[0.16, 0.25, 0.22, 0.26, 0.27, 0.27, 0.25, 0.3, 0.25, 0.29, 0.29, 0.29, 0.31, 0.32, 0.33, 0.35, 0.28, 0.35, 0.37, 0.38, 0.34, 0.41, 0.38, 0.34, 0.41, 0.34, 0.35, 0.38, 0.34, 0.38]]\n",
      "Progress: 513280,  val accuracy: 0.7100\n",
      "PGD accuracy: [[0.16, 0.25, 0.22, 0.26, 0.27, 0.27, 0.25, 0.3, 0.25, 0.29, 0.29, 0.29, 0.31, 0.32, 0.33, 0.35, 0.28, 0.35, 0.37, 0.38, 0.34, 0.41, 0.38, 0.34, 0.41, 0.34, 0.35, 0.38, 0.34, 0.38, 0.41]]\n",
      "Progress: 526080,  val accuracy: 0.7100\n",
      "PGD accuracy: [[0.16, 0.25, 0.22, 0.26, 0.27, 0.27, 0.25, 0.3, 0.25, 0.29, 0.29, 0.29, 0.31, 0.32, 0.33, 0.35, 0.28, 0.35, 0.37, 0.38, 0.34, 0.41, 0.38, 0.34, 0.41, 0.34, 0.35, 0.38, 0.34, 0.38, 0.41, 0.35]]\n",
      "Progress: 538880,  val accuracy: 0.7100\n",
      "PGD accuracy: [[0.16, 0.25, 0.22, 0.26, 0.27, 0.27, 0.25, 0.3, 0.25, 0.29, 0.29, 0.29, 0.31, 0.32, 0.33, 0.35, 0.28, 0.35, 0.37, 0.38, 0.34, 0.41, 0.38, 0.34, 0.41, 0.34, 0.35, 0.38, 0.34, 0.38, 0.41, 0.35, 0.41]]\n",
      "Progress: 563328,  val accuracy: 0.7200\n",
      "PGD accuracy: [[0.16, 0.25, 0.22, 0.26, 0.27, 0.27, 0.25, 0.3, 0.25, 0.29, 0.29, 0.29, 0.31, 0.32, 0.33, 0.35, 0.28, 0.35, 0.37, 0.38, 0.34, 0.41, 0.38, 0.34, 0.41, 0.34, 0.35, 0.38, 0.34, 0.38, 0.41, 0.35, 0.41, 0.36]]\n",
      "Progress: 576128,  val accuracy: 0.7100\n",
      "PGD accuracy: [[0.16, 0.25, 0.22, 0.26, 0.27, 0.27, 0.25, 0.3, 0.25, 0.29, 0.29, 0.29, 0.31, 0.32, 0.33, 0.35, 0.28, 0.35, 0.37, 0.38, 0.34, 0.41, 0.38, 0.34, 0.41, 0.34, 0.35, 0.38, 0.34, 0.38, 0.41, 0.35, 0.41, 0.36, 0.42]]\n",
      "Progress: 588928,  val accuracy: 0.7400\n",
      "PGD accuracy: [[0.16, 0.25, 0.22, 0.26, 0.27, 0.27, 0.25, 0.3, 0.25, 0.29, 0.29, 0.29, 0.31, 0.32, 0.33, 0.35, 0.28, 0.35, 0.37, 0.38, 0.34, 0.41, 0.38, 0.34, 0.41, 0.34, 0.35, 0.38, 0.34, 0.38, 0.41, 0.35, 0.41, 0.36, 0.42, 0.42]]\n",
      "Progress: 613376,  val accuracy: 0.7700\n",
      "PGD accuracy: [[0.16, 0.25, 0.22, 0.26, 0.27, 0.27, 0.25, 0.3, 0.25, 0.29, 0.29, 0.29, 0.31, 0.32, 0.33, 0.35, 0.28, 0.35, 0.37, 0.38, 0.34, 0.41, 0.38, 0.34, 0.41, 0.34, 0.35, 0.38, 0.34, 0.38, 0.41, 0.35, 0.41, 0.36, 0.42, 0.42, 0.39]]\n",
      "Progress: 626176,  val accuracy: 0.7600\n",
      "PGD accuracy: [[0.16, 0.25, 0.22, 0.26, 0.27, 0.27, 0.25, 0.3, 0.25, 0.29, 0.29, 0.29, 0.31, 0.32, 0.33, 0.35, 0.28, 0.35, 0.37, 0.38, 0.34, 0.41, 0.38, 0.34, 0.41, 0.34, 0.35, 0.38, 0.34, 0.38, 0.41, 0.35, 0.41, 0.36, 0.42, 0.42, 0.39, 0.46]]\n",
      "Progress: 638976,  val accuracy: 0.7300\n",
      "PGD accuracy: [[0.16, 0.25, 0.22, 0.26, 0.27, 0.27, 0.25, 0.3, 0.25, 0.29, 0.29, 0.29, 0.31, 0.32, 0.33, 0.35, 0.28, 0.35, 0.37, 0.38, 0.34, 0.41, 0.38, 0.34, 0.41, 0.34, 0.35, 0.38, 0.34, 0.38, 0.41, 0.35, 0.41, 0.36, 0.42, 0.42, 0.39, 0.46, 0.45]]\n",
      "Progress: 663424,  val accuracy: 0.7600\n",
      "PGD accuracy: [[0.16, 0.25, 0.22, 0.26, 0.27, 0.27, 0.25, 0.3, 0.25, 0.29, 0.29, 0.29, 0.31, 0.32, 0.33, 0.35, 0.28, 0.35, 0.37, 0.38, 0.34, 0.41, 0.38, 0.34, 0.41, 0.34, 0.35, 0.38, 0.34, 0.38, 0.41, 0.35, 0.41, 0.36, 0.42, 0.42, 0.39, 0.46, 0.45, 0.42]]\n",
      "Progress: 676224,  val accuracy: 0.7600\n",
      "PGD accuracy: [[0.16, 0.25, 0.22, 0.26, 0.27, 0.27, 0.25, 0.3, 0.25, 0.29, 0.29, 0.29, 0.31, 0.32, 0.33, 0.35, 0.28, 0.35, 0.37, 0.38, 0.34, 0.41, 0.38, 0.34, 0.41, 0.34, 0.35, 0.38, 0.34, 0.38, 0.41, 0.35, 0.41, 0.36, 0.42, 0.42, 0.39, 0.46, 0.45, 0.42, 0.41]]\n",
      "Progress: 689024,  val accuracy: 0.7600\n",
      "PGD accuracy: [[0.16, 0.25, 0.22, 0.26, 0.27, 0.27, 0.25, 0.3, 0.25, 0.29, 0.29, 0.29, 0.31, 0.32, 0.33, 0.35, 0.28, 0.35, 0.37, 0.38, 0.34, 0.41, 0.38, 0.34, 0.41, 0.34, 0.35, 0.38, 0.34, 0.38, 0.41, 0.35, 0.41, 0.36, 0.42, 0.42, 0.39, 0.46, 0.45, 0.42, 0.41, 0.44]]\n",
      "Progress: 713472,  val accuracy: 0.8300\n",
      "PGD accuracy: [[0.16, 0.25, 0.22, 0.26, 0.27, 0.27, 0.25, 0.3, 0.25, 0.29, 0.29, 0.29, 0.31, 0.32, 0.33, 0.35, 0.28, 0.35, 0.37, 0.38, 0.34, 0.41, 0.38, 0.34, 0.41, 0.34, 0.35, 0.38, 0.34, 0.38, 0.41, 0.35, 0.41, 0.36, 0.42, 0.42, 0.39, 0.46, 0.45, 0.42, 0.41, 0.44, 0.43]]\n",
      "Progress: 726272,  val accuracy: 0.7700\n",
      "PGD accuracy: [[0.16, 0.25, 0.22, 0.26, 0.27, 0.27, 0.25, 0.3, 0.25, 0.29, 0.29, 0.29, 0.31, 0.32, 0.33, 0.35, 0.28, 0.35, 0.37, 0.38, 0.34, 0.41, 0.38, 0.34, 0.41, 0.34, 0.35, 0.38, 0.34, 0.38, 0.41, 0.35, 0.41, 0.36, 0.42, 0.42, 0.39, 0.46, 0.45, 0.42, 0.41, 0.44, 0.43, 0.42]]\n",
      "Progress: 739072,  val accuracy: 0.8200\n",
      "PGD accuracy: [[0.16, 0.25, 0.22, 0.26, 0.27, 0.27, 0.25, 0.3, 0.25, 0.29, 0.29, 0.29, 0.31, 0.32, 0.33, 0.35, 0.28, 0.35, 0.37, 0.38, 0.34, 0.41, 0.38, 0.34, 0.41, 0.34, 0.35, 0.38, 0.34, 0.38, 0.41, 0.35, 0.41, 0.36, 0.42, 0.42, 0.39, 0.46, 0.45, 0.42, 0.41, 0.44, 0.43, 0.42, 0.41]]\n"
     ]
    }
   ],
   "source": [
    "cifar10_adv = WongNeuralNetCIFAR102(attack_eps=[0.127], train_eps=8)\n",
    "cifar10_adv.fit(train_loader, test_loader, adv_train=True, val_attacks=[attack_pgd], maxSample=maxSamples)"
   ]
  },
  {
   "cell_type": "code",
   "execution_count": 10,
   "metadata": {
    "scrolled": true
   },
   "outputs": [
    {
     "data": {
      "text/plain": [
       "{'train': [0.25,\n",
       "  0.23,\n",
       "  0.32,\n",
       "  0.33,\n",
       "  0.41,\n",
       "  0.3,\n",
       "  0.3,\n",
       "  0.45,\n",
       "  0.51,\n",
       "  0.45,\n",
       "  0.41,\n",
       "  0.4,\n",
       "  0.42,\n",
       "  0.39,\n",
       "  0.44,\n",
       "  0.47,\n",
       "  0.5,\n",
       "  0.45,\n",
       "  0.46,\n",
       "  0.49,\n",
       "  0.45,\n",
       "  0.5,\n",
       "  0.52,\n",
       "  0.44,\n",
       "  0.55,\n",
       "  0.62,\n",
       "  0.57,\n",
       "  0.55,\n",
       "  0.59,\n",
       "  0.56,\n",
       "  0.48,\n",
       "  0.63,\n",
       "  0.52,\n",
       "  0.52,\n",
       "  0.63,\n",
       "  0.61,\n",
       "  0.55,\n",
       "  0.6,\n",
       "  0.69,\n",
       "  0.57,\n",
       "  0.6,\n",
       "  0.64,\n",
       "  0.68,\n",
       "  0.68,\n",
       "  0.59,\n",
       "  0.62,\n",
       "  0.63,\n",
       "  0.68,\n",
       "  0.6,\n",
       "  0.58,\n",
       "  0.76,\n",
       "  0.6,\n",
       "  0.66,\n",
       "  0.66,\n",
       "  0.71,\n",
       "  0.68,\n",
       "  0.66,\n",
       "  0.74,\n",
       "  0.67,\n",
       "  0.66,\n",
       "  0.63,\n",
       "  0.71,\n",
       "  0.67,\n",
       "  0.63,\n",
       "  0.73,\n",
       "  0.72,\n",
       "  0.66,\n",
       "  0.65,\n",
       "  0.62,\n",
       "  0.69,\n",
       "  0.72,\n",
       "  0.71,\n",
       "  0.73,\n",
       "  0.68],\n",
       " 'val': [0.255,\n",
       "  0.301,\n",
       "  0.338,\n",
       "  0.32,\n",
       "  0.363,\n",
       "  0.363,\n",
       "  0.376,\n",
       "  0.378,\n",
       "  0.393,\n",
       "  0.416,\n",
       "  0.403,\n",
       "  0.415,\n",
       "  0.458,\n",
       "  0.426,\n",
       "  0.461,\n",
       "  0.473,\n",
       "  0.48,\n",
       "  0.494,\n",
       "  0.493,\n",
       "  0.511,\n",
       "  0.51,\n",
       "  0.515,\n",
       "  0.53,\n",
       "  0.533,\n",
       "  0.514,\n",
       "  0.554,\n",
       "  0.578,\n",
       "  0.559,\n",
       "  0.571,\n",
       "  0.605,\n",
       "  0.558,\n",
       "  0.617,\n",
       "  0.572,\n",
       "  0.601,\n",
       "  0.608,\n",
       "  0.605,\n",
       "  0.622,\n",
       "  0.632,\n",
       "  0.651,\n",
       "  0.662,\n",
       "  0.66,\n",
       "  0.632,\n",
       "  0.665,\n",
       "  0.662,\n",
       "  0.621,\n",
       "  0.646,\n",
       "  0.638,\n",
       "  0.667,\n",
       "  0.674,\n",
       "  0.651,\n",
       "  0.656,\n",
       "  0.673,\n",
       "  0.676,\n",
       "  0.674,\n",
       "  0.682,\n",
       "  0.679,\n",
       "  0.69,\n",
       "  0.674,\n",
       "  0.685,\n",
       "  0.676,\n",
       "  0.701,\n",
       "  0.692,\n",
       "  0.701,\n",
       "  0.699,\n",
       "  0.719,\n",
       "  0.67,\n",
       "  0.701,\n",
       "  0.693,\n",
       "  0.706,\n",
       "  0.724,\n",
       "  0.73,\n",
       "  0.691,\n",
       "  0.702,\n",
       "  0.726],\n",
       " 'attack_fgsm': [],\n",
       " 'attack_pgd': [[0.001,\n",
       "   0.111,\n",
       "   0.161,\n",
       "   0.188,\n",
       "   0.199,\n",
       "   0.208,\n",
       "   0.234,\n",
       "   0.23,\n",
       "   0.23,\n",
       "   0.247,\n",
       "   0.238,\n",
       "   0.233,\n",
       "   0.273,\n",
       "   0.254,\n",
       "   0.263,\n",
       "   0.286,\n",
       "   0.265,\n",
       "   0.286,\n",
       "   0.276,\n",
       "   0.283,\n",
       "   0.276,\n",
       "   0.264,\n",
       "   0.288,\n",
       "   0.294,\n",
       "   0.304,\n",
       "   0.293,\n",
       "   0.289,\n",
       "   0.293,\n",
       "   0.288,\n",
       "   0.293,\n",
       "   0.276,\n",
       "   0.286,\n",
       "   0.309,\n",
       "   0.323,\n",
       "   0.312,\n",
       "   0.319,\n",
       "   0.315,\n",
       "   0.291,\n",
       "   0.329,\n",
       "   0.305,\n",
       "   0.327,\n",
       "   0.34,\n",
       "   0.338,\n",
       "   0.323,\n",
       "   0.331,\n",
       "   0.319,\n",
       "   0.328,\n",
       "   0.328,\n",
       "   0.342,\n",
       "   0.367,\n",
       "   0.339,\n",
       "   0.345,\n",
       "   0.322,\n",
       "   0.343,\n",
       "   0.354,\n",
       "   0.321,\n",
       "   0.348,\n",
       "   0.333,\n",
       "   0.343,\n",
       "   0.345,\n",
       "   0.345,\n",
       "   0.32,\n",
       "   0.334,\n",
       "   0.358,\n",
       "   0.337,\n",
       "   0.343,\n",
       "   0.349,\n",
       "   0.355,\n",
       "   0.361,\n",
       "   0.369,\n",
       "   0.349,\n",
       "   0.357,\n",
       "   0.34,\n",
       "   0.339]]}"
      ]
     },
     "execution_count": 10,
     "metadata": {},
     "output_type": "execute_result"
    }
   ],
   "source": [
    "cifar10_adv.accuracies"
   ]
  },
  {
   "cell_type": "code",
   "execution_count": 10,
   "metadata": {},
   "outputs": [
    {
     "data": {
      "image/png": "[encoded data removed]",
      "text/plain": [
       "<Figure size 432x288 with 1 Axes>"
      ]
     },
     "metadata": {
      "needs_background": "light"
     },
     "output_type": "display_data"
    },
    {
     "data": {
      "image/png": "[encoded data removed]",
      "text/plain": [
       "<Figure size 432x288 with 1 Axes>"
      ]
     },
     "metadata": {
      "needs_background": "light"
     },
     "output_type": "display_data"
    },
    {
     "data": {
      "image/png": "[encoded data removed]",
      "text/plain": [
       "<Figure size 432x288 with 1 Axes>"
      ]
     },
     "metadata": {
      "needs_background": "light"
     },
     "output_type": "display_data"
    }
   ],
   "source": [
    "path_head = 'results/plots/cifar10_wl/eps_8/'\n",
    "acc_file = path_head + f'wl_acc_maxSamples_{maxSamples}.png'\n",
    "adv_acc_file = path_head + f'adv_acc_maxSamples_{maxSamples}.png'\n",
    "loss_file = path_head + f'loss_maxSamples_{maxSamples}.png'\n",
    "cifar10_adv.plot_accuracies(acc_file)\n",
    "cifar10_adv.plot_loss(loss_file)\n",
    "cifar10_adv.plot_adversarial_accuracies(adv_acc_file)"
   ]
  },
  {
   "cell_type": "code",
   "execution_count": null,
   "metadata": {},
   "outputs": [],
   "source": [
    "print(cifar10_adv.train_checkpoints)"
   ]
  },
  {
   "cell_type": "code",
   "execution_count": null,
   "metadata": {},
   "outputs": [],
   "source": []
  },
  {
   "cell_type": "code",
   "execution_count": null,
   "metadata": {},
   "outputs": [],
   "source": []
  }
 ],
 "metadata": {
  "kernelspec": {
   "display_name": "Python 3",
   "language": "python",
   "name": "python3"
  },
  "language_info": {
   "codemirror_mode": {
    "name": "ipython",
    "version": 3
   },
   "file_extension": ".py",
   "mimetype": "text/x-python",
   "name": "python",
   "nbconvert_exporter": "python",
   "pygments_lexer": "ipython3",
   "version": "3.6.8"
  }
 },
 "nbformat": 4,
 "nbformat_minor": 4
}
