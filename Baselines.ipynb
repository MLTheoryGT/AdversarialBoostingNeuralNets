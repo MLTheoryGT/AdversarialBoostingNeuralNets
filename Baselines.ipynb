{
 "cells": [
  {
   "cell_type": "code",
   "execution_count": 1,
   "metadata": {},
   "outputs": [],
   "source": [
    "import torch\n",
    "from torchvision import datasets, transforms\n",
    "from WongBasedTraining import WongBasedTrainingCIFAR10\n",
    "from Architectures import PreActResNet18\n",
    "from Ensemble import Ensemble\n",
    "from AdversarialAttacks import attack_pgd\n",
    "import numpy as np\n",
    "import os"
   ]
  },
  {
   "cell_type": "code",
   "execution_count": 2,
   "metadata": {},
   "outputs": [],
   "source": [
    "train_config = {\n",
    "    \"num_samples_wl\": 30000,\n",
    "    \"num_wl\": 6,\n",
    "    \"train_eps_wl\": 8,\n",
    "    \"training_valrestarts\": 1,\n",
    "    \"dataset_name\": \"cifar10\",\n",
    "    \"train_alpha_wl\": 10,\n",
    "    \"lr_min_wl\": 0,\n",
    "    \"lr_max_wl\": 0.2,\n",
    "    \"weight_decay_wl\": 5e-4,\n",
    "    \"early_stop_wl\": True,\n",
    "    \"delta_init_wl\": \"random\",\n",
    "    \"momentum_wl\": 0.9,\n",
    "    \"seed_wl\": None,\n",
    "    \"opt_level_wl\": \"O2\",\n",
    "    \"loss_scale_wl\": 1.0,\n",
    "    \"delta_init_wl\": \"random\",\n",
    "    \"momentum_wl\": 0.9,\n",
    "    \"attack_iters_val_wl\": 20,\n",
    "    \"batch_size_wl\": 128,\n",
    "    \"restarts_wl\": 1,\n",
    "    \"training_method\": \"wong\",\n",
    "    \"adv_train_wl\": True,\n",
    "    \"prediction_weights_wl\": False,\n",
    "    \"lr_schedule_wl\": \"cyclic\",\n",
    "    \"attack_eps_wl\": [0.127],\n",
    "    \"model_base\": PreActResNet18,\n",
    "    \"val_attacks\": [attack_pgd],\n",
    "    \"dataset\": datasets.CIFAR10\n",
    "}\n",
    "weakLearners = []\n",
    "weakLearnerWeights = []"
   ]
  },
  {
   "cell_type": "code",
   "execution_count": 3,
   "metadata": {},
   "outputs": [
    {
     "name": "stdout",
     "output_type": "stream",
     "text": [
      "(0.4914, 0.4822, 0.4465) (0.2471, 0.2435, 0.2616)\n",
      "Normalized DS\n",
      "Files already downloaded and verified\n",
      "Files already downloaded and verified\n"
     ]
    }
   ],
   "source": [
    "from utils import applyDSTrans\n",
    "train_ds, test_ds = applyDSTrans(train_config)\n",
    "train_ds.targets = torch.tensor(np.array(train_ds.targets))\n",
    "test_ds.targets = torch.tensor(np.array(test_ds.targets))\n",
    "train_loader = torch.utils.data.DataLoader(train_ds, batch_size=128, shuffle=False)\n",
    "test_loader = torch.utils.data.DataLoader(test_ds, batch_size=128, shuffle=False)\n",
    "path_head = f\"./models/{train_config['training_method']}/{train_config['dataset_name']}/baseline/{train_config['num_samples_wl']}Eps{train_config['train_eps_wl']}/\"\n",
    "if os.path.exists(path_head):\n",
    "    print(\"Already exists, exiting\")\n",
    "else:\n",
    "    os.mkdir(path_head)\n",
    "model_base = PreActResNet18"
   ]
  },
  {
   "cell_type": "code",
   "execution_count": 4,
   "metadata": {},
   "outputs": [
    {
     "ename": "NameError",
     "evalue": "name 'WongBasedTraining' is not defined",
     "output_type": "error",
     "traceback": [
      "\u001b[0;31m---------------------------------------------------------------------------\u001b[0m",
      "\u001b[0;31mNameError\u001b[0m                                 Traceback (most recent call last)",
      "\u001b[0;32m<ipython-input-4-d4627e75cbf2>\u001b[0m in \u001b[0;36m<module>\u001b[0;34m\u001b[0m\n\u001b[1;32m      1\u001b[0m \u001b[0;32mfor\u001b[0m \u001b[0mt\u001b[0m \u001b[0;32min\u001b[0m \u001b[0mrange\u001b[0m\u001b[0;34m(\u001b[0m\u001b[0mtrain_config\u001b[0m\u001b[0;34m[\u001b[0m\u001b[0;34m'num_wl'\u001b[0m\u001b[0;34m]\u001b[0m\u001b[0;34m)\u001b[0m\u001b[0;34m:\u001b[0m\u001b[0;34m\u001b[0m\u001b[0;34m\u001b[0m\u001b[0m\n\u001b[0;32m----> 2\u001b[0;31m     \u001b[0mh_i\u001b[0m \u001b[0;34m=\u001b[0m \u001b[0mWongBasedTraining\u001b[0m\u001b[0;34m(\u001b[0m\u001b[0mmodel_base\u001b[0m\u001b[0;34m=\u001b[0m\u001b[0mmodel_base\u001b[0m\u001b[0;34m,\u001b[0m \u001b[0mattack_eps\u001b[0m\u001b[0;34m=\u001b[0m\u001b[0mtrain_config\u001b[0m\u001b[0;34m[\u001b[0m\u001b[0;34m'attack_eps_wl'\u001b[0m\u001b[0;34m]\u001b[0m\u001b[0;34m)\u001b[0m\u001b[0;34m\u001b[0m\u001b[0;34m\u001b[0m\u001b[0m\n\u001b[0m\u001b[1;32m      3\u001b[0m     \u001b[0mh_i\u001b[0m\u001b[0;34m.\u001b[0m\u001b[0mfit\u001b[0m\u001b[0;34m(\u001b[0m\u001b[0mtrain_loader\u001b[0m\u001b[0;34m,\u001b[0m \u001b[0mtest_loader\u001b[0m\u001b[0;34m)\u001b[0m\u001b[0;34m\u001b[0m\u001b[0;34m\u001b[0m\u001b[0m\n\u001b[1;32m      4\u001b[0m     \u001b[0mmodel_path\u001b[0m \u001b[0;34m=\u001b[0m \u001b[0;34mf'{path_head}wl_{t}.pth'\u001b[0m\u001b[0;34m\u001b[0m\u001b[0;34m\u001b[0m\u001b[0m\n\u001b[1;32m      5\u001b[0m     \u001b[0mtorch\u001b[0m\u001b[0;34m.\u001b[0m\u001b[0msave\u001b[0m\u001b[0;34m(\u001b[0m\u001b[0mh_i\u001b[0m\u001b[0;34m.\u001b[0m\u001b[0mmodel\u001b[0m\u001b[0;34m.\u001b[0m\u001b[0mstate_dict\u001b[0m\u001b[0;34m(\u001b[0m\u001b[0;34m)\u001b[0m\u001b[0;34m,\u001b[0m \u001b[0mmodel_path\u001b[0m\u001b[0;34m)\u001b[0m\u001b[0;34m\u001b[0m\u001b[0;34m\u001b[0m\u001b[0m\n",
      "\u001b[0;31mNameError\u001b[0m: name 'WongBasedTraining' is not defined"
     ]
    }
   ],
   "source": [
    "for t in range(train_config['num_wl']):\n",
    "    h_i = WongBasedTrainingCIFAR10(model_base=model_base, attack_eps=train_config['attack_eps_wl'])\n",
    "    h_i.fit(train_loader, test_loader)\n",
    "    model_path = f'{path_head}wl_{t}.pth'\n",
    "    torch.save(h_i.model.state_dict(), model_path)\n",
    "    weakLearners.append(model_path)\n",
    "    weakLearnerWeights.append(1.)"
   ]
  },
  {
   "cell_type": "code",
   "execution_count": null,
   "metadata": {},
   "outputs": [],
   "source": [
    "weight_path = f\"{path_head}wl_weights.csv\"\n",
    "with open(weight_path, 'w') as csvfile:\n",
    "    writer = csv.writer(csvfile, delimiter=',')\n",
    "    writer.writerow(weakLearnerWeights)"
   ]
  },
  {
   "cell_type": "code",
   "execution_count": null,
   "metadata": {},
   "outputs": [],
   "source": [
    "test_config = {\n",
    "    \"num_samples_wl\": 30000,\n",
    "    \"num_samples_train\": 200,\n",
    "    \"num_samples_val\": 1500,\n",
    "    \"train_eps_wl\": 8,\n",
    "    \"num_wl\": 15,\n",
    "    \"batch_size\": 128,\n",
    "    \"testing_attack_iters\": 20,\n",
    "    \"testing_restarts\": 10,\n",
    "    \"dataset_name\": \"cifar10\",\n",
    "    \"training_method\": \"wong\",\n",
    "    \"train_batch_size\": 128,\n",
    "    \"test_batch_size\": 128,\n",
    "    \"attack_eps_ensemble\": [0.127],\n",
    "    \"auto_attack\": True,\n",
    "    \"model_base\": PreActResNet18,\n",
    "    \"dataset\": datasets.CIFAR10,\n",
    "    'weak_learner_type': WongBasedTrainingCIFAR10,\n",
    "    'path': path_head\n",
    "}\n"
   ]
  },
  {
   "cell_type": "code",
   "execution_count": null,
   "metadata": {},
   "outputs": [],
   "source": [
    "test_config['results_path'] = f\"results/plots/{test_config['training_method']}/{test_config['dataset_name']}/train_eps_{test_config['train_eps_wl']}\""
   ]
  },
  {
   "cell_type": "code",
   "execution_count": null,
   "metadata": {},
   "outputs": [],
   "source": [
    "test_ensemble(test_config)"
   ]
  }
 ],
 "metadata": {
  "kernelspec": {
   "display_name": "Python 3",
   "language": "python",
   "name": "python3"
  },
  "language_info": {
   "codemirror_mode": {
    "name": "ipython",
    "version": 3
   },
   "file_extension": ".py",
   "mimetype": "text/x-python",
   "name": "python",
   "nbconvert_exporter": "python",
   "pygments_lexer": "ipython3",
   "version": "3.6.8"
  }
 },
 "nbformat": 4,
 "nbformat_minor": 5
}
