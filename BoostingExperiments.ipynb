{
 "cells": [
  {
   "cell_type": "code",
   "execution_count": 1,
   "metadata": {
    "scrolled": true
   },
   "outputs": [
    {
     "name": "stdout",
     "output_type": "stream",
     "text": [
      "Requirement already satisfied: pytorch_memlab in /usr/local/lib/python3.6/dist-packages (from -r requirements.txt (line 1)) (0.2.2)\n",
      "Requirement already satisfied: torch>=1.4 in /usr/local/lib/python3.6/dist-packages (from pytorch_memlab->-r requirements.txt (line 1)) (1.7.0)\n",
      "Requirement already satisfied: setuptools in /usr/local/lib/python3.6/dist-packages (from pytorch_memlab->-r requirements.txt (line 1)) (41.0.1)\n",
      "Requirement already satisfied: calmsize in /usr/local/lib/python3.6/dist-packages (from pytorch_memlab->-r requirements.txt (line 1)) (0.1.3)\n",
      "Requirement already satisfied: pandas>=0.18 in /usr/local/lib/python3.6/dist-packages (from pytorch_memlab->-r requirements.txt (line 1)) (0.25.0)\n",
      "Requirement already satisfied: numpy in /usr/local/lib/python3.6/dist-packages (from torch>=1.4->pytorch_memlab->-r requirements.txt (line 1)) (1.17.0)\n",
      "Requirement already satisfied: dataclasses in /usr/local/lib/python3.6/dist-packages (from torch>=1.4->pytorch_memlab->-r requirements.txt (line 1)) (0.7)\n",
      "Requirement already satisfied: typing-extensions in /usr/local/lib/python3.6/dist-packages (from torch>=1.4->pytorch_memlab->-r requirements.txt (line 1)) (3.7.4.3)\n",
      "Requirement already satisfied: future in /usr/local/lib/python3.6/dist-packages (from torch>=1.4->pytorch_memlab->-r requirements.txt (line 1)) (0.17.1)\n",
      "Requirement already satisfied: python-dateutil>=2.6.1 in /usr/local/lib/python3.6/dist-packages (from pandas>=0.18->pytorch_memlab->-r requirements.txt (line 1)) (2.8.0)\n",
      "Requirement already satisfied: pytz>=2017.2 in /usr/local/lib/python3.6/dist-packages (from pandas>=0.18->pytorch_memlab->-r requirements.txt (line 1)) (2019.2)\n",
      "Requirement already satisfied: six>=1.5 in /usr/local/lib/python3.6/dist-packages (from python-dateutil>=2.6.1->pandas>=0.18->pytorch_memlab->-r requirements.txt (line 1)) (1.12.0)\n",
      "\u001b[33mWARNING: You are using pip version 19.2.1, however version 20.3.1 is available.\n",
      "You should consider upgrading via the 'pip install --upgrade pip' command.\u001b[0m\n"
     ]
    }
   ],
   "source": [
    "!pip install -r requirements.txt"
   ]
  },
  {
   "cell_type": "code",
   "execution_count": 2,
   "metadata": {
    "scrolled": true
   },
   "outputs": [],
   "source": [
    "from __future__ import print_function\n",
    "import torch\n",
    "from torchvision import datasets, transforms\n",
    "import numpy as np\n",
    "from WeakLearners import WongNeuralNetCIFAR10\n",
    "import matplotlib.pyplot as plt\n"
   ]
  },
  {
   "cell_type": "code",
   "execution_count": 3,
   "metadata": {
    "scrolled": true
   },
   "outputs": [],
   "source": [
    "from Boosting import runMemlessCifarBoosting"
   ]
  },
  {
   "cell_type": "code",
   "execution_count": 4,
   "metadata": {
    "scrolled": true
   },
   "outputs": [],
   "source": [
    "import utils"
   ]
  },
  {
   "cell_type": "code",
   "execution_count": 5,
   "metadata": {
    "scrolled": true
   },
   "outputs": [],
   "source": [
    "cuda = torch.device('cuda:0')"
   ]
  },
  {
   "cell_type": "code",
   "execution_count": 6,
   "metadata": {
    "scrolled": true
   },
   "outputs": [],
   "source": [
    "%load_ext autoreload\n",
    "%autoreload 2"
   ]
  },
  {
   "cell_type": "markdown",
   "metadata": {},
   "source": [
    "## Vanilla PreactResNet"
   ]
  },
  {
   "cell_type": "code",
   "execution_count": 37,
   "metadata": {
    "scrolled": true
   },
   "outputs": [
    {
     "name": "stdout",
     "output_type": "stream",
     "text": [
      "Files already downloaded and verified\n",
      "Files already downloaded and verified\n"
     ]
    }
   ],
   "source": [
    "transform_train = transforms.Compose([\n",
    "    transforms.RandomCrop(32, padding=4),\n",
    "    transforms.RandomHorizontalFlip(),\n",
    "    transforms.ToTensor(),\n",
    "    transforms.Normalize((0.4914, 0.4822, 0.4465), (0.2023, 0.1994, 0.2010)),\n",
    "])\n",
    "\n",
    "# Normalize the test set same as training set without augmentation\n",
    "transform_test = transforms.Compose([\n",
    "    transforms.ToTensor(),\n",
    "    transforms.Normalize((0.4914, 0.4822, 0.4465), (0.2023, 0.1994, 0.2010)),\n",
    "])\n",
    "\n",
    "trainset = datasets.CIFAR10(\n",
    "    root=\"./data\", train=True, download=True, transform=transform_train)\n",
    "train_loader = torch.utils.data.DataLoader(\n",
    "    trainset, batch_size=100, shuffle=True, num_workers=2)\n",
    "\n",
    "testset = datasets.CIFAR10(\n",
    "    root=\"./data\", train=False, download=True, transform=transform_test)\n",
    "test_loader = torch.utils.data.DataLoader(\n",
    "    testset, batch_size=300, shuffle=True, num_workers=2)"
   ]
  },
  {
   "cell_type": "code",
   "execution_count": null,
   "metadata": {
    "scrolled": true
   },
   "outputs": [],
   "source": [
    "cifar10_vanilla = WongNeuralNetCIFAR10()\n",
    "cifar10_vanilla.fit(train_loader, test_loader, alpha = 0, epochs = 1, adv=False, epsilon=0)"
   ]
  },
  {
   "cell_type": "code",
   "execution_count": null,
   "metadata": {
    "scrolled": true
   },
   "outputs": [],
   "source": [
    "cifar10_vanilla.plot_val_accuracies()"
   ]
  },
  {
   "cell_type": "code",
   "execution_count": null,
   "metadata": {
    "scrolled": true
   },
   "outputs": [],
   "source": [
    "print(len(cifar10_vanilla.iters), len(cifar10_vanilla.val_accuracies))"
   ]
  },
  {
   "cell_type": "markdown",
   "metadata": {},
   "source": [
    "## Experiments for CIFAR10 boosting"
   ]
  },
  {
   "cell_type": "code",
   "execution_count": 7,
   "metadata": {
    "scrolled": true
   },
   "outputs": [],
   "source": [
    "# maxIt_vals = [10, 20, 30, 50, 100]\n",
    "# maxIt_vals = [10, 50, 100, 500]\n",
    "# maxIt_vals = [200, 500]\n",
    "maxIt_vals = [10]\n",
    "# default maxIt for weak learner is infinity (i.e. runs each epoch on the entire batch)"
   ]
  },
  {
   "cell_type": "code",
   "execution_count": 8,
   "metadata": {
    "scrolled": true
   },
   "outputs": [],
   "source": [
    "num_wl = 100 # maybe around 100? #later: maybe change this to an array?\n",
    "num_epochs = 1"
   ]
  },
  {
   "cell_type": "code",
   "execution_count": 9,
   "metadata": {
    "scrolled": true
   },
   "outputs": [],
   "source": [
    "all_val_accuracies = []\n",
    "all_train_accuracies_ensemble = []\n",
    "all_wl = []\n",
    "all_wl_weights = []"
   ]
  },
  {
   "cell_type": "code",
   "execution_count": null,
   "metadata": {},
   "outputs": [],
   "source": []
  },
  {
   "cell_type": "code",
   "execution_count": null,
   "metadata": {
    "scrolled": true
   },
   "outputs": [
    {
     "name": "stdout",
     "output_type": "stream",
     "text": [
      "Files already downloaded and verified\n",
      "Files already downloaded and verified\n",
      "Files already downloaded and verified\n",
      "Files already downloaded and verified\n",
      "Files already downloaded and verified\n",
      "----------------------------------------------------------------------------------------------------\n",
      "Training 0th weak learning\n",
      "Files already downloaded and verified\n",
      "adv: False\n",
      "maxIt: 10\n"
     ]
    },
    {
     "name": "stderr",
     "output_type": "stream",
     "text": [
      "/usr/local/lib/python3.6/dist-packages/torchvision/datasets/cifar.py:118: UserWarning: The given NumPy array is not writeable, and PyTorch does not support non-writeable tensors. This means you can write to the underlying (supposedly non-writeable) NumPy array using the tensor. You may want to copy the array to protect its data or make it writeable before converting it to a tensor. This type of warning will be suppressed for the rest of this program. (Triggered internally at  /pytorch/torch/csrc/utils/tensor_numpy.cpp:141.)\n",
      "  img, target = self.data[index], self.targets[index]\n"
     ]
    },
    {
     "name": "stdout",
     "output_type": "stream",
     "text": [
      "Iteration:  1\n",
      "memory usage: 143831040\n"
     ]
    },
    {
     "name": "stderr",
     "output_type": "stream",
     "text": [
      "/usr/local/lib/python3.6/dist-packages/torch/optim/lr_scheduler.py:893: UserWarning: To get the last learning rate computed by the scheduler, please use `get_last_lr()`.\n",
      "  \"please use `get_last_lr()`.\", UserWarning)\n"
     ]
    },
    {
     "name": "stdout",
     "output_type": "stream",
     "text": [
      "targets: tensor([6, 9, 9,  ..., 9, 1, 1])\n",
      "Full Accuracy:  0.10662\n",
      "Alpha:  0.007355688215338916\n",
      "After newest WL score is:  0.065\n",
      "After newest WL training score is:  0.1175\n",
      "----------------------------------------------------------------------------------------------------\n",
      "Training 1th weak learning\n",
      "Files already downloaded and verified\n",
      "adv: False\n",
      "maxIt: 10\n",
      "Iteration:  1\n",
      "memory usage: 142307328\n",
      "targets: tensor([6, 9, 9,  ..., 9, 1, 1])\n",
      "Full Accuracy:  0.13302\n",
      "Alpha:  0.036836263046809176\n",
      "After newest WL score is:  0.155\n",
      "After newest WL training score is:  0.135\n",
      "----------------------------------------------------------------------------------------------------\n",
      "Training 2th weak learning\n",
      "Files already downloaded and verified\n",
      "adv: False\n",
      "maxIt: 10\n",
      "Iteration:  1\n",
      "memory usage: 142389248\n",
      "targets: tensor([6, 9, 9,  ..., 9, 1, 1])\n",
      "Full Accuracy:  0.10584\n",
      "Alpha:  0.007493546750293901\n",
      "After newest WL score is:  0.155\n",
      "After newest WL training score is:  0.135\n",
      "----------------------------------------------------------------------------------------------------\n",
      "Training 3th weak learning\n",
      "Files already downloaded and verified\n",
      "adv: False\n",
      "maxIt: 10\n",
      "Iteration:  1\n",
      "memory usage: 142389248\n",
      "targets: tensor([6, 9, 9,  ..., 9, 1, 1])\n",
      "Full Accuracy:  0.11344\n",
      "Alpha:  0.013080984145118912\n",
      "After newest WL score is:  0.155\n",
      "After newest WL training score is:  0.135\n",
      "----------------------------------------------------------------------------------------------------\n",
      "Training 4th weak learning\n",
      "Files already downloaded and verified\n",
      "adv: False\n",
      "maxIt: 10\n",
      "Iteration:  1\n",
      "memory usage: 142389248\n",
      "targets: tensor([6, 9, 9,  ..., 9, 1, 1])\n",
      "Full Accuracy:  0.14386\n",
      "Alpha:  0.046132204527098694\n",
      "After newest WL score is:  0.17\n",
      "After newest WL training score is:  0.1275\n",
      "----------------------------------------------------------------------------------------------------\n",
      "Training 5th weak learning\n",
      "Files already downloaded and verified\n",
      "adv: False\n",
      "maxIt: 10\n",
      "Iteration:  1\n",
      "memory usage: 142389248\n",
      "targets: tensor([6, 9, 9,  ..., 9, 1, 1])\n",
      "Full Accuracy:  0.10026\n",
      "Alpha:  -0.00717227250429735\n",
      "After newest WL score is:  0.175\n",
      "After newest WL training score is:  0.1275\n",
      "----------------------------------------------------------------------------------------------------\n",
      "Training 6th weak learning\n",
      "Files already downloaded and verified\n",
      "adv: False\n",
      "maxIt: 10\n",
      "Iteration:  1\n",
      "memory usage: 142389248\n",
      "targets: tensor([6, 9, 9,  ..., 9, 1, 1])\n",
      "Full Accuracy:  0.1049\n",
      "Alpha:  -0.0006778646360357643\n",
      "After newest WL score is:  0.175\n",
      "After newest WL training score is:  0.1275\n",
      "----------------------------------------------------------------------------------------------------\n",
      "Training 7th weak learning\n",
      "Files already downloaded and verified\n",
      "adv: False\n",
      "maxIt: 10\n",
      "Iteration:  1\n",
      "memory usage: 142389248\n",
      "targets: tensor([6, 9, 9,  ..., 9, 1, 1])\n",
      "Full Accuracy:  0.10294\n",
      "Alpha:  -0.0027292954544864034\n",
      "After newest WL score is:  0.175\n",
      "After newest WL training score is:  0.13\n",
      "----------------------------------------------------------------------------------------------------\n",
      "Training 8th weak learning\n",
      "Files already downloaded and verified\n",
      "adv: False\n",
      "maxIt: 10\n",
      "Iteration:  1\n",
      "memory usage: 142389248\n",
      "targets: tensor([6, 9, 9,  ..., 9, 1, 1])\n",
      "Full Accuracy:  0.1076\n",
      "Alpha:  0.0029741293629261044\n",
      "After newest WL score is:  0.175\n",
      "After newest WL training score is:  0.1275\n",
      "----------------------------------------------------------------------------------------------------\n",
      "Training 9th weak learning\n",
      "Files already downloaded and verified\n",
      "adv: False\n",
      "maxIt: 10\n",
      "Iteration:  1\n",
      "memory usage: 142389248\n",
      "targets: tensor([6, 9, 9,  ..., 9, 1, 1])\n",
      "Full Accuracy:  0.1\n",
      "Alpha:  -0.005931860543990853\n"
     ]
    }
   ],
   "source": [
    "from pytorch_memlab import LineProfiler\n",
    "from Boosting import SchapireWongMulticlassBoostingMemoryLess\n",
    "with LineProfiler(runMemlessCifarBoosting, SchapireWongMulticlassBoostingMemoryLess) as prof:\n",
    "    for maxIt in maxIt_vals:\n",
    "        wl, wl_weights, val_accuracies, train_accuracies_ensemble = runMemlessCifarBoosting(num_wl, maxIt, num_epochs)\n",
    "        all_val_accuracies.append(val_accuracies)\n",
    "        all_wl.append(wl)\n",
    "        all_wl_weights.append(wl_weights)\n",
    "        all_train_accuracies_ensemble.append(train_accuracies_ensemble)\n",
    "prof.display()"
   ]
  },
  {
   "cell_type": "code",
   "execution_count": 13,
   "metadata": {
    "scrolled": true
   },
   "outputs": [
    {
     "data": {
      "image/png": "[encoded data removed]",
      "text/plain": [
       "<Figure size 432x288 with 1 Axes>"
      ]
     },
     "metadata": {
      "needs_background": "light"
     },
     "output_type": "display_data"
    }
   ],
   "source": [
    "# TODO: plot the accuracies for each usage of maxIt\n",
    "legend_labels = []\n",
    "for i in range(len(maxIt_vals)):\n",
    "    maxIt = maxIt_vals[i]\n",
    "    val_accuracies = all_val_accuracies[i]\n",
    "    num_wl = len(all_wl[i])\n",
    "    plt.plot(np.arange(maxIt, num_wl * maxIt + 1, maxIt), val_accuracies)\n",
    "    legend_labels.append(f\"MaxIt: {maxIt}\")\n",
    "plt.legend(legend_labels)\n",
    "plt.show()\n",
    "    "
   ]
  },
  {
   "cell_type": "code",
   "execution_count": 14,
   "metadata": {},
   "outputs": [],
   "source": [
    "import csv\n",
    "\n",
    "for i in range(len(maxIt_vals)):\n",
    "    maxIt = maxIt_vals[i]\n",
    "    wl = all_wl[i]\n",
    "    wl_weights = all_wl_weights[i]\n",
    "    val_accuracies = all_val_accuracies[i]\n",
    "    wl_file = f\"./results/wl_maxIt_{maxIt}.csv\"\n",
    "    wl_weights_file = f\"./results/wl_weights_maxIt_{maxIt}.csv\"\n",
    "    val_acc_file = f\"./results/val_accuracy_{maxIt}.csv\"\n",
    "    with open(wl_file, 'w') as csvfile:\n",
    "        writer = csv.writer(csvfile)\n",
    "        writer.writerow(wl)\n",
    "    with open(wl_weights_file, 'w') as csvfile:\n",
    "        writer = csv.writer(csvfile)\n",
    "        writer.writerow(wl_weights)\n",
    "    with open(val_acc_file, 'w') as csvfile:\n",
    "        writer = csv.writer(csvfile)\n",
    "        writer.writerow(val_accuracies)\n",
    "    "
   ]
  },
  {
   "cell_type": "code",
   "execution_count": null,
   "metadata": {
    "scrolled": true
   },
   "outputs": [],
   "source": [
    "# Potential idea: maybe compare wall-clock time b/w CIFAR10 boosting and regular nn training to reach a certain accuracy threshold?"
   ]
  },
  {
   "cell_type": "markdown",
   "metadata": {},
   "source": [
    "## Compare with other benchmarks? (i.e. other pretrained ensembles?)"
   ]
  },
  {
   "cell_type": "code",
   "execution_count": null,
   "metadata": {
    "scrolled": true
   },
   "outputs": [],
   "source": []
  }
 ],
 "metadata": {
  "kernelspec": {
   "display_name": "Python 3",
   "language": "python",
   "name": "python3"
  },
  "language_info": {
   "codemirror_mode": {
    "name": "ipython",
    "version": 3
   },
   "file_extension": ".py",
   "mimetype": "text/x-python",
   "name": "python",
   "nbconvert_exporter": "python",
   "pygments_lexer": "ipython3",
   "version": "3.6.8"
  }
 },
 "nbformat": 4,
 "nbformat_minor": 4
}
